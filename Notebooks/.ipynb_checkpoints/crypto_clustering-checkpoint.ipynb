{
 "cells": [
  {
   "cell_type": "markdown",
   "metadata": {},
   "source": [
    "# Clustering Crypto"
   ]
  },
  {
   "cell_type": "code",
   "execution_count": 171,
   "metadata": {},
   "outputs": [],
   "source": [
    "# Initial imports\n",
    "import pandas as pd\n",
    "import hvplot.pandas\n",
    "from path import Path\n",
    "import plotly.express as px\n",
    "from sklearn.preprocessing import StandardScaler, MinMaxScaler\n",
    "from sklearn.decomposition import PCA\n",
    "from sklearn.cluster import KMeans\n",
    "from pathlib import Path"
   ]
  },
  {
   "cell_type": "markdown",
   "metadata": {},
   "source": [
    "### Deliverable 1: Preprocessing the Data for PCA"
   ]
  },
  {
   "cell_type": "code",
   "execution_count": 172,
   "metadata": {},
   "outputs": [
    {
     "data": {
      "text/html": [
       "<div>\n",
       "<style scoped>\n",
       "    .dataframe tbody tr th:only-of-type {\n",
       "        vertical-align: middle;\n",
       "    }\n",
       "\n",
       "    .dataframe tbody tr th {\n",
       "        vertical-align: top;\n",
       "    }\n",
       "\n",
       "    .dataframe thead th {\n",
       "        text-align: right;\n",
       "    }\n",
       "</style>\n",
       "<table border=\"1\" class=\"dataframe\">\n",
       "  <thead>\n",
       "    <tr style=\"text-align: right;\">\n",
       "      <th></th>\n",
       "      <th>Unnamed: 0</th>\n",
       "      <th>CoinName</th>\n",
       "      <th>Algorithm</th>\n",
       "      <th>IsTrading</th>\n",
       "      <th>ProofType</th>\n",
       "      <th>TotalCoinsMined</th>\n",
       "      <th>TotalCoinSupply</th>\n",
       "    </tr>\n",
       "  </thead>\n",
       "  <tbody>\n",
       "    <tr>\n",
       "      <th>0</th>\n",
       "      <td>42</td>\n",
       "      <td>42 Coin</td>\n",
       "      <td>Scrypt</td>\n",
       "      <td>True</td>\n",
       "      <td>PoW/PoS</td>\n",
       "      <td>4.199995e+01</td>\n",
       "      <td>42</td>\n",
       "    </tr>\n",
       "    <tr>\n",
       "      <th>1</th>\n",
       "      <td>365</td>\n",
       "      <td>365Coin</td>\n",
       "      <td>X11</td>\n",
       "      <td>True</td>\n",
       "      <td>PoW/PoS</td>\n",
       "      <td>NaN</td>\n",
       "      <td>2300000000</td>\n",
       "    </tr>\n",
       "    <tr>\n",
       "      <th>2</th>\n",
       "      <td>404</td>\n",
       "      <td>404Coin</td>\n",
       "      <td>Scrypt</td>\n",
       "      <td>True</td>\n",
       "      <td>PoW/PoS</td>\n",
       "      <td>1.055185e+09</td>\n",
       "      <td>532000000</td>\n",
       "    </tr>\n",
       "    <tr>\n",
       "      <th>3</th>\n",
       "      <td>611</td>\n",
       "      <td>SixEleven</td>\n",
       "      <td>SHA-256</td>\n",
       "      <td>True</td>\n",
       "      <td>PoW</td>\n",
       "      <td>NaN</td>\n",
       "      <td>611000</td>\n",
       "    </tr>\n",
       "    <tr>\n",
       "      <th>4</th>\n",
       "      <td>808</td>\n",
       "      <td>808</td>\n",
       "      <td>SHA-256</td>\n",
       "      <td>True</td>\n",
       "      <td>PoW/PoS</td>\n",
       "      <td>0.000000e+00</td>\n",
       "      <td>0</td>\n",
       "    </tr>\n",
       "    <tr>\n",
       "      <th>5</th>\n",
       "      <td>1337</td>\n",
       "      <td>EliteCoin</td>\n",
       "      <td>X13</td>\n",
       "      <td>True</td>\n",
       "      <td>PoW/PoS</td>\n",
       "      <td>2.927942e+10</td>\n",
       "      <td>314159265359</td>\n",
       "    </tr>\n",
       "    <tr>\n",
       "      <th>6</th>\n",
       "      <td>2015</td>\n",
       "      <td>2015 coin</td>\n",
       "      <td>X11</td>\n",
       "      <td>True</td>\n",
       "      <td>PoW/PoS</td>\n",
       "      <td>NaN</td>\n",
       "      <td>0</td>\n",
       "    </tr>\n",
       "    <tr>\n",
       "      <th>7</th>\n",
       "      <td>BTC</td>\n",
       "      <td>Bitcoin</td>\n",
       "      <td>SHA-256</td>\n",
       "      <td>True</td>\n",
       "      <td>PoW</td>\n",
       "      <td>1.792718e+07</td>\n",
       "      <td>21000000</td>\n",
       "    </tr>\n",
       "    <tr>\n",
       "      <th>8</th>\n",
       "      <td>ETH</td>\n",
       "      <td>Ethereum</td>\n",
       "      <td>Ethash</td>\n",
       "      <td>True</td>\n",
       "      <td>PoW</td>\n",
       "      <td>1.076842e+08</td>\n",
       "      <td>0</td>\n",
       "    </tr>\n",
       "    <tr>\n",
       "      <th>9</th>\n",
       "      <td>LTC</td>\n",
       "      <td>Litecoin</td>\n",
       "      <td>Scrypt</td>\n",
       "      <td>True</td>\n",
       "      <td>PoW</td>\n",
       "      <td>6.303924e+07</td>\n",
       "      <td>84000000</td>\n",
       "    </tr>\n",
       "  </tbody>\n",
       "</table>\n",
       "</div>"
      ],
      "text/plain": [
       "  Unnamed: 0   CoinName Algorithm  IsTrading ProofType  TotalCoinsMined  \\\n",
       "0         42    42 Coin    Scrypt       True   PoW/PoS     4.199995e+01   \n",
       "1        365    365Coin       X11       True   PoW/PoS              NaN   \n",
       "2        404    404Coin    Scrypt       True   PoW/PoS     1.055185e+09   \n",
       "3        611  SixEleven   SHA-256       True       PoW              NaN   \n",
       "4        808        808   SHA-256       True   PoW/PoS     0.000000e+00   \n",
       "5       1337  EliteCoin       X13       True   PoW/PoS     2.927942e+10   \n",
       "6       2015  2015 coin       X11       True   PoW/PoS              NaN   \n",
       "7        BTC    Bitcoin   SHA-256       True       PoW     1.792718e+07   \n",
       "8        ETH   Ethereum    Ethash       True       PoW     1.076842e+08   \n",
       "9        LTC   Litecoin    Scrypt       True       PoW     6.303924e+07   \n",
       "\n",
       "  TotalCoinSupply  \n",
       "0              42  \n",
       "1      2300000000  \n",
       "2       532000000  \n",
       "3          611000  \n",
       "4               0  \n",
       "5    314159265359  \n",
       "6               0  \n",
       "7        21000000  \n",
       "8               0  \n",
       "9        84000000  "
      ]
     },
     "execution_count": 172,
     "metadata": {},
     "output_type": "execute_result"
    }
   ],
   "source": [
    "# Load the crypto_data.csv dataset.\n",
    "file_path = Path('../Resources/crypto_data.csv')\n",
    "crypto_df = pd.read_csv(file_path)\n",
    "crypto_df.head(10)"
   ]
  },
  {
   "cell_type": "code",
   "execution_count": 173,
   "metadata": {},
   "outputs": [
    {
     "data": {
      "text/html": [
       "<div>\n",
       "<style scoped>\n",
       "    .dataframe tbody tr th:only-of-type {\n",
       "        vertical-align: middle;\n",
       "    }\n",
       "\n",
       "    .dataframe tbody tr th {\n",
       "        vertical-align: top;\n",
       "    }\n",
       "\n",
       "    .dataframe thead th {\n",
       "        text-align: right;\n",
       "    }\n",
       "</style>\n",
       "<table border=\"1\" class=\"dataframe\">\n",
       "  <thead>\n",
       "    <tr style=\"text-align: right;\">\n",
       "      <th></th>\n",
       "      <th>Unnamed: 0</th>\n",
       "      <th>CoinName</th>\n",
       "      <th>Algorithm</th>\n",
       "      <th>IsTrading</th>\n",
       "      <th>ProofType</th>\n",
       "      <th>TotalCoinsMined</th>\n",
       "      <th>TotalCoinSupply</th>\n",
       "    </tr>\n",
       "  </thead>\n",
       "  <tbody>\n",
       "    <tr>\n",
       "      <th>0</th>\n",
       "      <td>42</td>\n",
       "      <td>42 Coin</td>\n",
       "      <td>Scrypt</td>\n",
       "      <td>True</td>\n",
       "      <td>PoW/PoS</td>\n",
       "      <td>4.199995e+01</td>\n",
       "      <td>42</td>\n",
       "    </tr>\n",
       "    <tr>\n",
       "      <th>1</th>\n",
       "      <td>365</td>\n",
       "      <td>365Coin</td>\n",
       "      <td>X11</td>\n",
       "      <td>True</td>\n",
       "      <td>PoW/PoS</td>\n",
       "      <td>NaN</td>\n",
       "      <td>2300000000</td>\n",
       "    </tr>\n",
       "    <tr>\n",
       "      <th>2</th>\n",
       "      <td>404</td>\n",
       "      <td>404Coin</td>\n",
       "      <td>Scrypt</td>\n",
       "      <td>True</td>\n",
       "      <td>PoW/PoS</td>\n",
       "      <td>1.055185e+09</td>\n",
       "      <td>532000000</td>\n",
       "    </tr>\n",
       "    <tr>\n",
       "      <th>3</th>\n",
       "      <td>611</td>\n",
       "      <td>SixEleven</td>\n",
       "      <td>SHA-256</td>\n",
       "      <td>True</td>\n",
       "      <td>PoW</td>\n",
       "      <td>NaN</td>\n",
       "      <td>611000</td>\n",
       "    </tr>\n",
       "    <tr>\n",
       "      <th>4</th>\n",
       "      <td>808</td>\n",
       "      <td>808</td>\n",
       "      <td>SHA-256</td>\n",
       "      <td>True</td>\n",
       "      <td>PoW/PoS</td>\n",
       "      <td>0.000000e+00</td>\n",
       "      <td>0</td>\n",
       "    </tr>\n",
       "    <tr>\n",
       "      <th>5</th>\n",
       "      <td>1337</td>\n",
       "      <td>EliteCoin</td>\n",
       "      <td>X13</td>\n",
       "      <td>True</td>\n",
       "      <td>PoW/PoS</td>\n",
       "      <td>2.927942e+10</td>\n",
       "      <td>314159265359</td>\n",
       "    </tr>\n",
       "    <tr>\n",
       "      <th>6</th>\n",
       "      <td>2015</td>\n",
       "      <td>2015 coin</td>\n",
       "      <td>X11</td>\n",
       "      <td>True</td>\n",
       "      <td>PoW/PoS</td>\n",
       "      <td>NaN</td>\n",
       "      <td>0</td>\n",
       "    </tr>\n",
       "    <tr>\n",
       "      <th>7</th>\n",
       "      <td>BTC</td>\n",
       "      <td>Bitcoin</td>\n",
       "      <td>SHA-256</td>\n",
       "      <td>True</td>\n",
       "      <td>PoW</td>\n",
       "      <td>1.792718e+07</td>\n",
       "      <td>21000000</td>\n",
       "    </tr>\n",
       "    <tr>\n",
       "      <th>8</th>\n",
       "      <td>ETH</td>\n",
       "      <td>Ethereum</td>\n",
       "      <td>Ethash</td>\n",
       "      <td>True</td>\n",
       "      <td>PoW</td>\n",
       "      <td>1.076842e+08</td>\n",
       "      <td>0</td>\n",
       "    </tr>\n",
       "    <tr>\n",
       "      <th>9</th>\n",
       "      <td>LTC</td>\n",
       "      <td>Litecoin</td>\n",
       "      <td>Scrypt</td>\n",
       "      <td>True</td>\n",
       "      <td>PoW</td>\n",
       "      <td>6.303924e+07</td>\n",
       "      <td>84000000</td>\n",
       "    </tr>\n",
       "  </tbody>\n",
       "</table>\n",
       "</div>"
      ],
      "text/plain": [
       "  Unnamed: 0   CoinName Algorithm  IsTrading ProofType  TotalCoinsMined  \\\n",
       "0         42    42 Coin    Scrypt       True   PoW/PoS     4.199995e+01   \n",
       "1        365    365Coin       X11       True   PoW/PoS              NaN   \n",
       "2        404    404Coin    Scrypt       True   PoW/PoS     1.055185e+09   \n",
       "3        611  SixEleven   SHA-256       True       PoW              NaN   \n",
       "4        808        808   SHA-256       True   PoW/PoS     0.000000e+00   \n",
       "5       1337  EliteCoin       X13       True   PoW/PoS     2.927942e+10   \n",
       "6       2015  2015 coin       X11       True   PoW/PoS              NaN   \n",
       "7        BTC    Bitcoin   SHA-256       True       PoW     1.792718e+07   \n",
       "8        ETH   Ethereum    Ethash       True       PoW     1.076842e+08   \n",
       "9        LTC   Litecoin    Scrypt       True       PoW     6.303924e+07   \n",
       "\n",
       "  TotalCoinSupply  \n",
       "0              42  \n",
       "1      2300000000  \n",
       "2       532000000  \n",
       "3          611000  \n",
       "4               0  \n",
       "5    314159265359  \n",
       "6               0  \n",
       "7        21000000  \n",
       "8               0  \n",
       "9        84000000  "
      ]
     },
     "execution_count": 173,
     "metadata": {},
     "output_type": "execute_result"
    }
   ],
   "source": [
    "# Keep all the cryptocurrencies that are being traded.\n",
    "crypto_df = crypto_df[crypto_df.IsTrading == True]\n",
    "crypto_df.head(10)"
   ]
  },
  {
   "cell_type": "code",
   "execution_count": 174,
   "metadata": {},
   "outputs": [
    {
     "data": {
      "text/html": [
       "<div>\n",
       "<style scoped>\n",
       "    .dataframe tbody tr th:only-of-type {\n",
       "        vertical-align: middle;\n",
       "    }\n",
       "\n",
       "    .dataframe tbody tr th {\n",
       "        vertical-align: top;\n",
       "    }\n",
       "\n",
       "    .dataframe thead th {\n",
       "        text-align: right;\n",
       "    }\n",
       "</style>\n",
       "<table border=\"1\" class=\"dataframe\">\n",
       "  <thead>\n",
       "    <tr style=\"text-align: right;\">\n",
       "      <th></th>\n",
       "      <th>Unnamed: 0</th>\n",
       "      <th>CoinName</th>\n",
       "      <th>Algorithm</th>\n",
       "      <th>IsTrading</th>\n",
       "      <th>ProofType</th>\n",
       "      <th>TotalCoinsMined</th>\n",
       "      <th>TotalCoinSupply</th>\n",
       "    </tr>\n",
       "  </thead>\n",
       "  <tbody>\n",
       "    <tr>\n",
       "      <th>0</th>\n",
       "      <td>42</td>\n",
       "      <td>42 Coin</td>\n",
       "      <td>Scrypt</td>\n",
       "      <td>True</td>\n",
       "      <td>PoW/PoS</td>\n",
       "      <td>4.199995e+01</td>\n",
       "      <td>42</td>\n",
       "    </tr>\n",
       "    <tr>\n",
       "      <th>1</th>\n",
       "      <td>365</td>\n",
       "      <td>365Coin</td>\n",
       "      <td>X11</td>\n",
       "      <td>True</td>\n",
       "      <td>PoW/PoS</td>\n",
       "      <td>NaN</td>\n",
       "      <td>2300000000</td>\n",
       "    </tr>\n",
       "    <tr>\n",
       "      <th>2</th>\n",
       "      <td>404</td>\n",
       "      <td>404Coin</td>\n",
       "      <td>Scrypt</td>\n",
       "      <td>True</td>\n",
       "      <td>PoW/PoS</td>\n",
       "      <td>1.055185e+09</td>\n",
       "      <td>532000000</td>\n",
       "    </tr>\n",
       "    <tr>\n",
       "      <th>3</th>\n",
       "      <td>611</td>\n",
       "      <td>SixEleven</td>\n",
       "      <td>SHA-256</td>\n",
       "      <td>True</td>\n",
       "      <td>PoW</td>\n",
       "      <td>NaN</td>\n",
       "      <td>611000</td>\n",
       "    </tr>\n",
       "    <tr>\n",
       "      <th>4</th>\n",
       "      <td>808</td>\n",
       "      <td>808</td>\n",
       "      <td>SHA-256</td>\n",
       "      <td>True</td>\n",
       "      <td>PoW/PoS</td>\n",
       "      <td>0.000000e+00</td>\n",
       "      <td>0</td>\n",
       "    </tr>\n",
       "    <tr>\n",
       "      <th>5</th>\n",
       "      <td>1337</td>\n",
       "      <td>EliteCoin</td>\n",
       "      <td>X13</td>\n",
       "      <td>True</td>\n",
       "      <td>PoW/PoS</td>\n",
       "      <td>2.927942e+10</td>\n",
       "      <td>314159265359</td>\n",
       "    </tr>\n",
       "    <tr>\n",
       "      <th>6</th>\n",
       "      <td>2015</td>\n",
       "      <td>2015 coin</td>\n",
       "      <td>X11</td>\n",
       "      <td>True</td>\n",
       "      <td>PoW/PoS</td>\n",
       "      <td>NaN</td>\n",
       "      <td>0</td>\n",
       "    </tr>\n",
       "    <tr>\n",
       "      <th>7</th>\n",
       "      <td>BTC</td>\n",
       "      <td>Bitcoin</td>\n",
       "      <td>SHA-256</td>\n",
       "      <td>True</td>\n",
       "      <td>PoW</td>\n",
       "      <td>1.792718e+07</td>\n",
       "      <td>21000000</td>\n",
       "    </tr>\n",
       "    <tr>\n",
       "      <th>8</th>\n",
       "      <td>ETH</td>\n",
       "      <td>Ethereum</td>\n",
       "      <td>Ethash</td>\n",
       "      <td>True</td>\n",
       "      <td>PoW</td>\n",
       "      <td>1.076842e+08</td>\n",
       "      <td>0</td>\n",
       "    </tr>\n",
       "    <tr>\n",
       "      <th>9</th>\n",
       "      <td>LTC</td>\n",
       "      <td>Litecoin</td>\n",
       "      <td>Scrypt</td>\n",
       "      <td>True</td>\n",
       "      <td>PoW</td>\n",
       "      <td>6.303924e+07</td>\n",
       "      <td>84000000</td>\n",
       "    </tr>\n",
       "  </tbody>\n",
       "</table>\n",
       "</div>"
      ],
      "text/plain": [
       "  Unnamed: 0   CoinName Algorithm  IsTrading ProofType  TotalCoinsMined  \\\n",
       "0         42    42 Coin    Scrypt       True   PoW/PoS     4.199995e+01   \n",
       "1        365    365Coin       X11       True   PoW/PoS              NaN   \n",
       "2        404    404Coin    Scrypt       True   PoW/PoS     1.055185e+09   \n",
       "3        611  SixEleven   SHA-256       True       PoW              NaN   \n",
       "4        808        808   SHA-256       True   PoW/PoS     0.000000e+00   \n",
       "5       1337  EliteCoin       X13       True   PoW/PoS     2.927942e+10   \n",
       "6       2015  2015 coin       X11       True   PoW/PoS              NaN   \n",
       "7        BTC    Bitcoin   SHA-256       True       PoW     1.792718e+07   \n",
       "8        ETH   Ethereum    Ethash       True       PoW     1.076842e+08   \n",
       "9        LTC   Litecoin    Scrypt       True       PoW     6.303924e+07   \n",
       "\n",
       "  TotalCoinSupply  \n",
       "0              42  \n",
       "1      2300000000  \n",
       "2       532000000  \n",
       "3          611000  \n",
       "4               0  \n",
       "5    314159265359  \n",
       "6               0  \n",
       "7        21000000  \n",
       "8               0  \n",
       "9        84000000  "
      ]
     },
     "execution_count": 174,
     "metadata": {},
     "output_type": "execute_result"
    }
   ],
   "source": [
    "# Keep all the cryptocurrencies that have a working algorithm.\n",
    "crypto_df['Algorithm'].dropna()\n",
    "crypto_df.head(10)"
   ]
  },
  {
   "cell_type": "code",
   "execution_count": 175,
   "metadata": {},
   "outputs": [
    {
     "data": {
      "text/html": [
       "<div>\n",
       "<style scoped>\n",
       "    .dataframe tbody tr th:only-of-type {\n",
       "        vertical-align: middle;\n",
       "    }\n",
       "\n",
       "    .dataframe tbody tr th {\n",
       "        vertical-align: top;\n",
       "    }\n",
       "\n",
       "    .dataframe thead th {\n",
       "        text-align: right;\n",
       "    }\n",
       "</style>\n",
       "<table border=\"1\" class=\"dataframe\">\n",
       "  <thead>\n",
       "    <tr style=\"text-align: right;\">\n",
       "      <th></th>\n",
       "      <th>Unnamed: 0</th>\n",
       "      <th>CoinName</th>\n",
       "      <th>Algorithm</th>\n",
       "      <th>ProofType</th>\n",
       "      <th>TotalCoinsMined</th>\n",
       "      <th>TotalCoinSupply</th>\n",
       "    </tr>\n",
       "  </thead>\n",
       "  <tbody>\n",
       "    <tr>\n",
       "      <th>0</th>\n",
       "      <td>42</td>\n",
       "      <td>42 Coin</td>\n",
       "      <td>Scrypt</td>\n",
       "      <td>PoW/PoS</td>\n",
       "      <td>4.199995e+01</td>\n",
       "      <td>42</td>\n",
       "    </tr>\n",
       "    <tr>\n",
       "      <th>1</th>\n",
       "      <td>365</td>\n",
       "      <td>365Coin</td>\n",
       "      <td>X11</td>\n",
       "      <td>PoW/PoS</td>\n",
       "      <td>NaN</td>\n",
       "      <td>2300000000</td>\n",
       "    </tr>\n",
       "    <tr>\n",
       "      <th>2</th>\n",
       "      <td>404</td>\n",
       "      <td>404Coin</td>\n",
       "      <td>Scrypt</td>\n",
       "      <td>PoW/PoS</td>\n",
       "      <td>1.055185e+09</td>\n",
       "      <td>532000000</td>\n",
       "    </tr>\n",
       "    <tr>\n",
       "      <th>3</th>\n",
       "      <td>611</td>\n",
       "      <td>SixEleven</td>\n",
       "      <td>SHA-256</td>\n",
       "      <td>PoW</td>\n",
       "      <td>NaN</td>\n",
       "      <td>611000</td>\n",
       "    </tr>\n",
       "    <tr>\n",
       "      <th>4</th>\n",
       "      <td>808</td>\n",
       "      <td>808</td>\n",
       "      <td>SHA-256</td>\n",
       "      <td>PoW/PoS</td>\n",
       "      <td>0.000000e+00</td>\n",
       "      <td>0</td>\n",
       "    </tr>\n",
       "    <tr>\n",
       "      <th>5</th>\n",
       "      <td>1337</td>\n",
       "      <td>EliteCoin</td>\n",
       "      <td>X13</td>\n",
       "      <td>PoW/PoS</td>\n",
       "      <td>2.927942e+10</td>\n",
       "      <td>314159265359</td>\n",
       "    </tr>\n",
       "    <tr>\n",
       "      <th>6</th>\n",
       "      <td>2015</td>\n",
       "      <td>2015 coin</td>\n",
       "      <td>X11</td>\n",
       "      <td>PoW/PoS</td>\n",
       "      <td>NaN</td>\n",
       "      <td>0</td>\n",
       "    </tr>\n",
       "    <tr>\n",
       "      <th>7</th>\n",
       "      <td>BTC</td>\n",
       "      <td>Bitcoin</td>\n",
       "      <td>SHA-256</td>\n",
       "      <td>PoW</td>\n",
       "      <td>1.792718e+07</td>\n",
       "      <td>21000000</td>\n",
       "    </tr>\n",
       "    <tr>\n",
       "      <th>8</th>\n",
       "      <td>ETH</td>\n",
       "      <td>Ethereum</td>\n",
       "      <td>Ethash</td>\n",
       "      <td>PoW</td>\n",
       "      <td>1.076842e+08</td>\n",
       "      <td>0</td>\n",
       "    </tr>\n",
       "    <tr>\n",
       "      <th>9</th>\n",
       "      <td>LTC</td>\n",
       "      <td>Litecoin</td>\n",
       "      <td>Scrypt</td>\n",
       "      <td>PoW</td>\n",
       "      <td>6.303924e+07</td>\n",
       "      <td>84000000</td>\n",
       "    </tr>\n",
       "  </tbody>\n",
       "</table>\n",
       "</div>"
      ],
      "text/plain": [
       "  Unnamed: 0   CoinName Algorithm ProofType  TotalCoinsMined TotalCoinSupply\n",
       "0         42    42 Coin    Scrypt   PoW/PoS     4.199995e+01              42\n",
       "1        365    365Coin       X11   PoW/PoS              NaN      2300000000\n",
       "2        404    404Coin    Scrypt   PoW/PoS     1.055185e+09       532000000\n",
       "3        611  SixEleven   SHA-256       PoW              NaN          611000\n",
       "4        808        808   SHA-256   PoW/PoS     0.000000e+00               0\n",
       "5       1337  EliteCoin       X13   PoW/PoS     2.927942e+10    314159265359\n",
       "6       2015  2015 coin       X11   PoW/PoS              NaN               0\n",
       "7        BTC    Bitcoin   SHA-256       PoW     1.792718e+07        21000000\n",
       "8        ETH   Ethereum    Ethash       PoW     1.076842e+08               0\n",
       "9        LTC   Litecoin    Scrypt       PoW     6.303924e+07        84000000"
      ]
     },
     "execution_count": 175,
     "metadata": {},
     "output_type": "execute_result"
    }
   ],
   "source": [
    "# Remove the \"IsTrading\" column. \n",
    "crypto_df_new = crypto_df.drop(columns=['IsTrading'])\n",
    "crypto_df_new.head(10)"
   ]
  },
  {
   "cell_type": "code",
   "execution_count": 176,
   "metadata": {},
   "outputs": [
    {
     "data": {
      "text/html": [
       "<div>\n",
       "<style scoped>\n",
       "    .dataframe tbody tr th:only-of-type {\n",
       "        vertical-align: middle;\n",
       "    }\n",
       "\n",
       "    .dataframe tbody tr th {\n",
       "        vertical-align: top;\n",
       "    }\n",
       "\n",
       "    .dataframe thead th {\n",
       "        text-align: right;\n",
       "    }\n",
       "</style>\n",
       "<table border=\"1\" class=\"dataframe\">\n",
       "  <thead>\n",
       "    <tr style=\"text-align: right;\">\n",
       "      <th></th>\n",
       "      <th>Unnamed: 0</th>\n",
       "      <th>CoinName</th>\n",
       "      <th>Algorithm</th>\n",
       "      <th>ProofType</th>\n",
       "      <th>TotalCoinsMined</th>\n",
       "      <th>TotalCoinSupply</th>\n",
       "    </tr>\n",
       "  </thead>\n",
       "  <tbody>\n",
       "    <tr>\n",
       "      <th>0</th>\n",
       "      <td>42</td>\n",
       "      <td>42 Coin</td>\n",
       "      <td>Scrypt</td>\n",
       "      <td>PoW/PoS</td>\n",
       "      <td>4.199995e+01</td>\n",
       "      <td>42</td>\n",
       "    </tr>\n",
       "    <tr>\n",
       "      <th>1</th>\n",
       "      <td>365</td>\n",
       "      <td>365Coin</td>\n",
       "      <td>X11</td>\n",
       "      <td>PoW/PoS</td>\n",
       "      <td>NaN</td>\n",
       "      <td>2300000000</td>\n",
       "    </tr>\n",
       "    <tr>\n",
       "      <th>2</th>\n",
       "      <td>404</td>\n",
       "      <td>404Coin</td>\n",
       "      <td>Scrypt</td>\n",
       "      <td>PoW/PoS</td>\n",
       "      <td>1.055185e+09</td>\n",
       "      <td>532000000</td>\n",
       "    </tr>\n",
       "    <tr>\n",
       "      <th>3</th>\n",
       "      <td>611</td>\n",
       "      <td>SixEleven</td>\n",
       "      <td>SHA-256</td>\n",
       "      <td>PoW</td>\n",
       "      <td>NaN</td>\n",
       "      <td>611000</td>\n",
       "    </tr>\n",
       "    <tr>\n",
       "      <th>4</th>\n",
       "      <td>808</td>\n",
       "      <td>808</td>\n",
       "      <td>SHA-256</td>\n",
       "      <td>PoW/PoS</td>\n",
       "      <td>0.000000e+00</td>\n",
       "      <td>0</td>\n",
       "    </tr>\n",
       "    <tr>\n",
       "      <th>5</th>\n",
       "      <td>1337</td>\n",
       "      <td>EliteCoin</td>\n",
       "      <td>X13</td>\n",
       "      <td>PoW/PoS</td>\n",
       "      <td>2.927942e+10</td>\n",
       "      <td>314159265359</td>\n",
       "    </tr>\n",
       "    <tr>\n",
       "      <th>6</th>\n",
       "      <td>2015</td>\n",
       "      <td>2015 coin</td>\n",
       "      <td>X11</td>\n",
       "      <td>PoW/PoS</td>\n",
       "      <td>NaN</td>\n",
       "      <td>0</td>\n",
       "    </tr>\n",
       "    <tr>\n",
       "      <th>7</th>\n",
       "      <td>BTC</td>\n",
       "      <td>Bitcoin</td>\n",
       "      <td>SHA-256</td>\n",
       "      <td>PoW</td>\n",
       "      <td>1.792718e+07</td>\n",
       "      <td>21000000</td>\n",
       "    </tr>\n",
       "    <tr>\n",
       "      <th>8</th>\n",
       "      <td>ETH</td>\n",
       "      <td>Ethereum</td>\n",
       "      <td>Ethash</td>\n",
       "      <td>PoW</td>\n",
       "      <td>1.076842e+08</td>\n",
       "      <td>0</td>\n",
       "    </tr>\n",
       "    <tr>\n",
       "      <th>9</th>\n",
       "      <td>LTC</td>\n",
       "      <td>Litecoin</td>\n",
       "      <td>Scrypt</td>\n",
       "      <td>PoW</td>\n",
       "      <td>6.303924e+07</td>\n",
       "      <td>84000000</td>\n",
       "    </tr>\n",
       "  </tbody>\n",
       "</table>\n",
       "</div>"
      ],
      "text/plain": [
       "  Unnamed: 0   CoinName Algorithm ProofType  TotalCoinsMined TotalCoinSupply\n",
       "0         42    42 Coin    Scrypt   PoW/PoS     4.199995e+01              42\n",
       "1        365    365Coin       X11   PoW/PoS              NaN      2300000000\n",
       "2        404    404Coin    Scrypt   PoW/PoS     1.055185e+09       532000000\n",
       "3        611  SixEleven   SHA-256       PoW              NaN          611000\n",
       "4        808        808   SHA-256   PoW/PoS     0.000000e+00               0\n",
       "5       1337  EliteCoin       X13   PoW/PoS     2.927942e+10    314159265359\n",
       "6       2015  2015 coin       X11   PoW/PoS              NaN               0\n",
       "7        BTC    Bitcoin   SHA-256       PoW     1.792718e+07        21000000\n",
       "8        ETH   Ethereum    Ethash       PoW     1.076842e+08               0\n",
       "9        LTC   Litecoin    Scrypt       PoW     6.303924e+07        84000000"
      ]
     },
     "execution_count": 176,
     "metadata": {},
     "output_type": "execute_result"
    }
   ],
   "source": [
    "# Remove rows that have at least 1 null value.\n",
    "crypto_df_new.dropna()\n",
    "crypto_df_new.head(10)"
   ]
  },
  {
   "cell_type": "code",
   "execution_count": 177,
   "metadata": {},
   "outputs": [
    {
     "data": {
      "text/html": [
       "<div>\n",
       "<style scoped>\n",
       "    .dataframe tbody tr th:only-of-type {\n",
       "        vertical-align: middle;\n",
       "    }\n",
       "\n",
       "    .dataframe tbody tr th {\n",
       "        vertical-align: top;\n",
       "    }\n",
       "\n",
       "    .dataframe thead th {\n",
       "        text-align: right;\n",
       "    }\n",
       "</style>\n",
       "<table border=\"1\" class=\"dataframe\">\n",
       "  <thead>\n",
       "    <tr style=\"text-align: right;\">\n",
       "      <th></th>\n",
       "      <th>Unnamed: 0</th>\n",
       "      <th>CoinName</th>\n",
       "      <th>Algorithm</th>\n",
       "      <th>ProofType</th>\n",
       "      <th>TotalCoinsMined</th>\n",
       "      <th>TotalCoinSupply</th>\n",
       "    </tr>\n",
       "  </thead>\n",
       "  <tbody>\n",
       "    <tr>\n",
       "      <th>0</th>\n",
       "      <td>42</td>\n",
       "      <td>42 Coin</td>\n",
       "      <td>Scrypt</td>\n",
       "      <td>PoW/PoS</td>\n",
       "      <td>4.199995e+01</td>\n",
       "      <td>42</td>\n",
       "    </tr>\n",
       "    <tr>\n",
       "      <th>2</th>\n",
       "      <td>404</td>\n",
       "      <td>404Coin</td>\n",
       "      <td>Scrypt</td>\n",
       "      <td>PoW/PoS</td>\n",
       "      <td>1.055185e+09</td>\n",
       "      <td>532000000</td>\n",
       "    </tr>\n",
       "    <tr>\n",
       "      <th>5</th>\n",
       "      <td>1337</td>\n",
       "      <td>EliteCoin</td>\n",
       "      <td>X13</td>\n",
       "      <td>PoW/PoS</td>\n",
       "      <td>2.927942e+10</td>\n",
       "      <td>314159265359</td>\n",
       "    </tr>\n",
       "    <tr>\n",
       "      <th>7</th>\n",
       "      <td>BTC</td>\n",
       "      <td>Bitcoin</td>\n",
       "      <td>SHA-256</td>\n",
       "      <td>PoW</td>\n",
       "      <td>1.792718e+07</td>\n",
       "      <td>21000000</td>\n",
       "    </tr>\n",
       "    <tr>\n",
       "      <th>8</th>\n",
       "      <td>ETH</td>\n",
       "      <td>Ethereum</td>\n",
       "      <td>Ethash</td>\n",
       "      <td>PoW</td>\n",
       "      <td>1.076842e+08</td>\n",
       "      <td>0</td>\n",
       "    </tr>\n",
       "    <tr>\n",
       "      <th>9</th>\n",
       "      <td>LTC</td>\n",
       "      <td>Litecoin</td>\n",
       "      <td>Scrypt</td>\n",
       "      <td>PoW</td>\n",
       "      <td>6.303924e+07</td>\n",
       "      <td>84000000</td>\n",
       "    </tr>\n",
       "    <tr>\n",
       "      <th>10</th>\n",
       "      <td>DASH</td>\n",
       "      <td>Dash</td>\n",
       "      <td>X11</td>\n",
       "      <td>PoW/PoS</td>\n",
       "      <td>9.031294e+06</td>\n",
       "      <td>22000000</td>\n",
       "    </tr>\n",
       "    <tr>\n",
       "      <th>11</th>\n",
       "      <td>XMR</td>\n",
       "      <td>Monero</td>\n",
       "      <td>CryptoNight-V7</td>\n",
       "      <td>PoW</td>\n",
       "      <td>1.720114e+07</td>\n",
       "      <td>0</td>\n",
       "    </tr>\n",
       "    <tr>\n",
       "      <th>12</th>\n",
       "      <td>ETC</td>\n",
       "      <td>Ethereum Classic</td>\n",
       "      <td>Ethash</td>\n",
       "      <td>PoW</td>\n",
       "      <td>1.133597e+08</td>\n",
       "      <td>210000000</td>\n",
       "    </tr>\n",
       "    <tr>\n",
       "      <th>13</th>\n",
       "      <td>ZEC</td>\n",
       "      <td>ZCash</td>\n",
       "      <td>Equihash</td>\n",
       "      <td>PoW</td>\n",
       "      <td>7.383056e+06</td>\n",
       "      <td>21000000</td>\n",
       "    </tr>\n",
       "  </tbody>\n",
       "</table>\n",
       "</div>"
      ],
      "text/plain": [
       "   Unnamed: 0          CoinName       Algorithm ProofType  TotalCoinsMined  \\\n",
       "0          42           42 Coin          Scrypt   PoW/PoS     4.199995e+01   \n",
       "2         404           404Coin          Scrypt   PoW/PoS     1.055185e+09   \n",
       "5        1337         EliteCoin             X13   PoW/PoS     2.927942e+10   \n",
       "7         BTC           Bitcoin         SHA-256       PoW     1.792718e+07   \n",
       "8         ETH          Ethereum          Ethash       PoW     1.076842e+08   \n",
       "9         LTC          Litecoin          Scrypt       PoW     6.303924e+07   \n",
       "10       DASH              Dash             X11   PoW/PoS     9.031294e+06   \n",
       "11        XMR            Monero  CryptoNight-V7       PoW     1.720114e+07   \n",
       "12        ETC  Ethereum Classic          Ethash       PoW     1.133597e+08   \n",
       "13        ZEC             ZCash        Equihash       PoW     7.383056e+06   \n",
       "\n",
       "   TotalCoinSupply  \n",
       "0               42  \n",
       "2        532000000  \n",
       "5     314159265359  \n",
       "7         21000000  \n",
       "8                0  \n",
       "9         84000000  \n",
       "10        22000000  \n",
       "11               0  \n",
       "12       210000000  \n",
       "13        21000000  "
      ]
     },
     "execution_count": 177,
     "metadata": {},
     "output_type": "execute_result"
    }
   ],
   "source": [
    "# Keep the rows where coins are mined.\n",
    "crypto_df_new = crypto_df_new[crypto_df_new.TotalCoinsMined.notna()]\n",
    "crypto_df_new = crypto_df_new[crypto_df_new.TotalCoinsMined != 0]\n",
    "crypto_df_new.head(10)"
   ]
  },
  {
   "cell_type": "code",
   "execution_count": 178,
   "metadata": {},
   "outputs": [
    {
     "data": {
      "text/html": [
       "<div>\n",
       "<style scoped>\n",
       "    .dataframe tbody tr th:only-of-type {\n",
       "        vertical-align: middle;\n",
       "    }\n",
       "\n",
       "    .dataframe tbody tr th {\n",
       "        vertical-align: top;\n",
       "    }\n",
       "\n",
       "    .dataframe thead th {\n",
       "        text-align: right;\n",
       "    }\n",
       "</style>\n",
       "<table border=\"1\" class=\"dataframe\">\n",
       "  <thead>\n",
       "    <tr style=\"text-align: right;\">\n",
       "      <th></th>\n",
       "      <th>CoinName</th>\n",
       "    </tr>\n",
       "  </thead>\n",
       "  <tbody>\n",
       "    <tr>\n",
       "      <th>0</th>\n",
       "      <td>42 Coin</td>\n",
       "    </tr>\n",
       "    <tr>\n",
       "      <th>2</th>\n",
       "      <td>404Coin</td>\n",
       "    </tr>\n",
       "    <tr>\n",
       "      <th>5</th>\n",
       "      <td>EliteCoin</td>\n",
       "    </tr>\n",
       "    <tr>\n",
       "      <th>7</th>\n",
       "      <td>Bitcoin</td>\n",
       "    </tr>\n",
       "    <tr>\n",
       "      <th>8</th>\n",
       "      <td>Ethereum</td>\n",
       "    </tr>\n",
       "    <tr>\n",
       "      <th>9</th>\n",
       "      <td>Litecoin</td>\n",
       "    </tr>\n",
       "    <tr>\n",
       "      <th>10</th>\n",
       "      <td>Dash</td>\n",
       "    </tr>\n",
       "    <tr>\n",
       "      <th>11</th>\n",
       "      <td>Monero</td>\n",
       "    </tr>\n",
       "    <tr>\n",
       "      <th>12</th>\n",
       "      <td>Ethereum Classic</td>\n",
       "    </tr>\n",
       "    <tr>\n",
       "      <th>13</th>\n",
       "      <td>ZCash</td>\n",
       "    </tr>\n",
       "  </tbody>\n",
       "</table>\n",
       "</div>"
      ],
      "text/plain": [
       "            CoinName\n",
       "0            42 Coin\n",
       "2            404Coin\n",
       "5          EliteCoin\n",
       "7            Bitcoin\n",
       "8           Ethereum\n",
       "9           Litecoin\n",
       "10              Dash\n",
       "11            Monero\n",
       "12  Ethereum Classic\n",
       "13             ZCash"
      ]
     },
     "execution_count": 178,
     "metadata": {},
     "output_type": "execute_result"
    }
   ],
   "source": [
    "# Create a new DataFrame that holds only the cryptocurrencies names.\n",
    "crypto_names = pd.DataFrame(crypto_df_new['CoinName'])\n",
    "crypto_names.head(10)"
   ]
  },
  {
   "cell_type": "code",
   "execution_count": 179,
   "metadata": {},
   "outputs": [
    {
     "data": {
      "text/html": [
       "<div>\n",
       "<style scoped>\n",
       "    .dataframe tbody tr th:only-of-type {\n",
       "        vertical-align: middle;\n",
       "    }\n",
       "\n",
       "    .dataframe tbody tr th {\n",
       "        vertical-align: top;\n",
       "    }\n",
       "\n",
       "    .dataframe thead th {\n",
       "        text-align: right;\n",
       "    }\n",
       "</style>\n",
       "<table border=\"1\" class=\"dataframe\">\n",
       "  <thead>\n",
       "    <tr style=\"text-align: right;\">\n",
       "      <th></th>\n",
       "      <th>Algorithm</th>\n",
       "      <th>ProofType</th>\n",
       "      <th>TotalCoinsMined</th>\n",
       "      <th>TotalCoinSupply</th>\n",
       "    </tr>\n",
       "  </thead>\n",
       "  <tbody>\n",
       "    <tr>\n",
       "      <th>0</th>\n",
       "      <td>Scrypt</td>\n",
       "      <td>PoW/PoS</td>\n",
       "      <td>4.199995e+01</td>\n",
       "      <td>42</td>\n",
       "    </tr>\n",
       "    <tr>\n",
       "      <th>2</th>\n",
       "      <td>Scrypt</td>\n",
       "      <td>PoW/PoS</td>\n",
       "      <td>1.055185e+09</td>\n",
       "      <td>532000000</td>\n",
       "    </tr>\n",
       "    <tr>\n",
       "      <th>5</th>\n",
       "      <td>X13</td>\n",
       "      <td>PoW/PoS</td>\n",
       "      <td>2.927942e+10</td>\n",
       "      <td>314159265359</td>\n",
       "    </tr>\n",
       "    <tr>\n",
       "      <th>7</th>\n",
       "      <td>SHA-256</td>\n",
       "      <td>PoW</td>\n",
       "      <td>1.792718e+07</td>\n",
       "      <td>21000000</td>\n",
       "    </tr>\n",
       "    <tr>\n",
       "      <th>8</th>\n",
       "      <td>Ethash</td>\n",
       "      <td>PoW</td>\n",
       "      <td>1.076842e+08</td>\n",
       "      <td>0</td>\n",
       "    </tr>\n",
       "    <tr>\n",
       "      <th>9</th>\n",
       "      <td>Scrypt</td>\n",
       "      <td>PoW</td>\n",
       "      <td>6.303924e+07</td>\n",
       "      <td>84000000</td>\n",
       "    </tr>\n",
       "    <tr>\n",
       "      <th>10</th>\n",
       "      <td>X11</td>\n",
       "      <td>PoW/PoS</td>\n",
       "      <td>9.031294e+06</td>\n",
       "      <td>22000000</td>\n",
       "    </tr>\n",
       "    <tr>\n",
       "      <th>11</th>\n",
       "      <td>CryptoNight-V7</td>\n",
       "      <td>PoW</td>\n",
       "      <td>1.720114e+07</td>\n",
       "      <td>0</td>\n",
       "    </tr>\n",
       "    <tr>\n",
       "      <th>12</th>\n",
       "      <td>Ethash</td>\n",
       "      <td>PoW</td>\n",
       "      <td>1.133597e+08</td>\n",
       "      <td>210000000</td>\n",
       "    </tr>\n",
       "    <tr>\n",
       "      <th>13</th>\n",
       "      <td>Equihash</td>\n",
       "      <td>PoW</td>\n",
       "      <td>7.383056e+06</td>\n",
       "      <td>21000000</td>\n",
       "    </tr>\n",
       "  </tbody>\n",
       "</table>\n",
       "</div>"
      ],
      "text/plain": [
       "         Algorithm ProofType  TotalCoinsMined TotalCoinSupply\n",
       "0           Scrypt   PoW/PoS     4.199995e+01              42\n",
       "2           Scrypt   PoW/PoS     1.055185e+09       532000000\n",
       "5              X13   PoW/PoS     2.927942e+10    314159265359\n",
       "7          SHA-256       PoW     1.792718e+07        21000000\n",
       "8           Ethash       PoW     1.076842e+08               0\n",
       "9           Scrypt       PoW     6.303924e+07        84000000\n",
       "10             X11   PoW/PoS     9.031294e+06        22000000\n",
       "11  CryptoNight-V7       PoW     1.720114e+07               0\n",
       "12          Ethash       PoW     1.133597e+08       210000000\n",
       "13        Equihash       PoW     7.383056e+06        21000000"
      ]
     },
     "execution_count": 179,
     "metadata": {},
     "output_type": "execute_result"
    }
   ],
   "source": [
    "# Drop the 'CoinName' column since it's not going to be used on the clustering algorithm.\n",
    "crypto_df_new = crypto_df_new.drop(columns=['CoinName'])\n",
    "crypto_df_new = crypto_df_new.drop(columns=['Unnamed: 0'])\n",
    "crypto_df_new.head(10)"
   ]
  },
  {
   "cell_type": "code",
   "execution_count": 180,
   "metadata": {},
   "outputs": [
    {
     "data": {
      "text/html": [
       "<div>\n",
       "<style scoped>\n",
       "    .dataframe tbody tr th:only-of-type {\n",
       "        vertical-align: middle;\n",
       "    }\n",
       "\n",
       "    .dataframe tbody tr th {\n",
       "        vertical-align: top;\n",
       "    }\n",
       "\n",
       "    .dataframe thead th {\n",
       "        text-align: right;\n",
       "    }\n",
       "</style>\n",
       "<table border=\"1\" class=\"dataframe\">\n",
       "  <thead>\n",
       "    <tr style=\"text-align: right;\">\n",
       "      <th></th>\n",
       "      <th>TotalCoinsMined</th>\n",
       "      <th>TotalCoinSupply</th>\n",
       "      <th>Algorithm_1GB AES Pattern Search</th>\n",
       "      <th>Algorithm_536</th>\n",
       "      <th>Algorithm_Argon2d</th>\n",
       "      <th>Algorithm_BLAKE256</th>\n",
       "      <th>Algorithm_Blake</th>\n",
       "      <th>Algorithm_Blake2S</th>\n",
       "      <th>Algorithm_Blake2b</th>\n",
       "      <th>Algorithm_C11</th>\n",
       "      <th>...</th>\n",
       "      <th>ProofType_PoW/PoS</th>\n",
       "      <th>ProofType_PoW/PoS</th>\n",
       "      <th>ProofType_PoW/PoW</th>\n",
       "      <th>ProofType_PoW/nPoS</th>\n",
       "      <th>ProofType_Pos</th>\n",
       "      <th>ProofType_Proof of Authority</th>\n",
       "      <th>ProofType_Proof of Trust</th>\n",
       "      <th>ProofType_TPoS</th>\n",
       "      <th>ProofType_Zero-Knowledge Proof</th>\n",
       "      <th>ProofType_dPoW/PoW</th>\n",
       "    </tr>\n",
       "  </thead>\n",
       "  <tbody>\n",
       "    <tr>\n",
       "      <th>0</th>\n",
       "      <td>4.199995e+01</td>\n",
       "      <td>42</td>\n",
       "      <td>0</td>\n",
       "      <td>0</td>\n",
       "      <td>0</td>\n",
       "      <td>0</td>\n",
       "      <td>0</td>\n",
       "      <td>0</td>\n",
       "      <td>0</td>\n",
       "      <td>0</td>\n",
       "      <td>...</td>\n",
       "      <td>1</td>\n",
       "      <td>0</td>\n",
       "      <td>0</td>\n",
       "      <td>0</td>\n",
       "      <td>0</td>\n",
       "      <td>0</td>\n",
       "      <td>0</td>\n",
       "      <td>0</td>\n",
       "      <td>0</td>\n",
       "      <td>0</td>\n",
       "    </tr>\n",
       "    <tr>\n",
       "      <th>2</th>\n",
       "      <td>1.055185e+09</td>\n",
       "      <td>532000000</td>\n",
       "      <td>0</td>\n",
       "      <td>0</td>\n",
       "      <td>0</td>\n",
       "      <td>0</td>\n",
       "      <td>0</td>\n",
       "      <td>0</td>\n",
       "      <td>0</td>\n",
       "      <td>0</td>\n",
       "      <td>...</td>\n",
       "      <td>1</td>\n",
       "      <td>0</td>\n",
       "      <td>0</td>\n",
       "      <td>0</td>\n",
       "      <td>0</td>\n",
       "      <td>0</td>\n",
       "      <td>0</td>\n",
       "      <td>0</td>\n",
       "      <td>0</td>\n",
       "      <td>0</td>\n",
       "    </tr>\n",
       "    <tr>\n",
       "      <th>5</th>\n",
       "      <td>2.927942e+10</td>\n",
       "      <td>314159265359</td>\n",
       "      <td>0</td>\n",
       "      <td>0</td>\n",
       "      <td>0</td>\n",
       "      <td>0</td>\n",
       "      <td>0</td>\n",
       "      <td>0</td>\n",
       "      <td>0</td>\n",
       "      <td>0</td>\n",
       "      <td>...</td>\n",
       "      <td>1</td>\n",
       "      <td>0</td>\n",
       "      <td>0</td>\n",
       "      <td>0</td>\n",
       "      <td>0</td>\n",
       "      <td>0</td>\n",
       "      <td>0</td>\n",
       "      <td>0</td>\n",
       "      <td>0</td>\n",
       "      <td>0</td>\n",
       "    </tr>\n",
       "    <tr>\n",
       "      <th>7</th>\n",
       "      <td>1.792718e+07</td>\n",
       "      <td>21000000</td>\n",
       "      <td>0</td>\n",
       "      <td>0</td>\n",
       "      <td>0</td>\n",
       "      <td>0</td>\n",
       "      <td>0</td>\n",
       "      <td>0</td>\n",
       "      <td>0</td>\n",
       "      <td>0</td>\n",
       "      <td>...</td>\n",
       "      <td>0</td>\n",
       "      <td>0</td>\n",
       "      <td>0</td>\n",
       "      <td>0</td>\n",
       "      <td>0</td>\n",
       "      <td>0</td>\n",
       "      <td>0</td>\n",
       "      <td>0</td>\n",
       "      <td>0</td>\n",
       "      <td>0</td>\n",
       "    </tr>\n",
       "    <tr>\n",
       "      <th>8</th>\n",
       "      <td>1.076842e+08</td>\n",
       "      <td>0</td>\n",
       "      <td>0</td>\n",
       "      <td>0</td>\n",
       "      <td>0</td>\n",
       "      <td>0</td>\n",
       "      <td>0</td>\n",
       "      <td>0</td>\n",
       "      <td>0</td>\n",
       "      <td>0</td>\n",
       "      <td>...</td>\n",
       "      <td>0</td>\n",
       "      <td>0</td>\n",
       "      <td>0</td>\n",
       "      <td>0</td>\n",
       "      <td>0</td>\n",
       "      <td>0</td>\n",
       "      <td>0</td>\n",
       "      <td>0</td>\n",
       "      <td>0</td>\n",
       "      <td>0</td>\n",
       "    </tr>\n",
       "  </tbody>\n",
       "</table>\n",
       "<p>5 rows × 100 columns</p>\n",
       "</div>"
      ],
      "text/plain": [
       "   TotalCoinsMined TotalCoinSupply  Algorithm_1GB AES Pattern Search  \\\n",
       "0     4.199995e+01              42                                 0   \n",
       "2     1.055185e+09       532000000                                 0   \n",
       "5     2.927942e+10    314159265359                                 0   \n",
       "7     1.792718e+07        21000000                                 0   \n",
       "8     1.076842e+08               0                                 0   \n",
       "\n",
       "   Algorithm_536  Algorithm_Argon2d  Algorithm_BLAKE256  Algorithm_Blake  \\\n",
       "0              0                  0                   0                0   \n",
       "2              0                  0                   0                0   \n",
       "5              0                  0                   0                0   \n",
       "7              0                  0                   0                0   \n",
       "8              0                  0                   0                0   \n",
       "\n",
       "   Algorithm_Blake2S  Algorithm_Blake2b  Algorithm_C11  ...  \\\n",
       "0                  0                  0              0  ...   \n",
       "2                  0                  0              0  ...   \n",
       "5                  0                  0              0  ...   \n",
       "7                  0                  0              0  ...   \n",
       "8                  0                  0              0  ...   \n",
       "\n",
       "   ProofType_PoW/PoS  ProofType_PoW/PoS   ProofType_PoW/PoW  \\\n",
       "0                  1                   0                  0   \n",
       "2                  1                   0                  0   \n",
       "5                  1                   0                  0   \n",
       "7                  0                   0                  0   \n",
       "8                  0                   0                  0   \n",
       "\n",
       "   ProofType_PoW/nPoS  ProofType_Pos  ProofType_Proof of Authority  \\\n",
       "0                   0              0                             0   \n",
       "2                   0              0                             0   \n",
       "5                   0              0                             0   \n",
       "7                   0              0                             0   \n",
       "8                   0              0                             0   \n",
       "\n",
       "   ProofType_Proof of Trust  ProofType_TPoS  ProofType_Zero-Knowledge Proof  \\\n",
       "0                         0               0                               0   \n",
       "2                         0               0                               0   \n",
       "5                         0               0                               0   \n",
       "7                         0               0                               0   \n",
       "8                         0               0                               0   \n",
       "\n",
       "   ProofType_dPoW/PoW  \n",
       "0                   0  \n",
       "2                   0  \n",
       "5                   0  \n",
       "7                   0  \n",
       "8                   0  \n",
       "\n",
       "[5 rows x 100 columns]"
      ]
     },
     "execution_count": 180,
     "metadata": {},
     "output_type": "execute_result"
    }
   ],
   "source": [
    "# Use get_dummies() to create variables for text features.\n",
    "crypto_df_encoded = pd.get_dummies(crypto_df_new, \n",
    "                columns = ['Algorithm', 'ProofType'])\n",
    "crypto_df_encoded.head()"
   ]
  },
  {
   "cell_type": "code",
   "execution_count": 181,
   "metadata": {},
   "outputs": [
    {
     "data": {
      "text/plain": [
       "TotalCoinsMined                     float64\n",
       "TotalCoinSupply                      object\n",
       "Algorithm_1GB AES Pattern Search      uint8\n",
       "Algorithm_536                         uint8\n",
       "Algorithm_Argon2d                     uint8\n",
       "                                     ...   \n",
       "ProofType_Proof of Authority          uint8\n",
       "ProofType_Proof of Trust              uint8\n",
       "ProofType_TPoS                        uint8\n",
       "ProofType_Zero-Knowledge Proof        uint8\n",
       "ProofType_dPoW/PoW                    uint8\n",
       "Length: 100, dtype: object"
      ]
     },
     "execution_count": 181,
     "metadata": {},
     "output_type": "execute_result"
    }
   ],
   "source": [
    "pd.set_option('display.max_colwidth', None)\n",
    "crypto_df_encoded.dtypes"
   ]
  },
  {
   "cell_type": "code",
   "execution_count": 182,
   "metadata": {},
   "outputs": [
    {
     "data": {
      "text/html": [
       "<div>\n",
       "<style scoped>\n",
       "    .dataframe tbody tr th:only-of-type {\n",
       "        vertical-align: middle;\n",
       "    }\n",
       "\n",
       "    .dataframe tbody tr th {\n",
       "        vertical-align: top;\n",
       "    }\n",
       "\n",
       "    .dataframe thead th {\n",
       "        text-align: right;\n",
       "    }\n",
       "</style>\n",
       "<table border=\"1\" class=\"dataframe\">\n",
       "  <thead>\n",
       "    <tr style=\"text-align: right;\">\n",
       "      <th></th>\n",
       "      <th>TotalCoinsMined</th>\n",
       "      <th>TotalCoinSupply</th>\n",
       "      <th>Algorithm_1GB AES Pattern Search</th>\n",
       "      <th>Algorithm_536</th>\n",
       "      <th>Algorithm_Argon2d</th>\n",
       "      <th>Algorithm_BLAKE256</th>\n",
       "      <th>Algorithm_Blake</th>\n",
       "      <th>Algorithm_Blake2S</th>\n",
       "      <th>Algorithm_Blake2b</th>\n",
       "      <th>Algorithm_C11</th>\n",
       "      <th>...</th>\n",
       "      <th>ProofType_PoW/PoS</th>\n",
       "      <th>ProofType_PoW/PoS</th>\n",
       "      <th>ProofType_PoW/PoW</th>\n",
       "      <th>ProofType_PoW/nPoS</th>\n",
       "      <th>ProofType_Pos</th>\n",
       "      <th>ProofType_Proof of Authority</th>\n",
       "      <th>ProofType_Proof of Trust</th>\n",
       "      <th>ProofType_TPoS</th>\n",
       "      <th>ProofType_Zero-Knowledge Proof</th>\n",
       "      <th>ProofType_dPoW/PoW</th>\n",
       "    </tr>\n",
       "  </thead>\n",
       "  <tbody>\n",
       "    <tr>\n",
       "      <th>0</th>\n",
       "      <td>4.199995e+01</td>\n",
       "      <td>4.200000e+01</td>\n",
       "      <td>0</td>\n",
       "      <td>0</td>\n",
       "      <td>0</td>\n",
       "      <td>0</td>\n",
       "      <td>0</td>\n",
       "      <td>0</td>\n",
       "      <td>0</td>\n",
       "      <td>0</td>\n",
       "      <td>...</td>\n",
       "      <td>1</td>\n",
       "      <td>0</td>\n",
       "      <td>0</td>\n",
       "      <td>0</td>\n",
       "      <td>0</td>\n",
       "      <td>0</td>\n",
       "      <td>0</td>\n",
       "      <td>0</td>\n",
       "      <td>0</td>\n",
       "      <td>0</td>\n",
       "    </tr>\n",
       "    <tr>\n",
       "      <th>2</th>\n",
       "      <td>1.055185e+09</td>\n",
       "      <td>5.320000e+08</td>\n",
       "      <td>0</td>\n",
       "      <td>0</td>\n",
       "      <td>0</td>\n",
       "      <td>0</td>\n",
       "      <td>0</td>\n",
       "      <td>0</td>\n",
       "      <td>0</td>\n",
       "      <td>0</td>\n",
       "      <td>...</td>\n",
       "      <td>1</td>\n",
       "      <td>0</td>\n",
       "      <td>0</td>\n",
       "      <td>0</td>\n",
       "      <td>0</td>\n",
       "      <td>0</td>\n",
       "      <td>0</td>\n",
       "      <td>0</td>\n",
       "      <td>0</td>\n",
       "      <td>0</td>\n",
       "    </tr>\n",
       "    <tr>\n",
       "      <th>5</th>\n",
       "      <td>2.927942e+10</td>\n",
       "      <td>3.141593e+11</td>\n",
       "      <td>0</td>\n",
       "      <td>0</td>\n",
       "      <td>0</td>\n",
       "      <td>0</td>\n",
       "      <td>0</td>\n",
       "      <td>0</td>\n",
       "      <td>0</td>\n",
       "      <td>0</td>\n",
       "      <td>...</td>\n",
       "      <td>1</td>\n",
       "      <td>0</td>\n",
       "      <td>0</td>\n",
       "      <td>0</td>\n",
       "      <td>0</td>\n",
       "      <td>0</td>\n",
       "      <td>0</td>\n",
       "      <td>0</td>\n",
       "      <td>0</td>\n",
       "      <td>0</td>\n",
       "    </tr>\n",
       "    <tr>\n",
       "      <th>7</th>\n",
       "      <td>1.792718e+07</td>\n",
       "      <td>2.100000e+07</td>\n",
       "      <td>0</td>\n",
       "      <td>0</td>\n",
       "      <td>0</td>\n",
       "      <td>0</td>\n",
       "      <td>0</td>\n",
       "      <td>0</td>\n",
       "      <td>0</td>\n",
       "      <td>0</td>\n",
       "      <td>...</td>\n",
       "      <td>0</td>\n",
       "      <td>0</td>\n",
       "      <td>0</td>\n",
       "      <td>0</td>\n",
       "      <td>0</td>\n",
       "      <td>0</td>\n",
       "      <td>0</td>\n",
       "      <td>0</td>\n",
       "      <td>0</td>\n",
       "      <td>0</td>\n",
       "    </tr>\n",
       "    <tr>\n",
       "      <th>8</th>\n",
       "      <td>1.076842e+08</td>\n",
       "      <td>0.000000e+00</td>\n",
       "      <td>0</td>\n",
       "      <td>0</td>\n",
       "      <td>0</td>\n",
       "      <td>0</td>\n",
       "      <td>0</td>\n",
       "      <td>0</td>\n",
       "      <td>0</td>\n",
       "      <td>0</td>\n",
       "      <td>...</td>\n",
       "      <td>0</td>\n",
       "      <td>0</td>\n",
       "      <td>0</td>\n",
       "      <td>0</td>\n",
       "      <td>0</td>\n",
       "      <td>0</td>\n",
       "      <td>0</td>\n",
       "      <td>0</td>\n",
       "      <td>0</td>\n",
       "      <td>0</td>\n",
       "    </tr>\n",
       "  </tbody>\n",
       "</table>\n",
       "<p>5 rows × 100 columns</p>\n",
       "</div>"
      ],
      "text/plain": [
       "   TotalCoinsMined  TotalCoinSupply  Algorithm_1GB AES Pattern Search  \\\n",
       "0     4.199995e+01     4.200000e+01                                 0   \n",
       "2     1.055185e+09     5.320000e+08                                 0   \n",
       "5     2.927942e+10     3.141593e+11                                 0   \n",
       "7     1.792718e+07     2.100000e+07                                 0   \n",
       "8     1.076842e+08     0.000000e+00                                 0   \n",
       "\n",
       "   Algorithm_536  Algorithm_Argon2d  Algorithm_BLAKE256  Algorithm_Blake  \\\n",
       "0              0                  0                   0                0   \n",
       "2              0                  0                   0                0   \n",
       "5              0                  0                   0                0   \n",
       "7              0                  0                   0                0   \n",
       "8              0                  0                   0                0   \n",
       "\n",
       "   Algorithm_Blake2S  Algorithm_Blake2b  Algorithm_C11  ...  \\\n",
       "0                  0                  0              0  ...   \n",
       "2                  0                  0              0  ...   \n",
       "5                  0                  0              0  ...   \n",
       "7                  0                  0              0  ...   \n",
       "8                  0                  0              0  ...   \n",
       "\n",
       "   ProofType_PoW/PoS  ProofType_PoW/PoS   ProofType_PoW/PoW  \\\n",
       "0                  1                   0                  0   \n",
       "2                  1                   0                  0   \n",
       "5                  1                   0                  0   \n",
       "7                  0                   0                  0   \n",
       "8                  0                   0                  0   \n",
       "\n",
       "   ProofType_PoW/nPoS  ProofType_Pos  ProofType_Proof of Authority  \\\n",
       "0                   0              0                             0   \n",
       "2                   0              0                             0   \n",
       "5                   0              0                             0   \n",
       "7                   0              0                             0   \n",
       "8                   0              0                             0   \n",
       "\n",
       "   ProofType_Proof of Trust  ProofType_TPoS  ProofType_Zero-Knowledge Proof  \\\n",
       "0                         0               0                               0   \n",
       "2                         0               0                               0   \n",
       "5                         0               0                               0   \n",
       "7                         0               0                               0   \n",
       "8                         0               0                               0   \n",
       "\n",
       "   ProofType_dPoW/PoW  \n",
       "0                   0  \n",
       "2                   0  \n",
       "5                   0  \n",
       "7                   0  \n",
       "8                   0  \n",
       "\n",
       "[5 rows x 100 columns]"
      ]
     },
     "execution_count": 182,
     "metadata": {},
     "output_type": "execute_result"
    }
   ],
   "source": [
    "# Convert strings to float for Standard Scaler\n",
    "crypto_df_encoded['TotalCoinsMined'] = crypto_df_encoded['TotalCoinsMined'].astype(float)\n",
    "crypto_df_encoded['TotalCoinSupply'] = crypto_df_encoded['TotalCoinSupply'].astype(float)\n",
    "crypto_df_encoded.dropna()\n",
    "crypto_df_encoded.head()"
   ]
  },
  {
   "cell_type": "code",
   "execution_count": 183,
   "metadata": {},
   "outputs": [
    {
     "name": "stdout",
     "output_type": "stream",
     "text": [
      "[[-0.11674788 -0.15286468 -0.0433555  -0.0433555  -0.0433555  -0.06137164\n",
      "  -0.07523548 -0.0433555  -0.06137164 -0.06137164 -0.0433555  -0.0433555\n",
      "  -0.19226279 -0.06137164 -0.09731237 -0.0433555  -0.11536024 -0.07523548\n",
      "  -0.0433555  -0.0433555  -0.15176505 -0.0433555  -0.13105561 -0.0433555\n",
      "  -0.0433555  -0.08695652 -0.0433555  -0.0433555  -0.0433555  -0.0433555\n",
      "  -0.06137164 -0.0433555  -0.08695652 -0.08695652 -0.08695652 -0.0433555\n",
      "  -0.13105561 -0.13827675 -0.13827675 -0.0433555  -0.06137164 -0.0433555\n",
      "  -0.07523548 -0.1815096  -0.0433555  -0.0433555  -0.0433555  -0.07523548\n",
      "  -0.15811388 -0.3145935  -0.0433555  -0.08695652 -0.07523548 -0.06137164\n",
      "  -0.0433555   1.38873015 -0.0433555  -0.0433555  -0.06137164 -0.0433555\n",
      "  -0.0433555  -0.0433555  -0.0433555  -0.0433555  -0.0433555  -0.0433555\n",
      "  -0.0433555  -0.39836623 -0.0433555  -0.1815096  -0.0433555  -0.08695652\n",
      "  -0.08695652 -0.10670145 -0.0433555  -0.0433555  -0.13105561 -0.0433555\n",
      "  -0.0433555  -0.0433555  -0.0433555  -0.07523548 -0.4386271  -0.0433555\n",
      "  -0.06137164 -0.0433555  -0.0433555  -0.89480483 -0.0433555  -0.0433555\n",
      "   1.42422228 -0.0433555  -0.0433555  -0.0433555  -0.0433555  -0.0433555\n",
      "  -0.0433555  -0.0433555  -0.0433555  -0.0433555 ]]\n"
     ]
    }
   ],
   "source": [
    "# Standardize the data with StandardScaler().\n",
    "scaler = StandardScaler()\n",
    "crypto_scaled = scaler.fit_transform(crypto_df_encoded)\n",
    "print(crypto_scaled[0:1])"
   ]
  },
  {
   "cell_type": "markdown",
   "metadata": {},
   "source": [
    "### Deliverable 2: Reducing Data Dimensions Using PCA"
   ]
  },
  {
   "cell_type": "code",
   "execution_count": 184,
   "metadata": {},
   "outputs": [
    {
     "name": "stdout",
     "output_type": "stream",
     "text": [
      "[[-0.34204184  1.00736675 -0.46334067]\n",
      " [-0.32540169  1.00751486 -0.46360002]\n",
      " [ 2.29223121  1.70465675 -0.56325909]\n",
      " [-0.13698288 -1.27028886  0.12215678]\n",
      " [-0.1470624  -2.04747571  0.32136036]]\n"
     ]
    }
   ],
   "source": [
    "# Using PCA to reduce dimension to three principal components.\n",
    "pca = PCA(n_components=3)\n",
    "crypto_pca = pca.fit_transform(crypto_scaled)\n",
    "print(crypto_pca[0:5])"
   ]
  },
  {
   "cell_type": "code",
   "execution_count": 185,
   "metadata": {},
   "outputs": [
    {
     "data": {
      "text/html": [
       "<div>\n",
       "<style scoped>\n",
       "    .dataframe tbody tr th:only-of-type {\n",
       "        vertical-align: middle;\n",
       "    }\n",
       "\n",
       "    .dataframe tbody tr th {\n",
       "        vertical-align: top;\n",
       "    }\n",
       "\n",
       "    .dataframe thead th {\n",
       "        text-align: right;\n",
       "    }\n",
       "</style>\n",
       "<table border=\"1\" class=\"dataframe\">\n",
       "  <thead>\n",
       "    <tr style=\"text-align: right;\">\n",
       "      <th></th>\n",
       "      <th>PC 1</th>\n",
       "      <th>PC 2</th>\n",
       "      <th>PC 3</th>\n",
       "    </tr>\n",
       "  </thead>\n",
       "  <tbody>\n",
       "    <tr>\n",
       "      <th>0</th>\n",
       "      <td>-0.342042</td>\n",
       "      <td>1.007367</td>\n",
       "      <td>-0.463341</td>\n",
       "    </tr>\n",
       "    <tr>\n",
       "      <th>1</th>\n",
       "      <td>-0.325402</td>\n",
       "      <td>1.007515</td>\n",
       "      <td>-0.463600</td>\n",
       "    </tr>\n",
       "    <tr>\n",
       "      <th>2</th>\n",
       "      <td>2.292231</td>\n",
       "      <td>1.704657</td>\n",
       "      <td>-0.563259</td>\n",
       "    </tr>\n",
       "    <tr>\n",
       "      <th>3</th>\n",
       "      <td>-0.136983</td>\n",
       "      <td>-1.270289</td>\n",
       "      <td>0.122157</td>\n",
       "    </tr>\n",
       "    <tr>\n",
       "      <th>4</th>\n",
       "      <td>-0.147062</td>\n",
       "      <td>-2.047476</td>\n",
       "      <td>0.321360</td>\n",
       "    </tr>\n",
       "    <tr>\n",
       "      <th>5</th>\n",
       "      <td>-0.166300</td>\n",
       "      <td>-1.153541</td>\n",
       "      <td>0.008168</td>\n",
       "    </tr>\n",
       "    <tr>\n",
       "      <th>6</th>\n",
       "      <td>-0.416059</td>\n",
       "      <td>1.289614</td>\n",
       "      <td>-0.420738</td>\n",
       "    </tr>\n",
       "    <tr>\n",
       "      <th>7</th>\n",
       "      <td>-0.137614</td>\n",
       "      <td>-2.234570</td>\n",
       "      <td>0.330616</td>\n",
       "    </tr>\n",
       "    <tr>\n",
       "      <th>8</th>\n",
       "      <td>-0.145505</td>\n",
       "      <td>-2.047577</td>\n",
       "      <td>0.321359</td>\n",
       "    </tr>\n",
       "    <tr>\n",
       "      <th>9</th>\n",
       "      <td>-0.165043</td>\n",
       "      <td>-2.130460</td>\n",
       "      <td>0.401746</td>\n",
       "    </tr>\n",
       "  </tbody>\n",
       "</table>\n",
       "</div>"
      ],
      "text/plain": [
       "       PC 1      PC 2      PC 3\n",
       "0 -0.342042  1.007367 -0.463341\n",
       "1 -0.325402  1.007515 -0.463600\n",
       "2  2.292231  1.704657 -0.563259\n",
       "3 -0.136983 -1.270289  0.122157\n",
       "4 -0.147062 -2.047476  0.321360\n",
       "5 -0.166300 -1.153541  0.008168\n",
       "6 -0.416059  1.289614 -0.420738\n",
       "7 -0.137614 -2.234570  0.330616\n",
       "8 -0.145505 -2.047577  0.321359\n",
       "9 -0.165043 -2.130460  0.401746"
      ]
     },
     "execution_count": 185,
     "metadata": {},
     "output_type": "execute_result"
    }
   ],
   "source": [
    "# Create a DataFrame with the three principal components.\n",
    "crypto_pca = pd.DataFrame(data=crypto_pca, columns=[\"PC 1\", \"PC 2\", \"PC 3\"])\n",
    "crypto_pca.head(10)"
   ]
  },
  {
   "cell_type": "markdown",
   "metadata": {},
   "source": [
    "### Deliverable 3: Clustering Crytocurrencies Using K-Means\n",
    "\n",
    "#### Finding the Best Value for `k` Using the Elbow Curve"
   ]
  },
  {
   "cell_type": "code",
   "execution_count": 186,
   "metadata": {},
   "outputs": [
    {
     "data": {},
     "metadata": {},
     "output_type": "display_data"
    },
    {
     "data": {
      "application/vnd.holoviews_exec.v0+json": "",
      "text/html": [
       "<div id='2487'>\n",
       "\n",
       "\n",
       "\n",
       "\n",
       "\n",
       "  <div class=\"bk-root\" id=\"02c0ce68-236e-4184-9446-5f980913a067\" data-root-id=\"2487\"></div>\n",
       "</div>\n",
       "<script type=\"application/javascript\">(function(root) {\n",
       "  function embed_document(root) {\n",
       "    var docs_json = {\"7c14e74e-9558-4d38-8305-5907475b9b99\":{\"roots\":{\"references\":[{\"attributes\":{\"line_alpha\":0.2,\"line_color\":\"#30a2da\",\"line_width\":2,\"x\":{\"field\":\"k\"},\"y\":{\"field\":\"inertia\"}},\"id\":\"2527\",\"type\":\"Line\"},{\"attributes\":{\"source\":{\"id\":\"2522\"}},\"id\":\"2529\",\"type\":\"CDSView\"},{\"attributes\":{\"below\":[{\"id\":\"2501\"}],\"center\":[{\"id\":\"2504\"},{\"id\":\"2508\"}],\"left\":[{\"id\":\"2505\"}],\"margin\":[5,5,5,5],\"min_border_bottom\":10,\"min_border_left\":10,\"min_border_right\":10,\"min_border_top\":10,\"plot_height\":300,\"plot_width\":700,\"renderers\":[{\"id\":\"2528\"}],\"sizing_mode\":\"fixed\",\"title\":{\"id\":\"2493\"},\"toolbar\":{\"id\":\"2515\"},\"x_range\":{\"id\":\"2489\"},\"x_scale\":{\"id\":\"2497\"},\"y_range\":{\"id\":\"2490\"},\"y_scale\":{\"id\":\"2499\"}},\"id\":\"2492\",\"subtype\":\"Figure\",\"type\":\"Plot\"},{\"attributes\":{\"data_source\":{\"id\":\"2522\"},\"glyph\":{\"id\":\"2525\"},\"hover_glyph\":null,\"muted_glyph\":{\"id\":\"2527\"},\"nonselection_glyph\":{\"id\":\"2526\"},\"selection_glyph\":null,\"view\":{\"id\":\"2529\"}},\"id\":\"2528\",\"type\":\"GlyphRenderer\"},{\"attributes\":{\"margin\":[5,5,5,5],\"name\":\"HSpacer05048\",\"sizing_mode\":\"stretch_width\"},\"id\":\"2551\",\"type\":\"Spacer\"},{\"attributes\":{},\"id\":\"2509\",\"type\":\"SaveTool\"},{\"attributes\":{\"line_color\":\"#30a2da\",\"line_width\":2,\"x\":{\"field\":\"k\"},\"y\":{\"field\":\"inertia\"}},\"id\":\"2525\",\"type\":\"Line\"},{\"attributes\":{},\"id\":\"2510\",\"type\":\"PanTool\"},{\"attributes\":{\"callback\":null,\"renderers\":[{\"id\":\"2528\"}],\"tags\":[\"hv_created\"],\"tooltips\":[[\"k\",\"@{k}\"],[\"inertia\",\"@{inertia}\"]]},\"id\":\"2491\",\"type\":\"HoverTool\"},{\"attributes\":{\"axis\":{\"id\":\"2505\"},\"dimension\":1,\"grid_line_color\":null,\"ticker\":null},\"id\":\"2508\",\"type\":\"Grid\"},{\"attributes\":{},\"id\":\"2511\",\"type\":\"WheelZoomTool\"},{\"attributes\":{\"active_drag\":\"auto\",\"active_inspect\":\"auto\",\"active_multi\":null,\"active_scroll\":\"auto\",\"active_tap\":\"auto\",\"tools\":[{\"id\":\"2491\"},{\"id\":\"2509\"},{\"id\":\"2510\"},{\"id\":\"2511\"},{\"id\":\"2512\"},{\"id\":\"2513\"}]},\"id\":\"2515\",\"type\":\"Toolbar\"},{\"attributes\":{},\"id\":\"2531\",\"type\":\"BasicTickFormatter\"},{\"attributes\":{\"overlay\":{\"id\":\"2514\"}},\"id\":\"2512\",\"type\":\"BoxZoomTool\"},{\"attributes\":{},\"id\":\"2497\",\"type\":\"LinearScale\"},{\"attributes\":{\"axis_label\":\"k\",\"bounds\":\"auto\",\"formatter\":{\"id\":\"2531\"},\"major_label_orientation\":\"horizontal\",\"ticker\":{\"id\":\"2530\"}},\"id\":\"2501\",\"type\":\"LinearAxis\"},{\"attributes\":{\"ticks\":[1,2,3,4,5,6,7,8,9,10]},\"id\":\"2530\",\"type\":\"FixedTicker\"},{\"attributes\":{},\"id\":\"2513\",\"type\":\"ResetTool\"},{\"attributes\":{\"margin\":[5,5,5,5],\"name\":\"HSpacer05047\",\"sizing_mode\":\"stretch_width\"},\"id\":\"2488\",\"type\":\"Spacer\"},{\"attributes\":{\"end\":10.0,\"reset_end\":10.0,\"reset_start\":1.0,\"start\":1.0,\"tags\":[[[\"k\",\"k\",null]]]},\"id\":\"2489\",\"type\":\"Range1d\"},{\"attributes\":{\"children\":[{\"id\":\"2488\"},{\"id\":\"2492\"},{\"id\":\"2551\"}],\"margin\":[0,0,0,0],\"name\":\"Row05043\",\"tags\":[\"embedded\"]},\"id\":\"2487\",\"type\":\"Row\"},{\"attributes\":{},\"id\":\"2499\",\"type\":\"LinearScale\"},{\"attributes\":{\"data\":{\"inertia\":{\"__ndarray__\":\"HOgLkCV7rEAHHa4SqWOjQHu38ccJa5dArJuw00cNg0DKjWMm8gl6QK5i04gIg3BAsz+WcbdyaUDznnIHbWBjQOmZsbC/lV5A+eAm8bYsWEA=\",\"dtype\":\"float64\",\"order\":\"little\",\"shape\":[10]},\"k\":[1,2,3,4,5,6,7,8,9,10]},\"selected\":{\"id\":\"2523\"},\"selection_policy\":{\"id\":\"2543\"}},\"id\":\"2522\",\"type\":\"ColumnDataSource\"},{\"attributes\":{\"text\":\"Elbow Curve\",\"text_color\":{\"value\":\"black\"},\"text_font_size\":{\"value\":\"12pt\"}},\"id\":\"2493\",\"type\":\"Title\"},{\"attributes\":{},\"id\":\"2535\",\"type\":\"BasicTickFormatter\"},{\"attributes\":{\"end\":4000.460834484573,\"reset_end\":4000.460834484573,\"reset_start\":-258.1888039783898,\"start\":-258.1888039783898,\"tags\":[[[\"inertia\",\"inertia\",null]]]},\"id\":\"2490\",\"type\":\"Range1d\"},{\"attributes\":{\"bottom_units\":\"screen\",\"fill_alpha\":0.5,\"fill_color\":\"lightgrey\",\"left_units\":\"screen\",\"level\":\"overlay\",\"line_alpha\":1.0,\"line_color\":\"black\",\"line_dash\":[4,4],\"line_width\":2,\"right_units\":\"screen\",\"top_units\":\"screen\"},\"id\":\"2514\",\"type\":\"BoxAnnotation\"},{\"attributes\":{\"axis\":{\"id\":\"2501\"},\"grid_line_color\":null,\"ticker\":null},\"id\":\"2504\",\"type\":\"Grid\"},{\"attributes\":{},\"id\":\"2506\",\"type\":\"BasicTicker\"},{\"attributes\":{\"axis_label\":\"inertia\",\"bounds\":\"auto\",\"formatter\":{\"id\":\"2535\"},\"major_label_orientation\":\"horizontal\",\"ticker\":{\"id\":\"2506\"}},\"id\":\"2505\",\"type\":\"LinearAxis\"},{\"attributes\":{},\"id\":\"2543\",\"type\":\"UnionRenderers\"},{\"attributes\":{},\"id\":\"2523\",\"type\":\"Selection\"},{\"attributes\":{\"line_alpha\":0.1,\"line_color\":\"#30a2da\",\"line_width\":2,\"x\":{\"field\":\"k\"},\"y\":{\"field\":\"inertia\"}},\"id\":\"2526\",\"type\":\"Line\"}],\"root_ids\":[\"2487\"]},\"title\":\"Bokeh Application\",\"version\":\"2.2.3\"}};\n",
       "    var render_items = [{\"docid\":\"7c14e74e-9558-4d38-8305-5907475b9b99\",\"root_ids\":[\"2487\"],\"roots\":{\"2487\":\"02c0ce68-236e-4184-9446-5f980913a067\"}}];\n",
       "    root.Bokeh.embed.embed_items_notebook(docs_json, render_items);\n",
       "  }\n",
       "  if (root.Bokeh !== undefined && root.Bokeh.Panel !== undefined) {\n",
       "    embed_document(root);\n",
       "  } else {\n",
       "    var attempts = 0;\n",
       "    var timer = setInterval(function(root) {\n",
       "      if (root.Bokeh !== undefined && root.Bokeh.Panel !== undefined) {\n",
       "        clearInterval(timer);\n",
       "        embed_document(root);\n",
       "      } else if (document.readyState == \"complete\") {\n",
       "        attempts++;\n",
       "        if (attempts > 100) {\n",
       "          clearInterval(timer);\n",
       "          console.log(\"Bokeh: ERROR: Unable to run BokehJS code because BokehJS library is missing\");\n",
       "        }\n",
       "      }\n",
       "    }, 10, root)\n",
       "  }\n",
       "})(window);</script>"
      ],
      "text/plain": [
       ":Curve   [k]   (inertia)"
      ]
     },
     "execution_count": 186,
     "metadata": {
      "application/vnd.holoviews_exec.v0+json": {
       "id": "2487"
      }
     },
     "output_type": "execute_result"
    }
   ],
   "source": [
    "# Create an elbow curve to find the best value for K.\n",
    "\n",
    "inertia = []\n",
    "k = list(range(1, 11))\n",
    "\n",
    "for i in k:\n",
    "    km = KMeans(n_clusters=i, random_state=0)\n",
    "    km.fit(crypto_pca)\n",
    "    inertia.append(km.inertia_)\n",
    "\n",
    "# Create the elbow curve\n",
    "elbow_data = {\"k\": k, \"inertia\": inertia}\n",
    "df_elbow = pd.DataFrame(elbow_data)\n",
    "df_elbow.hvplot.line(x=\"k\", y=\"inertia\", xticks=k, title=\"Elbow Curve\")\n"
   ]
  },
  {
   "cell_type": "markdown",
   "metadata": {},
   "source": [
    "Running K-Means with `k=4`"
   ]
  },
  {
   "cell_type": "code",
   "execution_count": 187,
   "metadata": {},
   "outputs": [
    {
     "data": {
      "text/plain": [
       "array([1, 1, 1, 0, 0, 0, 1, 0, 0, 0, 1, 0, 1, 1, 0, 1, 0, 0, 1, 1, 0, 0,\n",
       "       0, 0, 0, 1, 0, 0, 0, 1, 0, 1, 0, 0, 1, 1, 0, 0, 0, 0, 0, 0, 1, 1,\n",
       "       0, 0, 0, 0, 0, 1, 1, 0, 1, 0, 0, 0, 0, 1, 0, 0, 1, 0, 1, 1, 1, 0,\n",
       "       0, 0, 1, 1, 1, 1, 1, 0, 0, 0, 1, 1, 0, 1, 0, 1, 1, 0, 0, 0, 0, 1,\n",
       "       1, 0, 1, 0, 0, 1, 1, 0, 1, 1, 0, 0, 1, 1, 0, 1, 1, 0, 1, 0, 1, 0,\n",
       "       1, 0, 1, 1, 0, 0, 1, 0, 0, 0, 1, 0, 0, 0, 0, 0, 1, 1, 0, 0, 0, 1,\n",
       "       0, 1, 0, 0, 1, 0, 1, 0, 1, 1, 0, 0, 1, 0, 0, 1, 1, 0, 1, 0, 1, 1,\n",
       "       1, 0, 0, 0, 0, 1, 1, 1, 1, 1, 0, 0, 1, 1, 1, 1, 1, 0, 1, 1, 1, 1,\n",
       "       1, 0, 1, 0, 1, 1, 0, 1, 0, 1, 1, 0, 1, 0, 1, 0, 1, 0, 1, 1, 1, 1,\n",
       "       0, 1, 1, 1, 1, 1, 0, 0, 1, 1, 0, 0, 1, 1, 1, 1, 1, 0, 1, 1, 1, 1,\n",
       "       1, 1, 1, 1, 0, 1, 1, 1, 1, 1, 1, 0, 0, 0, 1, 1, 1, 1, 0, 1, 0, 1,\n",
       "       1, 0, 1, 0, 0, 1, 0, 0, 1, 0, 1, 1, 1, 0, 1, 1, 0, 1, 1, 1, 1, 1,\n",
       "       1, 1, 0, 1, 0, 1, 1, 1, 1, 0, 1, 0, 1, 0, 0, 0, 0, 1, 0, 1, 1, 0,\n",
       "       1, 0, 0, 0, 1, 0, 1, 0, 0, 0, 1, 0, 1, 0, 1, 1, 1, 0, 1, 0, 0, 0,\n",
       "       0, 0, 1, 1, 0, 1, 1, 1, 0, 1, 0, 1, 0, 1, 0, 1, 1, 1, 1, 0, 1, 1,\n",
       "       0, 1, 1, 1, 0, 0, 0, 0, 1, 1, 1, 1, 0, 1, 0, 0, 0, 1, 1, 0, 0, 1,\n",
       "       1, 0, 1, 0, 0, 0, 1, 0, 0, 1, 1, 1, 0, 0, 0, 1, 0, 1, 0, 0, 1, 0,\n",
       "       0, 0, 0, 1, 3, 3, 0, 0, 0, 1, 1, 1, 1, 1, 1, 0, 0, 0, 0, 1, 1, 1,\n",
       "       0, 1, 0, 1, 1, 1, 1, 0, 1, 1, 0, 1, 1, 0, 0, 1, 0, 1, 0, 0, 0, 0,\n",
       "       1, 1, 0, 1, 0, 1, 1, 1, 1, 1, 1, 0, 0, 0, 1, 1, 1, 1, 1, 1, 0, 1,\n",
       "       0, 0, 0, 0, 1, 1, 1, 1, 0, 1, 1, 0, 1, 1, 0, 1, 0, 1, 0, 0, 1, 1,\n",
       "       0, 1, 0, 0, 0, 0, 0, 1, 0, 1, 0, 1, 1, 0, 1, 1, 1, 1, 1, 0, 0, 0,\n",
       "       1, 1, 1, 0, 1, 0, 1, 0, 1, 1, 1, 1, 0, 1, 1, 1, 0, 1, 0, 1, 0, 1,\n",
       "       1, 1, 0, 0, 1, 1, 1, 1, 1, 1, 3, 0, 1, 0, 1, 0, 1, 1, 1, 1, 2, 1,\n",
       "       1, 1, 0, 0, 1], dtype=int32)"
      ]
     },
     "execution_count": 187,
     "metadata": {},
     "output_type": "execute_result"
    }
   ],
   "source": [
    "# Initialize the K-Means model.\n",
    "model = KMeans(n_clusters=4, random_state=0)\n",
    "\n",
    "# Fit the model\n",
    "model.fit(crypto_pca)\n",
    "\n",
    "# Predict clusters\n",
    "predictions = model.predict(crypto_pca)\n",
    "\n",
    "predictions"
   ]
  },
  {
   "cell_type": "code",
   "execution_count": 188,
   "metadata": {},
   "outputs": [
    {
     "data": {
      "text/html": [
       "<div>\n",
       "<style scoped>\n",
       "    .dataframe tbody tr th:only-of-type {\n",
       "        vertical-align: middle;\n",
       "    }\n",
       "\n",
       "    .dataframe tbody tr th {\n",
       "        vertical-align: top;\n",
       "    }\n",
       "\n",
       "    .dataframe thead th {\n",
       "        text-align: right;\n",
       "    }\n",
       "</style>\n",
       "<table border=\"1\" class=\"dataframe\">\n",
       "  <thead>\n",
       "    <tr style=\"text-align: right;\">\n",
       "      <th></th>\n",
       "      <th>Algorithm</th>\n",
       "      <th>ProofType</th>\n",
       "      <th>TotalCoinsMined</th>\n",
       "      <th>TotalCoinSupply</th>\n",
       "      <th>PC 1</th>\n",
       "      <th>PC 2</th>\n",
       "      <th>PC 3</th>\n",
       "      <th>class</th>\n",
       "      <th>CoinName</th>\n",
       "    </tr>\n",
       "  </thead>\n",
       "  <tbody>\n",
       "    <tr>\n",
       "      <th>0</th>\n",
       "      <td>Scrypt</td>\n",
       "      <td>PoW/PoS</td>\n",
       "      <td>4.199995e+01</td>\n",
       "      <td>42</td>\n",
       "      <td>-0.342042</td>\n",
       "      <td>1.007367</td>\n",
       "      <td>-0.463341</td>\n",
       "      <td>1</td>\n",
       "      <td>42 Coin</td>\n",
       "    </tr>\n",
       "    <tr>\n",
       "      <th>1</th>\n",
       "      <td>Scrypt</td>\n",
       "      <td>PoW/PoS</td>\n",
       "      <td>1.055185e+09</td>\n",
       "      <td>532000000</td>\n",
       "      <td>-0.325402</td>\n",
       "      <td>1.007515</td>\n",
       "      <td>-0.463600</td>\n",
       "      <td>1</td>\n",
       "      <td>404Coin</td>\n",
       "    </tr>\n",
       "    <tr>\n",
       "      <th>2</th>\n",
       "      <td>X13</td>\n",
       "      <td>PoW/PoS</td>\n",
       "      <td>2.927942e+10</td>\n",
       "      <td>314159265359</td>\n",
       "      <td>2.292231</td>\n",
       "      <td>1.704657</td>\n",
       "      <td>-0.563259</td>\n",
       "      <td>1</td>\n",
       "      <td>EliteCoin</td>\n",
       "    </tr>\n",
       "    <tr>\n",
       "      <th>3</th>\n",
       "      <td>SHA-256</td>\n",
       "      <td>PoW</td>\n",
       "      <td>1.792718e+07</td>\n",
       "      <td>21000000</td>\n",
       "      <td>-0.136983</td>\n",
       "      <td>-1.270289</td>\n",
       "      <td>0.122157</td>\n",
       "      <td>0</td>\n",
       "      <td>Bitcoin</td>\n",
       "    </tr>\n",
       "    <tr>\n",
       "      <th>4</th>\n",
       "      <td>Ethash</td>\n",
       "      <td>PoW</td>\n",
       "      <td>1.076842e+08</td>\n",
       "      <td>0</td>\n",
       "      <td>-0.147062</td>\n",
       "      <td>-2.047476</td>\n",
       "      <td>0.321360</td>\n",
       "      <td>0</td>\n",
       "      <td>Ethereum</td>\n",
       "    </tr>\n",
       "  </tbody>\n",
       "</table>\n",
       "</div>"
      ],
      "text/plain": [
       "  Algorithm ProofType  TotalCoinsMined TotalCoinSupply      PC 1      PC 2  \\\n",
       "0    Scrypt   PoW/PoS     4.199995e+01              42 -0.342042  1.007367   \n",
       "1    Scrypt   PoW/PoS     1.055185e+09       532000000 -0.325402  1.007515   \n",
       "2       X13   PoW/PoS     2.927942e+10    314159265359  2.292231  1.704657   \n",
       "3   SHA-256       PoW     1.792718e+07        21000000 -0.136983 -1.270289   \n",
       "4    Ethash       PoW     1.076842e+08               0 -0.147062 -2.047476   \n",
       "\n",
       "       PC 3  class   CoinName  \n",
       "0 -0.463341      1    42 Coin  \n",
       "1 -0.463600      1    404Coin  \n",
       "2 -0.563259      1  EliteCoin  \n",
       "3  0.122157      0    Bitcoin  \n",
       "4  0.321360      0   Ethereum  "
      ]
     },
     "execution_count": 188,
     "metadata": {},
     "output_type": "execute_result"
    }
   ],
   "source": [
    "# Create a new DataFrame including predicted clusters and cryptocurrencies features.\n",
    "#  Add a new column, \"Class\" to the clustered_df DataFrame that holds the predictions.\n",
    "crypto_pca['class'] = model.labels_\n",
    "crypto_pca.head()\n",
    "crypto_df_new.reset_index(drop=True, inplace=True)\n",
    "crypto_pca.reset_index(drop=True, inplace=True)\n",
    "crypto_names.reset_index(drop=True, inplace=True)\n",
    "# Concatentate the crypto_df and pcs_df DataFrames on the same columns.\n",
    "#Add a new column, \"CoinName\" to the clustered_df DataFrame that holds the names of the cryptocurrencies.\n",
    "clustered_df = pd.concat([crypto_df_new, crypto_pca, crypto_names], axis=1)\n",
    "\n",
    "clustered_df.head()"
   ]
  },
  {
   "cell_type": "code",
   "execution_count": 189,
   "metadata": {},
   "outputs": [
    {
     "name": "stdout",
     "output_type": "stream",
     "text": [
      "(533, 9)\n"
     ]
    },
    {
     "data": {
      "text/html": [
       "<div>\n",
       "<style scoped>\n",
       "    .dataframe tbody tr th:only-of-type {\n",
       "        vertical-align: middle;\n",
       "    }\n",
       "\n",
       "    .dataframe tbody tr th {\n",
       "        vertical-align: top;\n",
       "    }\n",
       "\n",
       "    .dataframe thead th {\n",
       "        text-align: right;\n",
       "    }\n",
       "</style>\n",
       "<table border=\"1\" class=\"dataframe\">\n",
       "  <thead>\n",
       "    <tr style=\"text-align: right;\">\n",
       "      <th></th>\n",
       "      <th>Algorithm</th>\n",
       "      <th>ProofType</th>\n",
       "      <th>TotalCoinsMined</th>\n",
       "      <th>TotalCoinSupply</th>\n",
       "      <th>PC 1</th>\n",
       "      <th>PC 2</th>\n",
       "      <th>PC 3</th>\n",
       "      <th>class</th>\n",
       "      <th>CoinName</th>\n",
       "    </tr>\n",
       "  </thead>\n",
       "  <tbody>\n",
       "    <tr>\n",
       "      <th>0</th>\n",
       "      <td>Scrypt</td>\n",
       "      <td>PoW/PoS</td>\n",
       "      <td>4.199995e+01</td>\n",
       "      <td>42</td>\n",
       "      <td>-0.342042</td>\n",
       "      <td>1.007367</td>\n",
       "      <td>-0.463341</td>\n",
       "      <td>1</td>\n",
       "      <td>42 Coin</td>\n",
       "    </tr>\n",
       "    <tr>\n",
       "      <th>1</th>\n",
       "      <td>Scrypt</td>\n",
       "      <td>PoW/PoS</td>\n",
       "      <td>1.055185e+09</td>\n",
       "      <td>532000000</td>\n",
       "      <td>-0.325402</td>\n",
       "      <td>1.007515</td>\n",
       "      <td>-0.463600</td>\n",
       "      <td>1</td>\n",
       "      <td>404Coin</td>\n",
       "    </tr>\n",
       "    <tr>\n",
       "      <th>2</th>\n",
       "      <td>X13</td>\n",
       "      <td>PoW/PoS</td>\n",
       "      <td>2.927942e+10</td>\n",
       "      <td>314159265359</td>\n",
       "      <td>2.292231</td>\n",
       "      <td>1.704657</td>\n",
       "      <td>-0.563259</td>\n",
       "      <td>1</td>\n",
       "      <td>EliteCoin</td>\n",
       "    </tr>\n",
       "    <tr>\n",
       "      <th>3</th>\n",
       "      <td>SHA-256</td>\n",
       "      <td>PoW</td>\n",
       "      <td>1.792718e+07</td>\n",
       "      <td>21000000</td>\n",
       "      <td>-0.136983</td>\n",
       "      <td>-1.270289</td>\n",
       "      <td>0.122157</td>\n",
       "      <td>0</td>\n",
       "      <td>Bitcoin</td>\n",
       "    </tr>\n",
       "    <tr>\n",
       "      <th>4</th>\n",
       "      <td>Ethash</td>\n",
       "      <td>PoW</td>\n",
       "      <td>1.076842e+08</td>\n",
       "      <td>0</td>\n",
       "      <td>-0.147062</td>\n",
       "      <td>-2.047476</td>\n",
       "      <td>0.321360</td>\n",
       "      <td>0</td>\n",
       "      <td>Ethereum</td>\n",
       "    </tr>\n",
       "    <tr>\n",
       "      <th>5</th>\n",
       "      <td>Scrypt</td>\n",
       "      <td>PoW</td>\n",
       "      <td>6.303924e+07</td>\n",
       "      <td>84000000</td>\n",
       "      <td>-0.166300</td>\n",
       "      <td>-1.153541</td>\n",
       "      <td>0.008168</td>\n",
       "      <td>0</td>\n",
       "      <td>Litecoin</td>\n",
       "    </tr>\n",
       "    <tr>\n",
       "      <th>6</th>\n",
       "      <td>X11</td>\n",
       "      <td>PoW/PoS</td>\n",
       "      <td>9.031294e+06</td>\n",
       "      <td>22000000</td>\n",
       "      <td>-0.416059</td>\n",
       "      <td>1.289614</td>\n",
       "      <td>-0.420738</td>\n",
       "      <td>1</td>\n",
       "      <td>Dash</td>\n",
       "    </tr>\n",
       "    <tr>\n",
       "      <th>7</th>\n",
       "      <td>CryptoNight-V7</td>\n",
       "      <td>PoW</td>\n",
       "      <td>1.720114e+07</td>\n",
       "      <td>0</td>\n",
       "      <td>-0.137614</td>\n",
       "      <td>-2.234570</td>\n",
       "      <td>0.330616</td>\n",
       "      <td>0</td>\n",
       "      <td>Monero</td>\n",
       "    </tr>\n",
       "    <tr>\n",
       "      <th>8</th>\n",
       "      <td>Ethash</td>\n",
       "      <td>PoW</td>\n",
       "      <td>1.133597e+08</td>\n",
       "      <td>210000000</td>\n",
       "      <td>-0.145505</td>\n",
       "      <td>-2.047577</td>\n",
       "      <td>0.321359</td>\n",
       "      <td>0</td>\n",
       "      <td>Ethereum Classic</td>\n",
       "    </tr>\n",
       "    <tr>\n",
       "      <th>9</th>\n",
       "      <td>Equihash</td>\n",
       "      <td>PoW</td>\n",
       "      <td>7.383056e+06</td>\n",
       "      <td>21000000</td>\n",
       "      <td>-0.165043</td>\n",
       "      <td>-2.130460</td>\n",
       "      <td>0.401746</td>\n",
       "      <td>0</td>\n",
       "      <td>ZCash</td>\n",
       "    </tr>\n",
       "  </tbody>\n",
       "</table>\n",
       "</div>"
      ],
      "text/plain": [
       "        Algorithm ProofType  TotalCoinsMined TotalCoinSupply      PC 1  \\\n",
       "0          Scrypt   PoW/PoS     4.199995e+01              42 -0.342042   \n",
       "1          Scrypt   PoW/PoS     1.055185e+09       532000000 -0.325402   \n",
       "2             X13   PoW/PoS     2.927942e+10    314159265359  2.292231   \n",
       "3         SHA-256       PoW     1.792718e+07        21000000 -0.136983   \n",
       "4          Ethash       PoW     1.076842e+08               0 -0.147062   \n",
       "5          Scrypt       PoW     6.303924e+07        84000000 -0.166300   \n",
       "6             X11   PoW/PoS     9.031294e+06        22000000 -0.416059   \n",
       "7  CryptoNight-V7       PoW     1.720114e+07               0 -0.137614   \n",
       "8          Ethash       PoW     1.133597e+08       210000000 -0.145505   \n",
       "9        Equihash       PoW     7.383056e+06        21000000 -0.165043   \n",
       "\n",
       "       PC 2      PC 3  class          CoinName  \n",
       "0  1.007367 -0.463341      1           42 Coin  \n",
       "1  1.007515 -0.463600      1           404Coin  \n",
       "2  1.704657 -0.563259      1         EliteCoin  \n",
       "3 -1.270289  0.122157      0           Bitcoin  \n",
       "4 -2.047476  0.321360      0          Ethereum  \n",
       "5 -1.153541  0.008168      0          Litecoin  \n",
       "6  1.289614 -0.420738      1              Dash  \n",
       "7 -2.234570  0.330616      0            Monero  \n",
       "8 -2.047577  0.321359      0  Ethereum Classic  \n",
       "9 -2.130460  0.401746      0             ZCash  "
      ]
     },
     "execution_count": 189,
     "metadata": {},
     "output_type": "execute_result"
    }
   ],
   "source": [
    "# Print the shape of the clustered_df\n",
    "print(clustered_df.shape)\n",
    "clustered_df.head(10)"
   ]
  },
  {
   "cell_type": "markdown",
   "metadata": {},
   "source": [
    "### Deliverable 4: Visualizing Cryptocurrencies Results\n",
    "\n",
    "#### 3D-Scatter with Clusters"
   ]
  },
  {
   "cell_type": "code",
   "execution_count": 190,
   "metadata": {},
   "outputs": [
    {
     "data": {},
     "metadata": {},
     "output_type": "display_data"
    },
    {
     "data": {
      "application/vnd.holoviews_exec.v0+json": "",
      "text/html": [
       "<div id='2588'>\n",
       "\n",
       "\n",
       "\n",
       "\n",
       "\n",
       "  <div class=\"bk-root\" id=\"baf9db3b-0724-48d5-9be1-df80bc49c601\" data-root-id=\"2588\"></div>\n",
       "</div>\n",
       "<script type=\"application/javascript\">(function(root) {\n",
       "  function embed_document(root) {\n",
       "    var docs_json = {\"97f3bb73-ca66-4573-89ff-3f12996ae4c5\":{\"roots\":{\"references\":[{\"attributes\":{\"data_source\":{\"id\":\"2648\"},\"glyph\":{\"id\":\"2651\"},\"hover_glyph\":null,\"muted_glyph\":{\"id\":\"2653\"},\"nonselection_glyph\":{\"id\":\"2652\"},\"selection_glyph\":null,\"view\":{\"id\":\"2655\"}},\"id\":\"2654\",\"type\":\"GlyphRenderer\"},{\"attributes\":{\"fill_alpha\":{\"value\":0.1},\"fill_color\":{\"value\":\"#30a2da\"},\"line_alpha\":{\"value\":0.1},\"line_color\":{\"value\":\"#30a2da\"},\"size\":{\"units\":\"screen\",\"value\":5.477225575051661},\"x\":{\"field\":\"PC 1\"},\"y\":{\"field\":\"PC 2\"}},\"id\":\"2634\",\"type\":\"Scatter\"},{\"attributes\":{\"source\":{\"id\":\"2630\"}},\"id\":\"2637\",\"type\":\"CDSView\"},{\"attributes\":{},\"id\":\"2606\",\"type\":\"BasicTicker\"},{\"attributes\":{\"data\":{\"PC 1\":{\"__ndarray__\":\"0+lidAPk1b+Q9/+ZYdPUv9ooP1F9VgJAv4iBF7Sg2r9jVG8xiVjYvwn9NaeI8NO/Xd5ZRoysz7+NIp6cZzvQvxrbO1Nx3tW/3RHI3gZl1b82zr6Ba8vVvwnxp2vy49W/E5r+k7Dj1b+rjSNo79vlP3Z8i7T7DNq/p1etOyU21L/ZgEZeqI/Sv3mSBlU+xNW/xJ/b9mQ81b/6uqUb+57av1PCoWhjK96/HEaL1rC0kr9qMBxw/ZfRvwu7/L+txdG/010lHP6P0r+p6xTAK5rSv8jufXmQite/WmC5h8GG1b/GrLxH28nVvxQ3aiRb0o8/kX2SnrSB1r9ZvSLZD6Xav3t2xv5Cu8y/Y7IyYHnJ0r9rj22AnaPav4Dy51unTtS/9SD+k13O1b9KS6B4Y43Rv6l6S+EIo9q/1yJk35bKzL8YZAERlpbSv7kQ4/pZUtW/lrL5MSX0rD9PcJ68WC3Qv4OWsBGi49O/j+k2goUD2r8IlI6YW8XRvyqnbxFnm9K/fwSXRtht0b+mtdJcuOPVv6BlvuWemtK/Ax3u3vqI1r/K2fFjX9/VvwvzDX/CpNq/KM5SgO344L+cQBPZlSLav7Vfb62QUtC/eftJfzKr0b/i0gxgypLSv6LfxTSndtO/X8H8/2Fj0L/0eqP79w+2vxnzSdkO8NO/8fbJopAVuL+RoOPyGfHTvylaj9q6t86/+6qa6Vbd1b/xFxVACqnRv1bOrrJndtq/R5Z7Cyz76z9Fx/S60+3TvwoUIj2796e/zBdJPPYw1L9XEzEtd4Hav+g9tjxA2dO/JPGJ2BGz078q9Co1Ex3XvwNzv2oNkNq/uhZWVqkD1b9JRmrQWFnUv9yrjmH23dW/XueBlmvE1b/cYrU8hdfMv5xBcYpFvNW/WhGKxSWc2r/EdDxz8NDVv1eEBtnJ8NO/b45xI5Wk2r+sg8tHD+HVv+U+Xzag49W/Gystn+Wo0b9dDqwfE9DNv8r7GiZ/yY8/fdhZDuUf1L/T6VxoUN3Vv2QsloUJwtm/QHciqeoU1L/YNSC4XwbNv3GJNQ2dVdq/PmDIAscQ1L8+bUh6XBzTv8Y4COhcEQ5ASC3c9umd2r9OqPzp5t7qP+nyOknYo9q/e2fc33sn1L9zZTbOH9zVv/a3j/il3tW/zBdJPPYw1L8U6q9T4pzav8QSqMqK7tO/OV8MECPc1b+ru3nhZr7cv/V/4XOM3tW/wl9KnUyW1b/I+wOrUaTav5U112qf0dW/yRJkyCtZ1z9YCA5xz+HVv6XUBEj34tW/JSwkkQbK1L/UIra78NTVv4kjvEMupdW/Cf8mE2fw0786jIZu2KLav3GszElU39W/p+El32fh1b9fMK9X0sPRvzyzXmvAWtG/HXhsocb+zL/TPcXBFKjUv+NY2+uWv9G/9+Hxs9KW2r8zwjJs73bcv+PKsQcvgtq/tLRabEQU1L/nJwkTJ5XavwxdCZyfuNO/ZpLAXLRS2r8lqOlkeuDVv9sSl8R24NW/GBuGptNv1b8AW8e2ezzSP8Byhrb8nNq/v3h1pKKn0L93sIiIhTHUvw1i1lGO09W/36GHthkS7D+86e79p4HPv7Bj90yr79S/wYDTlYBX4j92/T6eNDbXv9jKa+CwHde/lM1185+i27+iRU2Gd5XSv0VUuXCrX78/SSBeQKCW0r/vRPj6GZfUv5EQR4yGmtu/OsF1WXKh2r8GsJ9FCsXRv+MgGauLDBJAaHKehlQv1L8fjezWgdrVvxn/ecSv4tW/HxVJ28wO3L+z1pQtY2rkP7twgP95oNq/8DNfH7Y417+Gp92H9eHVv+YDIB9xEtS/Kw66y5FG2z+p5So1V9XTv2Y1WKjePNa/rLAzXEkp2b/sbm1lJeHVv3uhkKm8ydi/RE0SEGxG1b/A+HLcBt/VvynGj/jr+rK/O01TQbaM2r8keIVYTBsOQLzQuS2zG8k/wedFpCRg0r8mxtz+dLXVv+M2s7YcGdO/NVPnmijI1L/6iH1aeneyP9sJu/vq0NW/RKR+5DqW2r/ZATCVe7rUv3fbtAxsBdW/B91UdAzj1b8K1pxJhYjWv4gR8zFGCNW/6Cjk/6SZ0L91Pqr7JZrVv1k8m5Aq8su/I11QFv6F2L+WOS1NCavfv17ZSxO6odq/8wLeHVVPxr85zhYiSbfRvzshuezbMtS/mOff56Mv1794LUUKf+PVvzkfKmMy49W/Y6GLLVRb0b9vbyvJ68TUv/3skmOxKNS/OweHa47e1b9JfgH0SJMPQCMrYrzys9i/uctvvMcr1L8QZSXU8bvSv84DbMjOeNK/CGmuVFb1ir9DTklvCcDRv7a4zmkBm8K/MdQxaSjE0b9zIR0kuUnXvyQ1MBjy1dW/rHpiWdV+yL87EtSQrMsBQJFlF5/egdS/gX0eGdyFz79FHMDMOdPwP86g8WVPyta/f9dmAwTK1L/k2lGaT+XYv/aJzsISRsS/uCC6/Xwq2L88c6JDD7XUvxkfBsXYbtW/fTD2gZqB1r/eLOnCG5nav59nsGASl9G/MV4izQkd1L8+D7HJmlXWv+OzspBUf9a/on0ZOj/Nyb+Y6GpcHwvlv3tgsKcp1N2/x4baaVM5vL94CNv4ukbvPw/1nP0FOcK/IbEiJ8TZ2L+d20xZn97Vv/mMzlw74di/2oUkH+7L1L/9h9fv1AviP4Mw7choida/Ahjy9CfW1b92eBZw1JnFvyk44gtoZNS/IwdLYDlx2r+S6HwA1JzavzZNH3BWNA5AEkyFE8DBtz8oBWK7lXTavw01rdkWzNW/LkFzW5rZ1b8L99kEna3Pv2WPpbgW4tW//5ErxNAT2r8D6pVUG13Qv+n81mJ0cLe/FhrJHzTO2b9trmIOSNbVv1TZByXHZNW/V2QGp6xk2r+Cg4cyu7zVv5D8Rdl4NdS/YhfJA0c23L/tbieEO9jTv+wggSUqEg5AqNcoCZHJtb/uqglE047Vv3/e2d5vhNe/kfB+Yyid0r+QagILVyYOQKMHME3iKA5A/H3JM2E8zb88pdClB0LRv3Cg2ElsNNS/mwhjCwky0r+ONpH9qvcDQOMzlQUCxNW/A1Z2FabK0b8=\",\"dtype\":\"float64\",\"order\":\"little\",\"shape\":[289]},\"PC 2\":{\"__ndarray__\":\"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\",\"dtype\":\"float64\",\"order\":\"little\",\"shape\":[289]},\"PC_1\":{\"__ndarray__\":\"0+lidAPk1b+Q9/+ZYdPUv9ooP1F9VgJAv4iBF7Sg2r9jVG8xiVjYvwn9NaeI8NO/Xd5ZRoysz7+NIp6cZzvQvxrbO1Nx3tW/3RHI3gZl1b82zr6Ba8vVvwnxp2vy49W/E5r+k7Dj1b+rjSNo79vlP3Z8i7T7DNq/p1etOyU21L/ZgEZeqI/Sv3mSBlU+xNW/xJ/b9mQ81b/6uqUb+57av1PCoWhjK96/HEaL1rC0kr9qMBxw/ZfRvwu7/L+txdG/010lHP6P0r+p6xTAK5rSv8jufXmQite/WmC5h8GG1b/GrLxH28nVvxQ3aiRb0o8/kX2SnrSB1r9ZvSLZD6Xav3t2xv5Cu8y/Y7IyYHnJ0r9rj22AnaPav4Dy51unTtS/9SD+k13O1b9KS6B4Y43Rv6l6S+EIo9q/1yJk35bKzL8YZAERlpbSv7kQ4/pZUtW/lrL5MSX0rD9PcJ68WC3Qv4OWsBGi49O/j+k2goUD2r8IlI6YW8XRvyqnbxFnm9K/fwSXRtht0b+mtdJcuOPVv6BlvuWemtK/Ax3u3vqI1r/K2fFjX9/VvwvzDX/CpNq/KM5SgO344L+cQBPZlSLav7Vfb62QUtC/eftJfzKr0b/i0gxgypLSv6LfxTSndtO/X8H8/2Fj0L/0eqP79w+2vxnzSdkO8NO/8fbJopAVuL+RoOPyGfHTvylaj9q6t86/+6qa6Vbd1b/xFxVACqnRv1bOrrJndtq/R5Z7Cyz76z9Fx/S60+3TvwoUIj2796e/zBdJPPYw1L9XEzEtd4Hav+g9tjxA2dO/JPGJ2BGz078q9Co1Ex3XvwNzv2oNkNq/uhZWVqkD1b9JRmrQWFnUv9yrjmH23dW/XueBlmvE1b/cYrU8hdfMv5xBcYpFvNW/WhGKxSWc2r/EdDxz8NDVv1eEBtnJ8NO/b45xI5Wk2r+sg8tHD+HVv+U+Xzag49W/Gystn+Wo0b9dDqwfE9DNv8r7GiZ/yY8/fdhZDuUf1L/T6VxoUN3Vv2QsloUJwtm/QHciqeoU1L/YNSC4XwbNv3GJNQ2dVdq/PmDIAscQ1L8+bUh6XBzTv8Y4COhcEQ5ASC3c9umd2r9OqPzp5t7qP+nyOknYo9q/e2fc33sn1L9zZTbOH9zVv/a3j/il3tW/zBdJPPYw1L8U6q9T4pzav8QSqMqK7tO/OV8MECPc1b+ru3nhZr7cv/V/4XOM3tW/wl9KnUyW1b/I+wOrUaTav5U112qf0dW/yRJkyCtZ1z9YCA5xz+HVv6XUBEj34tW/JSwkkQbK1L/UIra78NTVv4kjvEMupdW/Cf8mE2fw0786jIZu2KLav3GszElU39W/p+El32fh1b9fMK9X0sPRvzyzXmvAWtG/HXhsocb+zL/TPcXBFKjUv+NY2+uWv9G/9+Hxs9KW2r8zwjJs73bcv+PKsQcvgtq/tLRabEQU1L/nJwkTJ5XavwxdCZyfuNO/ZpLAXLRS2r8lqOlkeuDVv9sSl8R24NW/GBuGptNv1b8AW8e2ezzSP8Byhrb8nNq/v3h1pKKn0L93sIiIhTHUvw1i1lGO09W/36GHthkS7D+86e79p4HPv7Bj90yr79S/wYDTlYBX4j92/T6eNDbXv9jKa+CwHde/lM1185+i27+iRU2Gd5XSv0VUuXCrX78/SSBeQKCW0r/vRPj6GZfUv5EQR4yGmtu/OsF1WXKh2r8GsJ9FCsXRv+MgGauLDBJAaHKehlQv1L8fjezWgdrVvxn/ecSv4tW/HxVJ28wO3L+z1pQtY2rkP7twgP95oNq/8DNfH7Y417+Gp92H9eHVv+YDIB9xEtS/Kw66y5FG2z+p5So1V9XTv2Y1WKjePNa/rLAzXEkp2b/sbm1lJeHVv3uhkKm8ydi/RE0SEGxG1b/A+HLcBt/VvynGj/jr+rK/O01TQbaM2r8keIVYTBsOQLzQuS2zG8k/wedFpCRg0r8mxtz+dLXVv+M2s7YcGdO/NVPnmijI1L/6iH1aeneyP9sJu/vq0NW/RKR+5DqW2r/ZATCVe7rUv3fbtAxsBdW/B91UdAzj1b8K1pxJhYjWv4gR8zFGCNW/6Cjk/6SZ0L91Pqr7JZrVv1k8m5Aq8su/I11QFv6F2L+WOS1NCavfv17ZSxO6odq/8wLeHVVPxr85zhYiSbfRvzshuezbMtS/mOff56Mv1794LUUKf+PVvzkfKmMy49W/Y6GLLVRb0b9vbyvJ68TUv/3skmOxKNS/OweHa47e1b9JfgH0SJMPQCMrYrzys9i/uctvvMcr1L8QZSXU8bvSv84DbMjOeNK/CGmuVFb1ir9DTklvCcDRv7a4zmkBm8K/MdQxaSjE0b9zIR0kuUnXvyQ1MBjy1dW/rHpiWdV+yL87EtSQrMsBQJFlF5/egdS/gX0eGdyFz79FHMDMOdPwP86g8WVPyta/f9dmAwTK1L/k2lGaT+XYv/aJzsISRsS/uCC6/Xwq2L88c6JDD7XUvxkfBsXYbtW/fTD2gZqB1r/eLOnCG5nav59nsGASl9G/MV4izQkd1L8+D7HJmlXWv+OzspBUf9a/on0ZOj/Nyb+Y6GpcHwvlv3tgsKcp1N2/x4baaVM5vL94CNv4ukbvPw/1nP0FOcK/IbEiJ8TZ2L+d20xZn97Vv/mMzlw74di/2oUkH+7L1L/9h9fv1AviP4Mw7choida/Ahjy9CfW1b92eBZw1JnFvyk44gtoZNS/IwdLYDlx2r+S6HwA1JzavzZNH3BWNA5AEkyFE8DBtz8oBWK7lXTavw01rdkWzNW/LkFzW5rZ1b8L99kEna3Pv2WPpbgW4tW//5ErxNAT2r8D6pVUG13Qv+n81mJ0cLe/FhrJHzTO2b9trmIOSNbVv1TZByXHZNW/V2QGp6xk2r+Cg4cyu7zVv5D8Rdl4NdS/YhfJA0c23L/tbieEO9jTv+wggSUqEg5AqNcoCZHJtb/uqglE047Vv3/e2d5vhNe/kfB+Yyid0r+QagILVyYOQKMHME3iKA5A/H3JM2E8zb88pdClB0LRv3Cg2ElsNNS/mwhjCwky0r+ONpH9qvcDQOMzlQUCxNW/A1Z2FabK0b8=\",\"dtype\":\"float64\",\"order\":\"little\",\"shape\":[289]},\"PC_2\":{\"__ndarray__\":\"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\",\"dtype\":\"float64\",\"order\":\"little\",\"shape\":[289]},\"class\":{\"__ndarray__\":\"AQAAAAEAAAABAAAAAQAAAAEAAAABAAAAAQAAAAEAAAABAAAAAQAAAAEAAAABAAAAAQAAAAEAAAABAAAAAQAAAAEAAAABAAAAAQAAAAEAAAABAAAAAQAAAAEAAAABAAAAAQAAAAEAAAABAAAAAQAAAAEAAAABAAAAAQAAAAEAAAABAAAAAQAAAAEAAAABAAAAAQAAAAEAAAABAAAAAQAAAAEAAAABAAAAAQAAAAEAAAABAAAAAQAAAAEAAAABAAAAAQAAAAEAAAABAAAAAQAAAAEAAAABAAAAAQAAAAEAAAABAAAAAQAAAAEAAAABAAAAAQAAAAEAAAABAAAAAQAAAAEAAAABAAAAAQAAAAEAAAABAAAAAQAAAAEAAAABAAAAAQAAAAEAAAABAAAAAQAAAAEAAAABAAAAAQAAAAEAAAABAAAAAQAAAAEAAAABAAAAAQAAAAEAAAABAAAAAQAAAAEAAAABAAAAAQAAAAEAAAABAAAAAQAAAAEAAAABAAAAAQAAAAEAAAABAAAAAQAAAAEAAAABAAAAAQAAAAEAAAABAAAAAQAAAAEAAAABAAAAAQAAAAEAAAABAAAAAQAAAAEAAAABAAAAAQAAAAEAAAABAAAAAQAAAAEAAAABAAAAAQAAAAEAAAABAAAAAQAAAAEAAAABAAAAAQAAAAEAAAABAAAAAQAAAAEAAAABAAAAAQAAAAEAAAABAAAAAQAAAAEAAAABAAAAAQAAAAEAAAABAAAAAQAAAAEAAAABAAAAAQAAAAEAAAABAAAAAQAAAAEAAAABAAAAAQAAAAEAAAABAAAAAQAAAAEAAAABAAAAAQAAAAEAAAABAAAAAQAAAAEAAAABAAAAAQAAAAEAAAABAAAAAQAAAAEAAAABAAAAAQAAAAEAAAABAAAAAQAAAAEAAAABAAAAAQAAAAEAAAABAAAAAQAAAAEAAAABAAAAAQAAAAEAAAABAAAAAQAAAAEAAAABAAAAAQAAAAEAAAABAAAAAQAAAAEAAAABAAAAAQAAAAEAAAABAAAAAQAAAAEAAAABAAAAAQAAAAEAAAABAAAAAQAAAAEAAAABAAAAAQAAAAEAAAABAAAAAQAAAAEAAAABAAAAAQAAAAEAAAABAAAAAQAAAAEAAAABAAAAAQAAAAEAAAABAAAAAQAAAAEAAAABAAAAAQAAAAEAAAABAAAAAQAAAAEAAAABAAAAAQAAAAEAAAABAAAAAQAAAAEAAAABAAAAAQAAAAEAAAABAAAAAQAAAAEAAAABAAAAAQAAAAEAAAABAAAAAQAAAAEAAAABAAAAAQAAAAEAAAABAAAAAQAAAAEAAAABAAAAAQAAAAEAAAABAAAAAQAAAAEAAAABAAAAAQAAAAEAAAABAAAAAQAAAAEAAAABAAAAAQAAAAEAAAABAAAAAQAAAAEAAAABAAAAAQAAAAEAAAABAAAAAQAAAAEAAAABAAAAAQAAAAEAAAABAAAAAQAAAAEAAAABAAAAAQAAAAEAAAABAAAAAQAAAAEAAAABAAAAAQAAAA==\",\"dtype\":\"int32\",\"order\":\"little\",\"shape\":[289]}},\"selected\":{\"id\":\"2649\"},\"selection_policy\":{\"id\":\"2665\"}},\"id\":\"2648\",\"type\":\"ColumnDataSource\"},{\"attributes\":{\"label\":{\"value\":\"1\"},\"renderers\":[{\"id\":\"2654\"}]},\"id\":\"2666\",\"type\":\"LegendItem\"},{\"attributes\":{},\"id\":\"2665\",\"type\":\"UnionRenderers\"},{\"attributes\":{\"text\":\"\",\"text_color\":{\"value\":\"black\"},\"text_font_size\":{\"value\":\"12pt\"}},\"id\":\"2597\",\"type\":\"Title\"},{\"attributes\":{\"callback\":null,\"renderers\":[{\"id\":\"2636\"},{\"id\":\"2654\"},{\"id\":\"2673\"},{\"id\":\"2694\"}],\"tags\":[\"hv_created\"],\"tooltips\":[[\"class\",\"@{class}\"],[\"PC 1\",\"@{PC_1}\"],[\"PC 2\",\"@{PC_2}\"]]},\"id\":\"2592\",\"type\":\"HoverTool\"},{\"attributes\":{\"data_source\":{\"id\":\"2688\"},\"glyph\":{\"id\":\"2691\"},\"hover_glyph\":null,\"muted_glyph\":{\"id\":\"2693\"},\"nonselection_glyph\":{\"id\":\"2692\"},\"selection_glyph\":null,\"view\":{\"id\":\"2695\"}},\"id\":\"2694\",\"type\":\"GlyphRenderer\"},{\"attributes\":{\"source\":{\"id\":\"2648\"}},\"id\":\"2655\",\"type\":\"CDSView\"},{\"attributes\":{},\"id\":\"2603\",\"type\":\"LinearScale\"},{\"attributes\":{},\"id\":\"2649\",\"type\":\"Selection\"},{\"attributes\":{\"fill_alpha\":{\"value\":0.2},\"fill_color\":{\"value\":\"#e5ae38\"},\"line_alpha\":{\"value\":0.2},\"line_color\":{\"value\":\"#e5ae38\"},\"size\":{\"units\":\"screen\",\"value\":5.477225575051661},\"x\":{\"field\":\"PC 1\"},\"y\":{\"field\":\"PC 2\"}},\"id\":\"2672\",\"type\":\"Scatter\"},{\"attributes\":{\"fill_alpha\":{\"value\":0.2},\"fill_color\":{\"value\":\"#6d904f\"},\"line_alpha\":{\"value\":0.2},\"line_color\":{\"value\":\"#6d904f\"},\"size\":{\"units\":\"screen\",\"value\":5.477225575051661},\"x\":{\"field\":\"PC 1\"},\"y\":{\"field\":\"PC 2\"}},\"id\":\"2693\",\"type\":\"Scatter\"},{\"attributes\":{\"axis\":{\"id\":\"2605\"},\"grid_line_color\":null,\"ticker\":null},\"id\":\"2608\",\"type\":\"Grid\"},{\"attributes\":{\"source\":{\"id\":\"2667\"}},\"id\":\"2674\",\"type\":\"CDSView\"},{\"attributes\":{\"label\":{\"value\":\"3\"},\"renderers\":[{\"id\":\"2694\"}]},\"id\":\"2710\",\"type\":\"LegendItem\"},{\"attributes\":{\"data_source\":{\"id\":\"2667\"},\"glyph\":{\"id\":\"2670\"},\"hover_glyph\":null,\"muted_glyph\":{\"id\":\"2672\"},\"nonselection_glyph\":{\"id\":\"2671\"},\"selection_glyph\":null,\"view\":{\"id\":\"2674\"}},\"id\":\"2673\",\"type\":\"GlyphRenderer\"},{\"attributes\":{},\"id\":\"2626\",\"type\":\"BasicTickFormatter\"},{\"attributes\":{\"data\":{\"PC 1\":{\"__ndarray__\":\"vuCqbk2BzL+IeVTLphfWv8F9QOhrNeC/\",\"dtype\":\"float64\",\"order\":\"little\",\"shape\":[3]},\"PC 2\":{\"__ndarray__\":\"YhNUjrDCC0AepGaedpEBQD0ohhNYIQlA\",\"dtype\":\"float64\",\"order\":\"little\",\"shape\":[3]},\"PC_1\":{\"__ndarray__\":\"vuCqbk2BzL+IeVTLphfWv8F9QOhrNeC/\",\"dtype\":\"float64\",\"order\":\"little\",\"shape\":[3]},\"PC_2\":{\"__ndarray__\":\"YhNUjrDCC0AepGaedpEBQD0ohhNYIQlA\",\"dtype\":\"float64\",\"order\":\"little\",\"shape\":[3]},\"class\":{\"__ndarray__\":\"AwAAAAMAAAADAAAA\",\"dtype\":\"int32\",\"order\":\"little\",\"shape\":[3]}},\"selected\":{\"id\":\"2689\"},\"selection_policy\":{\"id\":\"2709\"}},\"id\":\"2688\",\"type\":\"ColumnDataSource\"},{\"attributes\":{},\"id\":\"2610\",\"type\":\"BasicTicker\"},{\"attributes\":{\"axis_label\":\"PC 2\",\"bounds\":\"auto\",\"formatter\":{\"id\":\"2628\"},\"major_label_orientation\":\"horizontal\",\"ticker\":{\"id\":\"2610\"}},\"id\":\"2609\",\"type\":\"LinearAxis\"},{\"attributes\":{\"source\":{\"id\":\"2688\"}},\"id\":\"2695\",\"type\":\"CDSView\"},{\"attributes\":{\"label\":{\"value\":\"0\"},\"renderers\":[{\"id\":\"2636\"}]},\"id\":\"2647\",\"type\":\"LegendItem\"},{\"attributes\":{},\"id\":\"2668\",\"type\":\"Selection\"},{\"attributes\":{\"data_source\":{\"id\":\"2630\"},\"glyph\":{\"id\":\"2633\"},\"hover_glyph\":null,\"muted_glyph\":{\"id\":\"2635\"},\"nonselection_glyph\":{\"id\":\"2634\"},\"selection_glyph\":null,\"view\":{\"id\":\"2637\"}},\"id\":\"2636\",\"type\":\"GlyphRenderer\"},{\"attributes\":{\"label\":{\"value\":\"2\"},\"renderers\":[{\"id\":\"2673\"}]},\"id\":\"2687\",\"type\":\"LegendItem\"},{\"attributes\":{},\"id\":\"2709\",\"type\":\"UnionRenderers\"},{\"attributes\":{\"fill_color\":{\"value\":\"#fc4f30\"},\"line_color\":{\"value\":\"#fc4f30\"},\"size\":{\"units\":\"screen\",\"value\":5.477225575051661},\"x\":{\"field\":\"PC 1\"},\"y\":{\"field\":\"PC 2\"}},\"id\":\"2651\",\"type\":\"Scatter\"},{\"attributes\":{},\"id\":\"2631\",\"type\":\"Selection\"},{\"attributes\":{},\"id\":\"2628\",\"type\":\"BasicTickFormatter\"},{\"attributes\":{\"bottom_units\":\"screen\",\"fill_alpha\":0.5,\"fill_color\":\"lightgrey\",\"left_units\":\"screen\",\"level\":\"overlay\",\"line_alpha\":1.0,\"line_color\":\"black\",\"line_dash\":[4,4],\"line_width\":2,\"right_units\":\"screen\",\"top_units\":\"screen\"},\"id\":\"2618\",\"type\":\"BoxAnnotation\"},{\"attributes\":{\"end\":4.976081055107322,\"reset_end\":4.976081055107322,\"reset_start\":-3.4487699222123536,\"start\":-3.4487699222123536,\"tags\":[[[\"PC 2\",\"PC 2\",null]]]},\"id\":\"2591\",\"type\":\"Range1d\"},{\"attributes\":{\"fill_color\":{\"value\":\"#30a2da\"},\"line_color\":{\"value\":\"#30a2da\"},\"size\":{\"units\":\"screen\",\"value\":5.477225575051661},\"x\":{\"field\":\"PC 1\"},\"y\":{\"field\":\"PC 2\"}},\"id\":\"2633\",\"type\":\"Scatter\"},{\"attributes\":{\"fill_alpha\":{\"value\":0.2},\"fill_color\":{\"value\":\"#fc4f30\"},\"line_alpha\":{\"value\":0.2},\"line_color\":{\"value\":\"#fc4f30\"},\"size\":{\"units\":\"screen\",\"value\":5.477225575051661},\"x\":{\"field\":\"PC 1\"},\"y\":{\"field\":\"PC 2\"}},\"id\":\"2653\",\"type\":\"Scatter\"},{\"attributes\":{\"fill_alpha\":{\"value\":0.1},\"fill_color\":{\"value\":\"#e5ae38\"},\"line_alpha\":{\"value\":0.1},\"line_color\":{\"value\":\"#e5ae38\"},\"size\":{\"units\":\"screen\",\"value\":5.477225575051661},\"x\":{\"field\":\"PC 1\"},\"y\":{\"field\":\"PC 2\"}},\"id\":\"2671\",\"type\":\"Scatter\"},{\"attributes\":{\"fill_alpha\":{\"value\":0.1},\"fill_color\":{\"value\":\"#6d904f\"},\"line_alpha\":{\"value\":0.1},\"line_color\":{\"value\":\"#6d904f\"},\"size\":{\"units\":\"screen\",\"value\":5.477225575051661},\"x\":{\"field\":\"PC 1\"},\"y\":{\"field\":\"PC 2\"}},\"id\":\"2692\",\"type\":\"Scatter\"},{\"attributes\":{},\"id\":\"2613\",\"type\":\"SaveTool\"},{\"attributes\":{\"fill_color\":{\"value\":\"#e5ae38\"},\"line_color\":{\"value\":\"#e5ae38\"},\"size\":{\"units\":\"screen\",\"value\":5.477225575051661},\"x\":{\"field\":\"PC 1\"},\"y\":{\"field\":\"PC 2\"}},\"id\":\"2670\",\"type\":\"Scatter\"},{\"attributes\":{},\"id\":\"2614\",\"type\":\"PanTool\"},{\"attributes\":{\"data\":{\"PC 1\":{\"__ndarray__\":\"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\",\"dtype\":\"float64\",\"order\":\"little\",\"shape\":[240]},\"PC 2\":{\"__ndarray__\":\"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\",\"dtype\":\"float64\",\"order\":\"little\",\"shape\":[240]},\"PC_1\":{\"__ndarray__\":\"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\",\"dtype\":\"float64\",\"order\":\"little\",\"shape\":[240]},\"PC_2\":{\"__ndarray__\":\"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\",\"dtype\":\"float64\",\"order\":\"little\",\"shape\":[240]},\"class\":{\"__ndarray__\":\"AAAAAAAAAAAAAAAAAAAAAAAAAAAAAAAAAAAAAAAAAAAAAAAAAAAAAAAAAAAAAAAAAAAAAAAAAAAAAAAAAAAAAAAAAAAAAAAAAAAAAAAAAAAAAAAAAAAAAAAAAAAAAAAAAAAAAAAAAAAAAAAAAAAAAAAAAAAAAAAAAAAAAAAAAAAAAAAAAAAAAAAAAAAAAAAAAAAAAAAAAAAAAAAAAAAAAAAAAAAAAAAAAAAAAAAAAAAAAAAAAAAAAAAAAAAAAAAAAAAAAAAAAAAAAAAAAAAAAAAAAAAAAAAAAAAAAAAAAAAAAAAAAAAAAAAAAAAAAAAAAAAAAAAAAAAAAAAAAAAAAAAAAAAAAAAAAAAAAAAAAAAAAAAAAAAAAAAAAAAAAAAAAAAAAAAAAAAAAAAAAAAAAAAAAAAAAAAAAAAAAAAAAAAAAAAAAAAAAAAAAAAAAAAAAAAAAAAAAAAAAAAAAAAAAAAAAAAAAAAAAAAAAAAAAAAAAAAAAAAAAAAAAAAAAAAAAAAAAAAAAAAAAAAAAAAAAAAAAAAAAAAAAAAAAAAAAAAAAAAAAAAAAAAAAAAAAAAAAAAAAAAAAAAAAAAAAAAAAAAAAAAAAAAAAAAAAAAAAAAAAAAAAAAAAAAAAAAAAAAAAAAAAAAAAAAAAAAAAAAAAAAAAAAAAAAAAAAAAAAAAAAAAAAAAAAAAAAAAAAAAAAAAAAAAAAAAAAAAAAAAAAAAAAAAAAAAAAAAAAAAAAAAAAAAAAAAAAAAAAAAAAAAAAAAAAAAAAAAAAAAAAAAAAAAAAAAAAAAAAAAAAAAAAAAAAAAAAAAAAAAAAAAAAAAAAAAAAAAAAAAAAAAAAAAAAAAAAAAAAAAAAAAAAAAAAAAAAAAAAAAAAAAAAAAAAAAAAAAAAAAAAAAAAAAAAAAAAAAAAAAAAAAAAAAAAAAAAAAAAAAAAAAAAAAAAAAAAAAAAAAAAAAAAAAAAAAAAAAAAAAAAAAAAAAAAAAAAAAAAAAAAAAAAAAAAAAAAAAAAAAAAAAAAAAAAAAAAAAAAAAAAAAAAAAAAAAAAAAAAAAAAAAAAAAAAAAAAAAAAAAAAAAAAAAAAAAAAAAAAAAAAAAAAAAAAAAAAAAAAAAAAAAAAAAAAAAAAAAAAAAAAAAAAAAAAAAAAAAAAAAAAAAAAAAAAAAAAAAAAAAAAAAAAAAAAAAAAAAAAAAAAAAAAAAAAAAAAAAAAAAAAAAAAAAAAAAAAAAAAAAAAAAAAAAAAAAAAAAAAAAAAAAAAAAAAAAAAAAAAA\",\"dtype\":\"int32\",\"order\":\"little\",\"shape\":[240]}},\"selected\":{\"id\":\"2631\"},\"selection_policy\":{\"id\":\"2645\"}},\"id\":\"2630\",\"type\":\"ColumnDataSource\"},{\"attributes\":{},\"id\":\"2686\",\"type\":\"UnionRenderers\"},{\"attributes\":{\"end\":35.52134662260612,\"reset_end\":35.52134662260612,\"reset_start\":-2.1444140706869246,\"start\":-2.1444140706869246,\"tags\":[[[\"PC 1\",\"PC 1\",null]]]},\"id\":\"2590\",\"type\":\"Range1d\"},{\"attributes\":{\"fill_alpha\":{\"value\":0.2},\"fill_color\":{\"value\":\"#30a2da\"},\"line_alpha\":{\"value\":0.2},\"line_color\":{\"value\":\"#30a2da\"},\"size\":{\"units\":\"screen\",\"value\":5.477225575051661},\"x\":{\"field\":\"PC 1\"},\"y\":{\"field\":\"PC 2\"}},\"id\":\"2635\",\"type\":\"Scatter\"},{\"attributes\":{},\"id\":\"2645\",\"type\":\"UnionRenderers\"},{\"attributes\":{},\"id\":\"2601\",\"type\":\"LinearScale\"},{\"attributes\":{\"click_policy\":\"mute\",\"items\":[{\"id\":\"2647\"},{\"id\":\"2666\"},{\"id\":\"2687\"},{\"id\":\"2710\"}],\"location\":[0,0],\"title\":\"class\"},\"id\":\"2646\",\"type\":\"Legend\"},{\"attributes\":{\"children\":[{\"id\":\"2589\"},{\"id\":\"2596\"},{\"id\":\"2837\"}],\"margin\":[0,0,0,0],\"name\":\"Row05299\",\"tags\":[\"embedded\"]},\"id\":\"2588\",\"type\":\"Row\"},{\"attributes\":{},\"id\":\"2615\",\"type\":\"WheelZoomTool\"},{\"attributes\":{\"active_drag\":\"auto\",\"active_inspect\":\"auto\",\"active_multi\":null,\"active_scroll\":\"auto\",\"active_tap\":\"auto\",\"tools\":[{\"id\":\"2592\"},{\"id\":\"2613\"},{\"id\":\"2614\"},{\"id\":\"2615\"},{\"id\":\"2616\"},{\"id\":\"2617\"}]},\"id\":\"2619\",\"type\":\"Toolbar\"},{\"attributes\":{},\"id\":\"2689\",\"type\":\"Selection\"},{\"attributes\":{\"overlay\":{\"id\":\"2618\"}},\"id\":\"2616\",\"type\":\"BoxZoomTool\"},{\"attributes\":{\"data\":{\"PC 1\":{\"__ndarray__\":\"2lDd0GsEQUA=\",\"dtype\":\"float64\",\"order\":\"little\",\"shape\":[1]},\"PC 2\":{\"__ndarray__\":\"Yo8/RIEK/D8=\",\"dtype\":\"float64\",\"order\":\"little\",\"shape\":[1]},\"PC_1\":{\"__ndarray__\":\"2lDd0GsEQUA=\",\"dtype\":\"float64\",\"order\":\"little\",\"shape\":[1]},\"PC_2\":{\"__ndarray__\":\"Yo8/RIEK/D8=\",\"dtype\":\"float64\",\"order\":\"little\",\"shape\":[1]},\"class\":{\"__ndarray__\":\"AgAAAA==\",\"dtype\":\"int32\",\"order\":\"little\",\"shape\":[1]}},\"selected\":{\"id\":\"2668\"},\"selection_policy\":{\"id\":\"2686\"}},\"id\":\"2667\",\"type\":\"ColumnDataSource\"},{\"attributes\":{\"margin\":[5,5,5,5],\"name\":\"HSpacer05303\",\"sizing_mode\":\"stretch_width\"},\"id\":\"2589\",\"type\":\"Spacer\"},{\"attributes\":{\"fill_color\":{\"value\":\"#6d904f\"},\"line_color\":{\"value\":\"#6d904f\"},\"size\":{\"units\":\"screen\",\"value\":5.477225575051661},\"x\":{\"field\":\"PC 1\"},\"y\":{\"field\":\"PC 2\"}},\"id\":\"2691\",\"type\":\"Scatter\"},{\"attributes\":{\"below\":[{\"id\":\"2605\"}],\"center\":[{\"id\":\"2608\"},{\"id\":\"2612\"}],\"left\":[{\"id\":\"2609\"}],\"margin\":[5,5,5,5],\"min_border_bottom\":10,\"min_border_left\":10,\"min_border_right\":10,\"min_border_top\":10,\"plot_height\":300,\"plot_width\":700,\"renderers\":[{\"id\":\"2636\"},{\"id\":\"2654\"},{\"id\":\"2673\"},{\"id\":\"2694\"}],\"right\":[{\"id\":\"2646\"}],\"sizing_mode\":\"fixed\",\"title\":{\"id\":\"2597\"},\"toolbar\":{\"id\":\"2619\"},\"x_range\":{\"id\":\"2590\"},\"x_scale\":{\"id\":\"2601\"},\"y_range\":{\"id\":\"2591\"},\"y_scale\":{\"id\":\"2603\"}},\"id\":\"2596\",\"subtype\":\"Figure\",\"type\":\"Plot\"},{\"attributes\":{\"margin\":[5,5,5,5],\"name\":\"HSpacer05304\",\"sizing_mode\":\"stretch_width\"},\"id\":\"2837\",\"type\":\"Spacer\"},{\"attributes\":{},\"id\":\"2617\",\"type\":\"ResetTool\"},{\"attributes\":{\"fill_alpha\":{\"value\":0.1},\"fill_color\":{\"value\":\"#fc4f30\"},\"line_alpha\":{\"value\":0.1},\"line_color\":{\"value\":\"#fc4f30\"},\"size\":{\"units\":\"screen\",\"value\":5.477225575051661},\"x\":{\"field\":\"PC 1\"},\"y\":{\"field\":\"PC 2\"}},\"id\":\"2652\",\"type\":\"Scatter\"},{\"attributes\":{\"axis\":{\"id\":\"2609\"},\"dimension\":1,\"grid_line_color\":null,\"ticker\":null},\"id\":\"2612\",\"type\":\"Grid\"},{\"attributes\":{\"axis_label\":\"PC 1\",\"bounds\":\"auto\",\"formatter\":{\"id\":\"2626\"},\"major_label_orientation\":\"horizontal\",\"ticker\":{\"id\":\"2606\"}},\"id\":\"2605\",\"type\":\"LinearAxis\"}],\"root_ids\":[\"2588\"]},\"title\":\"Bokeh Application\",\"version\":\"2.2.3\"}};\n",
       "    var render_items = [{\"docid\":\"97f3bb73-ca66-4573-89ff-3f12996ae4c5\",\"root_ids\":[\"2588\"],\"roots\":{\"2588\":\"baf9db3b-0724-48d5-9be1-df80bc49c601\"}}];\n",
       "    root.Bokeh.embed.embed_items_notebook(docs_json, render_items);\n",
       "  }\n",
       "  if (root.Bokeh !== undefined && root.Bokeh.Panel !== undefined) {\n",
       "    embed_document(root);\n",
       "  } else {\n",
       "    var attempts = 0;\n",
       "    var timer = setInterval(function(root) {\n",
       "      if (root.Bokeh !== undefined && root.Bokeh.Panel !== undefined) {\n",
       "        clearInterval(timer);\n",
       "        embed_document(root);\n",
       "      } else if (document.readyState == \"complete\") {\n",
       "        attempts++;\n",
       "        if (attempts > 100) {\n",
       "          clearInterval(timer);\n",
       "          console.log(\"Bokeh: ERROR: Unable to run BokehJS code because BokehJS library is missing\");\n",
       "        }\n",
       "      }\n",
       "    }, 10, root)\n",
       "  }\n",
       "})(window);</script>"
      ],
      "text/plain": [
       ":NdOverlay   [class]\n",
       "   :Scatter   [PC 1]   (PC 2,class)"
      ]
     },
     "execution_count": 190,
     "metadata": {
      "application/vnd.holoviews_exec.v0+json": {
       "id": "2588"
      }
     },
     "output_type": "execute_result"
    }
   ],
   "source": [
    "# Creating a 3D-Scatter with the PCA data and the clusters\n",
    "clustered_df.hvplot.scatter(\n",
    "    x=\"PC 1\",\n",
    "    y=\"PC 2\",\n",
    "    hover_cols=[\"class\"],\n",
    "    by=\"class\",\n",
    ")\n"
   ]
  },
  {
   "cell_type": "code",
   "execution_count": 193,
   "metadata": {},
   "outputs": [
    {
     "data": {
      "application/vnd.plotly.v1+json": {
       "config": {
        "plotlyServerURL": "https://plot.ly"
       },
       "data": [
        {
         "customdata": [
          [
           "Scrypt"
          ],
          [
           "Scrypt"
          ],
          [
           "X13"
          ],
          [
           "X11"
          ],
          [
           "SHA-512"
          ],
          [
           "SHA-256"
          ],
          [
           "SHA-256"
          ],
          [
           "X15"
          ],
          [
           "Scrypt"
          ],
          [
           "Scrypt"
          ],
          [
           "Scrypt"
          ],
          [
           "Scrypt"
          ],
          [
           "Scrypt"
          ],
          [
           "Scrypt"
          ],
          [
           "Groestl"
          ],
          [
           "PoS"
          ],
          [
           "Scrypt"
          ],
          [
           "Scrypt"
          ],
          [
           "X11"
          ],
          [
           "X11"
          ],
          [
           "SHA3"
          ],
          [
           "Scrypt"
          ],
          [
           "SHA-256"
          ],
          [
           "Scrypt"
          ],
          [
           "X13"
          ],
          [
           "X13"
          ],
          [
           "NeoScrypt"
          ],
          [
           "Scrypt"
          ],
          [
           "Scrypt"
          ],
          [
           "Scrypt"
          ],
          [
           "X11"
          ],
          [
           "X11"
          ],
          [
           "Multiple"
          ],
          [
           "PHI1612"
          ],
          [
           "X11"
          ],
          [
           "Scrypt"
          ],
          [
           "Scrypt"
          ],
          [
           "Scrypt"
          ],
          [
           "X11"
          ],
          [
           "Multiple"
          ],
          [
           "X13"
          ],
          [
           "Scrypt"
          ],
          [
           "Shabal256"
          ],
          [
           "Counterparty"
          ],
          [
           "SHA-256"
          ],
          [
           "Groestl"
          ],
          [
           "Scrypt"
          ],
          [
           "X13"
          ],
          [
           "Scrypt"
          ],
          [
           "Scrypt"
          ],
          [
           "X13"
          ],
          [
           "X11"
          ],
          [
           "Scrypt"
          ],
          [
           "X11"
          ],
          [
           "SHA3"
          ],
          [
           "QUAIT"
          ],
          [
           "X11"
          ],
          [
           "Scrypt"
          ],
          [
           "X13"
          ],
          [
           "SHA-256"
          ],
          [
           "X15"
          ],
          [
           "BLAKE256"
          ],
          [
           "SHA-256"
          ],
          [
           "X11"
          ],
          [
           "SHA-256"
          ],
          [
           "NIST5"
          ],
          [
           "Scrypt"
          ],
          [
           "Scrypt"
          ],
          [
           "X11"
          ],
          [
           "Scrypt"
          ],
          [
           "SHA-256"
          ],
          [
           "Scrypt"
          ],
          [
           "PoS"
          ],
          [
           "X11"
          ],
          [
           "SHA-256"
          ],
          [
           "SHA-256"
          ],
          [
           "NIST5"
          ],
          [
           "X11"
          ],
          [
           "POS 3.0"
          ],
          [
           "Scrypt"
          ],
          [
           "Scrypt"
          ],
          [
           "Scrypt"
          ],
          [
           "X13"
          ],
          [
           "X11"
          ],
          [
           "X11"
          ],
          [
           "Scrypt"
          ],
          [
           "SHA-256"
          ],
          [
           "X11"
          ],
          [
           "Scrypt"
          ],
          [
           "Scrypt"
          ],
          [
           "Scrypt"
          ],
          [
           "Scrypt"
          ],
          [
           "SHA-256D"
          ],
          [
           "PoS"
          ],
          [
           "Scrypt"
          ],
          [
           "X11"
          ],
          [
           "PoS"
          ],
          [
           "X13"
          ],
          [
           "X14"
          ],
          [
           "PoS"
          ],
          [
           "SHA-256D"
          ],
          [
           "DPoS"
          ],
          [
           "X11"
          ],
          [
           "X13"
          ],
          [
           "X11"
          ],
          [
           "PoS"
          ],
          [
           "Scrypt"
          ],
          [
           "Scrypt"
          ],
          [
           "PoS"
          ],
          [
           "X11"
          ],
          [
           "SHA-256"
          ],
          [
           "Scrypt"
          ],
          [
           "X11"
          ],
          [
           "Scrypt"
          ],
          [
           "Scrypt"
          ],
          [
           "X11"
          ],
          [
           "Scrypt"
          ],
          [
           "Scrypt"
          ],
          [
           "Scrypt"
          ],
          [
           "Scrypt"
          ],
          [
           "Quark"
          ],
          [
           "QuBit"
          ],
          [
           "Scrypt"
          ],
          [
           "SHA-256"
          ],
          [
           "X11"
          ],
          [
           "Scrypt"
          ],
          [
           "Scrypt"
          ],
          [
           "Scrypt"
          ],
          [
           "Scrypt"
          ],
          [
           "X13"
          ],
          [
           "Scrypt"
          ],
          [
           "Scrypt"
          ],
          [
           "X11"
          ],
          [
           "Blake2S"
          ],
          [
           "X11"
          ],
          [
           "PoS"
          ],
          [
           "X11"
          ],
          [
           "PoS"
          ],
          [
           "X11"
          ],
          [
           "Scrypt"
          ],
          [
           "Scrypt"
          ],
          [
           "Scrypt"
          ],
          [
           "SHA-256"
          ],
          [
           "X11"
          ],
          [
           "Scrypt"
          ],
          [
           "PoS"
          ],
          [
           "Scrypt"
          ],
          [
           "X15"
          ],
          [
           "SHA-256"
          ],
          [
           "POS 3.0"
          ],
          [
           "536"
          ],
          [
           "NIST5"
          ],
          [
           "NIST5"
          ],
          [
           "Skein"
          ],
          [
           "X13"
          ],
          [
           "Scrypt"
          ],
          [
           "X13"
          ],
          [
           "SkunkHash v2 Raptor"
          ],
          [
           "Skein"
          ],
          [
           "X11"
          ],
          [
           "Scrypt"
          ],
          [
           "VeChainThor Authority"
          ],
          [
           "PoS"
          ],
          [
           "Scrypt"
          ],
          [
           "Scrypt"
          ],
          [
           "SHA-512"
          ],
          [
           "Ouroboros"
          ],
          [
           "X11"
          ],
          [
           "NeoScrypt"
          ],
          [
           "Scrypt"
          ],
          [
           "Lyra2REv2"
          ],
          [
           "Scrypt"
          ],
          [
           "SHA-256"
          ],
          [
           "NIST5"
          ],
          [
           "PHI1612"
          ],
          [
           "Scrypt"
          ],
          [
           "Quark"
          ],
          [
           "POS 2.0"
          ],
          [
           "Scrypt"
          ],
          [
           "SHA-256"
          ],
          [
           "X11"
          ],
          [
           "DPoS"
          ],
          [
           "NIST5"
          ],
          [
           "X13"
          ],
          [
           "Scrypt"
          ],
          [
           "NIST5"
          ],
          [
           "Quark"
          ],
          [
           "Scrypt"
          ],
          [
           "Scrypt"
          ],
          [
           "X11"
          ],
          [
           "Quark"
          ],
          [
           "Scrypt"
          ],
          [
           "Scrypt"
          ],
          [
           "X11"
          ],
          [
           "POS 3.0"
          ],
          [
           "Scrypt"
          ],
          [
           "Scrypt"
          ],
          [
           "X13"
          ],
          [
           "C11"
          ],
          [
           "Proof-of-Authority"
          ],
          [
           "X11"
          ],
          [
           "XEVAN"
          ],
          [
           "Scrypt"
          ],
          [
           "VBFT"
          ],
          [
           "NIST5"
          ],
          [
           "Scrypt"
          ],
          [
           "Scrypt"
          ],
          [
           "Scrypt"
          ],
          [
           "Green Protocol"
          ],
          [
           "PoS"
          ],
          [
           "Scrypt"
          ],
          [
           "Semux BFT consensus"
          ],
          [
           "Quark"
          ],
          [
           "PoS"
          ],
          [
           "X16R"
          ],
          [
           "Scrypt"
          ],
          [
           "XEVAN"
          ],
          [
           "Scrypt"
          ],
          [
           "Scrypt"
          ],
          [
           "Scrypt"
          ],
          [
           "SHA-256D"
          ],
          [
           "Scrypt"
          ],
          [
           "X15"
          ],
          [
           "Scrypt"
          ],
          [
           "Quark"
          ],
          [
           "SHA-256"
          ],
          [
           "DPoS"
          ],
          [
           "X16R"
          ],
          [
           "Quark"
          ],
          [
           "Quark"
          ],
          [
           "Scrypt"
          ],
          [
           "Lyra2REv2"
          ],
          [
           "Quark"
          ],
          [
           "Scrypt"
          ],
          [
           "X11"
          ],
          [
           "X11"
          ],
          [
           "Scrypt"
          ],
          [
           "PoS"
          ],
          [
           "Keccak"
          ],
          [
           "X11"
          ],
          [
           "Scrypt"
          ],
          [
           "SHA-512"
          ],
          [
           "ECC 256K1"
          ],
          [
           "XEVAN"
          ],
          [
           "XEVAN"
          ],
          [
           "X11"
          ],
          [
           "Quark"
          ],
          [
           "Scrypt"
          ],
          [
           "Quark"
          ],
          [
           "Quark"
          ],
          [
           "Scrypt"
          ],
          [
           "X11"
          ],
          [
           "Scrypt"
          ],
          [
           "XEVAN"
          ],
          [
           "SHA-256D"
          ],
          [
           "X11"
          ],
          [
           "X11"
          ],
          [
           "DPoS"
          ],
          [
           "Scrypt"
          ],
          [
           "X11"
          ],
          [
           "Scrypt"
          ],
          [
           "Scrypt"
          ],
          [
           "SHA-256"
          ],
          [
           "Scrypt"
          ],
          [
           "X11"
          ],
          [
           "Scrypt"
          ],
          [
           "SHA-256"
          ],
          [
           "X11"
          ],
          [
           "Scrypt"
          ],
          [
           "Scrypt"
          ],
          [
           "X11"
          ],
          [
           "Scrypt"
          ],
          [
           "PoS"
          ],
          [
           "X11"
          ],
          [
           "SHA-256"
          ],
          [
           "DPoS"
          ],
          [
           "Scrypt"
          ],
          [
           "Scrypt"
          ],
          [
           "NeoScrypt"
          ],
          [
           "X13"
          ],
          [
           "DPoS"
          ],
          [
           "DPoS"
          ],
          [
           "SHA-256"
          ],
          [
           "Leased POS"
          ],
          [
           "PoS"
          ],
          [
           "PoS"
          ],
          [
           "SHA-256"
          ],
          [
           "Scrypt"
          ],
          [
           "Scrypt"
          ]
         ],
         "hovertemplate": "<b>%{hovertext}</b><br><br>class=%{marker.color}<br>PC 1=%{x}<br>PC 2=%{y}<br>PC 3=%{z}<br>Algorithm=%{customdata[0]}<extra></extra>",
         "hovertext": [
          "42 Coin",
          "404Coin",
          "EliteCoin",
          "Dash",
          "Bitshares",
          "BitcoinDark",
          "PayCoin",
          "KoboCoin",
          "Aurora Coin",
          "BlueCoin",
          "EnergyCoin",
          "BitBar",
          "CryptoBullion",
          "CasinoCoin",
          "Diamond",
          "Exclusive Coin",
          "FlutterCoin",
          "HoboNickels",
          "HyperStake",
          "IOCoin",
          "MaxCoin",
          "MintCoin",
          "MazaCoin",
          "Nautilus Coin",
          "NavCoin",
          "OpalCoin",
          "Orbitcoin",
          "PotCoin",
          "PhoenixCoin",
          "Reddcoin",
          "SuperCoin",
          "SyncCoin",
          "TeslaCoin",
          "TittieCoin",
          "TorCoin",
          "UnitaryStatus Dollar",
          "UltraCoin",
          "VeriCoin",
          "X11 Coin",
          "Crypti",
          "StealthCoin",
          "ZCC Coin",
          "BurstCoin",
          "StorjCoin",
          "Neutron",
          "FairCoin",
          "RubyCoin",
          "Kore",
          "Dnotes",
          "8BIT Coin",
          "Sativa Coin",
          "Ucoin",
          "Vtorrent",
          "IslaCoin",
          "Nexus",
          "Droidz",
          "Squall Coin",
          "Diggits",
          "Paycon",
          "Emercoin",
          "EverGreenCoin",
          "Decred",
          "EDRCoin",
          "Hitcoin",
          "DubaiCoin",
          "PWR Coin",
          "BillaryCoin",
          "GPU Coin",
          "EuropeCoin",
          "ZeitCoin",
          "SwingCoin",
          "SafeExchangeCoin",
          "Nebuchadnezzar",
          "Ratecoin",
          "Revenu",
          "Clockcoin",
          "VIP Tokens",
          "BitSend",
          "Let it Ride",
          "PutinCoin",
          "iBankCoin",
          "Frankywillcoin",
          "MudraCoin",
          "Lutetium Coin",
          "GoldBlocks",
          "CarterCoin",
          "BitTokens",
          "MustangCoin",
          "ZoneCoin",
          "RootCoin",
          "BitCurrency",
          "Swiscoin",
          "BuzzCoin",
          "Opair",
          "PesoBit",
          "Halloween Coin",
          "CoffeeCoin",
          "RoyalCoin",
          "GanjaCoin V2",
          "TeamUP",
          "LanaCoin",
          "ARK",
          "InsaneCoin",
          "EmberCoin",
          "XenixCoin",
          "FreeCoin",
          "PLNCoin",
          "AquariusCoin",
          "Creatio",
          "Eternity",
          "Eurocoin",
          "BitcoinFast",
          "Stakenet",
          "BitConnect Coin",
          "MoneyCoin",
          "Enigma",
          "Russiacoin",
          "PandaCoin",
          "GameUnits",
          "GAKHcoin",
          "Allsafe",
          "LiteCreed",
          "Klingon Empire Darsek",
          "Internet of People",
          "KushCoin",
          "Printerium",
          "Impeach",
          "Zilbercoin",
          "FirstCoin",
          "FindCoin",
          "OpenChat",
          "RenosCoin",
          "VirtacoinPlus",
          "TajCoin",
          "Impact",
          "Atmos",
          "HappyCoin",
          "MacronCoin",
          "Condensate",
          "Independent Money System",
          "ArgusCoin",
          "LomoCoin",
          "ProCurrency",
          "GoldReserve",
          "GrowthCoin",
          "Phreak",
          "Degas Coin",
          "HTML5 Coin",
          "Ultimate Secure Cash",
          "QTUM",
          "Espers",
          "Denarius",
          "Virta Unique Coin",
          "Bitcoin Planet",
          "BritCoin",
          "Linda",
          "DeepOnion",
          "Signatum",
          "Cream",
          "Monoeci",
          "Draftcoin",
          "Vechain",
          "Stakecoin",
          "CoinonatX",
          "Ethereum Dark",
          "Obsidian",
          "Cardano",
          "Regalcoin",
          "TrezarCoin",
          "TerraNovaCoin",
          "Rupee",
          "WomenCoin",
          "Theresa May Coin",
          "NamoCoin",
          "LUXCoin",
          "Xios",
          "Bitcloud 2.0",
          "KekCoin",
          "BlackholeCoin",
          "Infinity Economics",
          "Magnet",
          "Lamden Tau",
          "Electra",
          "Bitcoin Diamond",
          "Cash & Back Coin",
          "Bulwark",
          "Kalkulus",
          "GermanCoin",
          "LiteCoin Ultra",
          "PhantomX",
          "Digiwage",
          "Trollcoin",
          "Litecoin Plus",
          "Monkey Project",
          "TokenPay",
          "My Big Coin",
          "Unified Society USDEX",
          "Tokyo Coin",
          "Stipend",
          "Poa Network",
          "Pushi",
          "Ellerium",
          "Velox",
          "Ontology",
          "Bitspace",
          "Briacoin",
          "Ignition",
          "MedicCoin",
          "Bitcoin Green",
          "Deviant Coin",
          "Abjcoin",
          "Semux",
          "Carebit",
          "Zealium",
          "Proton",
          "iDealCash",
          "Bitcoin Incognito",
          "HollyWoodCoin",
          "Swisscoin",
          "Xt3ch",
          "TheVig",
          "EmaratCoin",
          "Dekado",
          "Lynx",
          "Poseidon Quark",
          "BitcoinWSpectrum",
          "Muse",
          "Trivechain",
          "Dystem",
          "Giant",
          "Peony Coin",
          "Absolute Coin",
          "Vitae",
          "TPCash",
          "ARENON",
          "EUNO",
          "MMOCoin",
          "Ketan",
          "XDNA",
          "PAXEX",
          "ThunderStake",
          "Kcash",
          "Acute Angle Cloud",
          "Bettex coin",
          "BitMoney",
          "Junson Ming Chan Coin",
          "HerbCoin",
          "Oduwa",
          "Galilel",
          "Crypto Sports",
          "Credit",
          "Dash Platinum",
          "Nasdacoin",
          "Beetle Coin",
          "Titan Coin",
          "Award",
          "Insane Coin",
          "ALAX",
          "LiteDoge",
          "TruckCoin",
          "OrangeCoin",
          "BitstarCoin",
          "NeosCoin",
          "HyperCoin",
          "PinkCoin",
          "AudioCoin",
          "IncaKoin",
          "Piggy Coin",
          "Genstake",
          "XiaoMiCoin",
          "CapriCoin",
          " ClubCoin",
          "Radium",
          "Creditbit ",
          "OKCash",
          "Lisk",
          "HiCoin",
          "WhiteCoin",
          "FriendshipCoin",
          "Triangles Coin",
          "EOS",
          "Oxycoin",
          "TigerCash",
          "Waves",
          "Particl",
          "Nxt",
          "ZEPHYR",
          "Gapcoin",
          "BitcoinPlus"
         ],
         "legendgroup": "1",
         "marker": {
          "color": [
           1,
           1,
           1,
           1,
           1,
           1,
           1,
           1,
           1,
           1,
           1,
           1,
           1,
           1,
           1,
           1,
           1,
           1,
           1,
           1,
           1,
           1,
           1,
           1,
           1,
           1,
           1,
           1,
           1,
           1,
           1,
           1,
           1,
           1,
           1,
           1,
           1,
           1,
           1,
           1,
           1,
           1,
           1,
           1,
           1,
           1,
           1,
           1,
           1,
           1,
           1,
           1,
           1,
           1,
           1,
           1,
           1,
           1,
           1,
           1,
           1,
           1,
           1,
           1,
           1,
           1,
           1,
           1,
           1,
           1,
           1,
           1,
           1,
           1,
           1,
           1,
           1,
           1,
           1,
           1,
           1,
           1,
           1,
           1,
           1,
           1,
           1,
           1,
           1,
           1,
           1,
           1,
           1,
           1,
           1,
           1,
           1,
           1,
           1,
           1,
           1,
           1,
           1,
           1,
           1,
           1,
           1,
           1,
           1,
           1,
           1,
           1,
           1,
           1,
           1,
           1,
           1,
           1,
           1,
           1,
           1,
           1,
           1,
           1,
           1,
           1,
           1,
           1,
           1,
           1,
           1,
           1,
           1,
           1,
           1,
           1,
           1,
           1,
           1,
           1,
           1,
           1,
           1,
           1,
           1,
           1,
           1,
           1,
           1,
           1,
           1,
           1,
           1,
           1,
           1,
           1,
           1,
           1,
           1,
           1,
           1,
           1,
           1,
           1,
           1,
           1,
           1,
           1,
           1,
           1,
           1,
           1,
           1,
           1,
           1,
           1,
           1,
           1,
           1,
           1,
           1,
           1,
           1,
           1,
           1,
           1,
           1,
           1,
           1,
           1,
           1,
           1,
           1,
           1,
           1,
           1,
           1,
           1,
           1,
           1,
           1,
           1,
           1,
           1,
           1,
           1,
           1,
           1,
           1,
           1,
           1,
           1,
           1,
           1,
           1,
           1,
           1,
           1,
           1,
           1,
           1,
           1,
           1,
           1,
           1,
           1,
           1,
           1,
           1,
           1,
           1,
           1,
           1,
           1,
           1,
           1,
           1,
           1,
           1,
           1,
           1,
           1,
           1,
           1,
           1,
           1,
           1,
           1,
           1,
           1,
           1,
           1,
           1,
           1,
           1,
           1,
           1,
           1,
           1,
           1,
           1,
           1,
           1,
           1,
           1,
           1,
           1,
           1,
           1,
           1,
           1,
           1,
           1,
           1,
           1,
           1,
           1,
           1,
           1,
           1,
           1,
           1,
           1,
           1,
           1,
           1,
           1,
           1,
           1
          ],
          "coloraxis": "coloraxis",
          "symbol": "circle"
         },
         "mode": "markers",
         "name": "1",
         "scene": "scene",
         "showlegend": true,
         "type": "scatter3d",
         "x": [
          -0.3420418392740007,
          -0.32540168799447944,
          2.2922312114143155,
          -0.41605856223590004,
          -0.3804038031351579,
          -0.3115560181540365,
          -0.24745324549779726,
          -0.25362577719401075,
          -0.34170182350446654,
          -0.3342911887741858,
          -0.3405407683414724,
          -0.34203777802737584,
          -0.3420220799693265,
          0.683097556492091,
          -0.4070424330838657,
          -0.3158047755035746,
          -0.29001816946585063,
          -0.3401027517632325,
          -0.3318111811372513,
          -0.4159534234994876,
          -0.4713982126041049,
          -0.018267405600289263,
          -0.27490173290494246,
          -0.277690350997475,
          -0.2900386118758124,
          -0.2906598449514442,
          -0.3678322969860628,
          -0.3363498521262095,
          -0.3404453468853713,
          0.015537941025538106,
          -0.3516665981823844,
          -0.4163245792833173,
          -0.22446477356145408,
          -0.2935470046457224,
          -0.4162362817935363,
          -0.3173006436843835,
          -0.3407205529442899,
          -0.27425467281243654,
          -0.4162008476395536,
          -0.22493253619929618,
          -0.2904410520619094,
          -0.3331513357227425,
          0.05655018076945344,
          -0.2527677385312516,
          -0.3107686207534714,
          -0.40646493641147513,
          -0.2776707639516762,
          -0.2907350225710724,
          -0.27232939618631485,
          -0.3420239359355385,
          -0.2906872981635278,
          -0.3521105935146382,
          -0.3417585826895474,
          -0.41630613715806025,
          -0.5303866869275611,
          -0.4083609218478246,
          -0.25503937661187176,
          -0.27607405119481815,
          -0.29020938281909825,
          -0.3041170134888437,
          -0.256065845477698,
          -0.08618116277237303,
          -0.3115269777261332,
          -0.09407905554141018,
          -0.31159065932889357,
          -0.2399819914996482,
          -0.34163449108989113,
          -0.2759423852734236,
          -0.41347687196250626,
          0.8744106506607715,
          -0.3113908124679379,
          -0.04681191560033689,
          -0.3154883946157241,
          -0.41415194905521474,
          -0.31013494423765886,
          -0.30780454775210075,
          -0.3611495990006143,
          -0.4150422613582096,
          -0.3283484786155487,
          -0.317953303842931,
          -0.341672511359034,
          -0.34011354158393725,
          -0.225327162402002,
          -0.3396161891914973,
          -0.4157804898352616,
          -0.3408776402810185,
          -0.31157156175510664,
          -0.41629532300269195,
          -0.3418615532992202,
          -0.34201817807932705,
          -0.27593365234922523,
          -0.2329124359749696,
          0.015521043157944354,
          -0.3144467010637369,
          -0.3416329402131428,
          -0.402468090491942,
          -0.3137766505914108,
          -0.22675701609152443,
          -0.41147543230012845,
          -0.3135240103888498,
          -0.29860603276911835,
          3.7584779860982023,
          -0.41588830096653284,
          0.8397097177560313,
          -0.4162502970828386,
          -0.3149099050657395,
          -0.34156031740129505,
          -0.3417143752438955,
          -0.3154883946157241,
          -0.4158254449136234,
          -0.3114344576900232,
          -0.3415610939714387,
          -0.44912120837301,
          -0.3417082912110339,
          -0.33729853973772717,
          -0.41627923680055945,
          -0.34091935571344695,
          0.3648175675337311,
          -0.34190736809262523,
          -0.34197790177433723,
          -0.3248306672473425,
          -0.3411218484039129,
          -0.33820683111894617,
          -0.31154801245064384,
          -0.41618929666055104,
          -0.3417559357355407,
          -0.34188267509264353,
          -0.277577005032759,
          -0.27116404042572007,
          -0.22652514345185262,
          -0.32275885508439933,
          -0.2773186972894008,
          -0.41545550892581623,
          -0.444759231245402,
          -0.41419578315178124,
          -0.313737016501203,
          -0.41535355433427273,
          -0.3081435226244629,
          -0.4112978845389875,
          -0.3418260560489464,
          -0.34182519148116136,
          -0.334950363751362,
          0.28494160508618904,
          -0.41583173584676203,
          -0.2602316480678261,
          -0.3155225594844135,
          -0.3410373496240318,
          0.8772095265422272,
          -0.24614429377636593,
          -0.32712824360128945,
          0.5731814314167637,
          -0.36268344358173665,
          -0.3611871902095749,
          -0.43180083060652774,
          -0.290372735170502,
          0.12255355360078209,
          -0.29044348035722983,
          -0.32172250279206954,
          -0.431306492795792,
          -0.41610392319036615,
          -0.27765137480923874,
          4.512251542481155,
          -0.315388804878046,
          -0.3414616202228035,
          -0.341960851546888,
          -0.43840333380315316,
          0.6379867449056377,
          -0.4160447116025911,
          -0.36283639014874236,
          -0.3419164492430514,
          -0.313625603099409,
          0.42618222136681777,
          -0.30989628021378707,
          -0.34746519508265405,
          -0.39314493183224886,
          -0.3418668261053728,
          -0.3873130470187999,
          -0.3324232251117858,
          -0.34173747566445556,
          -0.07414126222990859,
          -0.4148383748954136,
          3.763329211781654,
          0.1961578343649587,
          -0.28711811106006385,
          -0.33920025719553093,
          -0.2984077247791516,
          -0.3247167122583961,
          0.0721355887340315,
          -0.3408763368899181,
          -0.4154193145173546,
          -0.32388200348944235,
          -0.32845593682161883,
          -0.3419829498338491,
          -0.3520825594781348,
          -0.32863001706962125,
          -0.25937771787051966,
          -0.33753346993123695,
          -0.21832782803400866,
          -0.3831782548818003,
          -0.49481422936232755,
          -0.4161210239830292,
          -0.17429603536950075,
          -0.2768118698979581,
          -0.31560419194694916,
          -0.3622827305222187,
          -0.34201026919318833,
          -0.3419919937518788,
          -0.2711992687968829,
          -0.324519106344943,
          -0.3149836990739486,
          -0.3417087602684778,
          3.946916490836689,
          -0.38598316571067154,
          -0.31517213251134596,
          -0.2927212306727407,
          -0.2886235196347656,
          -0.01316325612952031,
          -0.2773459994107023,
          -0.14535539308912399,
          -0.2775975253383108,
          -0.3638747074769732,
          -0.3411832081045125,
          -0.19137064804541148,
          2.2244502367705343,
          -0.32042661224621677,
          -0.2462725756313198,
          1.0515687940658307,
          -0.3560980315728671,
          -0.32483005840492035,
          -0.3889960295704624,
          -0.15838846694994374,
          -0.377593276768049,
          -0.32355100254953917,
          -0.33489054909340293,
          -0.3516603726536756,
          -0.4155949977327519,
          -0.2748456901768978,
          -0.31427235634461953,
          -0.348974892582408,
          -0.35152162676496185,
          -0.20157614075558877,
          -0.6576077275306202,
          -0.46607438445926846,
          -0.11024972280804511,
          0.9773840771160982,
          -0.14236521609738204,
          -0.38829139539554275,
          -0.34171279640889357,
          -0.38874706328552083,
          -0.32494690934444537,
          0.5639443096554256,
          -0.35213679906588186,
          -0.3411960498855252,
          -0.16875701401744764,
          -0.3186283222247562,
          -0.4131606521951758,
          -0.4158220295681839,
          3.7755554923584453,
          0.09280014492587466,
          -0.4133657770072028,
          -0.34058161981086316,
          -0.34140643053707975,
          -0.24748575913320567,
          -0.3419243624868982,
          -0.40745944173093557,
          -0.25568278560936636,
          -0.09155967152672741,
          -0.40321066955621754,
          -0.341203702972712,
          -0.33427599540973074,
          -0.4123946791747292,
          -0.3396442407084167,
          -0.31576367586235055,
          -0.44081282968214996,
          -0.31007278352420437,
          3.758869450572197,
          -0.08510691140767668,
          -0.33684236187279637,
          -0.3674583126334951,
          -0.29084214893715293,
          3.7687207088577637,
          3.7699628858835736,
          -0.22840514210382412,
          -0.26965514366982624,
          -0.3156996461061743,
          -0.28430391418454243,
          2.4959316072407267,
          -0.3400883726615673,
          -0.2779936990349087
         ],
         "y": [
          1.0073667521744838,
          1.0075148584711684,
          1.7046567516119713,
          1.2896140537606073,
          1.5085760536769044,
          0.8905950486553317,
          0.6377235933085218,
          1.82690758691725,
          1.0073655380869346,
          1.0076138928448959,
          1.0074146160105983,
          1.007366522221326,
          1.0073666632944451,
          0.3031959381700568,
          1.0683356727926696,
          1.4781033859238246,
          0.1974264287911361,
          1.0073423071090453,
          1.0373939252823396,
          1.2896174062604553,
          2.0272701467440797,
          0.7627684711389239,
          0.8900403225613929,
          0.7544847645154812,
          1.848186592611438,
          1.8481667837012001,
          0.542920736536695,
          1.007246284486831,
          1.0073472001806392,
          1.0187686978651525,
          1.0367608067485536,
          1.2896213879153036,
          0.07948936399540714,
          1.6310423592209689,
          1.2896170144858903,
          1.007005318279096,
          1.0073369869114068,
          0.02186092091363463,
          1.289621379693244,
          0.07954634511935676,
          1.8481737602272088,
          1.0069312746139065,
          0.5763781001279822,
          1.4837120582988867,
          0.8905870836061739,
          1.0683572361674694,
          0.7544970219155098,
          1.8481557589856366,
          0.7543078570674877,
          1.0073673230783784,
          1.8481587186751909,
          1.0367322700370105,
          1.0073614049666246,
          1.2896219766879595,
          2.2008707431552694,
          2.036257269318539,
          0.88394561819192,
          0.7544760389900589,
          1.848145199130005,
          0.8901291051445236,
          1.827062511942372,
          0.9147594962265033,
          0.8905959746511494,
          1.280808154236032,
          0.8906022121586208,
          1.5570320507968867,
          1.0073495445959064,
          0.7543932048525357,
          1.28943610966981,
          0.720055350615988,
          0.8905873751227424,
          0.30713632449511774,
          1.478099094901833,
          1.2896367437679528,
          0.8904960475753232,
          0.8903530307506111,
          1.553103740568818,
          1.2895623411780393,
          1.425989056427977,
          1.0066969216370438,
          1.0073466546823089,
          1.007356342341795,
          1.5951839228246716,
          1.0366726919693494,
          1.289602789504713,
          1.007339167596562,
          0.8905952719893379,
          1.2896201646206038,
          1.00735740263653,
          1.0073675066759062,
          0.754552412217727,
          0.32751544297735186,
          1.9273853570406343,
          1.4780934867385769,
          1.0073797905394202,
          1.2889847765836822,
          1.478139297113961,
          1.5952803252006587,
          1.9253068176670116,
          1.4779597032106693,
          1.9263517006443638,
          1.9317954759105502,
          1.289613731073414,
          1.883599123731599,
          1.2896209868255206,
          1.4780959719507152,
          1.0073543973463983,
          1.007346997374746,
          1.478099094901833,
          1.289594166406522,
          0.8906003627137575,
          1.0073583556453745,
          0.9388106149501216,
          1.0073572568700777,
          1.0070501980818662,
          1.2896192396241277,
          1.0072990133793933,
          0.7516066290792133,
          1.007361693478621,
          1.0073664070106214,
          1.449285933516206,
          0.5561062160356282,
          1.007129554913637,
          0.8905960228927856,
          1.2896189771252407,
          1.0073614893685607,
          1.0073560581048575,
          0.7544604685288241,
          0.10975078561825444,
          1.5952790734461206,
          1.007262653808269,
          0.754483496705754,
          1.2895772037842257,
          2.226804167196899,
          1.2896101823117492,
          1.4780900248234894,
          1.2895804547530347,
          1.4780600903582417,
          1.2894221899843235,
          1.0073583820100362,
          1.0073530979583563,
          1.006873910017377,
          0.6007864496133607,
          1.2896083450927731,
          0.7536151650406623,
          1.478090815864998,
          1.0073232905731466,
          1.798510767007033,
          0.6376304648142939,
          1.4259801542650068,
          1.83328288060106,
          1.553112348854782,
          1.5530809729964912,
          1.8866518721313472,
          1.848154369687007,
          0.9862328403516172,
          1.8481600956793443,
          1.4451792298325965,
          1.88666763480353,
          1.2896215891847997,
          0.7544851259555662,
          2.17473910930299,
          1.4780723615830957,
          1.0073505618687115,
          1.0073663149656968,
          1.5092496307184333,
          1.620311073908733,
          1.2896109005875473,
          0.5427951630731668,
          1.0073594387448164,
          0.5875077633297668,
          1.0138885793115295,
          0.8905918925883864,
          1.5527420373377232,
          1.8843993102166754,
          1.0073572345055206,
          1.7020828792240772,
          1.4729370159309063,
          1.0073658250368653,
          0.6367882054825758,
          1.2895652475707624,
          1.9316805526878407,
          1.5493700739608394,
          1.848128734523097,
          1.007306377678877,
          1.3002268407310886,
          1.449285972314523,
          0.9846251910174162,
          1.0072960713119516,
          1.2896143060992626,
          1.4492406917958025,
          1.0071528905705485,
          1.007365754122847,
          1.0367324449785051,
          1.42598619036411,
          0.2906162644948939,
          1.0073437083785386,
          1.5949757282181825,
          0.9280664171726354,
          3.0795023074347947,
          1.2896099051856946,
          1.323953918585262,
          0.7544352574413398,
          1.5975338796405487,
          1.5530963676036897,
          1.0073656019698618,
          1.007364746780426,
          0.7543438928049472,
          1.3775566430791797,
          1.478066298287377,
          1.007355803985336,
          1.8021306944568898,
          1.702125284402573,
          1.4780660415288525,
          0.6497480306755187,
          1.0053875731935193,
          0.9183013275018685,
          0.7544886844338465,
          1.0063049487988915,
          0.7544677228143006,
          1.9295951630794514,
          1.0073337379114726,
          1.5741573173027652,
          0.08924983858740626,
          1.4489698209509074,
          0.6376981427921351,
          1.6881494061800346,
          0.9026224702038284,
          1.4492816391455117,
          1.7021693043375397,
          0.7461643957809919,
          0.840369866184513,
          1.4492656255186074,
          1.0068758172937873,
          1.0367214622338077,
          1.2896087041872255,
          0.7544001727944408,
          1.4780012668551519,
          1.0000423318083358,
          1.0366935329622176,
          0.9989043495236866,
          1.683648164293523,
          4.274010140330683,
          1.0710810224091563,
          0.5103548845523995,
          1.0434346823888272,
          1.7021566519352012,
          1.0073621459639597,
          1.7021672601700608,
          1.449283398881189,
          0.9824769102208459,
          1.0367316501245387,
          1.0073333284328128,
          1.3238141940512789,
          1.9275149851411704,
          1.2894203100848955,
          1.2896158442322794,
          1.93171092318851,
          0.9960685713943911,
          1.2897157343009715,
          1.0072695205856987,
          1.0073480049253054,
          0.6377164453697631,
          1.0073704981210214,
          1.28954458425472,
          1.0025713119608552,
          0.8974891626580486,
          1.2893205804246302,
          1.0073826929249954,
          1.007326791673108,
          1.2895971546225338,
          1.0073281688301734,
          1.478098225768239,
          0.6236506575670197,
          0.8905826697060144,
          1.931782853242899,
          0.7534412039940813,
          1.0073168557953247,
          0.5428921133250141,
          1.8481608844006883,
          1.9322119503701727,
          1.9322515589714677,
          0.6376209924511416,
          2.770650012574736,
          1.4781005304893187,
          1.5230296973499153,
          0.8811806711718349,
          1.0072493002763137,
          0.7544860057017654
         ],
         "z": [
          -0.4633406699260253,
          -0.4636000227586397,
          -0.5632590859229286,
          -0.42073826624274446,
          -0.05967876059421402,
          -0.34936377800574975,
          -0.08346964919270099,
          -0.4792897758282277,
          -0.4633451344472291,
          -0.46349655083961955,
          -0.4633708594366347,
          -0.46334068082828817,
          -0.46334092576389396,
          -0.7267027621814929,
          -0.3914475093623002,
          -0.08076475239905294,
          -0.10822216419096141,
          -0.463362680804192,
          -0.1552510549238981,
          -0.42074038079063375,
          -0.6596299918672984,
          -0.20266770681112187,
          -0.34976160430980135,
          -0.19744790784729674,
          -0.5557990449264172,
          -0.5557865507008433,
          -0.2770264092652247,
          -0.4633956890069509,
          -0.46335890500769966,
          -0.47053230639022753,
          -0.15485172322512053,
          -0.4207360304411926,
          0.07974508702095985,
          -0.21105835114883723,
          -0.42073639075221403,
          -0.46361175747222616,
          -0.4633530869361312,
          -0.16402811141939114,
          -0.4207377404535663,
          0.0797403379759228,
          -0.5557909510584921,
          -0.46337790877206914,
          -1.4723867649778357,
          -0.08696981046880288,
          -0.34937310205321787,
          -0.39145974402475747,
          -0.1974505923317987,
          -0.5557833399290604,
          -0.19748723441637633,
          -0.4633410300035099,
          -0.5557845828947988,
          -0.1548399622657077,
          -0.46334353544666773,
          -0.4207364014903653,
          -0.7001550918638811,
          -0.6964894389766049,
          -0.17895349045662326,
          -0.1974685487060354,
          -0.5557885320467487,
          -0.3493749388019219,
          -0.4792865266754662,
          -0.3822692317371414,
          -0.3493643620661789,
          -0.4234584276251643,
          -0.3493647093210369,
          -0.45701715099707807,
          -0.4633429167052553,
          -0.19745405973839927,
          -0.42073894196974226,
          -0.20660611783051883,
          -0.34936455241697895,
          -0.7173814977169065,
          -0.0807682841089898,
          -0.42076910896531744,
          -0.3493639426230556,
          -0.34936801941019446,
          -0.45456748980505335,
          -0.4207421427513587,
          -0.03351032158317973,
          -0.4635420044793289,
          -0.4633418217200538,
          -0.46336529513488883,
          -0.289887499570215,
          -0.1550010714128495,
          -0.42073989495912145,
          -0.46335134326682936,
          -0.3493636069599622,
          -0.42073619428411435,
          -0.46334132293732727,
          -0.4633411458053837,
          -0.19748552908107977,
          -0.17524828047993288,
          -0.61838258061711,
          -0.08078159002077791,
          -0.46334889370063986,
          -0.4208023618225727,
          -0.08079987934522571,
          -0.28988670180393383,
          -0.6305391214859217,
          -0.08076801149881105,
          -0.613833599145767,
          0.11253070250228739,
          -0.4207405579994135,
          -0.5784001860424937,
          -0.42073697904168433,
          -0.08077567167475197,
          -0.4633448983058152,
          -0.46334131007695534,
          -0.0807682841089898,
          -0.4207375751559379,
          -0.3493665059605862,
          -0.46334566696733936,
          -0.251594550923557,
          -0.46334341437361587,
          -0.4633439552564678,
          -0.42073623467591514,
          -0.46334285968161243,
          -0.20576927148759905,
          -0.46334153404536854,
          -0.4633414864359923,
          -0.14798903515620923,
          -0.26175750622534705,
          -0.46334701614611795,
          -0.3493640805830412,
          -0.42073742716827744,
          -0.4633435886821466,
          -0.4633407660073608,
          -0.19744469183690702,
          -0.257267338094523,
          -0.2898896629194357,
          -0.46358692210774494,
          -0.19745279945117072,
          -0.4207393526295082,
          -0.6303141230931754,
          -0.42076327253813567,
          -0.0807907257184589,
          -0.4207414031379488,
          -0.08086220863723234,
          -0.42076634397065127,
          -0.46334200682793836,
          -0.46334097833796556,
          -0.4633417267610252,
          -0.08356142450083529,
          -0.4207402799681601,
          -0.19751819390353378,
          -0.08076618131825967,
          -0.4633460076946376,
          -0.4893416492906857,
          -0.08346941911152045,
          -0.03352544873224036,
          -0.5804503543562395,
          -0.4545479664988192,
          -0.4545624867685181,
          -0.6054022323781267,
          -0.5557880780432768,
          -0.4656062636535418,
          -0.5557882268653592,
          -0.045302195312111805,
          -0.605412174489002,
          -0.4207391224995001,
          -0.19744851819006054,
          0.9835891105987367,
          -0.08076439788301829,
          -0.4633455084048032,
          -0.4633417041748897,
          -0.05900905882993428,
          -0.07460704750988982,
          -0.4207378369725356,
          -0.2770707938307713,
          -0.4633409644563627,
          0.018421990541448784,
          -0.4752520057149448,
          -0.3493861164099094,
          -0.4546855711166611,
          -0.4765570566572559,
          -0.4633412168907692,
          -0.41389090830683106,
          -0.1030700022603147,
          -0.463344697757594,
          -0.08568296456984358,
          -0.4207455354774582,
          0.11248622229838752,
          -0.46154178232526155,
          -0.555828052951871,
          -0.4633680907455649,
          -0.18865346307651487,
          -0.1479906191825393,
          -0.464592258683845,
          -0.4633428754746209,
          -0.4207471589089507,
          -0.1479932501497966,
          -0.46348649920526425,
          -0.463341288047995,
          -0.1548403845188495,
          -0.033505862605669255,
          -0.3172260306211943,
          -0.46339849866448635,
          -0.289943329964991,
          -0.33482665950290164,
          1.3198974960530796,
          -0.4207365853131982,
          -0.3856003937256649,
          -0.1974503121105639,
          -0.04687662736944408,
          -0.4545503629601599,
          -0.46334088016842356,
          -0.4633409645901538,
          -0.19750996351288588,
          -0.0128827358924603,
          -0.08076880799420573,
          -0.46334312180641063,
          0.05174384242031265,
          -0.41391765484963744,
          -0.08076615075930314,
          -0.05346704689441655,
          -0.4636899198973906,
          -0.14382030916680874,
          -0.19745344325298017,
          -0.46585244227471323,
          -0.1974458363674154,
          -0.6135693605070652,
          -0.46334604709426863,
          -0.2133939497256931,
          -0.2714381762298061,
          -0.14798771451420334,
          -0.08348097058679689,
          0.023006145908760198,
          -0.31937180597364034,
          -0.14798819800063684,
          -0.413884644342653,
          -0.19745994817665338,
          -0.2474721656108234,
          -0.14800273856854454,
          -0.4633429297520742,
          -0.15484406226066372,
          -0.4207436255720938,
          -0.19747060279244383,
          -0.08076584335760262,
          -0.36093002626751636,
          -0.154840482210355,
          -0.4636175110909598,
          -0.0020230054240842977,
          7.6791921479497205,
          -0.11970520017185016,
          -0.07134406416344274,
          -0.15906118789033452,
          -0.4138919005342815,
          -0.4633443147325427,
          -0.41388768589253855,
          -0.14798692805160935,
          -0.47097264875604955,
          -0.15483947769028317,
          -0.4633457888206597,
          -0.38564950502069134,
          -0.6137856776293242,
          -0.42074020537096607,
          -0.42074189084827873,
          0.11231111100297904,
          -0.467131365266161,
          -0.42079553794725216,
          -0.4633417244795344,
          -0.463345768394803,
          -0.08346779196168715,
          -0.4633430326224579,
          -0.4208435426456379,
          -0.46359107022040175,
          -0.35376455633932996,
          -0.4208582104723951,
          -0.4633554030088217,
          -0.4634402297016801,
          -0.42078562275750536,
          -0.46336623969750773,
          -0.08076430489321017,
          0.00032905082542836217,
          -0.3493818587454883,
          0.11252777266260809,
          -0.1999065136854222,
          -0.46340277167402294,
          -0.27702594672705344,
          -0.5557828672191916,
          0.11230700524789008,
          0.11228202261162787,
          -0.08371294703580198,
          -2.6521268572939456,
          -0.08076564445183634,
          -0.10373446446094613,
          0.005587537622379856,
          -0.463344566316734,
          -0.1974439559019381
         ]
        },
        {
         "customdata": [
          [
           "SHA-256"
          ],
          [
           "Ethash"
          ],
          [
           "Scrypt"
          ],
          [
           "CryptoNight-V7"
          ],
          [
           "Ethash"
          ],
          [
           "Equihash"
          ],
          [
           "Multiple"
          ],
          [
           "Scrypt"
          ],
          [
           "X11"
          ],
          [
           "Scrypt"
          ],
          [
           "Multiple"
          ],
          [
           "Scrypt"
          ],
          [
           "SHA-256"
          ],
          [
           "Scrypt"
          ],
          [
           "Scrypt"
          ],
          [
           "Quark"
          ],
          [
           "Groestl"
          ],
          [
           "Scrypt"
          ],
          [
           "Scrypt"
          ],
          [
           "Scrypt"
          ],
          [
           "X11"
          ],
          [
           "Multiple"
          ],
          [
           "SHA-256"
          ],
          [
           "Scrypt"
          ],
          [
           "Scrypt"
          ],
          [
           "Scrypt"
          ],
          [
           "Scrypt"
          ],
          [
           "Scrypt"
          ],
          [
           "NeoScrypt"
          ],
          [
           "Scrypt"
          ],
          [
           "Scrypt"
          ],
          [
           "Scrypt"
          ],
          [
           "Scrypt"
          ],
          [
           "SHA-256"
          ],
          [
           "Scrypt"
          ],
          [
           "Scrypt"
          ],
          [
           "Scrypt"
          ],
          [
           "Scrypt"
          ],
          [
           "HybridScryptHash256"
          ],
          [
           "Scrypt"
          ],
          [
           "Scrypt"
          ],
          [
           "SHA-256"
          ],
          [
           "Scrypt"
          ],
          [
           "Scrypt"
          ],
          [
           "Scrypt"
          ],
          [
           "Scrypt"
          ],
          [
           "SHA-256"
          ],
          [
           "SHA-256"
          ],
          [
           "SHA-256"
          ],
          [
           "SHA-256"
          ],
          [
           "SHA-256"
          ],
          [
           "X11"
          ],
          [
           "Scrypt"
          ],
          [
           "Lyra2REv2"
          ],
          [
           "Scrypt"
          ],
          [
           "SHA-256"
          ],
          [
           "CryptoNight"
          ],
          [
           "CryptoNight"
          ],
          [
           "Scrypt"
          ],
          [
           "Scrypt"
          ],
          [
           "Scrypt"
          ],
          [
           "Scrypt"
          ],
          [
           "Scrypt"
          ],
          [
           "Scrypt"
          ],
          [
           "Stanford Folding"
          ],
          [
           "Multiple"
          ],
          [
           "QuBit"
          ],
          [
           "Scrypt"
          ],
          [
           "Scrypt"
          ],
          [
           "M7 POW"
          ],
          [
           "Scrypt"
          ],
          [
           "SHA-256"
          ],
          [
           "Scrypt"
          ],
          [
           "X11"
          ],
          [
           "Lyra2RE"
          ],
          [
           "SHA-256"
          ],
          [
           "X11"
          ],
          [
           "Scrypt"
          ],
          [
           "Scrypt"
          ],
          [
           "Ethash"
          ],
          [
           "Blake2b"
          ],
          [
           "X11"
          ],
          [
           "SHA-256"
          ],
          [
           "Scrypt"
          ],
          [
           "1GB AES Pattern Search"
          ],
          [
           "Scrypt"
          ],
          [
           "SHA-256"
          ],
          [
           "X11"
          ],
          [
           "Dagger"
          ],
          [
           "Scrypt"
          ],
          [
           "X11GOST"
          ],
          [
           "Scrypt"
          ],
          [
           "X11"
          ],
          [
           "Scrypt"
          ],
          [
           "X11"
          ],
          [
           "Equihash"
          ],
          [
           "CryptoNight"
          ],
          [
           "SHA-256"
          ],
          [
           "Multiple"
          ],
          [
           "Scrypt"
          ],
          [
           "SHA-256"
          ],
          [
           "Scrypt"
          ],
          [
           "Lyra2Z"
          ],
          [
           "Ethash"
          ],
          [
           "Equihash"
          ],
          [
           "Scrypt"
          ],
          [
           "X11"
          ],
          [
           "X11"
          ],
          [
           "CryptoNight"
          ],
          [
           "Scrypt"
          ],
          [
           "CryptoNight"
          ],
          [
           "Lyra2RE"
          ],
          [
           "X11"
          ],
          [
           "CryptoNight-V7"
          ],
          [
           "Scrypt"
          ],
          [
           "X11"
          ],
          [
           "Equihash"
          ],
          [
           "Scrypt"
          ],
          [
           "Lyra2RE"
          ],
          [
           "Dagger-Hashimoto"
          ],
          [
           "Scrypt"
          ],
          [
           "NIST5"
          ],
          [
           "Scrypt"
          ],
          [
           "SHA-256"
          ],
          [
           "Scrypt"
          ],
          [
           "CryptoNight-V7"
          ],
          [
           "Argon2d"
          ],
          [
           "Blake2b"
          ],
          [
           "Cloverhash"
          ],
          [
           "CryptoNight"
          ],
          [
           "X11"
          ],
          [
           "Scrypt"
          ],
          [
           "Scrypt"
          ],
          [
           "X11"
          ],
          [
           "X11"
          ],
          [
           "CryptoNight"
          ],
          [
           "Time Travel"
          ],
          [
           "Scrypt"
          ],
          [
           "Keccak"
          ],
          [
           "X11"
          ],
          [
           "SHA-256"
          ],
          [
           "Scrypt"
          ],
          [
           "Scrypt"
          ],
          [
           "Scrypt"
          ],
          [
           "Scrypt"
          ],
          [
           "Scrypt"
          ],
          [
           "Scrypt"
          ],
          [
           "CryptoNight"
          ],
          [
           "Equihash"
          ],
          [
           "X11"
          ],
          [
           "NeoScrypt"
          ],
          [
           "Equihash"
          ],
          [
           "Dagger"
          ],
          [
           "Scrypt"
          ],
          [
           "X11"
          ],
          [
           "NeoScrypt"
          ],
          [
           "Ethash"
          ],
          [
           "NeoScrypt"
          ],
          [
           "Multiple"
          ],
          [
           "CryptoNight"
          ],
          [
           "CryptoNight"
          ],
          [
           "Ethash"
          ],
          [
           "X11"
          ],
          [
           "CryptoNight-V7"
          ],
          [
           "Scrypt"
          ],
          [
           "BLAKE256"
          ],
          [
           "X11"
          ],
          [
           "NeoScrypt"
          ],
          [
           "NeoScrypt"
          ],
          [
           "Scrypt"
          ],
          [
           "X11"
          ],
          [
           "SHA-256"
          ],
          [
           "C11"
          ],
          [
           "Ethash"
          ],
          [
           "CryptoNight"
          ],
          [
           "SkunkHash"
          ],
          [
           "CryptoNight"
          ],
          [
           "Scrypt"
          ],
          [
           "Dagger"
          ],
          [
           "Lyra2REv2"
          ],
          [
           "Scrypt"
          ],
          [
           "Scrypt"
          ],
          [
           "X11"
          ],
          [
           "Ethash"
          ],
          [
           "CryptoNight"
          ],
          [
           "Scrypt"
          ],
          [
           "IMesh"
          ],
          [
           "Equihash"
          ],
          [
           "Lyra2Z"
          ],
          [
           "X11"
          ],
          [
           "CryptoNight"
          ],
          [
           "NIST5"
          ],
          [
           "Lyra2RE"
          ],
          [
           "Tribus"
          ],
          [
           "Lyra2Z"
          ],
          [
           "CryptoNight"
          ],
          [
           "CryptoNight Heavy"
          ],
          [
           "CryptoNight"
          ],
          [
           "Jump Consistent Hash"
          ],
          [
           "CryptoNight"
          ],
          [
           "X16R"
          ],
          [
           "HMQ1725"
          ],
          [
           "X11"
          ],
          [
           "Scrypt"
          ],
          [
           "CryptoNight-V7"
          ],
          [
           "Cryptonight-GPU"
          ],
          [
           "XEVAN"
          ],
          [
           "CryptoNight Heavy"
          ],
          [
           "SHA-256"
          ],
          [
           "X11"
          ],
          [
           "X16R"
          ],
          [
           "Equihash"
          ],
          [
           "Lyra2Z"
          ],
          [
           "SHA-256"
          ],
          [
           "CryptoNight"
          ],
          [
           "Blake"
          ],
          [
           "Blake"
          ],
          [
           "Equihash"
          ],
          [
           "Exosis"
          ],
          [
           "Scrypt"
          ],
          [
           "Equihash"
          ],
          [
           "Equihash"
          ],
          [
           "QuBit"
          ],
          [
           "SHA-256"
          ],
          [
           "X13"
          ],
          [
           "SHA-256"
          ],
          [
           "Scrypt"
          ],
          [
           "NeoScrypt"
          ],
          [
           "Blake"
          ],
          [
           "Scrypt"
          ],
          [
           "SHA-256"
          ],
          [
           "Scrypt"
          ],
          [
           "Groestl"
          ],
          [
           "Scrypt"
          ],
          [
           "Scrypt"
          ],
          [
           "Multiple"
          ],
          [
           "Equihash+Scrypt"
          ],
          [
           "Ethash"
          ],
          [
           "CryptoNight"
          ],
          [
           "Equihash"
          ]
         ],
         "hovertemplate": "<b>%{hovertext}</b><br><br>class=%{marker.color}<br>PC 1=%{x}<br>PC 2=%{y}<br>PC 3=%{z}<br>Algorithm=%{customdata[0]}<extra></extra>",
         "hovertext": [
          "Bitcoin",
          "Ethereum",
          "Litecoin",
          "Monero",
          "Ethereum Classic",
          "ZCash",
          "DigiByte",
          "ProsperCoin",
          "Spreadcoin",
          "Argentum",
          "MyriadCoin",
          "MoonCoin",
          "ZetaCoin",
          "SexCoin",
          "Quatloo",
          "QuarkCoin",
          "Riecoin",
          "Digitalcoin ",
          "Catcoin",
          "CannaCoin",
          "CryptCoin",
          "Verge",
          "DevCoin",
          "EarthCoin",
          "E-Gulden",
          "Einsteinium",
          "Emerald",
          "Franko",
          "FeatherCoin",
          "GrandCoin",
          "GlobalCoin",
          "GoldCoin",
          "Infinite Coin",
          "IXcoin",
          "KrugerCoin",
          "LuckyCoin",
          "Litebar ",
          "MegaCoin",
          "MediterraneanCoin",
          "MinCoin",
          "NobleCoin",
          "Namecoin",
          "NyanCoin",
          "RonPaulCoin",
          "StableCoin",
          "SmartCoin",
          "SysCoin",
          "TigerCoin",
          "TerraCoin",
          "UnbreakableCoin",
          "Unobtanium",
          "UroCoin",
          "ViaCoin",
          "Vertcoin",
          "WorldCoin",
          "JouleCoin",
          "ByteCoin",
          "DigitalNote ",
          "MonaCoin",
          "Gulden",
          "PesetaCoin",
          "Wild Beast Coin",
          "Flo",
          "ArtByte",
          "Folding Coin",
          "Unitus",
          "CypherPunkCoin",
          "OmniCron",
          "GreenCoin",
          "Cryptonite",
          "MasterCoin",
          "SoonCoin",
          "1Credit",
          "MarsCoin ",
          "Crypto",
          "Anarchists Prime",
          "BowsCoin",
          "Song Coin",
          "BitZeny",
          "Expanse",
          "Siacoin",
          "MindCoin",
          "I0coin",
          "Revolution VR",
          "HOdlcoin",
          "Gamecredits",
          "CarpeDiemCoin",
          "Adzcoin",
          "SoilCoin",
          "YoCoin",
          "SibCoin",
          "Francs",
          "BolivarCoin",
          "Omni",
          "PizzaCoin",
          "Komodo",
          "Karbo",
          "ZayedCoin",
          "Circuits of Value",
          "DopeCoin",
          "DollarCoin",
          "Shilling",
          "ZCoin",
          "Elementrem",
          "ZClassic",
          "KiloCoin",
          "ArtexCoin",
          "Kurrent",
          "Cannabis Industry Coin",
          "OsmiumCoin",
          "Bikercoins",
          "HexxCoin",
          "PacCoin",
          "Citadel",
          "BeaverCoin",
          "VaultCoin",
          "Zero",
          "Canada eCoin",
          "Zoin",
          "DubaiCoin",
          "EB3coin",
          "Coinonat",
          "BenjiRolls",
          "ILCoin",
          "EquiTrader",
          "Quantum Resistant Ledger",
          "Dynamic",
          "Nano",
          "ChanCoin",
          "Dinastycoin",
          "DigitalPrice",
          "Unify",
          "SocialCoin",
          "ArcticCoin",
          "DAS",
          "LeviarCoin",
          "Bitcore",
          "gCn Coin",
          "SmartCash",
          "Onix",
          "Bitcoin Cash",
          "Sojourn Coin",
          "NewYorkCoin",
          "FrazCoin",
          "Kronecoin",
          "AdCoin",
          "Linx",
          "Sumokoin",
          "BitcoinZ",
          "Elements",
          "VIVO Coin",
          "Bitcoin Gold",
          "Pirl",
          "eBoost",
          "Pura",
          "Innova",
          "Ellaism",
          "GoByte",
          "SHIELD",
          "UltraNote",
          "BitCoal",
          "DaxxCoin",
          "AC3",
          "Lethean",
          "PopularCoin",
          "Photon",
          "Sucre",
          "SparksPay",
          "GunCoin",
          "IrishCoin",
          "Pioneer Coin",
          "UnitedBitcoin",
          "Interzone",
          "1717 Masonic Commemorative Token",
          "TurtleCoin",
          "MUNcoin",
          "Niobio Cash",
          "ShareChain",
          "Travelflex",
          "KREDS",
          "BitFlip",
          "LottoCoin",
          "Crypto Improvement Fund",
          "Callisto Network",
          "BitTube",
          "Poseidon",
          "Aidos Kuneen",
          "Bitrolium",
          "Alpenschillling",
          "FuturoCoin",
          "Monero Classic",
          "Jumpcoin",
          "Infinex",
          "KEYCO",
          "GINcoin",
          "PlatinCoin",
          "Loki",
          "Newton Coin",
          "MassGrid",
          "PluraCoin",
          "Motion",
          "PlusOneCoin",
          "Axe",
          "HexCoin",
          "Webchain",
          "Ryo",
          "Urals Coin",
          "Qwertycoin",
          "Project Pai",
          "Azart",
          "Xchange",
          "CrypticCoin",
          "Actinium",
          "Bitcoin SV",
          "FREDEnergy",
          "Universal Molecule",
          "Lithium",
          "PirateCash",
          "Exosis",
          "Block-Logic",
          "Beam",
          "Bithereum",
          "SLICE",
          "BLAST",
          "Bitcoin Rhodium",
          "GlobalToken",
          "SolarCoin",
          "UFO Coin",
          "BlakeCoin",
          "Crypto Escudo",
          "Crown Coin",
          "SmileyCoin",
          "Groestlcoin",
          "Bata",
          "Pakcoin",
          "JoinCoin",
          "Vollar",
          "Reality Clash",
          "Beldex",
          "Horizen"
         ],
         "legendgroup": "0",
         "marker": {
          "color": [
           0,
           0,
           0,
           0,
           0,
           0,
           0,
           0,
           0,
           0,
           0,
           0,
           0,
           0,
           0,
           0,
           0,
           0,
           0,
           0,
           0,
           0,
           0,
           0,
           0,
           0,
           0,
           0,
           0,
           0,
           0,
           0,
           0,
           0,
           0,
           0,
           0,
           0,
           0,
           0,
           0,
           0,
           0,
           0,
           0,
           0,
           0,
           0,
           0,
           0,
           0,
           0,
           0,
           0,
           0,
           0,
           0,
           0,
           0,
           0,
           0,
           0,
           0,
           0,
           0,
           0,
           0,
           0,
           0,
           0,
           0,
           0,
           0,
           0,
           0,
           0,
           0,
           0,
           0,
           0,
           0,
           0,
           0,
           0,
           0,
           0,
           0,
           0,
           0,
           0,
           0,
           0,
           0,
           0,
           0,
           0,
           0,
           0,
           0,
           0,
           0,
           0,
           0,
           0,
           0,
           0,
           0,
           0,
           0,
           0,
           0,
           0,
           0,
           0,
           0,
           0,
           0,
           0,
           0,
           0,
           0,
           0,
           0,
           0,
           0,
           0,
           0,
           0,
           0,
           0,
           0,
           0,
           0,
           0,
           0,
           0,
           0,
           0,
           0,
           0,
           0,
           0,
           0,
           0,
           0,
           0,
           0,
           0,
           0,
           0,
           0,
           0,
           0,
           0,
           0,
           0,
           0,
           0,
           0,
           0,
           0,
           0,
           0,
           0,
           0,
           0,
           0,
           0,
           0,
           0,
           0,
           0,
           0,
           0,
           0,
           0,
           0,
           0,
           0,
           0,
           0,
           0,
           0,
           0,
           0,
           0,
           0,
           0,
           0,
           0,
           0,
           0,
           0,
           0,
           0,
           0,
           0,
           0,
           0,
           0,
           0,
           0,
           0,
           0,
           0,
           0,
           0,
           0,
           0,
           0,
           0,
           0,
           0,
           0,
           0,
           0,
           0,
           0,
           0,
           0,
           0,
           0,
           0,
           0,
           0,
           0,
           0,
           0,
           0,
           0,
           0,
           0,
           0,
           0,
           0,
           0,
           0,
           0,
           0,
           0
          ],
          "coloraxis": "coloraxis",
          "symbol": "diamond"
         },
         "mode": "markers",
         "name": "0",
         "scene": "scene",
         "showlegend": true,
         "type": "scatter3d",
         "x": [
          -0.13698288106900305,
          -0.14706240435373116,
          -0.16630046557483047,
          -0.13761425943471056,
          -0.14550524779161422,
          -0.16504280690396755,
          0.17210699942736732,
          -0.167445412723018,
          -0.24166961824438352,
          -0.16706221956872425,
          -0.08105109477405661,
          2.553120406895915,
          -0.13407119046109375,
          -0.16432044974064555,
          -0.16686627998666428,
          -0.2098113904476695,
          -0.23153695312556147,
          -0.16691536649375255,
          -0.1674277061070408,
          -0.16751408729559064,
          -0.24175883780187243,
          0.19578607479960017,
          0.2404387299595617,
          0.08093401672434808,
          -0.1672607144916645,
          -0.1628707090071843,
          -0.16720001900499812,
          -0.16757101665712476,
          -0.1885950672834724,
          -0.1468147903085433,
          -0.16636753873942012,
          -0.16664454133687664,
          1.579322072709532,
          -0.13694431011180894,
          -0.1639366596756587,
          -0.16728712282692723,
          -0.1676415296151856,
          -0.16690161625592487,
          -0.14897434052080163,
          -0.16752291404408123,
          -0.03252355425308025,
          -0.13702180088998,
          -0.16119414128020082,
          -0.16750230422535156,
          -0.16559785356856158,
          -0.1669896115435108,
          -0.12418716939057389,
          -0.13648620030223413,
          -0.13677299982701363,
          -0.1367557244590533,
          -0.13734612065326435,
          -0.2419325995801895,
          -0.16721921605384835,
          -0.20253124156855445,
          -0.1643250401431899,
          -0.13655340640875774,
          3.8529614439280753,
          0.45586267822317783,
          -0.1660879384707753,
          -0.15069872843713322,
          -0.16480827123793423,
          -0.16764372588060147,
          -0.16467356702839334,
          -0.150912129422077,
          -0.14770696625743127,
          -0.11502028598495424,
          -0.16759421568820965,
          -0.1675169937549986,
          -0.04057566450060444,
          -0.11764601402586786,
          -0.16765261984729038,
          -0.13704953556589475,
          0.48419124340382164,
          -0.24132048229346081,
          -0.14808512231534843,
          -0.13678955218797376,
          -0.24160503208275635,
          -0.16577771671405392,
          -0.16497090485998173,
          -0.14812808874611194,
          0.35831018958555333,
          -0.24164041191812963,
          -0.13694543073203655,
          -0.16361513838237965,
          -0.174047113900489,
          -0.16621756018476924,
          0.2810556597164069,
          -0.24080191613621874,
          -0.12668368101423558,
          -0.16646396939383493,
          -0.15489435862145776,
          -0.16744270954913332,
          -0.24160364429675232,
          -0.16765267827473487,
          -0.24175338414475203,
          -0.32386663091832074,
          0.3009313270409822,
          -0.1372051994957655,
          -0.09511445197862706,
          -0.16482225750054605,
          -0.13716388616050204,
          -0.16731637626942,
          -0.14947891759008514,
          -0.14787057321740793,
          -0.16506439064662218,
          -0.09441642434683398,
          -0.22835380855341564,
          -0.2395833558956145,
          0.30092578225872024,
          -0.16763442851302418,
          0.3010563268265686,
          -0.14862515318374514,
          0.4731403235626422,
          -0.13637947794244942,
          -0.1676027596695212,
          -0.23449131745517127,
          -0.16507677641883642,
          -0.1657381767762197,
          -0.14834388465148796,
          -0.14214430344706047,
          -0.13854123663440024,
          -0.18796254092919032,
          -0.1671655698898721,
          -0.10356353206835085,
          -0.16698763520574786,
          -0.1362380333516347,
          -0.16522735279743256,
          -0.04137349997661964,
          -0.17295635347020105,
          0.3370069833008725,
          -0.24081017669681337,
          -0.16730680023192532,
          -0.16707012742666585,
          -0.24120454868370017,
          -0.24178141930450253,
          0.30132040880248206,
          -0.15705312673083152,
          3.2382930159268097,
          -0.11448602181170281,
          -0.23265950083019632,
          -0.13698204657399443,
          -0.09326218273008086,
          1.5766746579685598,
          -0.16740449158650092,
          -0.1668564995357285,
          -0.1665578154686847,
          -0.1665447665299695,
          0.30150399739292083,
          0.04707975360432128,
          -0.19622527382322752,
          -0.19327889779042742,
          -0.1649230348779063,
          -0.12544374163068622,
          -0.16573638869018129,
          -0.2373302294678658,
          -0.1931244129248307,
          -0.1462363913673695,
          -0.1932245626255948,
          -0.10526220295725965,
          1.1382142371707604,
          0.30090851475458424,
          -0.07116848547780966,
          -0.23707070266631006,
          -0.1253601712098468,
          -0.08388390682683253,
          1.092626870219811,
          -0.24175545122255035,
          -0.19327650517652217,
          -0.18632151130531321,
          -0.166656316688012,
          -0.2416809496016715,
          -0.1369614819653161,
          -0.20876693734870275,
          -0.2586824781892753,
          8.034321438085533,
          -0.11415704274044984,
          0.30477940082101956,
          0.02516528476259265,
          -0.12494814446380838,
          -0.18810392517502822,
          -0.16722933748874538,
          0.13951154185850861,
          -0.23582731145535643,
          -0.09930066078917191,
          0.308826843122318,
          -0.1674661254540477,
          -0.13976280103568095,
          -0.16391531292779823,
          -0.14726375762727795,
          -0.24085088638023514,
          0.3010907966683695,
          -0.1880221148423029,
          -0.14847050811026818,
          -0.15155279447440498,
          -0.14956324576783245,
          0.30501731674766475,
          0.592347623763532,
          2.108168869457192,
          -0.1252941425973376,
          0.3146821444279285,
          -0.1825004732422227,
          -0.14988303314384405,
          -0.2417376299170248,
          -0.16749066119854633,
          -0.12523462039597594,
          -0.16802428968991445,
          0.0013187997420952503,
          3.112400546102393,
          -0.09685607414189402,
          -0.2417090096833359,
          -0.18192849381197837,
          -0.05977455851492159,
          -0.14896137533247125,
          -0.13698208408163723,
          0.38078851120503904,
          -0.13902195778146886,
          -0.13941397627535493,
          -0.274711101293649,
          -0.19571344223233705,
          -0.16638393079901492,
          -0.1629843158790154,
          -0.16475603705028571,
          -0.16680565546537532,
          -0.13625901878665053,
          -0.11643828742126706,
          -0.13512792183530048,
          0.528088731332724,
          -0.1185275012303284,
          -0.08990348427389927,
          -0.15106248384044488,
          -0.13677237124666583,
          0.5474582003854674,
          -0.23109847167041364,
          -0.16756750925079425,
          -0.16552504288778183,
          -0.11575401974640517,
          -0.14102182275053363,
          -0.14790369357485933,
          0.3226425345657705,
          -0.16504386222571882
         ],
         "y": [
          -1.2702888593945065,
          -2.047475706457638,
          -1.153541016887494,
          -2.2345697990295355,
          -2.0475770367386272,
          -2.1304596645384906,
          -1.8344205719344904,
          -1.1535322304369102,
          -0.8712750085868872,
          -1.153550927227638,
          -1.828832564308628,
          -1.3428501863027436,
          -1.2703029946349136,
          -1.1535972292725745,
          -1.1535705621192787,
          -0.4587421590454641,
          -1.0925764690480588,
          -1.1535348605287754,
          -1.1535316658359895,
          -1.153528769166733,
          -0.8712764155526468,
          -1.8304697351961607,
          -1.273337375962299,
          -1.1553032119481579,
          -1.1535263410681216,
          -1.1535868011929034,
          -1.153532314310158,
          -1.1535292153992525,
          -1.6180540306130031,
          -1.1538806624105453,
          -1.1535330901146337,
          -1.1535435373185579,
          -1.162957084372625,
          -1.2702876295040522,
          -1.1535960785756494,
          -1.153526464171794,
          -1.1535243562618502,
          -1.1535299889501138,
          -2.2665403358143434,
          -1.153526793073078,
          -1.1599994159311573,
          -1.2702901004089815,
          -1.1535600923056417,
          -1.1535340445042983,
          -1.1536379611311276,
          -1.1535394092760205,
          -1.270504191583312,
          -1.2702917236845754,
          -1.270297265274986,
          -1.270324035060265,
          -1.2702855233063888,
          -0.8712690148433653,
          -1.1535264557589084,
          -1.3205218189784487,
          -1.153608462645528,
          -1.2702924201152226,
          -2.2936890651851396,
          -2.276574622013422,
          -1.1535494246765445,
          -1.1541909997362532,
          -1.1535526686997117,
          -1.1535253451290335,
          -1.1535437821575758,
          -1.153708908755711,
          -2.1117088019574055,
          -1.8284777926635007,
          -1.6047550687115821,
          -1.153521838525515,
          -1.1566613486232098,
          -2.2135189183376998,
          -1.1535241846707724,
          -1.2702909847690185,
          -1.1988834558904977,
          -0.8712732224179801,
          -2.1509922819566256,
          -1.2703062480884668,
          -0.8712736681283041,
          -1.1536151103142218,
          -1.1536179699697113,
          -2.0475218424296897,
          -2.0626253148537073,
          -0.8712712014448221,
          -1.2702876652366393,
          -1.153545980841945,
          -2.028303207089188,
          -1.1535383733298723,
          -1.2724925195582746,
          -0.8712933543584613,
          -2.091846681502977,
          -1.1536068759971916,
          -2.3078985428930006,
          -1.1535314252782372,
          -0.8712764997330918,
          -1.1535241843553543,
          -0.8712812744035405,
          -1.8603620110022188,
          -2.274332379798162,
          -1.270287849925884,
          -1.828705823414591,
          -1.1535772819305734,
          -1.2702871813106174,
          -1.1535345866007394,
          -2.243882612961083,
          -2.047520316925752,
          -2.130460352767172,
          -1.1583781386988992,
          -0.8711955176014612,
          -0.8713580296405995,
          -2.274340465206458,
          -1.153525110705629,
          -2.274339178461469,
          -2.150969391257717,
          -0.9203642945995292,
          -2.234663434601223,
          -1.1535245651441748,
          -0.871750702943965,
          -2.130457871848995,
          -1.153534590925678,
          -2.1509683312116263,
          -2.138066584195836,
          -1.1554713372996086,
          -0.6077950682556501,
          -1.1535337468917337,
          -1.2710055473462312,
          -1.1535543007106193,
          -2.234601407310168,
          -2.1087557906111583,
          -2.075614455026667,
          -2.089175624155248,
          -2.2746127941342773,
          -0.8713051211836809,
          -1.153526571659331,
          -1.1535590879860007,
          -0.871288937738366,
          -0.8712777826640171,
          -2.274351607786265,
          -2.2229164371663344,
          -1.188713080396056,
          -1.1622634754210834,
          -0.8717641892443924,
          -1.2702888327854311,
          -1.1587008160871999,
          -1.0979033548832728,
          -1.1535302066435238,
          -1.153558746830169,
          -1.1535607262844079,
          -1.1535603102002263,
          -2.2743708376574165,
          -2.13877897910885,
          -0.8711057063665736,
          -1.6179812213839209,
          -2.130455845435151,
          -2.091897954256658,
          -1.1535345339099825,
          -0.8713738990818007,
          -1.6179892367652933,
          -2.0476506777892265,
          -1.6179829398566397,
          -1.828641158445725,
          -2.3087391674061553,
          -2.274334904610942,
          -2.0522453605353324,
          -0.8715094165134474,
          -2.234897651113218,
          -1.1544474738005486,
          -1.2787953259954106,
          -0.8712776017020468,
          -1.6179768313074736,
          -1.6180994451201796,
          -1.1535379844304103,
          -0.8712775267957698,
          -1.2702875774372542,
          -1.2328260006719591,
          -0.13950718839520085,
          -2.746699007435714,
          -2.453903114523679,
          -2.2744440607221366,
          -1.1545651038899674,
          -2.091841668909522,
          -1.3207922507526015,
          -1.1535390008848672,
          -1.1569633255692202,
          -0.8714338209918541,
          -2.0506260211141534,
          -2.2747923943548134,
          -1.1535328908921338,
          -2.2493834974480387,
          -2.130458942011374,
          -2.2440122827933697,
          -0.8713064192704965,
          -2.2743333341780168,
          -0.6077773746463154,
          -2.1509761649131223,
          -2.0676363413753243,
          -2.243877465177805,
          -2.2746262813214897,
          -2.256161623513712,
          -2.348988213142954,
          -2.280243715696735,
          -2.274605689650045,
          -1.258249788162596,
          -2.1838236196412826,
          -0.8712778962009872,
          -1.1535344678940425,
          -2.235433243580172,
          -2.0767091663047155,
          -0.8370053370014141,
          -2.3083255712585484,
          -1.2705040847677411,
          -0.8712798594600074,
          -1.2582875745487527,
          -2.132552063815544,
          -2.2439111175334645,
          -1.270288833981416,
          -2.2775880587767485,
          -2.1608715676132153,
          -2.1608266287822415,
          -0.2224881408563963,
          -2.1149822947128394,
          -1.1535695610032919,
          -2.1305678721068895,
          -2.130457628148143,
          -1.604801820743079,
          -1.2702966934600441,
          -0.31273056375714203,
          -1.2703353990715662,
          -1.20186940226248,
          -1.6184541098878011,
          -2.164262525520808,
          -1.15371370302262,
          -1.2702972452317975,
          -1.1666696063826791,
          -1.0925775856819104,
          -1.1535246202349672,
          -1.1535867499000434,
          -1.8285032019193723,
          -2.191140035935551,
          -2.0475201381268735,
          -2.27463960684243,
          -2.130459698188942
         ],
         "z": [
          0.12215677813798505,
          0.32136036392381334,
          0.008168423838528997,
          0.3306156496398616,
          0.3213587754471673,
          0.4017458492138071,
          0.28257499138932385,
          0.00818253228341007,
          0.05078585282155685,
          0.008180912882306338,
          0.2849767326965126,
          0.007825239395747684,
          0.12211928279253839,
          0.008152101888043424,
          0.008182068553449636,
          0.057577544723982896,
          0.08006570863534579,
          0.008175717808403383,
          0.008182176168349632,
          0.008182800750077854,
          0.05078736406974747,
          0.28146949408426236,
          0.11753601241997347,
          0.005095309256692853,
          0.008178817636755977,
          0.008129993692451924,
          0.008179154164930438,
          0.008183676142513847,
          0.19444751704677019,
          0.007965747878979397,
          0.00816779087776865,
          0.008173679864234356,
          -0.014125439768170111,
          0.12215600239976565,
          0.00814656618372295,
          0.008179207193831554,
          0.008183694794953542,
          0.008174568363249677,
          0.44214365337515565,
          0.008182533753797657,
          0.007589515509001718,
          0.1221575608925447,
          0.008101541951630795,
          0.008183676484019175,
          0.008177793004954984,
          0.00817764053673467,
          0.12202216946038554,
          0.12215047133582708,
          0.12215552991328366,
          0.1221605620085953,
          0.1221611460938904,
          0.050788310560910835,
          0.00817826615464572,
          0.22404315874499128,
          0.008154377282906472,
          0.12215153815571893,
          0.2980764167528515,
          0.34169999891802716,
          0.008167139388320215,
          0.008080582612994045,
          0.00815007597936799,
          0.008183919888521018,
          0.008146462765980996,
          0.007988609127658771,
          0.27285386388737387,
          0.28537678676956074,
          0.20977305820105702,
          0.008181476286691173,
          0.007043625536511301,
          0.2765328470355566,
          0.008183814423813478,
          0.12215811869171979,
          0.008098000188175232,
          0.05078067137516685,
          0.3545492230878515,
          0.12215752763916551,
          0.05078469543290052,
          0.008175781713841122,
          0.008165183826699928,
          0.3213841903281777,
          0.3510274500368715,
          0.050784699157518064,
          0.12215602493765426,
          0.00813225401129566,
          0.30784605488850864,
          0.00816675644719701,
          0.11680778608128578,
          0.05077746188941854,
          0.2574233854204968,
          0.008183653564417715,
          0.4080363899862578,
          0.008182336350471423,
          0.050785233788845294,
          0.008183815169957467,
          0.0507882453532833,
          0.7029937986579806,
          0.3434017227548871,
          0.12215965479310208,
          0.2851463212056242,
          0.008155115896049774,
          0.12215895163564722,
          0.008181211206069332,
          0.36463193598787175,
          0.321380327631148,
          0.40174628330555073,
          0.00812646968146247,
          0.05058599760590728,
          0.050773339847760245,
          0.3434033915058529,
          0.008183745115304555,
          0.34340133226352104,
          0.35455218629384255,
          0.050563456730359495,
          0.33061700559418067,
          0.0081831996038829,
          0.050780218429377445,
          0.4017459661408558,
          0.008159380167182245,
          0.35454808666205145,
          0.3434745732036784,
          0.008164506310620203,
          0.016975174565874093,
          0.008178959696749992,
          0.12183559296012315,
          0.008180545377414939,
          0.33060283552245956,
          0.3469539306132384,
          0.35911405204079827,
          0.2881190128373157,
          0.34295788783672726,
          0.05077989309388831,
          0.008179500564270588,
          0.00818262915939645,
          0.050782162023719796,
          0.05078794563850762,
          0.34340012648901563,
          0.36378121802783236,
          -0.03200322163781775,
          0.11004166795678377,
          0.05075753365145981,
          0.12215676135464018,
          0.008174038983335375,
          -0.02689814405441695,
          0.008181567711670992,
          0.00817960678098019,
          0.008175864722037228,
          0.008175602282076198,
          0.34340137326648984,
          0.4004495742632565,
          0.05012386603794306,
          0.19449797400924415,
          0.4017434403615257,
          0.25741632862336233,
          0.008159344205236164,
          0.05074529616547265,
          0.194497415214914,
          0.3213833898638834,
          0.19449756074211583,
          0.28527396649008396,
          0.33859406726565094,
          0.3434025354719921,
          0.32124965480651113,
          0.050768389921576985,
          0.33051068906074166,
          0.007206806095277783,
          0.08179235251747415,
          0.050787550779120165,
          0.1944970764884491,
          0.19442500829001358,
          0.00817274937274509,
          0.050786505417857494,
          0.122156229693012,
          0.1366978107690437,
          0.11575849189993974,
          0.329433306341976,
          0.32745679625757623,
          0.3433704811478413,
          0.0057214450510107324,
          0.2573983900222712,
          0.22389682871843147,
          0.008180876351743272,
          0.004611864663858555,
          0.050736304527331834,
          0.32131996479820374,
          0.3433830794126298,
          0.008182948857388081,
          0.36595206863458224,
          0.4017301098519963,
          0.3646268252418798,
          0.0507807118461211,
          0.34339970466618397,
          0.016972514737551306,
          0.354551380782718,
          0.23631573584874158,
          0.36463208891652304,
          0.3434030698877517,
          0.34097759077888623,
          0.3331014714960769,
          0.3622380995006732,
          0.3432653177251304,
          0.15215995189004056,
          0.33875306651604253,
          0.05078736223754618,
          0.008183598788236098,
          0.330614412460481,
          0.2456100204025555,
          0.08592058839262538,
          0.316387929745234,
          0.12164406601138732,
          0.05078735289511863,
          0.15215947974384042,
          0.4007016311040027,
          0.3646303892692596,
          0.12215676210899304,
          0.34293808067663656,
          0.3348554431746942,
          0.3348520175027333,
          0.19611638559451086,
          0.38245027394217795,
          0.008175198892817929,
          0.4017386797329494,
          0.40174148123404346,
          0.2097713553723164,
          0.1221483072070781,
          -0.0842584847400741,
          0.12214028155446202,
          0.008078692178015837,
          0.19355702037411524,
          0.3348436594116328,
          0.00799163305232214,
          0.12215551727129001,
          0.0008797723926491555,
          0.08005986280832503,
          0.008182722817755173,
          0.008166702098076751,
          0.2853919399933305,
          0.37449163332306135,
          0.3213807505926584,
          0.3431618767593435,
          0.4017458704384137
         ]
        },
        {
         "customdata": [
          [
           "Proof-of-BibleHash"
          ],
          [
           "SHA-256 + Hive"
          ],
          [
           "SHA3-256"
          ]
         ],
         "hovertemplate": "<b>%{hovertext}</b><br><br>class=%{marker.color}<br>PC 1=%{x}<br>PC 2=%{y}<br>PC 3=%{z}<br>Algorithm=%{customdata[0]}<extra></extra>",
         "hovertext": [
          "BiblePay",
          "LitecoinCash",
          "Fiii"
         ],
         "legendgroup": "3",
         "marker": {
          "color": [
           3,
           3,
           3
          ],
          "coloraxis": "coloraxis",
          "symbol": "square"
         },
         "mode": "markers",
         "name": "3",
         "scene": "scene",
         "showlegend": true,
         "type": "scatter3d",
         "x": [
          -0.2226959982269871,
          -0.3451935754436808,
          -0.5065211807413378
         ],
         "y": [
          3.470063316288745,
          2.196027028567655,
          3.1412812733952067
         ],
         "z": [
          18.739306272264432,
          9.532984526736257,
          22.464391721284322
         ]
        },
        {
         "customdata": [
          [
           "TRC10"
          ]
         ],
         "hovertemplate": "<b>%{hovertext}</b><br><br>class=%{marker.color}<br>PC 1=%{x}<br>PC 2=%{y}<br>PC 3=%{z}<br>Algorithm=%{customdata[0]}<extra></extra>",
         "hovertext": [
          "BitTorrent"
         ],
         "legendgroup": "2",
         "marker": {
          "color": [
           2
          ],
          "coloraxis": "coloraxis",
          "symbol": "x"
         },
         "mode": "markers",
         "name": "2",
         "scene": "scene",
         "showlegend": true,
         "type": "scatter3d",
         "x": [
          34.034540279449814
         ],
         "y": [
          1.7525646844814777
         ],
         "z": [
          -0.37194885867059896
         ]
        }
       ],
       "layout": {
        "coloraxis": {
         "colorbar": {
          "title": {
           "text": "class"
          }
         },
         "colorscale": [
          [
           0,
           "#0d0887"
          ],
          [
           0.1111111111111111,
           "#46039f"
          ],
          [
           0.2222222222222222,
           "#7201a8"
          ],
          [
           0.3333333333333333,
           "#9c179e"
          ],
          [
           0.4444444444444444,
           "#bd3786"
          ],
          [
           0.5555555555555556,
           "#d8576b"
          ],
          [
           0.6666666666666666,
           "#ed7953"
          ],
          [
           0.7777777777777778,
           "#fb9f3a"
          ],
          [
           0.8888888888888888,
           "#fdca26"
          ],
          [
           1,
           "#f0f921"
          ]
         ]
        },
        "legend": {
         "title": {
          "text": "class"
         },
         "tracegroupgap": 0,
         "x": 0,
         "y": 1
        },
        "margin": {
         "t": 60
        },
        "scene": {
         "domain": {
          "x": [
           0,
           1
          ],
          "y": [
           0,
           1
          ]
         },
         "xaxis": {
          "title": {
           "text": "PC 1"
          }
         },
         "yaxis": {
          "title": {
           "text": "PC 2"
          }
         },
         "zaxis": {
          "title": {
           "text": "PC 3"
          }
         }
        },
        "template": {
         "data": {
          "bar": [
           {
            "error_x": {
             "color": "#2a3f5f"
            },
            "error_y": {
             "color": "#2a3f5f"
            },
            "marker": {
             "line": {
              "color": "#E5ECF6",
              "width": 0.5
             },
             "pattern": {
              "fillmode": "overlay",
              "size": 10,
              "solidity": 0.2
             }
            },
            "type": "bar"
           }
          ],
          "barpolar": [
           {
            "marker": {
             "line": {
              "color": "#E5ECF6",
              "width": 0.5
             },
             "pattern": {
              "fillmode": "overlay",
              "size": 10,
              "solidity": 0.2
             }
            },
            "type": "barpolar"
           }
          ],
          "carpet": [
           {
            "aaxis": {
             "endlinecolor": "#2a3f5f",
             "gridcolor": "white",
             "linecolor": "white",
             "minorgridcolor": "white",
             "startlinecolor": "#2a3f5f"
            },
            "baxis": {
             "endlinecolor": "#2a3f5f",
             "gridcolor": "white",
             "linecolor": "white",
             "minorgridcolor": "white",
             "startlinecolor": "#2a3f5f"
            },
            "type": "carpet"
           }
          ],
          "choropleth": [
           {
            "colorbar": {
             "outlinewidth": 0,
             "ticks": ""
            },
            "type": "choropleth"
           }
          ],
          "contour": [
           {
            "colorbar": {
             "outlinewidth": 0,
             "ticks": ""
            },
            "colorscale": [
             [
              0,
              "#0d0887"
             ],
             [
              0.1111111111111111,
              "#46039f"
             ],
             [
              0.2222222222222222,
              "#7201a8"
             ],
             [
              0.3333333333333333,
              "#9c179e"
             ],
             [
              0.4444444444444444,
              "#bd3786"
             ],
             [
              0.5555555555555556,
              "#d8576b"
             ],
             [
              0.6666666666666666,
              "#ed7953"
             ],
             [
              0.7777777777777778,
              "#fb9f3a"
             ],
             [
              0.8888888888888888,
              "#fdca26"
             ],
             [
              1,
              "#f0f921"
             ]
            ],
            "type": "contour"
           }
          ],
          "contourcarpet": [
           {
            "colorbar": {
             "outlinewidth": 0,
             "ticks": ""
            },
            "type": "contourcarpet"
           }
          ],
          "heatmap": [
           {
            "colorbar": {
             "outlinewidth": 0,
             "ticks": ""
            },
            "colorscale": [
             [
              0,
              "#0d0887"
             ],
             [
              0.1111111111111111,
              "#46039f"
             ],
             [
              0.2222222222222222,
              "#7201a8"
             ],
             [
              0.3333333333333333,
              "#9c179e"
             ],
             [
              0.4444444444444444,
              "#bd3786"
             ],
             [
              0.5555555555555556,
              "#d8576b"
             ],
             [
              0.6666666666666666,
              "#ed7953"
             ],
             [
              0.7777777777777778,
              "#fb9f3a"
             ],
             [
              0.8888888888888888,
              "#fdca26"
             ],
             [
              1,
              "#f0f921"
             ]
            ],
            "type": "heatmap"
           }
          ],
          "heatmapgl": [
           {
            "colorbar": {
             "outlinewidth": 0,
             "ticks": ""
            },
            "colorscale": [
             [
              0,
              "#0d0887"
             ],
             [
              0.1111111111111111,
              "#46039f"
             ],
             [
              0.2222222222222222,
              "#7201a8"
             ],
             [
              0.3333333333333333,
              "#9c179e"
             ],
             [
              0.4444444444444444,
              "#bd3786"
             ],
             [
              0.5555555555555556,
              "#d8576b"
             ],
             [
              0.6666666666666666,
              "#ed7953"
             ],
             [
              0.7777777777777778,
              "#fb9f3a"
             ],
             [
              0.8888888888888888,
              "#fdca26"
             ],
             [
              1,
              "#f0f921"
             ]
            ],
            "type": "heatmapgl"
           }
          ],
          "histogram": [
           {
            "marker": {
             "pattern": {
              "fillmode": "overlay",
              "size": 10,
              "solidity": 0.2
             }
            },
            "type": "histogram"
           }
          ],
          "histogram2d": [
           {
            "colorbar": {
             "outlinewidth": 0,
             "ticks": ""
            },
            "colorscale": [
             [
              0,
              "#0d0887"
             ],
             [
              0.1111111111111111,
              "#46039f"
             ],
             [
              0.2222222222222222,
              "#7201a8"
             ],
             [
              0.3333333333333333,
              "#9c179e"
             ],
             [
              0.4444444444444444,
              "#bd3786"
             ],
             [
              0.5555555555555556,
              "#d8576b"
             ],
             [
              0.6666666666666666,
              "#ed7953"
             ],
             [
              0.7777777777777778,
              "#fb9f3a"
             ],
             [
              0.8888888888888888,
              "#fdca26"
             ],
             [
              1,
              "#f0f921"
             ]
            ],
            "type": "histogram2d"
           }
          ],
          "histogram2dcontour": [
           {
            "colorbar": {
             "outlinewidth": 0,
             "ticks": ""
            },
            "colorscale": [
             [
              0,
              "#0d0887"
             ],
             [
              0.1111111111111111,
              "#46039f"
             ],
             [
              0.2222222222222222,
              "#7201a8"
             ],
             [
              0.3333333333333333,
              "#9c179e"
             ],
             [
              0.4444444444444444,
              "#bd3786"
             ],
             [
              0.5555555555555556,
              "#d8576b"
             ],
             [
              0.6666666666666666,
              "#ed7953"
             ],
             [
              0.7777777777777778,
              "#fb9f3a"
             ],
             [
              0.8888888888888888,
              "#fdca26"
             ],
             [
              1,
              "#f0f921"
             ]
            ],
            "type": "histogram2dcontour"
           }
          ],
          "mesh3d": [
           {
            "colorbar": {
             "outlinewidth": 0,
             "ticks": ""
            },
            "type": "mesh3d"
           }
          ],
          "parcoords": [
           {
            "line": {
             "colorbar": {
              "outlinewidth": 0,
              "ticks": ""
             }
            },
            "type": "parcoords"
           }
          ],
          "pie": [
           {
            "automargin": true,
            "type": "pie"
           }
          ],
          "scatter": [
           {
            "marker": {
             "colorbar": {
              "outlinewidth": 0,
              "ticks": ""
             }
            },
            "type": "scatter"
           }
          ],
          "scatter3d": [
           {
            "line": {
             "colorbar": {
              "outlinewidth": 0,
              "ticks": ""
             }
            },
            "marker": {
             "colorbar": {
              "outlinewidth": 0,
              "ticks": ""
             }
            },
            "type": "scatter3d"
           }
          ],
          "scattercarpet": [
           {
            "marker": {
             "colorbar": {
              "outlinewidth": 0,
              "ticks": ""
             }
            },
            "type": "scattercarpet"
           }
          ],
          "scattergeo": [
           {
            "marker": {
             "colorbar": {
              "outlinewidth": 0,
              "ticks": ""
             }
            },
            "type": "scattergeo"
           }
          ],
          "scattergl": [
           {
            "marker": {
             "colorbar": {
              "outlinewidth": 0,
              "ticks": ""
             }
            },
            "type": "scattergl"
           }
          ],
          "scattermapbox": [
           {
            "marker": {
             "colorbar": {
              "outlinewidth": 0,
              "ticks": ""
             }
            },
            "type": "scattermapbox"
           }
          ],
          "scatterpolar": [
           {
            "marker": {
             "colorbar": {
              "outlinewidth": 0,
              "ticks": ""
             }
            },
            "type": "scatterpolar"
           }
          ],
          "scatterpolargl": [
           {
            "marker": {
             "colorbar": {
              "outlinewidth": 0,
              "ticks": ""
             }
            },
            "type": "scatterpolargl"
           }
          ],
          "scatterternary": [
           {
            "marker": {
             "colorbar": {
              "outlinewidth": 0,
              "ticks": ""
             }
            },
            "type": "scatterternary"
           }
          ],
          "surface": [
           {
            "colorbar": {
             "outlinewidth": 0,
             "ticks": ""
            },
            "colorscale": [
             [
              0,
              "#0d0887"
             ],
             [
              0.1111111111111111,
              "#46039f"
             ],
             [
              0.2222222222222222,
              "#7201a8"
             ],
             [
              0.3333333333333333,
              "#9c179e"
             ],
             [
              0.4444444444444444,
              "#bd3786"
             ],
             [
              0.5555555555555556,
              "#d8576b"
             ],
             [
              0.6666666666666666,
              "#ed7953"
             ],
             [
              0.7777777777777778,
              "#fb9f3a"
             ],
             [
              0.8888888888888888,
              "#fdca26"
             ],
             [
              1,
              "#f0f921"
             ]
            ],
            "type": "surface"
           }
          ],
          "table": [
           {
            "cells": {
             "fill": {
              "color": "#EBF0F8"
             },
             "line": {
              "color": "white"
             }
            },
            "header": {
             "fill": {
              "color": "#C8D4E3"
             },
             "line": {
              "color": "white"
             }
            },
            "type": "table"
           }
          ]
         },
         "layout": {
          "annotationdefaults": {
           "arrowcolor": "#2a3f5f",
           "arrowhead": 0,
           "arrowwidth": 1
          },
          "autotypenumbers": "strict",
          "coloraxis": {
           "colorbar": {
            "outlinewidth": 0,
            "ticks": ""
           }
          },
          "colorscale": {
           "diverging": [
            [
             0,
             "#8e0152"
            ],
            [
             0.1,
             "#c51b7d"
            ],
            [
             0.2,
             "#de77ae"
            ],
            [
             0.3,
             "#f1b6da"
            ],
            [
             0.4,
             "#fde0ef"
            ],
            [
             0.5,
             "#f7f7f7"
            ],
            [
             0.6,
             "#e6f5d0"
            ],
            [
             0.7,
             "#b8e186"
            ],
            [
             0.8,
             "#7fbc41"
            ],
            [
             0.9,
             "#4d9221"
            ],
            [
             1,
             "#276419"
            ]
           ],
           "sequential": [
            [
             0,
             "#0d0887"
            ],
            [
             0.1111111111111111,
             "#46039f"
            ],
            [
             0.2222222222222222,
             "#7201a8"
            ],
            [
             0.3333333333333333,
             "#9c179e"
            ],
            [
             0.4444444444444444,
             "#bd3786"
            ],
            [
             0.5555555555555556,
             "#d8576b"
            ],
            [
             0.6666666666666666,
             "#ed7953"
            ],
            [
             0.7777777777777778,
             "#fb9f3a"
            ],
            [
             0.8888888888888888,
             "#fdca26"
            ],
            [
             1,
             "#f0f921"
            ]
           ],
           "sequentialminus": [
            [
             0,
             "#0d0887"
            ],
            [
             0.1111111111111111,
             "#46039f"
            ],
            [
             0.2222222222222222,
             "#7201a8"
            ],
            [
             0.3333333333333333,
             "#9c179e"
            ],
            [
             0.4444444444444444,
             "#bd3786"
            ],
            [
             0.5555555555555556,
             "#d8576b"
            ],
            [
             0.6666666666666666,
             "#ed7953"
            ],
            [
             0.7777777777777778,
             "#fb9f3a"
            ],
            [
             0.8888888888888888,
             "#fdca26"
            ],
            [
             1,
             "#f0f921"
            ]
           ]
          },
          "colorway": [
           "#636efa",
           "#EF553B",
           "#00cc96",
           "#ab63fa",
           "#FFA15A",
           "#19d3f3",
           "#FF6692",
           "#B6E880",
           "#FF97FF",
           "#FECB52"
          ],
          "font": {
           "color": "#2a3f5f"
          },
          "geo": {
           "bgcolor": "white",
           "lakecolor": "white",
           "landcolor": "#E5ECF6",
           "showlakes": true,
           "showland": true,
           "subunitcolor": "white"
          },
          "hoverlabel": {
           "align": "left"
          },
          "hovermode": "closest",
          "mapbox": {
           "style": "light"
          },
          "paper_bgcolor": "white",
          "plot_bgcolor": "#E5ECF6",
          "polar": {
           "angularaxis": {
            "gridcolor": "white",
            "linecolor": "white",
            "ticks": ""
           },
           "bgcolor": "#E5ECF6",
           "radialaxis": {
            "gridcolor": "white",
            "linecolor": "white",
            "ticks": ""
           }
          },
          "scene": {
           "xaxis": {
            "backgroundcolor": "#E5ECF6",
            "gridcolor": "white",
            "gridwidth": 2,
            "linecolor": "white",
            "showbackground": true,
            "ticks": "",
            "zerolinecolor": "white"
           },
           "yaxis": {
            "backgroundcolor": "#E5ECF6",
            "gridcolor": "white",
            "gridwidth": 2,
            "linecolor": "white",
            "showbackground": true,
            "ticks": "",
            "zerolinecolor": "white"
           },
           "zaxis": {
            "backgroundcolor": "#E5ECF6",
            "gridcolor": "white",
            "gridwidth": 2,
            "linecolor": "white",
            "showbackground": true,
            "ticks": "",
            "zerolinecolor": "white"
           }
          },
          "shapedefaults": {
           "line": {
            "color": "#2a3f5f"
           }
          },
          "ternary": {
           "aaxis": {
            "gridcolor": "white",
            "linecolor": "white",
            "ticks": ""
           },
           "baxis": {
            "gridcolor": "white",
            "linecolor": "white",
            "ticks": ""
           },
           "bgcolor": "#E5ECF6",
           "caxis": {
            "gridcolor": "white",
            "linecolor": "white",
            "ticks": ""
           }
          },
          "title": {
           "x": 0.05
          },
          "xaxis": {
           "automargin": true,
           "gridcolor": "white",
           "linecolor": "white",
           "ticks": "",
           "title": {
            "standoff": 15
           },
           "zerolinecolor": "white",
           "zerolinewidth": 2
          },
          "yaxis": {
           "automargin": true,
           "gridcolor": "white",
           "linecolor": "white",
           "ticks": "",
           "title": {
            "standoff": 15
           },
           "zerolinecolor": "white",
           "zerolinewidth": 2
          }
         }
        },
        "width": 800
       }
      },
      "text/html": [
       "<div>                            <div id=\"1661981c-85ad-421f-b520-2ab238a9f181\" class=\"plotly-graph-div\" style=\"height:525px; width:800px;\"></div>            <script type=\"text/javascript\">                require([\"plotly\"], function(Plotly) {                    window.PLOTLYENV=window.PLOTLYENV || {};                                    if (document.getElementById(\"1661981c-85ad-421f-b520-2ab238a9f181\")) {                    Plotly.newPlot(                        \"1661981c-85ad-421f-b520-2ab238a9f181\",                        [{\"customdata\":[[\"Scrypt\"],[\"Scrypt\"],[\"X13\"],[\"X11\"],[\"SHA-512\"],[\"SHA-256\"],[\"SHA-256\"],[\"X15\"],[\"Scrypt\"],[\"Scrypt\"],[\"Scrypt\"],[\"Scrypt\"],[\"Scrypt\"],[\"Scrypt\"],[\"Groestl\"],[\"PoS\"],[\"Scrypt\"],[\"Scrypt\"],[\"X11\"],[\"X11\"],[\"SHA3\"],[\"Scrypt\"],[\"SHA-256\"],[\"Scrypt\"],[\"X13\"],[\"X13\"],[\"NeoScrypt\"],[\"Scrypt\"],[\"Scrypt\"],[\"Scrypt\"],[\"X11\"],[\"X11\"],[\"Multiple\"],[\"PHI1612\"],[\"X11\"],[\"Scrypt\"],[\"Scrypt\"],[\"Scrypt\"],[\"X11\"],[\"Multiple\"],[\"X13\"],[\"Scrypt\"],[\"Shabal256\"],[\"Counterparty\"],[\"SHA-256\"],[\"Groestl\"],[\"Scrypt\"],[\"X13\"],[\"Scrypt\"],[\"Scrypt\"],[\"X13\"],[\"X11\"],[\"Scrypt\"],[\"X11\"],[\"SHA3\"],[\"QUAIT\"],[\"X11\"],[\"Scrypt\"],[\"X13\"],[\"SHA-256\"],[\"X15\"],[\"BLAKE256\"],[\"SHA-256\"],[\"X11\"],[\"SHA-256\"],[\"NIST5\"],[\"Scrypt\"],[\"Scrypt\"],[\"X11\"],[\"Scrypt\"],[\"SHA-256\"],[\"Scrypt\"],[\"PoS\"],[\"X11\"],[\"SHA-256\"],[\"SHA-256\"],[\"NIST5\"],[\"X11\"],[\"POS 3.0\"],[\"Scrypt\"],[\"Scrypt\"],[\"Scrypt\"],[\"X13\"],[\"X11\"],[\"X11\"],[\"Scrypt\"],[\"SHA-256\"],[\"X11\"],[\"Scrypt\"],[\"Scrypt\"],[\"Scrypt\"],[\"Scrypt\"],[\"SHA-256D\"],[\"PoS\"],[\"Scrypt\"],[\"X11\"],[\"PoS\"],[\"X13\"],[\"X14\"],[\"PoS\"],[\"SHA-256D\"],[\"DPoS\"],[\"X11\"],[\"X13\"],[\"X11\"],[\"PoS\"],[\"Scrypt\"],[\"Scrypt\"],[\"PoS\"],[\"X11\"],[\"SHA-256\"],[\"Scrypt\"],[\"X11\"],[\"Scrypt\"],[\"Scrypt\"],[\"X11\"],[\"Scrypt\"],[\"Scrypt\"],[\"Scrypt\"],[\"Scrypt\"],[\"Quark\"],[\"QuBit\"],[\"Scrypt\"],[\"SHA-256\"],[\"X11\"],[\"Scrypt\"],[\"Scrypt\"],[\"Scrypt\"],[\"Scrypt\"],[\"X13\"],[\"Scrypt\"],[\"Scrypt\"],[\"X11\"],[\"Blake2S\"],[\"X11\"],[\"PoS\"],[\"X11\"],[\"PoS\"],[\"X11\"],[\"Scrypt\"],[\"Scrypt\"],[\"Scrypt\"],[\"SHA-256\"],[\"X11\"],[\"Scrypt\"],[\"PoS\"],[\"Scrypt\"],[\"X15\"],[\"SHA-256\"],[\"POS 3.0\"],[\"536\"],[\"NIST5\"],[\"NIST5\"],[\"Skein\"],[\"X13\"],[\"Scrypt\"],[\"X13\"],[\"SkunkHash v2 Raptor\"],[\"Skein\"],[\"X11\"],[\"Scrypt\"],[\"VeChainThor Authority\"],[\"PoS\"],[\"Scrypt\"],[\"Scrypt\"],[\"SHA-512\"],[\"Ouroboros\"],[\"X11\"],[\"NeoScrypt\"],[\"Scrypt\"],[\"Lyra2REv2\"],[\"Scrypt\"],[\"SHA-256\"],[\"NIST5\"],[\"PHI1612\"],[\"Scrypt\"],[\"Quark\"],[\"POS 2.0\"],[\"Scrypt\"],[\"SHA-256\"],[\"X11\"],[\"DPoS\"],[\"NIST5\"],[\"X13\"],[\"Scrypt\"],[\"NIST5\"],[\"Quark\"],[\"Scrypt\"],[\"Scrypt\"],[\"X11\"],[\"Quark\"],[\"Scrypt\"],[\"Scrypt\"],[\"X11\"],[\"POS 3.0\"],[\"Scrypt\"],[\"Scrypt\"],[\"X13\"],[\"C11\"],[\"Proof-of-Authority\"],[\"X11\"],[\"XEVAN\"],[\"Scrypt\"],[\"VBFT\"],[\"NIST5\"],[\"Scrypt\"],[\"Scrypt\"],[\"Scrypt\"],[\"Green Protocol\"],[\"PoS\"],[\"Scrypt\"],[\"Semux BFT consensus\"],[\"Quark\"],[\"PoS\"],[\"X16R\"],[\"Scrypt\"],[\"XEVAN\"],[\"Scrypt\"],[\"Scrypt\"],[\"Scrypt\"],[\"SHA-256D\"],[\"Scrypt\"],[\"X15\"],[\"Scrypt\"],[\"Quark\"],[\"SHA-256\"],[\"DPoS\"],[\"X16R\"],[\"Quark\"],[\"Quark\"],[\"Scrypt\"],[\"Lyra2REv2\"],[\"Quark\"],[\"Scrypt\"],[\"X11\"],[\"X11\"],[\"Scrypt\"],[\"PoS\"],[\"Keccak\"],[\"X11\"],[\"Scrypt\"],[\"SHA-512\"],[\"ECC 256K1\"],[\"XEVAN\"],[\"XEVAN\"],[\"X11\"],[\"Quark\"],[\"Scrypt\"],[\"Quark\"],[\"Quark\"],[\"Scrypt\"],[\"X11\"],[\"Scrypt\"],[\"XEVAN\"],[\"SHA-256D\"],[\"X11\"],[\"X11\"],[\"DPoS\"],[\"Scrypt\"],[\"X11\"],[\"Scrypt\"],[\"Scrypt\"],[\"SHA-256\"],[\"Scrypt\"],[\"X11\"],[\"Scrypt\"],[\"SHA-256\"],[\"X11\"],[\"Scrypt\"],[\"Scrypt\"],[\"X11\"],[\"Scrypt\"],[\"PoS\"],[\"X11\"],[\"SHA-256\"],[\"DPoS\"],[\"Scrypt\"],[\"Scrypt\"],[\"NeoScrypt\"],[\"X13\"],[\"DPoS\"],[\"DPoS\"],[\"SHA-256\"],[\"Leased POS\"],[\"PoS\"],[\"PoS\"],[\"SHA-256\"],[\"Scrypt\"],[\"Scrypt\"]],\"hovertemplate\":\"<b>%{hovertext}</b><br><br>class=%{marker.color}<br>PC 1=%{x}<br>PC 2=%{y}<br>PC 3=%{z}<br>Algorithm=%{customdata[0]}<extra></extra>\",\"hovertext\":[\"42 Coin\",\"404Coin\",\"EliteCoin\",\"Dash\",\"Bitshares\",\"BitcoinDark\",\"PayCoin\",\"KoboCoin\",\"Aurora Coin\",\"BlueCoin\",\"EnergyCoin\",\"BitBar\",\"CryptoBullion\",\"CasinoCoin\",\"Diamond\",\"Exclusive Coin\",\"FlutterCoin\",\"HoboNickels\",\"HyperStake\",\"IOCoin\",\"MaxCoin\",\"MintCoin\",\"MazaCoin\",\"Nautilus Coin\",\"NavCoin\",\"OpalCoin\",\"Orbitcoin\",\"PotCoin\",\"PhoenixCoin\",\"Reddcoin\",\"SuperCoin\",\"SyncCoin\",\"TeslaCoin\",\"TittieCoin\",\"TorCoin\",\"UnitaryStatus Dollar\",\"UltraCoin\",\"VeriCoin\",\"X11 Coin\",\"Crypti\",\"StealthCoin\",\"ZCC Coin\",\"BurstCoin\",\"StorjCoin\",\"Neutron\",\"FairCoin\",\"RubyCoin\",\"Kore\",\"Dnotes\",\"8BIT Coin\",\"Sativa Coin\",\"Ucoin\",\"Vtorrent\",\"IslaCoin\",\"Nexus\",\"Droidz\",\"Squall Coin\",\"Diggits\",\"Paycon\",\"Emercoin\",\"EverGreenCoin\",\"Decred\",\"EDRCoin\",\"Hitcoin\",\"DubaiCoin\",\"PWR Coin\",\"BillaryCoin\",\"GPU Coin\",\"EuropeCoin\",\"ZeitCoin\",\"SwingCoin\",\"SafeExchangeCoin\",\"Nebuchadnezzar\",\"Ratecoin\",\"Revenu\",\"Clockcoin\",\"VIP Tokens\",\"BitSend\",\"Let it Ride\",\"PutinCoin\",\"iBankCoin\",\"Frankywillcoin\",\"MudraCoin\",\"Lutetium Coin\",\"GoldBlocks\",\"CarterCoin\",\"BitTokens\",\"MustangCoin\",\"ZoneCoin\",\"RootCoin\",\"BitCurrency\",\"Swiscoin\",\"BuzzCoin\",\"Opair\",\"PesoBit\",\"Halloween Coin\",\"CoffeeCoin\",\"RoyalCoin\",\"GanjaCoin V2\",\"TeamUP\",\"LanaCoin\",\"ARK\",\"InsaneCoin\",\"EmberCoin\",\"XenixCoin\",\"FreeCoin\",\"PLNCoin\",\"AquariusCoin\",\"Creatio\",\"Eternity\",\"Eurocoin\",\"BitcoinFast\",\"Stakenet\",\"BitConnect Coin\",\"MoneyCoin\",\"Enigma\",\"Russiacoin\",\"PandaCoin\",\"GameUnits\",\"GAKHcoin\",\"Allsafe\",\"LiteCreed\",\"Klingon Empire Darsek\",\"Internet of People\",\"KushCoin\",\"Printerium\",\"Impeach\",\"Zilbercoin\",\"FirstCoin\",\"FindCoin\",\"OpenChat\",\"RenosCoin\",\"VirtacoinPlus\",\"TajCoin\",\"Impact\",\"Atmos\",\"HappyCoin\",\"MacronCoin\",\"Condensate\",\"Independent Money System\",\"ArgusCoin\",\"LomoCoin\",\"ProCurrency\",\"GoldReserve\",\"GrowthCoin\",\"Phreak\",\"Degas Coin\",\"HTML5 Coin\",\"Ultimate Secure Cash\",\"QTUM\",\"Espers\",\"Denarius\",\"Virta Unique Coin\",\"Bitcoin Planet\",\"BritCoin\",\"Linda\",\"DeepOnion\",\"Signatum\",\"Cream\",\"Monoeci\",\"Draftcoin\",\"Vechain\",\"Stakecoin\",\"CoinonatX\",\"Ethereum Dark\",\"Obsidian\",\"Cardano\",\"Regalcoin\",\"TrezarCoin\",\"TerraNovaCoin\",\"Rupee\",\"WomenCoin\",\"Theresa May Coin\",\"NamoCoin\",\"LUXCoin\",\"Xios\",\"Bitcloud 2.0\",\"KekCoin\",\"BlackholeCoin\",\"Infinity Economics\",\"Magnet\",\"Lamden Tau\",\"Electra\",\"Bitcoin Diamond\",\"Cash & Back Coin\",\"Bulwark\",\"Kalkulus\",\"GermanCoin\",\"LiteCoin Ultra\",\"PhantomX\",\"Digiwage\",\"Trollcoin\",\"Litecoin Plus\",\"Monkey Project\",\"TokenPay\",\"My Big Coin\",\"Unified Society USDEX\",\"Tokyo Coin\",\"Stipend\",\"Poa Network\",\"Pushi\",\"Ellerium\",\"Velox\",\"Ontology\",\"Bitspace\",\"Briacoin\",\"Ignition\",\"MedicCoin\",\"Bitcoin Green\",\"Deviant Coin\",\"Abjcoin\",\"Semux\",\"Carebit\",\"Zealium\",\"Proton\",\"iDealCash\",\"Bitcoin Incognito\",\"HollyWoodCoin\",\"Swisscoin\",\"Xt3ch\",\"TheVig\",\"EmaratCoin\",\"Dekado\",\"Lynx\",\"Poseidon Quark\",\"BitcoinWSpectrum\",\"Muse\",\"Trivechain\",\"Dystem\",\"Giant\",\"Peony Coin\",\"Absolute Coin\",\"Vitae\",\"TPCash\",\"ARENON\",\"EUNO\",\"MMOCoin\",\"Ketan\",\"XDNA\",\"PAXEX\",\"ThunderStake\",\"Kcash\",\"Acute Angle Cloud\",\"Bettex coin\",\"BitMoney\",\"Junson Ming Chan Coin\",\"HerbCoin\",\"Oduwa\",\"Galilel\",\"Crypto Sports\",\"Credit\",\"Dash Platinum\",\"Nasdacoin\",\"Beetle Coin\",\"Titan Coin\",\"Award\",\"Insane Coin\",\"ALAX\",\"LiteDoge\",\"TruckCoin\",\"OrangeCoin\",\"BitstarCoin\",\"NeosCoin\",\"HyperCoin\",\"PinkCoin\",\"AudioCoin\",\"IncaKoin\",\"Piggy Coin\",\"Genstake\",\"XiaoMiCoin\",\"CapriCoin\",\" ClubCoin\",\"Radium\",\"Creditbit \",\"OKCash\",\"Lisk\",\"HiCoin\",\"WhiteCoin\",\"FriendshipCoin\",\"Triangles Coin\",\"EOS\",\"Oxycoin\",\"TigerCash\",\"Waves\",\"Particl\",\"Nxt\",\"ZEPHYR\",\"Gapcoin\",\"BitcoinPlus\"],\"legendgroup\":\"1\",\"marker\":{\"color\":[1,1,1,1,1,1,1,1,1,1,1,1,1,1,1,1,1,1,1,1,1,1,1,1,1,1,1,1,1,1,1,1,1,1,1,1,1,1,1,1,1,1,1,1,1,1,1,1,1,1,1,1,1,1,1,1,1,1,1,1,1,1,1,1,1,1,1,1,1,1,1,1,1,1,1,1,1,1,1,1,1,1,1,1,1,1,1,1,1,1,1,1,1,1,1,1,1,1,1,1,1,1,1,1,1,1,1,1,1,1,1,1,1,1,1,1,1,1,1,1,1,1,1,1,1,1,1,1,1,1,1,1,1,1,1,1,1,1,1,1,1,1,1,1,1,1,1,1,1,1,1,1,1,1,1,1,1,1,1,1,1,1,1,1,1,1,1,1,1,1,1,1,1,1,1,1,1,1,1,1,1,1,1,1,1,1,1,1,1,1,1,1,1,1,1,1,1,1,1,1,1,1,1,1,1,1,1,1,1,1,1,1,1,1,1,1,1,1,1,1,1,1,1,1,1,1,1,1,1,1,1,1,1,1,1,1,1,1,1,1,1,1,1,1,1,1,1,1,1,1,1,1,1,1,1,1,1,1,1,1,1,1,1,1,1,1,1,1,1,1,1,1,1,1,1,1,1,1,1,1,1,1,1,1,1,1,1,1,1],\"coloraxis\":\"coloraxis\",\"symbol\":\"circle\"},\"mode\":\"markers\",\"name\":\"1\",\"scene\":\"scene\",\"showlegend\":true,\"x\":[-0.3420418392740007,-0.32540168799447944,2.2922312114143155,-0.41605856223590004,-0.3804038031351579,-0.3115560181540365,-0.24745324549779726,-0.25362577719401075,-0.34170182350446654,-0.3342911887741858,-0.3405407683414724,-0.34203777802737584,-0.3420220799693265,0.683097556492091,-0.4070424330838657,-0.3158047755035746,-0.29001816946585063,-0.3401027517632325,-0.3318111811372513,-0.4159534234994876,-0.4713982126041049,-0.018267405600289263,-0.27490173290494246,-0.277690350997475,-0.2900386118758124,-0.2906598449514442,-0.3678322969860628,-0.3363498521262095,-0.3404453468853713,0.015537941025538106,-0.3516665981823844,-0.4163245792833173,-0.22446477356145408,-0.2935470046457224,-0.4162362817935363,-0.3173006436843835,-0.3407205529442899,-0.27425467281243654,-0.4162008476395536,-0.22493253619929618,-0.2904410520619094,-0.3331513357227425,0.05655018076945344,-0.2527677385312516,-0.3107686207534714,-0.40646493641147513,-0.2776707639516762,-0.2907350225710724,-0.27232939618631485,-0.3420239359355385,-0.2906872981635278,-0.3521105935146382,-0.3417585826895474,-0.41630613715806025,-0.5303866869275611,-0.4083609218478246,-0.25503937661187176,-0.27607405119481815,-0.29020938281909825,-0.3041170134888437,-0.256065845477698,-0.08618116277237303,-0.3115269777261332,-0.09407905554141018,-0.31159065932889357,-0.2399819914996482,-0.34163449108989113,-0.2759423852734236,-0.41347687196250626,0.8744106506607715,-0.3113908124679379,-0.04681191560033689,-0.3154883946157241,-0.41415194905521474,-0.31013494423765886,-0.30780454775210075,-0.3611495990006143,-0.4150422613582096,-0.3283484786155487,-0.317953303842931,-0.341672511359034,-0.34011354158393725,-0.225327162402002,-0.3396161891914973,-0.4157804898352616,-0.3408776402810185,-0.31157156175510664,-0.41629532300269195,-0.3418615532992202,-0.34201817807932705,-0.27593365234922523,-0.2329124359749696,0.015521043157944354,-0.3144467010637369,-0.3416329402131428,-0.402468090491942,-0.3137766505914108,-0.22675701609152443,-0.41147543230012845,-0.3135240103888498,-0.29860603276911835,3.7584779860982023,-0.41588830096653284,0.8397097177560313,-0.4162502970828386,-0.3149099050657395,-0.34156031740129505,-0.3417143752438955,-0.3154883946157241,-0.4158254449136234,-0.3114344576900232,-0.3415610939714387,-0.44912120837301,-0.3417082912110339,-0.33729853973772717,-0.41627923680055945,-0.34091935571344695,0.3648175675337311,-0.34190736809262523,-0.34197790177433723,-0.3248306672473425,-0.3411218484039129,-0.33820683111894617,-0.31154801245064384,-0.41618929666055104,-0.3417559357355407,-0.34188267509264353,-0.277577005032759,-0.27116404042572007,-0.22652514345185262,-0.32275885508439933,-0.2773186972894008,-0.41545550892581623,-0.444759231245402,-0.41419578315178124,-0.313737016501203,-0.41535355433427273,-0.3081435226244629,-0.4112978845389875,-0.3418260560489464,-0.34182519148116136,-0.334950363751362,0.28494160508618904,-0.41583173584676203,-0.2602316480678261,-0.3155225594844135,-0.3410373496240318,0.8772095265422272,-0.24614429377636593,-0.32712824360128945,0.5731814314167637,-0.36268344358173665,-0.3611871902095749,-0.43180083060652774,-0.290372735170502,0.12255355360078209,-0.29044348035722983,-0.32172250279206954,-0.431306492795792,-0.41610392319036615,-0.27765137480923874,4.512251542481155,-0.315388804878046,-0.3414616202228035,-0.341960851546888,-0.43840333380315316,0.6379867449056377,-0.4160447116025911,-0.36283639014874236,-0.3419164492430514,-0.313625603099409,0.42618222136681777,-0.30989628021378707,-0.34746519508265405,-0.39314493183224886,-0.3418668261053728,-0.3873130470187999,-0.3324232251117858,-0.34173747566445556,-0.07414126222990859,-0.4148383748954136,3.763329211781654,0.1961578343649587,-0.28711811106006385,-0.33920025719553093,-0.2984077247791516,-0.3247167122583961,0.0721355887340315,-0.3408763368899181,-0.4154193145173546,-0.32388200348944235,-0.32845593682161883,-0.3419829498338491,-0.3520825594781348,-0.32863001706962125,-0.25937771787051966,-0.33753346993123695,-0.21832782803400866,-0.3831782548818003,-0.49481422936232755,-0.4161210239830292,-0.17429603536950075,-0.2768118698979581,-0.31560419194694916,-0.3622827305222187,-0.34201026919318833,-0.3419919937518788,-0.2711992687968829,-0.324519106344943,-0.3149836990739486,-0.3417087602684778,3.946916490836689,-0.38598316571067154,-0.31517213251134596,-0.2927212306727407,-0.2886235196347656,-0.01316325612952031,-0.2773459994107023,-0.14535539308912399,-0.2775975253383108,-0.3638747074769732,-0.3411832081045125,-0.19137064804541148,2.2244502367705343,-0.32042661224621677,-0.2462725756313198,1.0515687940658307,-0.3560980315728671,-0.32483005840492035,-0.3889960295704624,-0.15838846694994374,-0.377593276768049,-0.32355100254953917,-0.33489054909340293,-0.3516603726536756,-0.4155949977327519,-0.2748456901768978,-0.31427235634461953,-0.348974892582408,-0.35152162676496185,-0.20157614075558877,-0.6576077275306202,-0.46607438445926846,-0.11024972280804511,0.9773840771160982,-0.14236521609738204,-0.38829139539554275,-0.34171279640889357,-0.38874706328552083,-0.32494690934444537,0.5639443096554256,-0.35213679906588186,-0.3411960498855252,-0.16875701401744764,-0.3186283222247562,-0.4131606521951758,-0.4158220295681839,3.7755554923584453,0.09280014492587466,-0.4133657770072028,-0.34058161981086316,-0.34140643053707975,-0.24748575913320567,-0.3419243624868982,-0.40745944173093557,-0.25568278560936636,-0.09155967152672741,-0.40321066955621754,-0.341203702972712,-0.33427599540973074,-0.4123946791747292,-0.3396442407084167,-0.31576367586235055,-0.44081282968214996,-0.31007278352420437,3.758869450572197,-0.08510691140767668,-0.33684236187279637,-0.3674583126334951,-0.29084214893715293,3.7687207088577637,3.7699628858835736,-0.22840514210382412,-0.26965514366982624,-0.3156996461061743,-0.28430391418454243,2.4959316072407267,-0.3400883726615673,-0.2779936990349087],\"y\":[1.0073667521744838,1.0075148584711684,1.7046567516119713,1.2896140537606073,1.5085760536769044,0.8905950486553317,0.6377235933085218,1.82690758691725,1.0073655380869346,1.0076138928448959,1.0074146160105983,1.007366522221326,1.0073666632944451,0.3031959381700568,1.0683356727926696,1.4781033859238246,0.1974264287911361,1.0073423071090453,1.0373939252823396,1.2896174062604553,2.0272701467440797,0.7627684711389239,0.8900403225613929,0.7544847645154812,1.848186592611438,1.8481667837012001,0.542920736536695,1.007246284486831,1.0073472001806392,1.0187686978651525,1.0367608067485536,1.2896213879153036,0.07948936399540714,1.6310423592209689,1.2896170144858903,1.007005318279096,1.0073369869114068,0.02186092091363463,1.289621379693244,0.07954634511935676,1.8481737602272088,1.0069312746139065,0.5763781001279822,1.4837120582988867,0.8905870836061739,1.0683572361674694,0.7544970219155098,1.8481557589856366,0.7543078570674877,1.0073673230783784,1.8481587186751909,1.0367322700370105,1.0073614049666246,1.2896219766879595,2.2008707431552694,2.036257269318539,0.88394561819192,0.7544760389900589,1.848145199130005,0.8901291051445236,1.827062511942372,0.9147594962265033,0.8905959746511494,1.280808154236032,0.8906022121586208,1.5570320507968867,1.0073495445959064,0.7543932048525357,1.28943610966981,0.720055350615988,0.8905873751227424,0.30713632449511774,1.478099094901833,1.2896367437679528,0.8904960475753232,0.8903530307506111,1.553103740568818,1.2895623411780393,1.425989056427977,1.0066969216370438,1.0073466546823089,1.007356342341795,1.5951839228246716,1.0366726919693494,1.289602789504713,1.007339167596562,0.8905952719893379,1.2896201646206038,1.00735740263653,1.0073675066759062,0.754552412217727,0.32751544297735186,1.9273853570406343,1.4780934867385769,1.0073797905394202,1.2889847765836822,1.478139297113961,1.5952803252006587,1.9253068176670116,1.4779597032106693,1.9263517006443638,1.9317954759105502,1.289613731073414,1.883599123731599,1.2896209868255206,1.4780959719507152,1.0073543973463983,1.007346997374746,1.478099094901833,1.289594166406522,0.8906003627137575,1.0073583556453745,0.9388106149501216,1.0073572568700777,1.0070501980818662,1.2896192396241277,1.0072990133793933,0.7516066290792133,1.007361693478621,1.0073664070106214,1.449285933516206,0.5561062160356282,1.007129554913637,0.8905960228927856,1.2896189771252407,1.0073614893685607,1.0073560581048575,0.7544604685288241,0.10975078561825444,1.5952790734461206,1.007262653808269,0.754483496705754,1.2895772037842257,2.226804167196899,1.2896101823117492,1.4780900248234894,1.2895804547530347,1.4780600903582417,1.2894221899843235,1.0073583820100362,1.0073530979583563,1.006873910017377,0.6007864496133607,1.2896083450927731,0.7536151650406623,1.478090815864998,1.0073232905731466,1.798510767007033,0.6376304648142939,1.4259801542650068,1.83328288060106,1.553112348854782,1.5530809729964912,1.8866518721313472,1.848154369687007,0.9862328403516172,1.8481600956793443,1.4451792298325965,1.88666763480353,1.2896215891847997,0.7544851259555662,2.17473910930299,1.4780723615830957,1.0073505618687115,1.0073663149656968,1.5092496307184333,1.620311073908733,1.2896109005875473,0.5427951630731668,1.0073594387448164,0.5875077633297668,1.0138885793115295,0.8905918925883864,1.5527420373377232,1.8843993102166754,1.0073572345055206,1.7020828792240772,1.4729370159309063,1.0073658250368653,0.6367882054825758,1.2895652475707624,1.9316805526878407,1.5493700739608394,1.848128734523097,1.007306377678877,1.3002268407310886,1.449285972314523,0.9846251910174162,1.0072960713119516,1.2896143060992626,1.4492406917958025,1.0071528905705485,1.007365754122847,1.0367324449785051,1.42598619036411,0.2906162644948939,1.0073437083785386,1.5949757282181825,0.9280664171726354,3.0795023074347947,1.2896099051856946,1.323953918585262,0.7544352574413398,1.5975338796405487,1.5530963676036897,1.0073656019698618,1.007364746780426,0.7543438928049472,1.3775566430791797,1.478066298287377,1.007355803985336,1.8021306944568898,1.702125284402573,1.4780660415288525,0.6497480306755187,1.0053875731935193,0.9183013275018685,0.7544886844338465,1.0063049487988915,0.7544677228143006,1.9295951630794514,1.0073337379114726,1.5741573173027652,0.08924983858740626,1.4489698209509074,0.6376981427921351,1.6881494061800346,0.9026224702038284,1.4492816391455117,1.7021693043375397,0.7461643957809919,0.840369866184513,1.4492656255186074,1.0068758172937873,1.0367214622338077,1.2896087041872255,0.7544001727944408,1.4780012668551519,1.0000423318083358,1.0366935329622176,0.9989043495236866,1.683648164293523,4.274010140330683,1.0710810224091563,0.5103548845523995,1.0434346823888272,1.7021566519352012,1.0073621459639597,1.7021672601700608,1.449283398881189,0.9824769102208459,1.0367316501245387,1.0073333284328128,1.3238141940512789,1.9275149851411704,1.2894203100848955,1.2896158442322794,1.93171092318851,0.9960685713943911,1.2897157343009715,1.0072695205856987,1.0073480049253054,0.6377164453697631,1.0073704981210214,1.28954458425472,1.0025713119608552,0.8974891626580486,1.2893205804246302,1.0073826929249954,1.007326791673108,1.2895971546225338,1.0073281688301734,1.478098225768239,0.6236506575670197,0.8905826697060144,1.931782853242899,0.7534412039940813,1.0073168557953247,0.5428921133250141,1.8481608844006883,1.9322119503701727,1.9322515589714677,0.6376209924511416,2.770650012574736,1.4781005304893187,1.5230296973499153,0.8811806711718349,1.0072493002763137,0.7544860057017654],\"z\":[-0.4633406699260253,-0.4636000227586397,-0.5632590859229286,-0.42073826624274446,-0.05967876059421402,-0.34936377800574975,-0.08346964919270099,-0.4792897758282277,-0.4633451344472291,-0.46349655083961955,-0.4633708594366347,-0.46334068082828817,-0.46334092576389396,-0.7267027621814929,-0.3914475093623002,-0.08076475239905294,-0.10822216419096141,-0.463362680804192,-0.1552510549238981,-0.42074038079063375,-0.6596299918672984,-0.20266770681112187,-0.34976160430980135,-0.19744790784729674,-0.5557990449264172,-0.5557865507008433,-0.2770264092652247,-0.4633956890069509,-0.46335890500769966,-0.47053230639022753,-0.15485172322512053,-0.4207360304411926,0.07974508702095985,-0.21105835114883723,-0.42073639075221403,-0.46361175747222616,-0.4633530869361312,-0.16402811141939114,-0.4207377404535663,0.0797403379759228,-0.5557909510584921,-0.46337790877206914,-1.4723867649778357,-0.08696981046880288,-0.34937310205321787,-0.39145974402475747,-0.1974505923317987,-0.5557833399290604,-0.19748723441637633,-0.4633410300035099,-0.5557845828947988,-0.1548399622657077,-0.46334353544666773,-0.4207364014903653,-0.7001550918638811,-0.6964894389766049,-0.17895349045662326,-0.1974685487060354,-0.5557885320467487,-0.3493749388019219,-0.4792865266754662,-0.3822692317371414,-0.3493643620661789,-0.4234584276251643,-0.3493647093210369,-0.45701715099707807,-0.4633429167052553,-0.19745405973839927,-0.42073894196974226,-0.20660611783051883,-0.34936455241697895,-0.7173814977169065,-0.0807682841089898,-0.42076910896531744,-0.3493639426230556,-0.34936801941019446,-0.45456748980505335,-0.4207421427513587,-0.03351032158317973,-0.4635420044793289,-0.4633418217200538,-0.46336529513488883,-0.289887499570215,-0.1550010714128495,-0.42073989495912145,-0.46335134326682936,-0.3493636069599622,-0.42073619428411435,-0.46334132293732727,-0.4633411458053837,-0.19748552908107977,-0.17524828047993288,-0.61838258061711,-0.08078159002077791,-0.46334889370063986,-0.4208023618225727,-0.08079987934522571,-0.28988670180393383,-0.6305391214859217,-0.08076801149881105,-0.613833599145767,0.11253070250228739,-0.4207405579994135,-0.5784001860424937,-0.42073697904168433,-0.08077567167475197,-0.4633448983058152,-0.46334131007695534,-0.0807682841089898,-0.4207375751559379,-0.3493665059605862,-0.46334566696733936,-0.251594550923557,-0.46334341437361587,-0.4633439552564678,-0.42073623467591514,-0.46334285968161243,-0.20576927148759905,-0.46334153404536854,-0.4633414864359923,-0.14798903515620923,-0.26175750622534705,-0.46334701614611795,-0.3493640805830412,-0.42073742716827744,-0.4633435886821466,-0.4633407660073608,-0.19744469183690702,-0.257267338094523,-0.2898896629194357,-0.46358692210774494,-0.19745279945117072,-0.4207393526295082,-0.6303141230931754,-0.42076327253813567,-0.0807907257184589,-0.4207414031379488,-0.08086220863723234,-0.42076634397065127,-0.46334200682793836,-0.46334097833796556,-0.4633417267610252,-0.08356142450083529,-0.4207402799681601,-0.19751819390353378,-0.08076618131825967,-0.4633460076946376,-0.4893416492906857,-0.08346941911152045,-0.03352544873224036,-0.5804503543562395,-0.4545479664988192,-0.4545624867685181,-0.6054022323781267,-0.5557880780432768,-0.4656062636535418,-0.5557882268653592,-0.045302195312111805,-0.605412174489002,-0.4207391224995001,-0.19744851819006054,0.9835891105987367,-0.08076439788301829,-0.4633455084048032,-0.4633417041748897,-0.05900905882993428,-0.07460704750988982,-0.4207378369725356,-0.2770707938307713,-0.4633409644563627,0.018421990541448784,-0.4752520057149448,-0.3493861164099094,-0.4546855711166611,-0.4765570566572559,-0.4633412168907692,-0.41389090830683106,-0.1030700022603147,-0.463344697757594,-0.08568296456984358,-0.4207455354774582,0.11248622229838752,-0.46154178232526155,-0.555828052951871,-0.4633680907455649,-0.18865346307651487,-0.1479906191825393,-0.464592258683845,-0.4633428754746209,-0.4207471589089507,-0.1479932501497966,-0.46348649920526425,-0.463341288047995,-0.1548403845188495,-0.033505862605669255,-0.3172260306211943,-0.46339849866448635,-0.289943329964991,-0.33482665950290164,1.3198974960530796,-0.4207365853131982,-0.3856003937256649,-0.1974503121105639,-0.04687662736944408,-0.4545503629601599,-0.46334088016842356,-0.4633409645901538,-0.19750996351288588,-0.0128827358924603,-0.08076880799420573,-0.46334312180641063,0.05174384242031265,-0.41391765484963744,-0.08076615075930314,-0.05346704689441655,-0.4636899198973906,-0.14382030916680874,-0.19745344325298017,-0.46585244227471323,-0.1974458363674154,-0.6135693605070652,-0.46334604709426863,-0.2133939497256931,-0.2714381762298061,-0.14798771451420334,-0.08348097058679689,0.023006145908760198,-0.31937180597364034,-0.14798819800063684,-0.413884644342653,-0.19745994817665338,-0.2474721656108234,-0.14800273856854454,-0.4633429297520742,-0.15484406226066372,-0.4207436255720938,-0.19747060279244383,-0.08076584335760262,-0.36093002626751636,-0.154840482210355,-0.4636175110909598,-0.0020230054240842977,7.6791921479497205,-0.11970520017185016,-0.07134406416344274,-0.15906118789033452,-0.4138919005342815,-0.4633443147325427,-0.41388768589253855,-0.14798692805160935,-0.47097264875604955,-0.15483947769028317,-0.4633457888206597,-0.38564950502069134,-0.6137856776293242,-0.42074020537096607,-0.42074189084827873,0.11231111100297904,-0.467131365266161,-0.42079553794725216,-0.4633417244795344,-0.463345768394803,-0.08346779196168715,-0.4633430326224579,-0.4208435426456379,-0.46359107022040175,-0.35376455633932996,-0.4208582104723951,-0.4633554030088217,-0.4634402297016801,-0.42078562275750536,-0.46336623969750773,-0.08076430489321017,0.00032905082542836217,-0.3493818587454883,0.11252777266260809,-0.1999065136854222,-0.46340277167402294,-0.27702594672705344,-0.5557828672191916,0.11230700524789008,0.11228202261162787,-0.08371294703580198,-2.6521268572939456,-0.08076564445183634,-0.10373446446094613,0.005587537622379856,-0.463344566316734,-0.1974439559019381],\"type\":\"scatter3d\"},{\"customdata\":[[\"SHA-256\"],[\"Ethash\"],[\"Scrypt\"],[\"CryptoNight-V7\"],[\"Ethash\"],[\"Equihash\"],[\"Multiple\"],[\"Scrypt\"],[\"X11\"],[\"Scrypt\"],[\"Multiple\"],[\"Scrypt\"],[\"SHA-256\"],[\"Scrypt\"],[\"Scrypt\"],[\"Quark\"],[\"Groestl\"],[\"Scrypt\"],[\"Scrypt\"],[\"Scrypt\"],[\"X11\"],[\"Multiple\"],[\"SHA-256\"],[\"Scrypt\"],[\"Scrypt\"],[\"Scrypt\"],[\"Scrypt\"],[\"Scrypt\"],[\"NeoScrypt\"],[\"Scrypt\"],[\"Scrypt\"],[\"Scrypt\"],[\"Scrypt\"],[\"SHA-256\"],[\"Scrypt\"],[\"Scrypt\"],[\"Scrypt\"],[\"Scrypt\"],[\"HybridScryptHash256\"],[\"Scrypt\"],[\"Scrypt\"],[\"SHA-256\"],[\"Scrypt\"],[\"Scrypt\"],[\"Scrypt\"],[\"Scrypt\"],[\"SHA-256\"],[\"SHA-256\"],[\"SHA-256\"],[\"SHA-256\"],[\"SHA-256\"],[\"X11\"],[\"Scrypt\"],[\"Lyra2REv2\"],[\"Scrypt\"],[\"SHA-256\"],[\"CryptoNight\"],[\"CryptoNight\"],[\"Scrypt\"],[\"Scrypt\"],[\"Scrypt\"],[\"Scrypt\"],[\"Scrypt\"],[\"Scrypt\"],[\"Stanford Folding\"],[\"Multiple\"],[\"QuBit\"],[\"Scrypt\"],[\"Scrypt\"],[\"M7 POW\"],[\"Scrypt\"],[\"SHA-256\"],[\"Scrypt\"],[\"X11\"],[\"Lyra2RE\"],[\"SHA-256\"],[\"X11\"],[\"Scrypt\"],[\"Scrypt\"],[\"Ethash\"],[\"Blake2b\"],[\"X11\"],[\"SHA-256\"],[\"Scrypt\"],[\"1GB AES Pattern Search\"],[\"Scrypt\"],[\"SHA-256\"],[\"X11\"],[\"Dagger\"],[\"Scrypt\"],[\"X11GOST\"],[\"Scrypt\"],[\"X11\"],[\"Scrypt\"],[\"X11\"],[\"Equihash\"],[\"CryptoNight\"],[\"SHA-256\"],[\"Multiple\"],[\"Scrypt\"],[\"SHA-256\"],[\"Scrypt\"],[\"Lyra2Z\"],[\"Ethash\"],[\"Equihash\"],[\"Scrypt\"],[\"X11\"],[\"X11\"],[\"CryptoNight\"],[\"Scrypt\"],[\"CryptoNight\"],[\"Lyra2RE\"],[\"X11\"],[\"CryptoNight-V7\"],[\"Scrypt\"],[\"X11\"],[\"Equihash\"],[\"Scrypt\"],[\"Lyra2RE\"],[\"Dagger-Hashimoto\"],[\"Scrypt\"],[\"NIST5\"],[\"Scrypt\"],[\"SHA-256\"],[\"Scrypt\"],[\"CryptoNight-V7\"],[\"Argon2d\"],[\"Blake2b\"],[\"Cloverhash\"],[\"CryptoNight\"],[\"X11\"],[\"Scrypt\"],[\"Scrypt\"],[\"X11\"],[\"X11\"],[\"CryptoNight\"],[\"Time Travel\"],[\"Scrypt\"],[\"Keccak\"],[\"X11\"],[\"SHA-256\"],[\"Scrypt\"],[\"Scrypt\"],[\"Scrypt\"],[\"Scrypt\"],[\"Scrypt\"],[\"Scrypt\"],[\"CryptoNight\"],[\"Equihash\"],[\"X11\"],[\"NeoScrypt\"],[\"Equihash\"],[\"Dagger\"],[\"Scrypt\"],[\"X11\"],[\"NeoScrypt\"],[\"Ethash\"],[\"NeoScrypt\"],[\"Multiple\"],[\"CryptoNight\"],[\"CryptoNight\"],[\"Ethash\"],[\"X11\"],[\"CryptoNight-V7\"],[\"Scrypt\"],[\"BLAKE256\"],[\"X11\"],[\"NeoScrypt\"],[\"NeoScrypt\"],[\"Scrypt\"],[\"X11\"],[\"SHA-256\"],[\"C11\"],[\"Ethash\"],[\"CryptoNight\"],[\"SkunkHash\"],[\"CryptoNight\"],[\"Scrypt\"],[\"Dagger\"],[\"Lyra2REv2\"],[\"Scrypt\"],[\"Scrypt\"],[\"X11\"],[\"Ethash\"],[\"CryptoNight\"],[\"Scrypt\"],[\"IMesh\"],[\"Equihash\"],[\"Lyra2Z\"],[\"X11\"],[\"CryptoNight\"],[\"NIST5\"],[\"Lyra2RE\"],[\"Tribus\"],[\"Lyra2Z\"],[\"CryptoNight\"],[\"CryptoNight Heavy\"],[\"CryptoNight\"],[\"Jump Consistent Hash\"],[\"CryptoNight\"],[\"X16R\"],[\"HMQ1725\"],[\"X11\"],[\"Scrypt\"],[\"CryptoNight-V7\"],[\"Cryptonight-GPU\"],[\"XEVAN\"],[\"CryptoNight Heavy\"],[\"SHA-256\"],[\"X11\"],[\"X16R\"],[\"Equihash\"],[\"Lyra2Z\"],[\"SHA-256\"],[\"CryptoNight\"],[\"Blake\"],[\"Blake\"],[\"Equihash\"],[\"Exosis\"],[\"Scrypt\"],[\"Equihash\"],[\"Equihash\"],[\"QuBit\"],[\"SHA-256\"],[\"X13\"],[\"SHA-256\"],[\"Scrypt\"],[\"NeoScrypt\"],[\"Blake\"],[\"Scrypt\"],[\"SHA-256\"],[\"Scrypt\"],[\"Groestl\"],[\"Scrypt\"],[\"Scrypt\"],[\"Multiple\"],[\"Equihash+Scrypt\"],[\"Ethash\"],[\"CryptoNight\"],[\"Equihash\"]],\"hovertemplate\":\"<b>%{hovertext}</b><br><br>class=%{marker.color}<br>PC 1=%{x}<br>PC 2=%{y}<br>PC 3=%{z}<br>Algorithm=%{customdata[0]}<extra></extra>\",\"hovertext\":[\"Bitcoin\",\"Ethereum\",\"Litecoin\",\"Monero\",\"Ethereum Classic\",\"ZCash\",\"DigiByte\",\"ProsperCoin\",\"Spreadcoin\",\"Argentum\",\"MyriadCoin\",\"MoonCoin\",\"ZetaCoin\",\"SexCoin\",\"Quatloo\",\"QuarkCoin\",\"Riecoin\",\"Digitalcoin \",\"Catcoin\",\"CannaCoin\",\"CryptCoin\",\"Verge\",\"DevCoin\",\"EarthCoin\",\"E-Gulden\",\"Einsteinium\",\"Emerald\",\"Franko\",\"FeatherCoin\",\"GrandCoin\",\"GlobalCoin\",\"GoldCoin\",\"Infinite Coin\",\"IXcoin\",\"KrugerCoin\",\"LuckyCoin\",\"Litebar \",\"MegaCoin\",\"MediterraneanCoin\",\"MinCoin\",\"NobleCoin\",\"Namecoin\",\"NyanCoin\",\"RonPaulCoin\",\"StableCoin\",\"SmartCoin\",\"SysCoin\",\"TigerCoin\",\"TerraCoin\",\"UnbreakableCoin\",\"Unobtanium\",\"UroCoin\",\"ViaCoin\",\"Vertcoin\",\"WorldCoin\",\"JouleCoin\",\"ByteCoin\",\"DigitalNote \",\"MonaCoin\",\"Gulden\",\"PesetaCoin\",\"Wild Beast Coin\",\"Flo\",\"ArtByte\",\"Folding Coin\",\"Unitus\",\"CypherPunkCoin\",\"OmniCron\",\"GreenCoin\",\"Cryptonite\",\"MasterCoin\",\"SoonCoin\",\"1Credit\",\"MarsCoin \",\"Crypto\",\"Anarchists Prime\",\"BowsCoin\",\"Song Coin\",\"BitZeny\",\"Expanse\",\"Siacoin\",\"MindCoin\",\"I0coin\",\"Revolution VR\",\"HOdlcoin\",\"Gamecredits\",\"CarpeDiemCoin\",\"Adzcoin\",\"SoilCoin\",\"YoCoin\",\"SibCoin\",\"Francs\",\"BolivarCoin\",\"Omni\",\"PizzaCoin\",\"Komodo\",\"Karbo\",\"ZayedCoin\",\"Circuits of Value\",\"DopeCoin\",\"DollarCoin\",\"Shilling\",\"ZCoin\",\"Elementrem\",\"ZClassic\",\"KiloCoin\",\"ArtexCoin\",\"Kurrent\",\"Cannabis Industry Coin\",\"OsmiumCoin\",\"Bikercoins\",\"HexxCoin\",\"PacCoin\",\"Citadel\",\"BeaverCoin\",\"VaultCoin\",\"Zero\",\"Canada eCoin\",\"Zoin\",\"DubaiCoin\",\"EB3coin\",\"Coinonat\",\"BenjiRolls\",\"ILCoin\",\"EquiTrader\",\"Quantum Resistant Ledger\",\"Dynamic\",\"Nano\",\"ChanCoin\",\"Dinastycoin\",\"DigitalPrice\",\"Unify\",\"SocialCoin\",\"ArcticCoin\",\"DAS\",\"LeviarCoin\",\"Bitcore\",\"gCn Coin\",\"SmartCash\",\"Onix\",\"Bitcoin Cash\",\"Sojourn Coin\",\"NewYorkCoin\",\"FrazCoin\",\"Kronecoin\",\"AdCoin\",\"Linx\",\"Sumokoin\",\"BitcoinZ\",\"Elements\",\"VIVO Coin\",\"Bitcoin Gold\",\"Pirl\",\"eBoost\",\"Pura\",\"Innova\",\"Ellaism\",\"GoByte\",\"SHIELD\",\"UltraNote\",\"BitCoal\",\"DaxxCoin\",\"AC3\",\"Lethean\",\"PopularCoin\",\"Photon\",\"Sucre\",\"SparksPay\",\"GunCoin\",\"IrishCoin\",\"Pioneer Coin\",\"UnitedBitcoin\",\"Interzone\",\"1717 Masonic Commemorative Token\",\"TurtleCoin\",\"MUNcoin\",\"Niobio Cash\",\"ShareChain\",\"Travelflex\",\"KREDS\",\"BitFlip\",\"LottoCoin\",\"Crypto Improvement Fund\",\"Callisto Network\",\"BitTube\",\"Poseidon\",\"Aidos Kuneen\",\"Bitrolium\",\"Alpenschillling\",\"FuturoCoin\",\"Monero Classic\",\"Jumpcoin\",\"Infinex\",\"KEYCO\",\"GINcoin\",\"PlatinCoin\",\"Loki\",\"Newton Coin\",\"MassGrid\",\"PluraCoin\",\"Motion\",\"PlusOneCoin\",\"Axe\",\"HexCoin\",\"Webchain\",\"Ryo\",\"Urals Coin\",\"Qwertycoin\",\"Project Pai\",\"Azart\",\"Xchange\",\"CrypticCoin\",\"Actinium\",\"Bitcoin SV\",\"FREDEnergy\",\"Universal Molecule\",\"Lithium\",\"PirateCash\",\"Exosis\",\"Block-Logic\",\"Beam\",\"Bithereum\",\"SLICE\",\"BLAST\",\"Bitcoin Rhodium\",\"GlobalToken\",\"SolarCoin\",\"UFO Coin\",\"BlakeCoin\",\"Crypto Escudo\",\"Crown Coin\",\"SmileyCoin\",\"Groestlcoin\",\"Bata\",\"Pakcoin\",\"JoinCoin\",\"Vollar\",\"Reality Clash\",\"Beldex\",\"Horizen\"],\"legendgroup\":\"0\",\"marker\":{\"color\":[0,0,0,0,0,0,0,0,0,0,0,0,0,0,0,0,0,0,0,0,0,0,0,0,0,0,0,0,0,0,0,0,0,0,0,0,0,0,0,0,0,0,0,0,0,0,0,0,0,0,0,0,0,0,0,0,0,0,0,0,0,0,0,0,0,0,0,0,0,0,0,0,0,0,0,0,0,0,0,0,0,0,0,0,0,0,0,0,0,0,0,0,0,0,0,0,0,0,0,0,0,0,0,0,0,0,0,0,0,0,0,0,0,0,0,0,0,0,0,0,0,0,0,0,0,0,0,0,0,0,0,0,0,0,0,0,0,0,0,0,0,0,0,0,0,0,0,0,0,0,0,0,0,0,0,0,0,0,0,0,0,0,0,0,0,0,0,0,0,0,0,0,0,0,0,0,0,0,0,0,0,0,0,0,0,0,0,0,0,0,0,0,0,0,0,0,0,0,0,0,0,0,0,0,0,0,0,0,0,0,0,0,0,0,0,0,0,0,0,0,0,0,0,0,0,0,0,0,0,0,0,0,0,0,0,0,0,0,0,0],\"coloraxis\":\"coloraxis\",\"symbol\":\"diamond\"},\"mode\":\"markers\",\"name\":\"0\",\"scene\":\"scene\",\"showlegend\":true,\"x\":[-0.13698288106900305,-0.14706240435373116,-0.16630046557483047,-0.13761425943471056,-0.14550524779161422,-0.16504280690396755,0.17210699942736732,-0.167445412723018,-0.24166961824438352,-0.16706221956872425,-0.08105109477405661,2.553120406895915,-0.13407119046109375,-0.16432044974064555,-0.16686627998666428,-0.2098113904476695,-0.23153695312556147,-0.16691536649375255,-0.1674277061070408,-0.16751408729559064,-0.24175883780187243,0.19578607479960017,0.2404387299595617,0.08093401672434808,-0.1672607144916645,-0.1628707090071843,-0.16720001900499812,-0.16757101665712476,-0.1885950672834724,-0.1468147903085433,-0.16636753873942012,-0.16664454133687664,1.579322072709532,-0.13694431011180894,-0.1639366596756587,-0.16728712282692723,-0.1676415296151856,-0.16690161625592487,-0.14897434052080163,-0.16752291404408123,-0.03252355425308025,-0.13702180088998,-0.16119414128020082,-0.16750230422535156,-0.16559785356856158,-0.1669896115435108,-0.12418716939057389,-0.13648620030223413,-0.13677299982701363,-0.1367557244590533,-0.13734612065326435,-0.2419325995801895,-0.16721921605384835,-0.20253124156855445,-0.1643250401431899,-0.13655340640875774,3.8529614439280753,0.45586267822317783,-0.1660879384707753,-0.15069872843713322,-0.16480827123793423,-0.16764372588060147,-0.16467356702839334,-0.150912129422077,-0.14770696625743127,-0.11502028598495424,-0.16759421568820965,-0.1675169937549986,-0.04057566450060444,-0.11764601402586786,-0.16765261984729038,-0.13704953556589475,0.48419124340382164,-0.24132048229346081,-0.14808512231534843,-0.13678955218797376,-0.24160503208275635,-0.16577771671405392,-0.16497090485998173,-0.14812808874611194,0.35831018958555333,-0.24164041191812963,-0.13694543073203655,-0.16361513838237965,-0.174047113900489,-0.16621756018476924,0.2810556597164069,-0.24080191613621874,-0.12668368101423558,-0.16646396939383493,-0.15489435862145776,-0.16744270954913332,-0.24160364429675232,-0.16765267827473487,-0.24175338414475203,-0.32386663091832074,0.3009313270409822,-0.1372051994957655,-0.09511445197862706,-0.16482225750054605,-0.13716388616050204,-0.16731637626942,-0.14947891759008514,-0.14787057321740793,-0.16506439064662218,-0.09441642434683398,-0.22835380855341564,-0.2395833558956145,0.30092578225872024,-0.16763442851302418,0.3010563268265686,-0.14862515318374514,0.4731403235626422,-0.13637947794244942,-0.1676027596695212,-0.23449131745517127,-0.16507677641883642,-0.1657381767762197,-0.14834388465148796,-0.14214430344706047,-0.13854123663440024,-0.18796254092919032,-0.1671655698898721,-0.10356353206835085,-0.16698763520574786,-0.1362380333516347,-0.16522735279743256,-0.04137349997661964,-0.17295635347020105,0.3370069833008725,-0.24081017669681337,-0.16730680023192532,-0.16707012742666585,-0.24120454868370017,-0.24178141930450253,0.30132040880248206,-0.15705312673083152,3.2382930159268097,-0.11448602181170281,-0.23265950083019632,-0.13698204657399443,-0.09326218273008086,1.5766746579685598,-0.16740449158650092,-0.1668564995357285,-0.1665578154686847,-0.1665447665299695,0.30150399739292083,0.04707975360432128,-0.19622527382322752,-0.19327889779042742,-0.1649230348779063,-0.12544374163068622,-0.16573638869018129,-0.2373302294678658,-0.1931244129248307,-0.1462363913673695,-0.1932245626255948,-0.10526220295725965,1.1382142371707604,0.30090851475458424,-0.07116848547780966,-0.23707070266631006,-0.1253601712098468,-0.08388390682683253,1.092626870219811,-0.24175545122255035,-0.19327650517652217,-0.18632151130531321,-0.166656316688012,-0.2416809496016715,-0.1369614819653161,-0.20876693734870275,-0.2586824781892753,8.034321438085533,-0.11415704274044984,0.30477940082101956,0.02516528476259265,-0.12494814446380838,-0.18810392517502822,-0.16722933748874538,0.13951154185850861,-0.23582731145535643,-0.09930066078917191,0.308826843122318,-0.1674661254540477,-0.13976280103568095,-0.16391531292779823,-0.14726375762727795,-0.24085088638023514,0.3010907966683695,-0.1880221148423029,-0.14847050811026818,-0.15155279447440498,-0.14956324576783245,0.30501731674766475,0.592347623763532,2.108168869457192,-0.1252941425973376,0.3146821444279285,-0.1825004732422227,-0.14988303314384405,-0.2417376299170248,-0.16749066119854633,-0.12523462039597594,-0.16802428968991445,0.0013187997420952503,3.112400546102393,-0.09685607414189402,-0.2417090096833359,-0.18192849381197837,-0.05977455851492159,-0.14896137533247125,-0.13698208408163723,0.38078851120503904,-0.13902195778146886,-0.13941397627535493,-0.274711101293649,-0.19571344223233705,-0.16638393079901492,-0.1629843158790154,-0.16475603705028571,-0.16680565546537532,-0.13625901878665053,-0.11643828742126706,-0.13512792183530048,0.528088731332724,-0.1185275012303284,-0.08990348427389927,-0.15106248384044488,-0.13677237124666583,0.5474582003854674,-0.23109847167041364,-0.16756750925079425,-0.16552504288778183,-0.11575401974640517,-0.14102182275053363,-0.14790369357485933,0.3226425345657705,-0.16504386222571882],\"y\":[-1.2702888593945065,-2.047475706457638,-1.153541016887494,-2.2345697990295355,-2.0475770367386272,-2.1304596645384906,-1.8344205719344904,-1.1535322304369102,-0.8712750085868872,-1.153550927227638,-1.828832564308628,-1.3428501863027436,-1.2703029946349136,-1.1535972292725745,-1.1535705621192787,-0.4587421590454641,-1.0925764690480588,-1.1535348605287754,-1.1535316658359895,-1.153528769166733,-0.8712764155526468,-1.8304697351961607,-1.273337375962299,-1.1553032119481579,-1.1535263410681216,-1.1535868011929034,-1.153532314310158,-1.1535292153992525,-1.6180540306130031,-1.1538806624105453,-1.1535330901146337,-1.1535435373185579,-1.162957084372625,-1.2702876295040522,-1.1535960785756494,-1.153526464171794,-1.1535243562618502,-1.1535299889501138,-2.2665403358143434,-1.153526793073078,-1.1599994159311573,-1.2702901004089815,-1.1535600923056417,-1.1535340445042983,-1.1536379611311276,-1.1535394092760205,-1.270504191583312,-1.2702917236845754,-1.270297265274986,-1.270324035060265,-1.2702855233063888,-0.8712690148433653,-1.1535264557589084,-1.3205218189784487,-1.153608462645528,-1.2702924201152226,-2.2936890651851396,-2.276574622013422,-1.1535494246765445,-1.1541909997362532,-1.1535526686997117,-1.1535253451290335,-1.1535437821575758,-1.153708908755711,-2.1117088019574055,-1.8284777926635007,-1.6047550687115821,-1.153521838525515,-1.1566613486232098,-2.2135189183376998,-1.1535241846707724,-1.2702909847690185,-1.1988834558904977,-0.8712732224179801,-2.1509922819566256,-1.2703062480884668,-0.8712736681283041,-1.1536151103142218,-1.1536179699697113,-2.0475218424296897,-2.0626253148537073,-0.8712712014448221,-1.2702876652366393,-1.153545980841945,-2.028303207089188,-1.1535383733298723,-1.2724925195582746,-0.8712933543584613,-2.091846681502977,-1.1536068759971916,-2.3078985428930006,-1.1535314252782372,-0.8712764997330918,-1.1535241843553543,-0.8712812744035405,-1.8603620110022188,-2.274332379798162,-1.270287849925884,-1.828705823414591,-1.1535772819305734,-1.2702871813106174,-1.1535345866007394,-2.243882612961083,-2.047520316925752,-2.130460352767172,-1.1583781386988992,-0.8711955176014612,-0.8713580296405995,-2.274340465206458,-1.153525110705629,-2.274339178461469,-2.150969391257717,-0.9203642945995292,-2.234663434601223,-1.1535245651441748,-0.871750702943965,-2.130457871848995,-1.153534590925678,-2.1509683312116263,-2.138066584195836,-1.1554713372996086,-0.6077950682556501,-1.1535337468917337,-1.2710055473462312,-1.1535543007106193,-2.234601407310168,-2.1087557906111583,-2.075614455026667,-2.089175624155248,-2.2746127941342773,-0.8713051211836809,-1.153526571659331,-1.1535590879860007,-0.871288937738366,-0.8712777826640171,-2.274351607786265,-2.2229164371663344,-1.188713080396056,-1.1622634754210834,-0.8717641892443924,-1.2702888327854311,-1.1587008160871999,-1.0979033548832728,-1.1535302066435238,-1.153558746830169,-1.1535607262844079,-1.1535603102002263,-2.2743708376574165,-2.13877897910885,-0.8711057063665736,-1.6179812213839209,-2.130455845435151,-2.091897954256658,-1.1535345339099825,-0.8713738990818007,-1.6179892367652933,-2.0476506777892265,-1.6179829398566397,-1.828641158445725,-2.3087391674061553,-2.274334904610942,-2.0522453605353324,-0.8715094165134474,-2.234897651113218,-1.1544474738005486,-1.2787953259954106,-0.8712776017020468,-1.6179768313074736,-1.6180994451201796,-1.1535379844304103,-0.8712775267957698,-1.2702875774372542,-1.2328260006719591,-0.13950718839520085,-2.746699007435714,-2.453903114523679,-2.2744440607221366,-1.1545651038899674,-2.091841668909522,-1.3207922507526015,-1.1535390008848672,-1.1569633255692202,-0.8714338209918541,-2.0506260211141534,-2.2747923943548134,-1.1535328908921338,-2.2493834974480387,-2.130458942011374,-2.2440122827933697,-0.8713064192704965,-2.2743333341780168,-0.6077773746463154,-2.1509761649131223,-2.0676363413753243,-2.243877465177805,-2.2746262813214897,-2.256161623513712,-2.348988213142954,-2.280243715696735,-2.274605689650045,-1.258249788162596,-2.1838236196412826,-0.8712778962009872,-1.1535344678940425,-2.235433243580172,-2.0767091663047155,-0.8370053370014141,-2.3083255712585484,-1.2705040847677411,-0.8712798594600074,-1.2582875745487527,-2.132552063815544,-2.2439111175334645,-1.270288833981416,-2.2775880587767485,-2.1608715676132153,-2.1608266287822415,-0.2224881408563963,-2.1149822947128394,-1.1535695610032919,-2.1305678721068895,-2.130457628148143,-1.604801820743079,-1.2702966934600441,-0.31273056375714203,-1.2703353990715662,-1.20186940226248,-1.6184541098878011,-2.164262525520808,-1.15371370302262,-1.2702972452317975,-1.1666696063826791,-1.0925775856819104,-1.1535246202349672,-1.1535867499000434,-1.8285032019193723,-2.191140035935551,-2.0475201381268735,-2.27463960684243,-2.130459698188942],\"z\":[0.12215677813798505,0.32136036392381334,0.008168423838528997,0.3306156496398616,0.3213587754471673,0.4017458492138071,0.28257499138932385,0.00818253228341007,0.05078585282155685,0.008180912882306338,0.2849767326965126,0.007825239395747684,0.12211928279253839,0.008152101888043424,0.008182068553449636,0.057577544723982896,0.08006570863534579,0.008175717808403383,0.008182176168349632,0.008182800750077854,0.05078736406974747,0.28146949408426236,0.11753601241997347,0.005095309256692853,0.008178817636755977,0.008129993692451924,0.008179154164930438,0.008183676142513847,0.19444751704677019,0.007965747878979397,0.00816779087776865,0.008173679864234356,-0.014125439768170111,0.12215600239976565,0.00814656618372295,0.008179207193831554,0.008183694794953542,0.008174568363249677,0.44214365337515565,0.008182533753797657,0.007589515509001718,0.1221575608925447,0.008101541951630795,0.008183676484019175,0.008177793004954984,0.00817764053673467,0.12202216946038554,0.12215047133582708,0.12215552991328366,0.1221605620085953,0.1221611460938904,0.050788310560910835,0.00817826615464572,0.22404315874499128,0.008154377282906472,0.12215153815571893,0.2980764167528515,0.34169999891802716,0.008167139388320215,0.008080582612994045,0.00815007597936799,0.008183919888521018,0.008146462765980996,0.007988609127658771,0.27285386388737387,0.28537678676956074,0.20977305820105702,0.008181476286691173,0.007043625536511301,0.2765328470355566,0.008183814423813478,0.12215811869171979,0.008098000188175232,0.05078067137516685,0.3545492230878515,0.12215752763916551,0.05078469543290052,0.008175781713841122,0.008165183826699928,0.3213841903281777,0.3510274500368715,0.050784699157518064,0.12215602493765426,0.00813225401129566,0.30784605488850864,0.00816675644719701,0.11680778608128578,0.05077746188941854,0.2574233854204968,0.008183653564417715,0.4080363899862578,0.008182336350471423,0.050785233788845294,0.008183815169957467,0.0507882453532833,0.7029937986579806,0.3434017227548871,0.12215965479310208,0.2851463212056242,0.008155115896049774,0.12215895163564722,0.008181211206069332,0.36463193598787175,0.321380327631148,0.40174628330555073,0.00812646968146247,0.05058599760590728,0.050773339847760245,0.3434033915058529,0.008183745115304555,0.34340133226352104,0.35455218629384255,0.050563456730359495,0.33061700559418067,0.0081831996038829,0.050780218429377445,0.4017459661408558,0.008159380167182245,0.35454808666205145,0.3434745732036784,0.008164506310620203,0.016975174565874093,0.008178959696749992,0.12183559296012315,0.008180545377414939,0.33060283552245956,0.3469539306132384,0.35911405204079827,0.2881190128373157,0.34295788783672726,0.05077989309388831,0.008179500564270588,0.00818262915939645,0.050782162023719796,0.05078794563850762,0.34340012648901563,0.36378121802783236,-0.03200322163781775,0.11004166795678377,0.05075753365145981,0.12215676135464018,0.008174038983335375,-0.02689814405441695,0.008181567711670992,0.00817960678098019,0.008175864722037228,0.008175602282076198,0.34340137326648984,0.4004495742632565,0.05012386603794306,0.19449797400924415,0.4017434403615257,0.25741632862336233,0.008159344205236164,0.05074529616547265,0.194497415214914,0.3213833898638834,0.19449756074211583,0.28527396649008396,0.33859406726565094,0.3434025354719921,0.32124965480651113,0.050768389921576985,0.33051068906074166,0.007206806095277783,0.08179235251747415,0.050787550779120165,0.1944970764884491,0.19442500829001358,0.00817274937274509,0.050786505417857494,0.122156229693012,0.1366978107690437,0.11575849189993974,0.329433306341976,0.32745679625757623,0.3433704811478413,0.0057214450510107324,0.2573983900222712,0.22389682871843147,0.008180876351743272,0.004611864663858555,0.050736304527331834,0.32131996479820374,0.3433830794126298,0.008182948857388081,0.36595206863458224,0.4017301098519963,0.3646268252418798,0.0507807118461211,0.34339970466618397,0.016972514737551306,0.354551380782718,0.23631573584874158,0.36463208891652304,0.3434030698877517,0.34097759077888623,0.3331014714960769,0.3622380995006732,0.3432653177251304,0.15215995189004056,0.33875306651604253,0.05078736223754618,0.008183598788236098,0.330614412460481,0.2456100204025555,0.08592058839262538,0.316387929745234,0.12164406601138732,0.05078735289511863,0.15215947974384042,0.4007016311040027,0.3646303892692596,0.12215676210899304,0.34293808067663656,0.3348554431746942,0.3348520175027333,0.19611638559451086,0.38245027394217795,0.008175198892817929,0.4017386797329494,0.40174148123404346,0.2097713553723164,0.1221483072070781,-0.0842584847400741,0.12214028155446202,0.008078692178015837,0.19355702037411524,0.3348436594116328,0.00799163305232214,0.12215551727129001,0.0008797723926491555,0.08005986280832503,0.008182722817755173,0.008166702098076751,0.2853919399933305,0.37449163332306135,0.3213807505926584,0.3431618767593435,0.4017458704384137],\"type\":\"scatter3d\"},{\"customdata\":[[\"Proof-of-BibleHash\"],[\"SHA-256 + Hive\"],[\"SHA3-256\"]],\"hovertemplate\":\"<b>%{hovertext}</b><br><br>class=%{marker.color}<br>PC 1=%{x}<br>PC 2=%{y}<br>PC 3=%{z}<br>Algorithm=%{customdata[0]}<extra></extra>\",\"hovertext\":[\"BiblePay\",\"LitecoinCash\",\"Fiii\"],\"legendgroup\":\"3\",\"marker\":{\"color\":[3,3,3],\"coloraxis\":\"coloraxis\",\"symbol\":\"square\"},\"mode\":\"markers\",\"name\":\"3\",\"scene\":\"scene\",\"showlegend\":true,\"x\":[-0.2226959982269871,-0.3451935754436808,-0.5065211807413378],\"y\":[3.470063316288745,2.196027028567655,3.1412812733952067],\"z\":[18.739306272264432,9.532984526736257,22.464391721284322],\"type\":\"scatter3d\"},{\"customdata\":[[\"TRC10\"]],\"hovertemplate\":\"<b>%{hovertext}</b><br><br>class=%{marker.color}<br>PC 1=%{x}<br>PC 2=%{y}<br>PC 3=%{z}<br>Algorithm=%{customdata[0]}<extra></extra>\",\"hovertext\":[\"BitTorrent\"],\"legendgroup\":\"2\",\"marker\":{\"color\":[2],\"coloraxis\":\"coloraxis\",\"symbol\":\"x\"},\"mode\":\"markers\",\"name\":\"2\",\"scene\":\"scene\",\"showlegend\":true,\"x\":[34.034540279449814],\"y\":[1.7525646844814777],\"z\":[-0.37194885867059896],\"type\":\"scatter3d\"}],                        {\"template\":{\"data\":{\"bar\":[{\"error_x\":{\"color\":\"#2a3f5f\"},\"error_y\":{\"color\":\"#2a3f5f\"},\"marker\":{\"line\":{\"color\":\"#E5ECF6\",\"width\":0.5},\"pattern\":{\"fillmode\":\"overlay\",\"size\":10,\"solidity\":0.2}},\"type\":\"bar\"}],\"barpolar\":[{\"marker\":{\"line\":{\"color\":\"#E5ECF6\",\"width\":0.5},\"pattern\":{\"fillmode\":\"overlay\",\"size\":10,\"solidity\":0.2}},\"type\":\"barpolar\"}],\"carpet\":[{\"aaxis\":{\"endlinecolor\":\"#2a3f5f\",\"gridcolor\":\"white\",\"linecolor\":\"white\",\"minorgridcolor\":\"white\",\"startlinecolor\":\"#2a3f5f\"},\"baxis\":{\"endlinecolor\":\"#2a3f5f\",\"gridcolor\":\"white\",\"linecolor\":\"white\",\"minorgridcolor\":\"white\",\"startlinecolor\":\"#2a3f5f\"},\"type\":\"carpet\"}],\"choropleth\":[{\"colorbar\":{\"outlinewidth\":0,\"ticks\":\"\"},\"type\":\"choropleth\"}],\"contour\":[{\"colorbar\":{\"outlinewidth\":0,\"ticks\":\"\"},\"colorscale\":[[0.0,\"#0d0887\"],[0.1111111111111111,\"#46039f\"],[0.2222222222222222,\"#7201a8\"],[0.3333333333333333,\"#9c179e\"],[0.4444444444444444,\"#bd3786\"],[0.5555555555555556,\"#d8576b\"],[0.6666666666666666,\"#ed7953\"],[0.7777777777777778,\"#fb9f3a\"],[0.8888888888888888,\"#fdca26\"],[1.0,\"#f0f921\"]],\"type\":\"contour\"}],\"contourcarpet\":[{\"colorbar\":{\"outlinewidth\":0,\"ticks\":\"\"},\"type\":\"contourcarpet\"}],\"heatmap\":[{\"colorbar\":{\"outlinewidth\":0,\"ticks\":\"\"},\"colorscale\":[[0.0,\"#0d0887\"],[0.1111111111111111,\"#46039f\"],[0.2222222222222222,\"#7201a8\"],[0.3333333333333333,\"#9c179e\"],[0.4444444444444444,\"#bd3786\"],[0.5555555555555556,\"#d8576b\"],[0.6666666666666666,\"#ed7953\"],[0.7777777777777778,\"#fb9f3a\"],[0.8888888888888888,\"#fdca26\"],[1.0,\"#f0f921\"]],\"type\":\"heatmap\"}],\"heatmapgl\":[{\"colorbar\":{\"outlinewidth\":0,\"ticks\":\"\"},\"colorscale\":[[0.0,\"#0d0887\"],[0.1111111111111111,\"#46039f\"],[0.2222222222222222,\"#7201a8\"],[0.3333333333333333,\"#9c179e\"],[0.4444444444444444,\"#bd3786\"],[0.5555555555555556,\"#d8576b\"],[0.6666666666666666,\"#ed7953\"],[0.7777777777777778,\"#fb9f3a\"],[0.8888888888888888,\"#fdca26\"],[1.0,\"#f0f921\"]],\"type\":\"heatmapgl\"}],\"histogram\":[{\"marker\":{\"pattern\":{\"fillmode\":\"overlay\",\"size\":10,\"solidity\":0.2}},\"type\":\"histogram\"}],\"histogram2d\":[{\"colorbar\":{\"outlinewidth\":0,\"ticks\":\"\"},\"colorscale\":[[0.0,\"#0d0887\"],[0.1111111111111111,\"#46039f\"],[0.2222222222222222,\"#7201a8\"],[0.3333333333333333,\"#9c179e\"],[0.4444444444444444,\"#bd3786\"],[0.5555555555555556,\"#d8576b\"],[0.6666666666666666,\"#ed7953\"],[0.7777777777777778,\"#fb9f3a\"],[0.8888888888888888,\"#fdca26\"],[1.0,\"#f0f921\"]],\"type\":\"histogram2d\"}],\"histogram2dcontour\":[{\"colorbar\":{\"outlinewidth\":0,\"ticks\":\"\"},\"colorscale\":[[0.0,\"#0d0887\"],[0.1111111111111111,\"#46039f\"],[0.2222222222222222,\"#7201a8\"],[0.3333333333333333,\"#9c179e\"],[0.4444444444444444,\"#bd3786\"],[0.5555555555555556,\"#d8576b\"],[0.6666666666666666,\"#ed7953\"],[0.7777777777777778,\"#fb9f3a\"],[0.8888888888888888,\"#fdca26\"],[1.0,\"#f0f921\"]],\"type\":\"histogram2dcontour\"}],\"mesh3d\":[{\"colorbar\":{\"outlinewidth\":0,\"ticks\":\"\"},\"type\":\"mesh3d\"}],\"parcoords\":[{\"line\":{\"colorbar\":{\"outlinewidth\":0,\"ticks\":\"\"}},\"type\":\"parcoords\"}],\"pie\":[{\"automargin\":true,\"type\":\"pie\"}],\"scatter\":[{\"marker\":{\"colorbar\":{\"outlinewidth\":0,\"ticks\":\"\"}},\"type\":\"scatter\"}],\"scatter3d\":[{\"line\":{\"colorbar\":{\"outlinewidth\":0,\"ticks\":\"\"}},\"marker\":{\"colorbar\":{\"outlinewidth\":0,\"ticks\":\"\"}},\"type\":\"scatter3d\"}],\"scattercarpet\":[{\"marker\":{\"colorbar\":{\"outlinewidth\":0,\"ticks\":\"\"}},\"type\":\"scattercarpet\"}],\"scattergeo\":[{\"marker\":{\"colorbar\":{\"outlinewidth\":0,\"ticks\":\"\"}},\"type\":\"scattergeo\"}],\"scattergl\":[{\"marker\":{\"colorbar\":{\"outlinewidth\":0,\"ticks\":\"\"}},\"type\":\"scattergl\"}],\"scattermapbox\":[{\"marker\":{\"colorbar\":{\"outlinewidth\":0,\"ticks\":\"\"}},\"type\":\"scattermapbox\"}],\"scatterpolar\":[{\"marker\":{\"colorbar\":{\"outlinewidth\":0,\"ticks\":\"\"}},\"type\":\"scatterpolar\"}],\"scatterpolargl\":[{\"marker\":{\"colorbar\":{\"outlinewidth\":0,\"ticks\":\"\"}},\"type\":\"scatterpolargl\"}],\"scatterternary\":[{\"marker\":{\"colorbar\":{\"outlinewidth\":0,\"ticks\":\"\"}},\"type\":\"scatterternary\"}],\"surface\":[{\"colorbar\":{\"outlinewidth\":0,\"ticks\":\"\"},\"colorscale\":[[0.0,\"#0d0887\"],[0.1111111111111111,\"#46039f\"],[0.2222222222222222,\"#7201a8\"],[0.3333333333333333,\"#9c179e\"],[0.4444444444444444,\"#bd3786\"],[0.5555555555555556,\"#d8576b\"],[0.6666666666666666,\"#ed7953\"],[0.7777777777777778,\"#fb9f3a\"],[0.8888888888888888,\"#fdca26\"],[1.0,\"#f0f921\"]],\"type\":\"surface\"}],\"table\":[{\"cells\":{\"fill\":{\"color\":\"#EBF0F8\"},\"line\":{\"color\":\"white\"}},\"header\":{\"fill\":{\"color\":\"#C8D4E3\"},\"line\":{\"color\":\"white\"}},\"type\":\"table\"}]},\"layout\":{\"annotationdefaults\":{\"arrowcolor\":\"#2a3f5f\",\"arrowhead\":0,\"arrowwidth\":1},\"autotypenumbers\":\"strict\",\"coloraxis\":{\"colorbar\":{\"outlinewidth\":0,\"ticks\":\"\"}},\"colorscale\":{\"diverging\":[[0,\"#8e0152\"],[0.1,\"#c51b7d\"],[0.2,\"#de77ae\"],[0.3,\"#f1b6da\"],[0.4,\"#fde0ef\"],[0.5,\"#f7f7f7\"],[0.6,\"#e6f5d0\"],[0.7,\"#b8e186\"],[0.8,\"#7fbc41\"],[0.9,\"#4d9221\"],[1,\"#276419\"]],\"sequential\":[[0.0,\"#0d0887\"],[0.1111111111111111,\"#46039f\"],[0.2222222222222222,\"#7201a8\"],[0.3333333333333333,\"#9c179e\"],[0.4444444444444444,\"#bd3786\"],[0.5555555555555556,\"#d8576b\"],[0.6666666666666666,\"#ed7953\"],[0.7777777777777778,\"#fb9f3a\"],[0.8888888888888888,\"#fdca26\"],[1.0,\"#f0f921\"]],\"sequentialminus\":[[0.0,\"#0d0887\"],[0.1111111111111111,\"#46039f\"],[0.2222222222222222,\"#7201a8\"],[0.3333333333333333,\"#9c179e\"],[0.4444444444444444,\"#bd3786\"],[0.5555555555555556,\"#d8576b\"],[0.6666666666666666,\"#ed7953\"],[0.7777777777777778,\"#fb9f3a\"],[0.8888888888888888,\"#fdca26\"],[1.0,\"#f0f921\"]]},\"colorway\":[\"#636efa\",\"#EF553B\",\"#00cc96\",\"#ab63fa\",\"#FFA15A\",\"#19d3f3\",\"#FF6692\",\"#B6E880\",\"#FF97FF\",\"#FECB52\"],\"font\":{\"color\":\"#2a3f5f\"},\"geo\":{\"bgcolor\":\"white\",\"lakecolor\":\"white\",\"landcolor\":\"#E5ECF6\",\"showlakes\":true,\"showland\":true,\"subunitcolor\":\"white\"},\"hoverlabel\":{\"align\":\"left\"},\"hovermode\":\"closest\",\"mapbox\":{\"style\":\"light\"},\"paper_bgcolor\":\"white\",\"plot_bgcolor\":\"#E5ECF6\",\"polar\":{\"angularaxis\":{\"gridcolor\":\"white\",\"linecolor\":\"white\",\"ticks\":\"\"},\"bgcolor\":\"#E5ECF6\",\"radialaxis\":{\"gridcolor\":\"white\",\"linecolor\":\"white\",\"ticks\":\"\"}},\"scene\":{\"xaxis\":{\"backgroundcolor\":\"#E5ECF6\",\"gridcolor\":\"white\",\"gridwidth\":2,\"linecolor\":\"white\",\"showbackground\":true,\"ticks\":\"\",\"zerolinecolor\":\"white\"},\"yaxis\":{\"backgroundcolor\":\"#E5ECF6\",\"gridcolor\":\"white\",\"gridwidth\":2,\"linecolor\":\"white\",\"showbackground\":true,\"ticks\":\"\",\"zerolinecolor\":\"white\"},\"zaxis\":{\"backgroundcolor\":\"#E5ECF6\",\"gridcolor\":\"white\",\"gridwidth\":2,\"linecolor\":\"white\",\"showbackground\":true,\"ticks\":\"\",\"zerolinecolor\":\"white\"}},\"shapedefaults\":{\"line\":{\"color\":\"#2a3f5f\"}},\"ternary\":{\"aaxis\":{\"gridcolor\":\"white\",\"linecolor\":\"white\",\"ticks\":\"\"},\"baxis\":{\"gridcolor\":\"white\",\"linecolor\":\"white\",\"ticks\":\"\"},\"bgcolor\":\"#E5ECF6\",\"caxis\":{\"gridcolor\":\"white\",\"linecolor\":\"white\",\"ticks\":\"\"}},\"title\":{\"x\":0.05},\"xaxis\":{\"automargin\":true,\"gridcolor\":\"white\",\"linecolor\":\"white\",\"ticks\":\"\",\"title\":{\"standoff\":15},\"zerolinecolor\":\"white\",\"zerolinewidth\":2},\"yaxis\":{\"automargin\":true,\"gridcolor\":\"white\",\"linecolor\":\"white\",\"ticks\":\"\",\"title\":{\"standoff\":15},\"zerolinecolor\":\"white\",\"zerolinewidth\":2}}},\"scene\":{\"domain\":{\"x\":[0.0,1.0],\"y\":[0.0,1.0]},\"xaxis\":{\"title\":{\"text\":\"PC 1\"}},\"yaxis\":{\"title\":{\"text\":\"PC 2\"}},\"zaxis\":{\"title\":{\"text\":\"PC 3\"}}},\"coloraxis\":{\"colorbar\":{\"title\":{\"text\":\"class\"}},\"colorscale\":[[0.0,\"#0d0887\"],[0.1111111111111111,\"#46039f\"],[0.2222222222222222,\"#7201a8\"],[0.3333333333333333,\"#9c179e\"],[0.4444444444444444,\"#bd3786\"],[0.5555555555555556,\"#d8576b\"],[0.6666666666666666,\"#ed7953\"],[0.7777777777777778,\"#fb9f3a\"],[0.8888888888888888,\"#fdca26\"],[1.0,\"#f0f921\"]]},\"legend\":{\"title\":{\"text\":\"class\"},\"tracegroupgap\":0,\"x\":0,\"y\":1},\"margin\":{\"t\":60},\"width\":800},                        {\"responsive\": true}                    ).then(function(){\n",
       "                            \n",
       "var gd = document.getElementById('1661981c-85ad-421f-b520-2ab238a9f181');\n",
       "var x = new MutationObserver(function (mutations, observer) {{\n",
       "        var display = window.getComputedStyle(gd).display;\n",
       "        if (!display || display === 'none') {{\n",
       "            console.log([gd, 'removed!']);\n",
       "            Plotly.purge(gd);\n",
       "            observer.disconnect();\n",
       "        }}\n",
       "}});\n",
       "\n",
       "// Listen for the removal of the full notebook cells\n",
       "var notebookContainer = gd.closest('#notebook-container');\n",
       "if (notebookContainer) {{\n",
       "    x.observe(notebookContainer, {childList: true});\n",
       "}}\n",
       "\n",
       "// Listen for the clearing of the current output cell\n",
       "var outputEl = gd.closest('.output');\n",
       "if (outputEl) {{\n",
       "    x.observe(outputEl, {childList: true});\n",
       "}}\n",
       "\n",
       "                        })                };                });            </script>        </div>"
      ]
     },
     "metadata": {},
     "output_type": "display_data"
    }
   ],
   "source": [
    "fig = px.scatter_3d(\n",
    "    clustered_df,\n",
    "x=\"PC 1\",\n",
    "    y=\"PC 2\",\n",
    "    z=\"PC 3\",\n",
    "color=\"class\",\n",
    "    symbol=\"class\",\n",
    "    hover_name='CoinName', \n",
    "    hover_data=['Algorithm'],\n",
    "    width=800,\n",
    ")\n",
    "fig.update_layout(legend=dict(x=0, y=1))\n",
    "fig.show()"
   ]
  },
  {
   "cell_type": "code",
   "execution_count": 219,
   "metadata": {},
   "outputs": [
    {
     "data": {},
     "metadata": {},
     "output_type": "display_data"
    },
    {
     "data": {
      "application/vnd.holoviews_exec.v0+json": "",
      "text/html": [
       "<div id='3013'>\n",
       "\n",
       "\n",
       "\n",
       "\n",
       "\n",
       "  <div class=\"bk-root\" id=\"845165e4-aea5-4e5a-a9c5-fdeaaa9a6bf9\" data-root-id=\"3013\"></div>\n",
       "</div>\n",
       "<script type=\"application/javascript\">(function(root) {\n",
       "  function embed_document(root) {\n",
       "    var docs_json = {\"60b4924d-600a-4ff0-9f8b-73d9ed63ab49\":{\"roots\":{\"references\":[{\"attributes\":{},\"id\":\"3018\",\"type\":\"StringEditor\"},{\"attributes\":{},\"id\":\"3027\",\"type\":\"StringFormatter\"},{\"attributes\":{\"children\":[{\"id\":\"3014\"},{\"id\":\"3047\"},{\"id\":\"3053\"}],\"margin\":[0,0,0,0],\"name\":\"Row06309\",\"tags\":[\"embedded\"]},\"id\":\"3013\",\"type\":\"Row\"},{\"attributes\":{\"margin\":[5,5,5,5],\"name\":\"HSpacer06314\",\"sizing_mode\":\"stretch_width\"},\"id\":\"3053\",\"type\":\"Spacer\"},{\"attributes\":{\"editor\":{\"id\":\"3043\"},\"field\":\"class\",\"formatter\":{\"id\":\"3042\"},\"title\":\"class\"},\"id\":\"3044\",\"type\":\"TableColumn\"},{\"attributes\":{\"data\":{\"Algorithm\":[\"Scrypt\",\"Scrypt\",\"X13\",\"SHA-256\",\"Ethash\",\"Scrypt\",\"X11\",\"CryptoNight-V7\",\"Ethash\",\"Equihash\",\"SHA-512\",\"Multiple\",\"SHA-256\",\"SHA-256\",\"Scrypt\",\"X15\",\"X11\",\"Scrypt\",\"Scrypt\",\"Scrypt\",\"Multiple\",\"Scrypt\",\"SHA-256\",\"Scrypt\",\"Scrypt\",\"Scrypt\",\"Quark\",\"Groestl\",\"Scrypt\",\"Scrypt\",\"Scrypt\",\"Scrypt\",\"Scrypt\",\"X11\",\"Scrypt\",\"Groestl\",\"Multiple\",\"SHA-256\",\"Scrypt\",\"Scrypt\",\"Scrypt\",\"Scrypt\",\"PoS\",\"Scrypt\",\"Scrypt\",\"NeoScrypt\",\"Scrypt\",\"Scrypt\",\"Scrypt\",\"Scrypt\",\"X11\",\"Scrypt\",\"X11\",\"SHA-256\",\"Scrypt\",\"Scrypt\",\"Scrypt\",\"SHA3\",\"Scrypt\",\"HybridScryptHash256\",\"Scrypt\",\"Scrypt\",\"SHA-256\",\"Scrypt\",\"X13\",\"Scrypt\",\"SHA-256\",\"Scrypt\",\"X13\",\"NeoScrypt\",\"Scrypt\",\"Scrypt\",\"Scrypt\",\"Scrypt\",\"Scrypt\",\"Scrypt\",\"X11\",\"X11\",\"SHA-256\",\"Multiple\",\"SHA-256\",\"PHI1612\",\"X11\",\"SHA-256\",\"SHA-256\",\"SHA-256\",\"X11\",\"Scrypt\",\"Scrypt\",\"Scrypt\",\"Scrypt\",\"Lyra2REv2\",\"Scrypt\",\"X11\",\"Multiple\",\"SHA-256\",\"X13\",\"Scrypt\",\"CryptoNight\",\"CryptoNight\",\"Shabal256\",\"Counterparty\",\"Scrypt\",\"SHA-256\",\"Groestl\",\"Scrypt\",\"Scrypt\",\"Scrypt\",\"X13\",\"Scrypt\",\"Scrypt\",\"Scrypt\",\"Scrypt\",\"X13\",\"Scrypt\",\"Stanford Folding\",\"X11\",\"Multiple\",\"QuBit\",\"Scrypt\",\"Scrypt\",\"Scrypt\",\"M7 POW\",\"Scrypt\",\"SHA-256\",\"Scrypt\",\"X11\",\"SHA3\",\"X11\",\"Lyra2RE\",\"SHA-256\",\"QUAIT\",\"X11\",\"X11\",\"Scrypt\",\"Scrypt\",\"Scrypt\",\"Ethash\",\"X13\",\"Blake2b\",\"SHA-256\",\"X15\",\"X11\",\"SHA-256\",\"BLAKE256\",\"Scrypt\",\"1GB AES Pattern Search\",\"SHA-256\",\"X11\",\"Scrypt\",\"SHA-256\",\"SHA-256\",\"NIST5\",\"Scrypt\",\"Scrypt\",\"X11\",\"Dagger\",\"Scrypt\",\"X11GOST\",\"X11\",\"Scrypt\",\"SHA-256\",\"Scrypt\",\"PoS\",\"Scrypt\",\"X11\",\"X11\",\"SHA-256\",\"SHA-256\",\"NIST5\",\"X11\",\"Scrypt\",\"POS 3.0\",\"Scrypt\",\"Scrypt\",\"Scrypt\",\"X13\",\"X11\",\"X11\",\"Equihash\",\"X11\",\"Scrypt\",\"CryptoNight\",\"SHA-256\",\"SHA-256\",\"X11\",\"Scrypt\",\"Multiple\",\"Scrypt\",\"Scrypt\",\"Scrypt\",\"SHA-256\",\"Scrypt\",\"Scrypt\",\"SHA-256D\",\"PoS\",\"Scrypt\",\"X11\",\"Lyra2Z\",\"PoS\",\"X13\",\"X14\",\"PoS\",\"SHA-256D\",\"Ethash\",\"Equihash\",\"DPoS\",\"X11\",\"Scrypt\",\"X11\",\"X13\",\"X11\",\"PoS\",\"Scrypt\",\"Scrypt\",\"X11\",\"PoS\",\"X11\",\"SHA-256\",\"Scrypt\",\"X11\",\"Scrypt\",\"Scrypt\",\"X11\",\"CryptoNight\",\"Scrypt\",\"Scrypt\",\"Scrypt\",\"Scrypt\",\"Quark\",\"QuBit\",\"Scrypt\",\"CryptoNight\",\"Lyra2RE\",\"Scrypt\",\"SHA-256\",\"X11\",\"Scrypt\",\"X11\",\"Scrypt\",\"CryptoNight-V7\",\"Scrypt\",\"Scrypt\",\"Scrypt\",\"X13\",\"X11\",\"Equihash\",\"Scrypt\",\"Scrypt\",\"Lyra2RE\",\"Scrypt\",\"Dagger-Hashimoto\",\"X11\",\"Blake2S\",\"X11\",\"Scrypt\",\"PoS\",\"X11\",\"NIST5\",\"PoS\",\"X11\",\"Scrypt\",\"Scrypt\",\"Scrypt\",\"SHA-256\",\"X11\",\"Scrypt\",\"Scrypt\",\"SHA-256\",\"PoS\",\"Scrypt\",\"X15\",\"SHA-256\",\"Scrypt\",\"POS 3.0\",\"CryptoNight-V7\",\"536\",\"Argon2d\",\"Blake2b\",\"Cloverhash\",\"CryptoNight\",\"NIST5\",\"X11\",\"NIST5\",\"Skein\",\"Scrypt\",\"X13\",\"Scrypt\",\"X11\",\"X11\",\"Scrypt\",\"CryptoNight\",\"X13\",\"Time Travel\",\"Scrypt\",\"Keccak\",\"SkunkHash v2 Raptor\",\"X11\",\"Skein\",\"SHA-256\",\"X11\",\"Scrypt\",\"VeChainThor Authority\",\"Scrypt\",\"PoS\",\"Scrypt\",\"Scrypt\",\"Scrypt\",\"Scrypt\",\"Scrypt\",\"Scrypt\",\"Scrypt\",\"CryptoNight\",\"SHA-512\",\"Ouroboros\",\"X11\",\"Equihash\",\"NeoScrypt\",\"X11\",\"Scrypt\",\"NeoScrypt\",\"Lyra2REv2\",\"Equihash\",\"Scrypt\",\"SHA-256\",\"NIST5\",\"PHI1612\",\"Dagger\",\"Scrypt\",\"Quark\",\"Scrypt\",\"POS 2.0\",\"Scrypt\",\"SHA-256\",\"X11\",\"NeoScrypt\",\"Ethash\",\"NeoScrypt\",\"X11\",\"DPoS\",\"NIST5\",\"X13\",\"Multiple\",\"Scrypt\",\"CryptoNight\",\"CryptoNight\",\"Ethash\",\"NIST5\",\"Quark\",\"X11\",\"CryptoNight-V7\",\"Scrypt\",\"Scrypt\",\"Scrypt\",\"X11\",\"BLAKE256\",\"X11\",\"NeoScrypt\",\"Quark\",\"NeoScrypt\",\"Scrypt\",\"Scrypt\",\"Scrypt\",\"X11\",\"X11\",\"SHA-256\",\"C11\",\"POS 3.0\",\"Ethash\",\"Scrypt\",\"CryptoNight\",\"SkunkHash\",\"Scrypt\",\"CryptoNight\",\"Scrypt\",\"Dagger\",\"Lyra2REv2\",\"X13\",\"Proof-of-BibleHash\",\"SHA-256 + Hive\",\"Scrypt\",\"Scrypt\",\"X11\",\"C11\",\"Proof-of-Authority\",\"X11\",\"XEVAN\",\"Scrypt\",\"VBFT\",\"Ethash\",\"CryptoNight\",\"Scrypt\",\"IMesh\",\"NIST5\",\"Scrypt\",\"Scrypt\",\"Equihash\",\"Scrypt\",\"Lyra2Z\",\"Green Protocol\",\"PoS\",\"Scrypt\",\"Semux BFT consensus\",\"X11\",\"Quark\",\"PoS\",\"CryptoNight\",\"X16R\",\"Scrypt\",\"NIST5\",\"Lyra2RE\",\"XEVAN\",\"Tribus\",\"Scrypt\",\"Lyra2Z\",\"CryptoNight\",\"CryptoNight Heavy\",\"CryptoNight\",\"Scrypt\",\"Scrypt\",\"Jump Consistent Hash\",\"SHA-256D\",\"CryptoNight\",\"Scrypt\",\"X15\",\"Scrypt\",\"Quark\",\"SHA-256\",\"DPoS\",\"X16R\",\"HMQ1725\",\"X11\",\"X16R\",\"Quark\",\"Quark\",\"Scrypt\",\"Lyra2REv2\",\"Quark\",\"Scrypt\",\"Scrypt\",\"CryptoNight-V7\",\"Cryptonight-GPU\",\"XEVAN\",\"CryptoNight Heavy\",\"X11\",\"X11\",\"Scrypt\",\"PoS\",\"SHA-256\",\"Keccak\",\"X11\",\"X11\",\"Scrypt\",\"SHA-512\",\"X16R\",\"ECC 256K1\",\"Equihash\",\"XEVAN\",\"Lyra2Z\",\"SHA-256\",\"XEVAN\",\"X11\",\"CryptoNight\",\"Quark\",\"Blake\",\"Blake\",\"Equihash\",\"Exosis\",\"Scrypt\",\"Scrypt\",\"Equihash\",\"Quark\",\"Equihash\",\"Quark\",\"Scrypt\",\"QuBit\",\"X11\",\"Scrypt\",\"XEVAN\",\"SHA-256D\",\"X11\",\"SHA-256\",\"X13\",\"SHA-256\",\"X11\",\"DPoS\",\"Scrypt\",\"Scrypt\",\"X11\",\"NeoScrypt\",\"Scrypt\",\"Blake\",\"Scrypt\",\"SHA-256\",\"Scrypt\",\"X11\",\"Scrypt\",\"Scrypt\",\"SHA-256\",\"X11\",\"SHA-256\",\"Scrypt\",\"Scrypt\",\"Scrypt\",\"Groestl\",\"X11\",\"Scrypt\",\"PoS\",\"Scrypt\",\"Scrypt\",\"X11\",\"SHA-256\",\"DPoS\",\"Scrypt\",\"Scrypt\",\"NeoScrypt\",\"SHA3-256\",\"Multiple\",\"X13\",\"Equihash+Scrypt\",\"DPoS\",\"Ethash\",\"DPoS\",\"SHA-256\",\"Leased POS\",\"PoS\",\"TRC10\",\"PoS\",\"SHA-256\",\"Scrypt\",\"CryptoNight\",\"Equihash\",\"Scrypt\"],\"CoinName\":[\"42 Coin\",\"404Coin\",\"EliteCoin\",\"Bitcoin\",\"Ethereum\",\"Litecoin\",\"Dash\",\"Monero\",\"Ethereum Classic\",\"ZCash\",\"Bitshares\",\"DigiByte\",\"BitcoinDark\",\"PayCoin\",\"ProsperCoin\",\"KoboCoin\",\"Spreadcoin\",\"Argentum\",\"Aurora Coin\",\"BlueCoin\",\"MyriadCoin\",\"MoonCoin\",\"ZetaCoin\",\"SexCoin\",\"Quatloo\",\"EnergyCoin\",\"QuarkCoin\",\"Riecoin\",\"Digitalcoin \",\"BitBar\",\"Catcoin\",\"CryptoBullion\",\"CannaCoin\",\"CryptCoin\",\"CasinoCoin\",\"Diamond\",\"Verge\",\"DevCoin\",\"EarthCoin\",\"E-Gulden\",\"Einsteinium\",\"Emerald\",\"Exclusive Coin\",\"FlutterCoin\",\"Franko\",\"FeatherCoin\",\"GrandCoin\",\"GlobalCoin\",\"GoldCoin\",\"HoboNickels\",\"HyperStake\",\"Infinite Coin\",\"IOCoin\",\"IXcoin\",\"KrugerCoin\",\"LuckyCoin\",\"Litebar \",\"MaxCoin\",\"MegaCoin\",\"MediterraneanCoin\",\"MintCoin\",\"MinCoin\",\"MazaCoin\",\"Nautilus Coin\",\"NavCoin\",\"NobleCoin\",\"Namecoin\",\"NyanCoin\",\"OpalCoin\",\"Orbitcoin\",\"PotCoin\",\"PhoenixCoin\",\"Reddcoin\",\"RonPaulCoin\",\"StableCoin\",\"SmartCoin\",\"SuperCoin\",\"SyncCoin\",\"SysCoin\",\"TeslaCoin\",\"TigerCoin\",\"TittieCoin\",\"TorCoin\",\"TerraCoin\",\"UnbreakableCoin\",\"Unobtanium\",\"UroCoin\",\"UnitaryStatus Dollar\",\"UltraCoin\",\"ViaCoin\",\"VeriCoin\",\"Vertcoin\",\"WorldCoin\",\"X11 Coin\",\"Crypti\",\"JouleCoin\",\"StealthCoin\",\"ZCC Coin\",\"ByteCoin\",\"DigitalNote \",\"BurstCoin\",\"StorjCoin\",\"MonaCoin\",\"Neutron\",\"FairCoin\",\"Gulden\",\"RubyCoin\",\"PesetaCoin\",\"Kore\",\"Wild Beast Coin\",\"Dnotes\",\"Flo\",\"8BIT Coin\",\"Sativa Coin\",\"ArtByte\",\"Folding Coin\",\"Ucoin\",\"Unitus\",\"CypherPunkCoin\",\"OmniCron\",\"Vtorrent\",\"GreenCoin\",\"Cryptonite\",\"MasterCoin\",\"SoonCoin\",\"1Credit\",\"IslaCoin\",\"Nexus\",\"MarsCoin \",\"Crypto\",\"Anarchists Prime\",\"Droidz\",\"BowsCoin\",\"Squall Coin\",\"Song Coin\",\"BitZeny\",\"Diggits\",\"Expanse\",\"Paycon\",\"Siacoin\",\"Emercoin\",\"EverGreenCoin\",\"MindCoin\",\"I0coin\",\"Decred\",\"Revolution VR\",\"HOdlcoin\",\"EDRCoin\",\"Hitcoin\",\"Gamecredits\",\"DubaiCoin\",\"CarpeDiemCoin\",\"PWR Coin\",\"BillaryCoin\",\"GPU Coin\",\"Adzcoin\",\"SoilCoin\",\"YoCoin\",\"SibCoin\",\"EuropeCoin\",\"ZeitCoin\",\"SwingCoin\",\"SafeExchangeCoin\",\"Nebuchadnezzar\",\"Francs\",\"BolivarCoin\",\"Ratecoin\",\"Revenu\",\"Clockcoin\",\"VIP Tokens\",\"BitSend\",\"Omni\",\"Let it Ride\",\"PutinCoin\",\"iBankCoin\",\"Frankywillcoin\",\"MudraCoin\",\"PizzaCoin\",\"Lutetium Coin\",\"Komodo\",\"GoldBlocks\",\"CarterCoin\",\"Karbo\",\"BitTokens\",\"ZayedCoin\",\"MustangCoin\",\"ZoneCoin\",\"Circuits of Value\",\"RootCoin\",\"DopeCoin\",\"BitCurrency\",\"DollarCoin\",\"Swiscoin\",\"Shilling\",\"BuzzCoin\",\"Opair\",\"PesoBit\",\"Halloween Coin\",\"ZCoin\",\"CoffeeCoin\",\"RoyalCoin\",\"GanjaCoin V2\",\"TeamUP\",\"LanaCoin\",\"Elementrem\",\"ZClassic\",\"ARK\",\"InsaneCoin\",\"KiloCoin\",\"ArtexCoin\",\"EmberCoin\",\"XenixCoin\",\"FreeCoin\",\"PLNCoin\",\"AquariusCoin\",\"Kurrent\",\"Creatio\",\"Eternity\",\"Eurocoin\",\"BitcoinFast\",\"Stakenet\",\"BitConnect Coin\",\"MoneyCoin\",\"Enigma\",\"Cannabis Industry Coin\",\"Russiacoin\",\"PandaCoin\",\"GameUnits\",\"GAKHcoin\",\"Allsafe\",\"LiteCreed\",\"OsmiumCoin\",\"Bikercoins\",\"HexxCoin\",\"Klingon Empire Darsek\",\"Internet of People\",\"KushCoin\",\"Printerium\",\"PacCoin\",\"Impeach\",\"Citadel\",\"Zilbercoin\",\"FirstCoin\",\"BeaverCoin\",\"FindCoin\",\"VaultCoin\",\"Zero\",\"OpenChat\",\"Canada eCoin\",\"Zoin\",\"RenosCoin\",\"DubaiCoin\",\"VirtacoinPlus\",\"TajCoin\",\"Impact\",\"EB3coin\",\"Atmos\",\"HappyCoin\",\"Coinonat\",\"MacronCoin\",\"Condensate\",\"Independent Money System\",\"ArgusCoin\",\"LomoCoin\",\"ProCurrency\",\"GoldReserve\",\"BenjiRolls\",\"GrowthCoin\",\"ILCoin\",\"Phreak\",\"Degas Coin\",\"HTML5 Coin\",\"Ultimate Secure Cash\",\"EquiTrader\",\"QTUM\",\"Quantum Resistant Ledger\",\"Espers\",\"Dynamic\",\"Nano\",\"ChanCoin\",\"Dinastycoin\",\"Denarius\",\"DigitalPrice\",\"Virta Unique Coin\",\"Bitcoin Planet\",\"Unify\",\"BritCoin\",\"SocialCoin\",\"ArcticCoin\",\"DAS\",\"Linda\",\"LeviarCoin\",\"DeepOnion\",\"Bitcore\",\"gCn Coin\",\"SmartCash\",\"Signatum\",\"Onix\",\"Cream\",\"Bitcoin Cash\",\"Monoeci\",\"Draftcoin\",\"Vechain\",\"Sojourn Coin\",\"Stakecoin\",\"NewYorkCoin\",\"FrazCoin\",\"Kronecoin\",\"AdCoin\",\"Linx\",\"CoinonatX\",\"Ethereum Dark\",\"Sumokoin\",\"Obsidian\",\"Cardano\",\"Regalcoin\",\"BitcoinZ\",\"TrezarCoin\",\"Elements\",\"TerraNovaCoin\",\"VIVO Coin\",\"Rupee\",\"Bitcoin Gold\",\"WomenCoin\",\"Theresa May Coin\",\"NamoCoin\",\"LUXCoin\",\"Pirl\",\"Xios\",\"Bitcloud 2.0\",\"eBoost\",\"KekCoin\",\"BlackholeCoin\",\"Infinity Economics\",\"Pura\",\"Innova\",\"Ellaism\",\"GoByte\",\"Magnet\",\"Lamden Tau\",\"Electra\",\"Bitcoin Diamond\",\"SHIELD\",\"Cash & Back Coin\",\"UltraNote\",\"BitCoal\",\"DaxxCoin\",\"Bulwark\",\"Kalkulus\",\"AC3\",\"Lethean\",\"GermanCoin\",\"LiteCoin Ultra\",\"PopularCoin\",\"PhantomX\",\"Photon\",\"Sucre\",\"SparksPay\",\"Digiwage\",\"GunCoin\",\"IrishCoin\",\"Trollcoin\",\"Litecoin Plus\",\"Monkey Project\",\"Pioneer Coin\",\"UnitedBitcoin\",\"Interzone\",\"TokenPay\",\"1717 Masonic Commemorative Token\",\"My Big Coin\",\"TurtleCoin\",\"MUNcoin\",\"Unified Society USDEX\",\"Niobio Cash\",\"ShareChain\",\"Travelflex\",\"KREDS\",\"Tokyo Coin\",\"BiblePay\",\"LitecoinCash\",\"BitFlip\",\"LottoCoin\",\"Crypto Improvement Fund\",\"Stipend\",\"Poa Network\",\"Pushi\",\"Ellerium\",\"Velox\",\"Ontology\",\"Callisto Network\",\"BitTube\",\"Poseidon\",\"Aidos Kuneen\",\"Bitspace\",\"Briacoin\",\"Ignition\",\"Bitrolium\",\"MedicCoin\",\"Alpenschillling\",\"Bitcoin Green\",\"Deviant Coin\",\"Abjcoin\",\"Semux\",\"FuturoCoin\",\"Carebit\",\"Zealium\",\"Monero Classic\",\"Proton\",\"iDealCash\",\"Jumpcoin\",\"Infinex\",\"Bitcoin Incognito\",\"KEYCO\",\"HollyWoodCoin\",\"GINcoin\",\"PlatinCoin\",\"Loki\",\"Newton Coin\",\"Swisscoin\",\"Xt3ch\",\"MassGrid\",\"TheVig\",\"PluraCoin\",\"EmaratCoin\",\"Dekado\",\"Lynx\",\"Poseidon Quark\",\"BitcoinWSpectrum\",\"Muse\",\"Motion\",\"PlusOneCoin\",\"Axe\",\"Trivechain\",\"Dystem\",\"Giant\",\"Peony Coin\",\"Absolute Coin\",\"Vitae\",\"HexCoin\",\"TPCash\",\"Webchain\",\"Ryo\",\"Urals Coin\",\"Qwertycoin\",\"ARENON\",\"EUNO\",\"MMOCoin\",\"Ketan\",\"Project Pai\",\"XDNA\",\"PAXEX\",\"Azart\",\"ThunderStake\",\"Kcash\",\"Xchange\",\"Acute Angle Cloud\",\"CrypticCoin\",\"Bettex coin\",\"Actinium\",\"Bitcoin SV\",\"BitMoney\",\"Junson Ming Chan Coin\",\"FREDEnergy\",\"HerbCoin\",\"Universal Molecule\",\"Lithium\",\"PirateCash\",\"Exosis\",\"Block-Logic\",\"Oduwa\",\"Beam\",\"Galilel\",\"Bithereum\",\"Crypto Sports\",\"Credit\",\"SLICE\",\"Dash Platinum\",\"Nasdacoin\",\"Beetle Coin\",\"Titan Coin\",\"Award\",\"BLAST\",\"Bitcoin Rhodium\",\"GlobalToken\",\"Insane Coin\",\"ALAX\",\"LiteDoge\",\"SolarCoin\",\"TruckCoin\",\"UFO Coin\",\"OrangeCoin\",\"BlakeCoin\",\"BitstarCoin\",\"NeosCoin\",\"HyperCoin\",\"PinkCoin\",\"Crypto Escudo\",\"AudioCoin\",\"IncaKoin\",\"Piggy Coin\",\"Crown Coin\",\"Genstake\",\"SmileyCoin\",\"XiaoMiCoin\",\"Groestlcoin\",\"CapriCoin\",\" ClubCoin\",\"Radium\",\"Bata\",\"Pakcoin\",\"Creditbit \",\"OKCash\",\"Lisk\",\"HiCoin\",\"WhiteCoin\",\"FriendshipCoin\",\"Fiii\",\"JoinCoin\",\"Triangles Coin\",\"Vollar\",\"EOS\",\"Reality Clash\",\"Oxycoin\",\"TigerCash\",\"Waves\",\"Particl\",\"BitTorrent\",\"Nxt\",\"ZEPHYR\",\"Gapcoin\",\"Beldex\",\"Horizen\",\"BitcoinPlus\"],\"ProofType\":[\"PoW/PoS\",\"PoW/PoS\",\"PoW/PoS\",\"PoW\",\"PoW\",\"PoW\",\"PoW/PoS\",\"PoW\",\"PoW\",\"PoW\",\"PoS\",\"PoW\",\"PoW/PoS\",\"PoS\",\"PoW\",\"PoW/PoS\",\"PoW\",\"PoW\",\"PoW/PoS\",\"PoW/PoS\",\"PoW\",\"PoW\",\"PoW\",\"PoW\",\"PoW\",\"PoW/PoS\",\"PoW\",\"PoW\",\"PoW\",\"PoW/PoS\",\"PoW\",\"PoW/PoS\",\"PoW\",\"PoW\",\"PoC\",\"PoW/PoS\",\"PoW\",\"PoW\",\"PoW\",\"PoW\",\"PoW\",\"PoW\",\"PoS\",\"PoS/PoW/PoT\",\"PoW\",\"PoW\",\"PoW\",\"PoW\",\"PoW\",\"PoW/PoS\",\"PoS\",\"PoW\",\"PoW/PoS\",\"PoW\",\"PoW\",\"PoW\",\"PoW\",\"PoW/PoS\",\"PoW\",\"PoW\",\"PoS\",\"PoW\",\"PoW/PoS\",\"PoS\",\"PoW/PoS\",\"PoW\",\"PoW\",\"PoW\",\"PoW/PoS\",\"PoW/PoS\",\"PoW/PoS\",\"PoW/PoS\",\"PoW/PoS\",\"PoW\",\"PoW\",\"PoW\",\"PoS\",\"PoW/PoS\",\"PoW\",\"PoS\",\"PoW\",\"PoS\",\"PoW/PoS\",\"PoW\",\"PoW\",\"PoW\",\"PoW\",\"PoW/PoS\",\"PoW/PoS\",\"PoW\",\"PoST\",\"PoW\",\"PoW\",\"PoW/PoS\",\"PoS\",\"PoW\",\"PoW/PoS\",\"PoW/PoS\",\"PoW\",\"PoW\",\"PoC\",\"PoS\",\"PoW\",\"PoW/PoS\",\"PoW/PoS\",\"PoW\",\"PoS\",\"PoW\",\"PoW/PoS\",\"PoW\",\"PoS\",\"PoW\",\"PoW/PoS\",\"PoW/PoS\",\"PoW\",\"PoW\",\"PoS\",\"PoW\",\"PoW\",\"PoW\",\"PoW/PoS\",\"PoW\",\"PoW\",\"PoW\",\"PoW\",\"PoW\",\"PoW/PoS\",\"PoW/nPoS\",\"PoW\",\"PoW\",\"PoW\",\"PoW/PoS\",\"PoW\",\"PoS/PoW\",\"PoW\",\"PoW\",\"PoS\",\"PoW\",\"PoW/PoS\",\"PoW\",\"PoW/PoS\",\"PoW/PoS\",\"PoW\",\"PoW\",\"PoW/PoS\",\"PoW\",\"PoW\",\"PoW/PoS\",\"PoW/PoS\",\"PoW\",\"PoW/PoS\",\"PoW\",\"PoW/PoS\",\"PoW/PoS\",\"PoS\",\"PoW\",\"PoW\",\"PoW\",\"PoW\",\"PoW/PoS\",\"PoS\",\"PoW/PoS\",\"PoC\",\"PoS\",\"PoW\",\"PoW\",\"PoW/PoS\",\"PoW/PoS\",\"PoW/PoS\",\"PoW/PoS\",\"PoW/PoS\",\"PoW\",\"PoS\",\"PoW/PoS\",\"PoW/PoS\",\"PoW/PoS\",\"PoS\",\"PoW\",\"PoS\",\"dPoW/PoW\",\"PoW/PoS\",\"PoW/PoS\",\"PoW\",\"PoW/PoS\",\"PoW\",\"PoW/PoS\",\"PoW/PoS\",\"PoW\",\"PoW/PoS\",\"PoW\",\"PoS\",\"PoW\",\"PoW/PoW\",\"PoW\",\"PoW/PoS\",\"PoS\",\"PoW/PoS\",\"PoW/PoS\",\"PoW\",\"PoS\",\"PoS\",\"PoW/PoS\",\"PoS\",\"PoW/PoS\",\"PoW\",\"PoW\",\"DPoS\",\"PoW/PoS\",\"PoW\",\"PoW\",\"PoW/PoS\",\"PoW/PoS\",\"PoS\",\"PoW/PoS\",\"PoW/PoS\",\"PoW\",\"PoS\",\"PoW/PoS\",\"PoW/PoS\",\"PoW/PoS\",\"TPoS\",\"PoW/PoS\",\"PoW/PoS\",\"PoW/PoS\",\"PoW\",\"PoW/PoS\",\"PoS\",\"PoW/PoS\",\"PoW/PoS\",\"PoS\",\"PoW/PoS\",\"PoW\",\"PoW\",\"PoW\",\"PoW/PoS\",\"PoW/PoS\",\"PoW/PoS\",\"PoW/PoS\",\"PoW\",\"PoW/PoS\",\"PoW\",\"PoS\",\"PoW/PoS \",\"PoW\",\"PoS\",\"PoW\",\"PoW\",\"PoW/PoS\",\"PoW\",\"PoW\",\"PoS\",\"PoW\",\"PoW/PoS\",\"PoW/PoS\",\"PoW/PoS\",\"PoW\",\"PoS\",\"PoW/PoS\",\"PoW\",\"PoS\",\"PoW/PoS\",\"PoW/PoS\",\"PoW/PoS\",\"PoW/PoS\",\"PoS\",\"PoW/PoS\",\"PoW\",\"PoS\",\"PoW\",\"PoS\",\"PoW/PoS\",\"PoW/PoS\",\"PoS\",\"PoW\",\"PoS\",\"PoW\",\"PoW/PoS\",\"PoW\",\"PoW\",\"PoW\",\"PoW\",\"PoW/PoS\",\"PoW\",\"PoW/PoS\",\"PoW/PoS\",\"PoW\",\"PoW/PoS\",\"PoW\",\"PoW\",\"PoW\",\"PoW/PoS\",\"PoW\",\"PoW/PoS\",\"PoW\",\"PoW\",\"PoW\",\"PoS\",\"PoW\",\"PoW/PoS\",\"PoW\",\"PoW/PoS\",\"PoS\",\"Proof of Authority\",\"PoW\",\"PoS\",\"PoW\",\"PoW\",\"PoW\",\"PoW\",\"PoW\",\"PoW/PoS\",\"PoW/PoS\",\"PoW\",\"PoS\",\"PoS\",\"PoW/PoS\",\"PoW\",\"PoW/PoS\",\"PoW\",\"PoW/PoS\",\"PoW\",\"PoS\",\"PoW\",\"PoW/PoS\",\"PoW/PoS\",\"PoW/PoS\",\"PoW/PoS\",\"PoW\",\"PoW/PoS\",\"PoW/PoS\",\"PoW\",\"PoS\",\"PoW/PoS\",\"PoS\",\"PoW\",\"PoW\",\"PoW\",\"PoW\",\"PoW/PoS\",\"DPoS\",\"PoW/PoS\",\"PoW/PoS\",\"PoW\",\"PoW/PoS\",\"PoW\",\"PoW\",\"PoW\",\"PoS\",\"PoS\",\"PoW\",\"PoW\",\"PoW/PoS\",\"PoW/PoS\",\"PoW\",\"PoW/PoS\",\"PoW\",\"PoW\",\"PoW\",\"PoS\",\"PoW\",\"PoW\",\"PoW/PoS\",\"PoW/PoS\",\"PoS\",\"PoW\",\"PoW\",\"PoW\",\"PoS\",\"PoS\",\"PoW and PoS\",\"PoW\",\"PoW\",\"PoW/PoS\",\"PoW\",\"PoW\",\"PoW\",\"PoW\",\"PoS\",\"POBh\",\"PoW + Hive\",\"PoW\",\"PoW\",\"PoW\",\"PoW/PoS\",\"PoA\",\"PoW/PoS\",\"PoW/PoS\",\"PoS\",\"PoS\",\"PoW\",\"PoW\",\"PoW\",\"PoW\",\"PoW/PoS\",\"PoW/PoS\",\"PoW/PoS\",\"PoW\",\"PoS\",\"PoW\",\"PoS\",\"PoS\",\"PoW/PoS\",\"DPoS\",\"PoW\",\"PoW/PoS\",\"PoS\",\"PoW\",\"PoS\",\"PoW/PoS\",\"PoW\",\"PoW\",\"PoS/PoW\",\"PoW\",\"PoS\",\"PoW\",\"PoW\",\"PoW\",\"PoW\",\"PoW/PoS\",\"PoS\",\"PoW\",\"PoW/PoS\",\"PoW\",\"PoW/PoS\",\"PoS\",\"HPoW\",\"PoS\",\"PoS\",\"PoS\",\"PoW\",\"PoW\",\"PoW\",\"PoW/PoS\",\"PoS\",\"PoW/PoS\",\"PoS\",\"PoW/PoS\",\"PoS\",\"PoW\",\"PoW/PoS\",\"PoW\",\"PoW\",\"PoW\",\"PoW\",\"PoS\",\"PoW/PoS\",\"PoS\",\"PoS\",\"PoW\",\"PoW/PoS\",\"PoS\",\"PoW\",\"PoW/PoS\",\"Zero-Knowledge Proof\",\"PoW\",\"DPOS\",\"PoW\",\"PoS\",\"PoW\",\"PoW\",\"Pos\",\"PoS\",\"PoW\",\"PoW/PoS\",\"PoW\",\"PoW\",\"PoS\",\"PoW\",\"PoW\",\"PoW/PoS\",\"PoW\",\"PoW/PoS\",\"PoW\",\"PoS\",\"PoW/PoS\",\"PoW\",\"PoS\",\"PoW/PoS\",\"PoW/PoS\",\"PoW/PoS\",\"PoW/PoS\",\"PoW\",\"PoW\",\"PoW\",\"PoW/PoS\",\"DPoS\",\"PoW/PoS\",\"PoW\",\"PoW/PoS\",\"PoW\",\"PoW/PoS\",\"PoW\",\"PoW/PoS\",\"PoS\",\"PoW/PoS\",\"PoW/PoS\",\"PoW\",\"PoW/PoS\",\"PoW/PoS\",\"PoW/PoS\",\"PoW\",\"PoW/PoS\",\"PoW\",\"PoW/PoS\",\"PoW\",\"PoW/PoS\",\"PoW/PoS\",\"PoS\",\"PoW\",\"PoW\",\"Proof of Trust\",\"PoW/PoS\",\"DPoS\",\"PoS\",\"PoW/PoS\",\"PoW/PoS\",\"DPoC\",\"PoW\",\"PoW/PoS\",\"PoW\",\"DPoS\",\"PoW\",\"DPoS\",\"PoS\",\"LPoS\",\"PoS\",\"DPoS\",\"PoS/LPoS\",\"DPoS\",\"PoW/PoS\",\"PoW\",\"PoW\",\"PoS\"],\"TotalCoinSupply\":[\"42\",\"532000000\",\"314159265359\",\"21000000\",\"0\",\"84000000\",\"22000000\",\"0\",\"210000000\",\"21000000\",\"3600570502\",\"21000000000\",\"22000000\",\"12500000\",\"21000000\",\"350000000\",\"20000000\",\"64000000\",\"16768584\",\"0\",\"2000000000\",\"384000000000\",\"169795588\",\"250000000\",\"100000000\",\"0\",\"247000000\",\"84000000\",\"48166000\",\"500000\",\"21000000 \",\"1000000\",\"13140000\",\"18000000\",\"40000000000\",\"4380000\",\"16555000000\",\"21000000000\",\"13500000000\",\"21000000 \",\"299792458\",\"32000000\",\"0\",\"0\",\"11235813\",\"336000000\",\"1420609614\",\"70000000\",\"72245700\",\"120000000\",\"0\",\"90600000000\",\"22000000\",\"21000000\",\"265420800\",\"20000000\",\"1350000\",\"100000000\",\"42000000\",\"200000000\",\"0\",\"10000000\",\"2419200000\",\"16180000\",\"0\",\"15000000000\",\"21000000\",\"337000000\",\"0\",\"3770000\",\"420000000\",\"98000000\",\"0\",\"21000000\",\"250000000\",\"51200000\",\"0\",\"1000\",\"888000000\",\"100000000\",\"47011968\",\"2300000000\",\"10000000\",\"42000000\",\"80000000\",\"250000\",\"0\",\"1600000000\",\"100000000\",\"23000000\",\"0\",\"84000000\",\"265420800\",\"5500000\",\"0\",\"45000000\",\"0\",\"1000000000\",\"184467440735\",\"10000000000\",\"2158812800\",\"500000000\",\"105120000\",\"68000000\",\"0\",\"1680000000\",\"0\",\"166386000\",\"12000000\",\"2628000\",\"500000000\",\"160000000\",\"0\",\"10000000\",\"1000000000\",\"1000000000\",\"20000000\",\"0\",\"0\",\"3371337\",\"20000000\",\"10000000000\",\"1840000000\",\"619478\",\"21000000\",\"92000000000\",\"0\",\"78000000\",\"33000000\",\"65789100\",\"53760000\",\"5060000\",\"21000000\",\"0\",\"210240000\",\"250000000\",\"100000000\",\"16906397\",\"50000000\",\"0\",\"1000000000\",\"26298000\",\"16000000\",\"21000000\",\"21000000\",\"210000000\",\"81962100\",\"22000000\",\"26550000000\",\"84000000\",\"10500000\",\"21626280000 \",\"0\",\"42000000\",\"221052632\",\"84000000\",\"30000000\",\"168351300\",\"24000000\",\"384000000\",\" 99000000000\",\"40000000\",\"2147483647\",\"20000000\",\"20000000\",\"25000000\",\"75000000\",\"222725000\",\"525000000\",\"90000000\",\"139000000\",\"616448\",\"33500000\",\"2000000000\",\"44333333\",\"100000000\",\"200000000\",\"25000000\",\"657000000\",\"200000000\",\"50000000\",\"90000000\",\"10000000\",\"21000000\",\"9736000\",\"3000000\",\"21000000\",\"1200000000\",\"0\",\"200000000\",\"0\",\"10638298\",\"3100000000\",\"30000000\",\"20000000000\",\"74000000\",\"0\",\"1500000000\",\"21400000\",\"39999898\",\"2500124\",\"100000000\",\"301000000\",\"7506000000\",\"26205539\",\"21000000\",\"125000000\",\"30000000\",\"10000000000\",\"500000000\",\"850000000\",\"3853326.77707314\",\"50000000\",\"38540000 \",\"42000000\",\"228000000\",\"20000000\",\"60000000\",\"20000000\",\"33000000\",\"76500000\",\"28000000\",\"650659833\",\"5000000\",\"21000000\",\"144000000\",\"32514916898\",\"13000000\",\"3315789\",\"15000000\",\"78835200\",\"2714286\",\"25000000\",\"9999999\",\"500000000\",\"21000000\",\"9354000\",\"20000000\",\"100000000000\",\"21933333\",\"185000000\",\"55000000\",\"110000000\",\"3360000\",\"14524851.4827\",\"1000000000\",\"17000000\",\"1000000000\",\"100000000 \",\"21000000\",\"34426423\",\"2232901\",\"100000000\",\"36900000\",\"110000000\",\"4000000000\",\"110290030\",\"100000000\",\"48252000\",\"400000000\",\"500000000\",\"21212121\",\"28600000\",\"1000000000\",\"75000000000\",\"40000000\",\"35520400\",\"2000000000\",\"2500000000\",\"30000000\",\"105000000\",\"90000000000\",\"200084200\",\"72000000\",\"100000000\",\"105000000\",\"50000000000\",\"0\",\"340282367\",\"30000000\",\"2000000000\",\"10000000\",\"100000000\",\"120000000\",\"100000000\",\"19276800\",\"30000000\",\" 75000000\",\"60000000\",\"18900000\",\"50000000000\",\"54000000\",\"18898187.6216583\",\"21000000\",\"200000000000\",\"5000000000\",\"137500000\",\"1100000000\",\"100000000\",\"21000000\",\"9507271\",\"17405891.19707116\",\"86712634466\",\"10500000000\",\"61599965\",\"0\",\"20000000\",\"84000000\",\"100000000\",\"100000000\",\"48252000\",\"4200000\",\"88888888\",\"91388946\",\"45000000000\",\"27000000\",\"21000000000\",\"400000000\",\"1800000000\",\"15733333\",\"27000000\",\"24000000\",\"21000000\",\"25000000000\",\"100000000\",\"1200000000\",\"60000000\",\"156306732.71\",\"21000000\",\"200000000\",\"100000000\",\"21000000\",\"14788275.991\",\"9000000000\",\"350000000\",\"45000000\",\"280000000\",\"31800000\",\"144000000\",\"500000000\",\"30000000000\",\"210000000\",\"660000000\",\"210000000\",\"85000000000\",\"12500000\",\"10000000000\",\"27716121\",\"20000000\",\"550000000\",\"999481516\",\"50000000000\",\"150000000\",\"4999999999\",\"50000000\",\" 90000000000\",\"19800000\",\"21000000\",\"120000000\",\"500000000\",\"64000000\",\"900000000\",\"4000000\",\"21000000\",\"23000000\",\"20166000\",\"23000000\",\"25000000\",\"1618033\",\"30000000\",\"1000000000000\",\"16600000\",\"232000000\",\"336000000\",\"10000000000\",\"100000000\",\"1100000000\",\"800000000\",\"5200000000\",\"840000000\",\"40000000\",\"18406979840\",\"500000000\",\"19340594\",\"252460800\",\"25000000\",\"60000000\",\"124000000\",\"1000000000\",\"6500000000\",\"1000000000\",\"21000000\",\"25000000\",\"50000000\",\"3000000\",\"5000000\",\"70000000\",\"500000000\",\"300000000\",\"21000000\",\"88000000\",\"30000000\",\"100000000\",\"100000000\",\"200000000\",\"80000000\",\"18400000\",\"45000000\",\"5121951220\",\"21000000\",\"26280000\",\"21000000\",\"18000000\",\"26000000\",\"10500000\",\"600000518\",\"150000000\",\"184000000000\",\"10200000000\",\"44000000\",\"168000000\",\"100000000\",\"1000000000\",\"84000000\",\"90000000\",\"92000000000\",\"650000000 \",\"100262205\",\"18081806 \",\"22075700\",\"21000000\",\"21000000\",\"82546564\",\"21000000\",\"5151000\",\"16880000000\",\"52500000\",\"100000000\",\"22105263\",\"1000000000\",\"1750000000\",\"88188888\",\"210000000\",\"184470000000\",\"55000000\",\"50000000\",\"260000000\",\"210000000\",\"2100000000\",\"366000000\",\"100000000\",\"25000000\",\"18000000000\",\"1000000000\",\"100000000\",\"1000000000\",\"7600000000\",\"50000000\",\"84000000\",\"21000000\",\"70000000000\",\"0\",\"8080000000\",\"54000000\",\"105120001.44\",\"25228800\",\"105000000\",\"21000000\",\"120000000\",\"21000000\",\"262800000\",\"19035999\",\"30886000\",\"13370000\",\"74800000000\",\"100000000\",\"19700000\",\"84000000\",\"500000000\",\"5000000000\",\"420000000\",\"64000000\",\"2100000\",\"168000000\",\"30000000\",\"1000000000\",\"35000000000\",\"98100000000\",\"0\",\"4000000000\",\"200000000\",\"7000000000\",\"54256119\",\"21000000\",\"0\",\"500000000\",\"1000000000\",\"10500000000\",\"190000000\",\"1000000000\",\"42000000\",\"15000000\",\"50000000000\",\"400000000\",\"105000000\",\"208000000\",\"160000000\",\"9000000\",\"5000000\",\"182000000\",\"16504333\",\"105000000\",\"159918400\",\"10008835635\",\"300000000\",\"60168145\",\"5000000000\",\"2800000\",\"120000\",\"2100000000\",\"0\",\"24487944\",\"0\",\"1000000000\",\"100000000\",\"8634140\",\"990000000000\",\"1000000000\",\"2000000000\",\"250000000\",\"1400222610\",\"21000000\",\"1000000\"],\"TotalCoinsMined\":{\"__ndarray__\":\"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\",\"dtype\":\"float64\",\"order\":\"little\",\"shape\":[533]},\"class\":{\"__ndarray__\":\"AQAAAAEAAAABAAAAAAAAAAAAAAAAAAAAAQAAAAAAAAAAAAAAAAAAAAEAAAAAAAAAAQAAAAEAAAAAAAAAAQAAAAAAAAAAAAAAAQAAAAEAAAAAAAAAAAAAAAAAAAAAAAAAAAAAAAEAAAAAAAAAAAAAAAAAAAABAAAAAAAAAAEAAAAAAAAAAAAAAAEAAAABAAAAAAAAAAAAAAAAAAAAAAAAAAAAAAAAAAAAAQAAAAEAAAAAAAAAAAAAAAAAAAAAAAAAAAAAAAEAAAABAAAAAAAAAAEAAAAAAAAAAAAAAAAAAAAAAAAAAQAAAAAAAAAAAAAAAQAAAAAAAAABAAAAAQAAAAEAAAAAAAAAAAAAAAAAAAABAAAAAQAAAAEAAAABAAAAAQAAAAAAAAAAAAAAAAAAAAEAAAABAAAAAAAAAAEAAAAAAAAAAQAAAAEAAAAAAAAAAAAAAAAAAAAAAAAAAQAAAAEAAAAAAAAAAQAAAAAAAAAAAAAAAQAAAAEAAAAAAAAAAQAAAAEAAAAAAAAAAAAAAAEAAAABAAAAAAAAAAEAAAABAAAAAAAAAAEAAAAAAAAAAQAAAAAAAAABAAAAAAAAAAEAAAABAAAAAAAAAAAAAAABAAAAAAAAAAAAAAAAAAAAAQAAAAAAAAAAAAAAAAAAAAAAAAAAAAAAAQAAAAEAAAAAAAAAAAAAAAAAAAABAAAAAAAAAAEAAAAAAAAAAAAAAAEAAAAAAAAAAQAAAAAAAAABAAAAAQAAAAAAAAAAAAAAAQAAAAAAAAAAAAAAAQAAAAEAAAAAAAAAAQAAAAAAAAABAAAAAQAAAAEAAAAAAAAAAAAAAAAAAAAAAAAAAQAAAAEAAAABAAAAAQAAAAEAAAAAAAAAAAAAAAEAAAABAAAAAQAAAAEAAAABAAAAAAAAAAEAAAABAAAAAQAAAAEAAAABAAAAAAAAAAEAAAAAAAAAAQAAAAEAAAAAAAAAAQAAAAAAAAABAAAAAQAAAAAAAAABAAAAAAAAAAEAAAAAAAAAAQAAAAAAAAABAAAAAQAAAAEAAAABAAAAAAAAAAEAAAABAAAAAQAAAAEAAAABAAAAAAAAAAAAAAABAAAAAQAAAAAAAAAAAAAAAQAAAAEAAAABAAAAAQAAAAEAAAAAAAAAAQAAAAEAAAABAAAAAQAAAAEAAAABAAAAAQAAAAEAAAAAAAAAAQAAAAEAAAABAAAAAQAAAAEAAAABAAAAAAAAAAAAAAAAAAAAAQAAAAEAAAABAAAAAQAAAAAAAAABAAAAAAAAAAEAAAABAAAAAAAAAAEAAAAAAAAAAAAAAAEAAAAAAAAAAAAAAAEAAAAAAAAAAQAAAAEAAAABAAAAAAAAAAEAAAABAAAAAAAAAAEAAAABAAAAAQAAAAEAAAABAAAAAQAAAAEAAAAAAAAAAQAAAAAAAAABAAAAAQAAAAEAAAABAAAAAAAAAAEAAAAAAAAAAQAAAAAAAAAAAAAAAAAAAAAAAAABAAAAAAAAAAEAAAABAAAAAAAAAAEAAAAAAAAAAAAAAAAAAAABAAAAAAAAAAEAAAAAAAAAAAAAAAAAAAABAAAAAAAAAAEAAAAAAAAAAQAAAAEAAAABAAAAAAAAAAEAAAAAAAAAAAAAAAAAAAAAAAAAAAAAAAEAAAABAAAAAAAAAAEAAAABAAAAAQAAAAAAAAABAAAAAAAAAAEAAAAAAAAAAQAAAAAAAAABAAAAAQAAAAEAAAABAAAAAAAAAAEAAAABAAAAAAAAAAEAAAABAAAAAQAAAAAAAAAAAAAAAAAAAAAAAAABAAAAAQAAAAEAAAABAAAAAAAAAAEAAAAAAAAAAAAAAAAAAAABAAAAAQAAAAAAAAAAAAAAAQAAAAEAAAAAAAAAAQAAAAAAAAAAAAAAAAAAAAEAAAAAAAAAAAAAAAEAAAABAAAAAQAAAAAAAAAAAAAAAAAAAAEAAAAAAAAAAQAAAAAAAAAAAAAAAQAAAAAAAAAAAAAAAAAAAAAAAAABAAAAAwAAAAMAAAAAAAAAAAAAAAAAAAABAAAAAQAAAAEAAAABAAAAAQAAAAEAAAAAAAAAAAAAAAAAAAAAAAAAAQAAAAEAAAABAAAAAAAAAAEAAAAAAAAAAQAAAAEAAAABAAAAAQAAAAAAAAABAAAAAQAAAAAAAAABAAAAAQAAAAAAAAAAAAAAAQAAAAAAAAABAAAAAAAAAAAAAAAAAAAAAAAAAAEAAAABAAAAAAAAAAEAAAAAAAAAAQAAAAEAAAABAAAAAQAAAAEAAAABAAAAAAAAAAAAAAAAAAAAAQAAAAEAAAABAAAAAQAAAAEAAAABAAAAAAAAAAEAAAAAAAAAAAAAAAAAAAAAAAAAAQAAAAEAAAABAAAAAQAAAAAAAAABAAAAAQAAAAAAAAABAAAAAQAAAAAAAAABAAAAAAAAAAEAAAAAAAAAAAAAAAEAAAABAAAAAAAAAAEAAAAAAAAAAAAAAAAAAAAAAAAAAAAAAAEAAAAAAAAAAQAAAAAAAAABAAAAAQAAAAAAAAABAAAAAQAAAAEAAAABAAAAAQAAAAAAAAAAAAAAAAAAAAEAAAABAAAAAQAAAAAAAAABAAAAAAAAAAEAAAAAAAAAAQAAAAEAAAABAAAAAQAAAAAAAAABAAAAAQAAAAEAAAAAAAAAAQAAAAAAAAABAAAAAAAAAAEAAAABAAAAAQAAAAAAAAAAAAAAAQAAAAEAAAABAAAAAQAAAAEAAAABAAAAAwAAAAAAAAABAAAAAAAAAAEAAAAAAAAAAQAAAAEAAAABAAAAAQAAAAIAAAABAAAAAQAAAAEAAAAAAAAAAAAAAAEAAAA=\",\"dtype\":\"int32\",\"order\":\"little\",\"shape\":[533]}},\"selected\":{\"id\":\"3016\"},\"selection_policy\":{\"id\":\"3050\"}},\"id\":\"3015\",\"type\":\"ColumnDataSource\"},{\"attributes\":{},\"id\":\"3050\",\"type\":\"UnionRenderers\"},{\"attributes\":{},\"id\":\"3028\",\"type\":\"StringEditor\"},{\"attributes\":{\"editor\":{\"id\":\"3018\"},\"field\":\"CoinName\",\"formatter\":{\"id\":\"3017\"},\"title\":\"CoinName\"},\"id\":\"3019\",\"type\":\"TableColumn\"},{\"attributes\":{\"editor\":{\"id\":\"3028\"},\"field\":\"ProofType\",\"formatter\":{\"id\":\"3027\"},\"title\":\"ProofType\"},\"id\":\"3029\",\"type\":\"TableColumn\"},{\"attributes\":{\"editor\":{\"id\":\"3038\"},\"field\":\"TotalCoinsMined\",\"formatter\":{\"id\":\"3037\"},\"title\":\"TotalCoinsMined\"},\"id\":\"3039\",\"type\":\"TableColumn\"},{\"attributes\":{\"margin\":[5,5,5,5],\"name\":\"HSpacer06313\",\"sizing_mode\":\"stretch_width\"},\"id\":\"3014\",\"type\":\"Spacer\"},{\"attributes\":{},\"id\":\"3016\",\"type\":\"Selection\"},{\"attributes\":{},\"id\":\"3032\",\"type\":\"StringFormatter\"},{\"attributes\":{},\"id\":\"3017\",\"type\":\"StringFormatter\"},{\"attributes\":{\"editor\":{\"id\":\"3023\"},\"field\":\"Algorithm\",\"formatter\":{\"id\":\"3022\"},\"title\":\"Algorithm\"},\"id\":\"3024\",\"type\":\"TableColumn\"},{\"attributes\":{},\"id\":\"3042\",\"type\":\"NumberFormatter\"},{\"attributes\":{\"editor\":{\"id\":\"3033\"},\"field\":\"TotalCoinSupply\",\"formatter\":{\"id\":\"3032\"},\"title\":\"TotalCoinSupply\"},\"id\":\"3034\",\"type\":\"TableColumn\"},{\"attributes\":{\"columns\":[{\"id\":\"3019\"},{\"id\":\"3024\"},{\"id\":\"3029\"},{\"id\":\"3034\"},{\"id\":\"3039\"},{\"id\":\"3044\"}],\"height\":300,\"reorderable\":false,\"source\":{\"id\":\"3015\"},\"view\":{\"id\":\"3048\"},\"width\":700},\"id\":\"3047\",\"type\":\"DataTable\"},{\"attributes\":{},\"id\":\"3043\",\"type\":\"IntEditor\"},{\"attributes\":{\"source\":{\"id\":\"3015\"}},\"id\":\"3048\",\"type\":\"CDSView\"},{\"attributes\":{},\"id\":\"3022\",\"type\":\"StringFormatter\"},{\"attributes\":{},\"id\":\"3033\",\"type\":\"StringEditor\"},{\"attributes\":{},\"id\":\"3023\",\"type\":\"StringEditor\"},{\"attributes\":{\"format\":\"0,0.0[00000]\"},\"id\":\"3037\",\"type\":\"NumberFormatter\"},{\"attributes\":{},\"id\":\"3038\",\"type\":\"NumberEditor\"}],\"root_ids\":[\"3013\"]},\"title\":\"Bokeh Application\",\"version\":\"2.2.3\"}};\n",
       "    var render_items = [{\"docid\":\"60b4924d-600a-4ff0-9f8b-73d9ed63ab49\",\"root_ids\":[\"3013\"],\"roots\":{\"3013\":\"845165e4-aea5-4e5a-a9c5-fdeaaa9a6bf9\"}}];\n",
       "    root.Bokeh.embed.embed_items_notebook(docs_json, render_items);\n",
       "  }\n",
       "  if (root.Bokeh !== undefined && root.Bokeh.Panel !== undefined) {\n",
       "    embed_document(root);\n",
       "  } else {\n",
       "    var attempts = 0;\n",
       "    var timer = setInterval(function(root) {\n",
       "      if (root.Bokeh !== undefined && root.Bokeh.Panel !== undefined) {\n",
       "        clearInterval(timer);\n",
       "        embed_document(root);\n",
       "      } else if (document.readyState == \"complete\") {\n",
       "        attempts++;\n",
       "        if (attempts > 100) {\n",
       "          clearInterval(timer);\n",
       "          console.log(\"Bokeh: ERROR: Unable to run BokehJS code because BokehJS library is missing\");\n",
       "        }\n",
       "      }\n",
       "    }, 10, root)\n",
       "  }\n",
       "})(window);</script>"
      ],
      "text/plain": [
       ":Table   [CoinName,Algorithm,ProofType,TotalCoinSupply,TotalCoinsMined,class]"
      ]
     },
     "execution_count": 219,
     "metadata": {
      "application/vnd.holoviews_exec.v0+json": {
       "id": "3013"
      }
     },
     "output_type": "execute_result"
    }
   ],
   "source": [
    "# Create a table with tradable cryptocurrencies.\n",
    "tradable_cryptos = clustered_df.hvplot.table(columns=['CoinName', \"Algorithm\", \"ProofType\", \"TotalCoinSupply\", \"TotalCoinsMined\", \"class\"])\n",
    "tradable_cryptos"
   ]
  },
  {
   "cell_type": "code",
   "execution_count": 220,
   "metadata": {},
   "outputs": [
    {
     "name": "stdout",
     "output_type": "stream",
     "text": [
      "The number of trading cryptos is 1143\n"
     ]
    }
   ],
   "source": [
    "# Print the total number of tradable cryptocurrencies.\n",
    "tradable_cryptos_sum = crypto_df['IsTrading'].sum()\n",
    "X = tradable_cryptos_sum - 1\n",
    "print(f'The number of trading cryptos is {X}')\n",
    "\n",
    "\n"
   ]
  },
  {
   "cell_type": "code",
   "execution_count": 233,
   "metadata": {},
   "outputs": [],
   "source": [
    "# Scaling data to create the scatter plot with tradable cryptocurrencies.\n",
    "X = clustered_df[['TotalCoinsMined', 'TotalCoinSupply']]\n",
    "Crypto_scaled2 = MinMaxScaler().fit_transform(X)"
   ]
  },
  {
   "cell_type": "code",
   "execution_count": 243,
   "metadata": {},
   "outputs": [
    {
     "data": {
      "text/html": [
       "<div>\n",
       "<style scoped>\n",
       "    .dataframe tbody tr th:only-of-type {\n",
       "        vertical-align: middle;\n",
       "    }\n",
       "\n",
       "    .dataframe tbody tr th {\n",
       "        vertical-align: top;\n",
       "    }\n",
       "\n",
       "    .dataframe thead th {\n",
       "        text-align: right;\n",
       "    }\n",
       "</style>\n",
       "<table border=\"1\" class=\"dataframe\">\n",
       "  <thead>\n",
       "    <tr style=\"text-align: right;\">\n",
       "      <th></th>\n",
       "      <th>TotalCoinsMined</th>\n",
       "      <th>TotalCoinSupply</th>\n",
       "      <th>CoinName</th>\n",
       "      <th>Class</th>\n",
       "    </tr>\n",
       "  </thead>\n",
       "  <tbody>\n",
       "    <tr>\n",
       "      <th>0</th>\n",
       "      <td>0.005942</td>\n",
       "      <td>4.200000e-11</td>\n",
       "      <td>42 Coin</td>\n",
       "      <td>1</td>\n",
       "    </tr>\n",
       "    <tr>\n",
       "      <th>1</th>\n",
       "      <td>0.007002</td>\n",
       "      <td>5.320000e-04</td>\n",
       "      <td>404Coin</td>\n",
       "      <td>1</td>\n",
       "    </tr>\n",
       "    <tr>\n",
       "      <th>2</th>\n",
       "      <td>0.035342</td>\n",
       "      <td>3.141593e-01</td>\n",
       "      <td>EliteCoin</td>\n",
       "      <td>1</td>\n",
       "    </tr>\n",
       "    <tr>\n",
       "      <th>3</th>\n",
       "      <td>0.005960</td>\n",
       "      <td>2.100000e-05</td>\n",
       "      <td>Bitcoin</td>\n",
       "      <td>0</td>\n",
       "    </tr>\n",
       "    <tr>\n",
       "      <th>4</th>\n",
       "      <td>0.006050</td>\n",
       "      <td>0.000000e+00</td>\n",
       "      <td>Ethereum</td>\n",
       "      <td>0</td>\n",
       "    </tr>\n",
       "  </tbody>\n",
       "</table>\n",
       "</div>"
      ],
      "text/plain": [
       "   TotalCoinsMined  TotalCoinSupply   CoinName  Class\n",
       "0         0.005942     4.200000e-11    42 Coin      1\n",
       "1         0.007002     5.320000e-04    404Coin      1\n",
       "2         0.035342     3.141593e-01  EliteCoin      1\n",
       "3         0.005960     2.100000e-05    Bitcoin      0\n",
       "4         0.006050     0.000000e+00   Ethereum      0"
      ]
     },
     "execution_count": 243,
     "metadata": {},
     "output_type": "execute_result"
    }
   ],
   "source": [
    "# Create a new DataFrame that has the scaled data with the clustered_df DataFrame index.\n",
    "Crypto_scaled2_df = pd.concat([Crypto_scaled2_df, clustered_df], axis=1)\n",
    "Crypto_scaled2_df = pd.DataFrame(Crypto_scaled2)\n",
    "Crypto_scaled2_df.rename(columns={0: 'TotalCoinsMined', 1: 'TotalCoinSupply', 2: 'CoinName', 3: 'class'}, inplace=True)\n",
    "# Add the \"CoinName\" column from the clustered_df DataFrame to the new DataFrame.\n",
    "Crypto_scaled2_df['CoinName'] = crypto_names['CoinName']\n",
    "# Add the \"Class\" column from the clustered_df DataFrame to the new DataFrame. \n",
    "Crypto_scaled2_df['Class'] = model.labels_\n",
    "\n",
    "\n",
    "\n",
    "Crypto_scaled2_df.head()"
   ]
  },
  {
   "cell_type": "code",
   "execution_count": 245,
   "metadata": {},
   "outputs": [
    {
     "data": {},
     "metadata": {},
     "output_type": "display_data"
    },
    {
     "data": {
      "application/vnd.holoviews_exec.v0+json": "",
      "text/html": [
       "<div id='3705'>\n",
       "\n",
       "\n",
       "\n",
       "\n",
       "\n",
       "  <div class=\"bk-root\" id=\"f1c8d267-4715-4e63-b24b-610fdfaf7f4e\" data-root-id=\"3705\"></div>\n",
       "</div>\n",
       "<script type=\"application/javascript\">(function(root) {\n",
       "  function embed_document(root) {\n",
       "    var docs_json = {\"c7edcc78-a1fe-4da9-abf2-03805188a263\":{\"roots\":{\"references\":[{\"attributes\":{\"data\":{\"Class\":[3,3,3],\"CoinName\":[\"BiblePay\",\"LitecoinCash\",\"Fiii\"],\"TotalCoinSupply\":{\"__ndarray__\":\"lPYGX5hMdT+8eapDboZLP3sUrkfhenQ/\",\"dtype\":\"float64\",\"order\":\"little\",\"shape\":[3]},\"TotalCoinsMined\":{\"__ndarray__\":\"eHs1s8Ogfz9wjSUfGfd6PwAAAAAAAAAA\",\"dtype\":\"float64\",\"order\":\"little\",\"shape\":[3]}},\"selected\":{\"id\":\"3806\"},\"selection_policy\":{\"id\":\"3826\"}},\"id\":\"3805\",\"type\":\"ColumnDataSource\"},{\"attributes\":{},\"id\":\"3762\",\"type\":\"UnionRenderers\"},{\"attributes\":{},\"id\":\"3766\",\"type\":\"Selection\"},{\"attributes\":{\"margin\":[5,5,5,5],\"name\":\"HSpacer08160\",\"sizing_mode\":\"stretch_width\"},\"id\":\"3954\",\"type\":\"Spacer\"},{\"attributes\":{\"active_drag\":\"auto\",\"active_inspect\":\"auto\",\"active_multi\":null,\"active_scroll\":\"auto\",\"active_tap\":\"auto\",\"tools\":[{\"id\":\"3709\"},{\"id\":\"3730\"},{\"id\":\"3731\"},{\"id\":\"3732\"},{\"id\":\"3733\"},{\"id\":\"3734\"}]},\"id\":\"3736\",\"type\":\"Toolbar\"},{\"attributes\":{\"data\":{\"Class\":[1,1,1,1,1,1,1,1,1,1,1,1,1,1,1,1,1,1,1,1,1,1,1,1,1,1,1,1,1,1,1,1,1,1,1,1,1,1,1,1,1,1,1,1,1,1,1,1,1,1,1,1,1,1,1,1,1,1,1,1,1,1,1,1,1,1,1,1,1,1,1,1,1,1,1,1,1,1,1,1,1,1,1,1,1,1,1,1,1,1,1,1,1,1,1,1,1,1,1,1,1,1,1,1,1,1,1,1,1,1,1,1,1,1,1,1,1,1,1,1,1,1,1,1,1,1,1,1,1,1,1,1,1,1,1,1,1,1,1,1,1,1,1,1,1,1,1,1,1,1,1,1,1,1,1,1,1,1,1,1,1,1,1,1,1,1,1,1,1,1,1,1,1,1,1,1,1,1,1,1,1,1,1,1,1,1,1,1,1,1,1,1,1,1,1,1,1,1,1,1,1,1,1,1,1,1,1,1,1,1,1,1,1,1,1,1,1,1,1,1,1,1,1,1,1,1,1,1,1,1,1,1,1,1,1,1,1,1,1,1,1,1,1,1,1,1,1,1,1,1,1,1,1,1,1,1,1,1,1,1,1,1,1,1,1,1,1,1,1,1,1,1,1,1,1,1,1,1,1,1,1,1,1,1,1,1,1,1,1],\"CoinName\":[\"42 Coin\",\"404Coin\",\"EliteCoin\",\"Dash\",\"Bitshares\",\"BitcoinDark\",\"PayCoin\",\"KoboCoin\",\"Aurora Coin\",\"BlueCoin\",\"EnergyCoin\",\"BitBar\",\"CryptoBullion\",\"CasinoCoin\",\"Diamond\",\"Exclusive Coin\",\"FlutterCoin\",\"HoboNickels\",\"HyperStake\",\"IOCoin\",\"MaxCoin\",\"MintCoin\",\"MazaCoin\",\"Nautilus Coin\",\"NavCoin\",\"OpalCoin\",\"Orbitcoin\",\"PotCoin\",\"PhoenixCoin\",\"Reddcoin\",\"SuperCoin\",\"SyncCoin\",\"TeslaCoin\",\"TittieCoin\",\"TorCoin\",\"UnitaryStatus Dollar\",\"UltraCoin\",\"VeriCoin\",\"X11 Coin\",\"Crypti\",\"StealthCoin\",\"ZCC Coin\",\"BurstCoin\",\"StorjCoin\",\"Neutron\",\"FairCoin\",\"RubyCoin\",\"Kore\",\"Dnotes\",\"8BIT Coin\",\"Sativa Coin\",\"Ucoin\",\"Vtorrent\",\"IslaCoin\",\"Nexus\",\"Droidz\",\"Squall Coin\",\"Diggits\",\"Paycon\",\"Emercoin\",\"EverGreenCoin\",\"Decred\",\"EDRCoin\",\"Hitcoin\",\"DubaiCoin\",\"PWR Coin\",\"BillaryCoin\",\"GPU Coin\",\"EuropeCoin\",\"ZeitCoin\",\"SwingCoin\",\"SafeExchangeCoin\",\"Nebuchadnezzar\",\"Ratecoin\",\"Revenu\",\"Clockcoin\",\"VIP Tokens\",\"BitSend\",\"Let it Ride\",\"PutinCoin\",\"iBankCoin\",\"Frankywillcoin\",\"MudraCoin\",\"Lutetium Coin\",\"GoldBlocks\",\"CarterCoin\",\"BitTokens\",\"MustangCoin\",\"ZoneCoin\",\"RootCoin\",\"BitCurrency\",\"Swiscoin\",\"BuzzCoin\",\"Opair\",\"PesoBit\",\"Halloween Coin\",\"CoffeeCoin\",\"RoyalCoin\",\"GanjaCoin V2\",\"TeamUP\",\"LanaCoin\",\"ARK\",\"InsaneCoin\",\"EmberCoin\",\"XenixCoin\",\"FreeCoin\",\"PLNCoin\",\"AquariusCoin\",\"Creatio\",\"Eternity\",\"Eurocoin\",\"BitcoinFast\",\"Stakenet\",\"BitConnect Coin\",\"MoneyCoin\",\"Enigma\",\"Russiacoin\",\"PandaCoin\",\"GameUnits\",\"GAKHcoin\",\"Allsafe\",\"LiteCreed\",\"Klingon Empire Darsek\",\"Internet of People\",\"KushCoin\",\"Printerium\",\"Impeach\",\"Zilbercoin\",\"FirstCoin\",\"FindCoin\",\"OpenChat\",\"RenosCoin\",\"VirtacoinPlus\",\"TajCoin\",\"Impact\",\"Atmos\",\"HappyCoin\",\"MacronCoin\",\"Condensate\",\"Independent Money System\",\"ArgusCoin\",\"LomoCoin\",\"ProCurrency\",\"GoldReserve\",\"GrowthCoin\",\"Phreak\",\"Degas Coin\",\"HTML5 Coin\",\"Ultimate Secure Cash\",\"QTUM\",\"Espers\",\"Denarius\",\"Virta Unique Coin\",\"Bitcoin Planet\",\"BritCoin\",\"Linda\",\"DeepOnion\",\"Signatum\",\"Cream\",\"Monoeci\",\"Draftcoin\",\"Vechain\",\"Stakecoin\",\"CoinonatX\",\"Ethereum Dark\",\"Obsidian\",\"Cardano\",\"Regalcoin\",\"TrezarCoin\",\"TerraNovaCoin\",\"Rupee\",\"WomenCoin\",\"Theresa May Coin\",\"NamoCoin\",\"LUXCoin\",\"Xios\",\"Bitcloud 2.0\",\"KekCoin\",\"BlackholeCoin\",\"Infinity Economics\",\"Magnet\",\"Lamden Tau\",\"Electra\",\"Bitcoin Diamond\",\"Cash & Back Coin\",\"Bulwark\",\"Kalkulus\",\"GermanCoin\",\"LiteCoin Ultra\",\"PhantomX\",\"Digiwage\",\"Trollcoin\",\"Litecoin Plus\",\"Monkey Project\",\"TokenPay\",\"My Big Coin\",\"Unified Society USDEX\",\"Tokyo Coin\",\"Stipend\",\"Poa Network\",\"Pushi\",\"Ellerium\",\"Velox\",\"Ontology\",\"Bitspace\",\"Briacoin\",\"Ignition\",\"MedicCoin\",\"Bitcoin Green\",\"Deviant Coin\",\"Abjcoin\",\"Semux\",\"Carebit\",\"Zealium\",\"Proton\",\"iDealCash\",\"Bitcoin Incognito\",\"HollyWoodCoin\",\"Swisscoin\",\"Xt3ch\",\"TheVig\",\"EmaratCoin\",\"Dekado\",\"Lynx\",\"Poseidon Quark\",\"BitcoinWSpectrum\",\"Muse\",\"Trivechain\",\"Dystem\",\"Giant\",\"Peony Coin\",\"Absolute Coin\",\"Vitae\",\"TPCash\",\"ARENON\",\"EUNO\",\"MMOCoin\",\"Ketan\",\"XDNA\",\"PAXEX\",\"ThunderStake\",\"Kcash\",\"Acute Angle Cloud\",\"Bettex coin\",\"BitMoney\",\"Junson Ming Chan Coin\",\"HerbCoin\",\"Oduwa\",\"Galilel\",\"Crypto Sports\",\"Credit\",\"Dash Platinum\",\"Nasdacoin\",\"Beetle Coin\",\"Titan Coin\",\"Award\",\"Insane Coin\",\"ALAX\",\"LiteDoge\",\"TruckCoin\",\"OrangeCoin\",\"BitstarCoin\",\"NeosCoin\",\"HyperCoin\",\"PinkCoin\",\"AudioCoin\",\"IncaKoin\",\"Piggy Coin\",\"Genstake\",\"XiaoMiCoin\",\"CapriCoin\",\" ClubCoin\",\"Radium\",\"Creditbit \",\"OKCash\",\"Lisk\",\"HiCoin\",\"WhiteCoin\",\"FriendshipCoin\",\"Triangles Coin\",\"EOS\",\"Oxycoin\",\"TigerCash\",\"Waves\",\"Particl\",\"Nxt\",\"ZEPHYR\",\"Gapcoin\",\"BitcoinPlus\"],\"TotalCoinSupply\":{\"__ndarray__\":\"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\",\"dtype\":\"float64\",\"order\":\"little\",\"shape\":[289]},\"TotalCoinsMined\":{\"__ndarray__\":\"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\",\"dtype\":\"float64\",\"order\":\"little\",\"shape\":[289]}},\"selected\":{\"id\":\"3766\"},\"selection_policy\":{\"id\":\"3782\"}},\"id\":\"3765\",\"type\":\"ColumnDataSource\"},{\"attributes\":{},\"id\":\"3743\",\"type\":\"BasicTickFormatter\"},{\"attributes\":{},\"id\":\"3730\",\"type\":\"SaveTool\"},{\"attributes\":{\"fill_alpha\":{\"value\":0.2},\"fill_color\":{\"value\":\"#30a2da\"},\"line_alpha\":{\"value\":0.2},\"line_color\":{\"value\":\"#30a2da\"},\"size\":{\"units\":\"screen\",\"value\":5.477225575051661},\"x\":{\"field\":\"TotalCoinsMined\"},\"y\":{\"field\":\"TotalCoinSupply\"}},\"id\":\"3752\",\"type\":\"Scatter\"},{\"attributes\":{},\"id\":\"3782\",\"type\":\"UnionRenderers\"},{\"attributes\":{\"source\":{\"id\":\"3747\"}},\"id\":\"3754\",\"type\":\"CDSView\"},{\"attributes\":{\"fill_alpha\":{\"value\":0.2},\"fill_color\":{\"value\":\"#6d904f\"},\"line_alpha\":{\"value\":0.2},\"line_color\":{\"value\":\"#6d904f\"},\"size\":{\"units\":\"screen\",\"value\":5.477225575051661},\"x\":{\"field\":\"TotalCoinsMined\"},\"y\":{\"field\":\"TotalCoinSupply\"}},\"id\":\"3810\",\"type\":\"Scatter\"},{\"attributes\":{},\"id\":\"3731\",\"type\":\"PanTool\"},{\"attributes\":{},\"id\":\"3748\",\"type\":\"Selection\"},{\"attributes\":{},\"id\":\"3745\",\"type\":\"BasicTickFormatter\"},{\"attributes\":{\"label\":{\"value\":\"2\"},\"renderers\":[{\"id\":\"3790\"}]},\"id\":\"3804\",\"type\":\"LegendItem\"},{\"attributes\":{},\"id\":\"3718\",\"type\":\"LinearScale\"},{\"attributes\":{},\"id\":\"3732\",\"type\":\"WheelZoomTool\"},{\"attributes\":{},\"id\":\"3723\",\"type\":\"BasicTicker\"},{\"attributes\":{\"data_source\":{\"id\":\"3747\"},\"glyph\":{\"id\":\"3750\"},\"hover_glyph\":null,\"muted_glyph\":{\"id\":\"3752\"},\"nonselection_glyph\":{\"id\":\"3751\"},\"selection_glyph\":null,\"view\":{\"id\":\"3754\"}},\"id\":\"3753\",\"type\":\"GlyphRenderer\"},{\"attributes\":{\"overlay\":{\"id\":\"3735\"}},\"id\":\"3733\",\"type\":\"BoxZoomTool\"},{\"attributes\":{\"fill_color\":{\"value\":\"#30a2da\"},\"line_color\":{\"value\":\"#30a2da\"},\"size\":{\"units\":\"screen\",\"value\":5.477225575051661},\"x\":{\"field\":\"TotalCoinsMined\"},\"y\":{\"field\":\"TotalCoinSupply\"}},\"id\":\"3750\",\"type\":\"Scatter\"},{\"attributes\":{\"click_policy\":\"mute\",\"items\":[{\"id\":\"3764\"},{\"id\":\"3783\"},{\"id\":\"3804\"},{\"id\":\"3827\"}],\"location\":[0,0],\"title\":\"Class\"},\"id\":\"3763\",\"type\":\"Legend\"},{\"attributes\":{\"callback\":null,\"renderers\":[{\"id\":\"3753\"},{\"id\":\"3771\"},{\"id\":\"3790\"},{\"id\":\"3811\"}],\"tags\":[\"hv_created\"],\"tooltips\":[[\"Class\",\"@{Class}\"],[\"TotalCoinsMined\",\"@{TotalCoinsMined}\"],[\"TotalCoinSupply\",\"@{TotalCoinSupply}\"],[\"CoinName\",\"@{CoinName}\"]]},\"id\":\"3709\",\"type\":\"HoverTool\"},{\"attributes\":{\"axis\":{\"id\":\"3726\"},\"dimension\":1,\"grid_line_color\":null,\"ticker\":null},\"id\":\"3729\",\"type\":\"Grid\"},{\"attributes\":{\"fill_alpha\":{\"value\":0.1},\"fill_color\":{\"value\":\"#30a2da\"},\"line_alpha\":{\"value\":0.1},\"line_color\":{\"value\":\"#30a2da\"},\"size\":{\"units\":\"screen\",\"value\":5.477225575051661},\"x\":{\"field\":\"TotalCoinsMined\"},\"y\":{\"field\":\"TotalCoinSupply\"}},\"id\":\"3751\",\"type\":\"Scatter\"},{\"attributes\":{\"below\":[{\"id\":\"3722\"}],\"center\":[{\"id\":\"3725\"},{\"id\":\"3729\"}],\"left\":[{\"id\":\"3726\"}],\"margin\":[5,5,5,5],\"min_border_bottom\":10,\"min_border_left\":10,\"min_border_right\":10,\"min_border_top\":10,\"plot_height\":300,\"plot_width\":700,\"renderers\":[{\"id\":\"3753\"},{\"id\":\"3771\"},{\"id\":\"3790\"},{\"id\":\"3811\"}],\"right\":[{\"id\":\"3763\"}],\"sizing_mode\":\"fixed\",\"title\":{\"id\":\"3714\"},\"toolbar\":{\"id\":\"3736\"},\"x_range\":{\"id\":\"3707\"},\"x_scale\":{\"id\":\"3718\"},\"y_range\":{\"id\":\"3708\"},\"y_scale\":{\"id\":\"3720\"}},\"id\":\"3713\",\"subtype\":\"Figure\",\"type\":\"Plot\"},{\"attributes\":{},\"id\":\"3803\",\"type\":\"UnionRenderers\"},{\"attributes\":{\"source\":{\"id\":\"3765\"}},\"id\":\"3772\",\"type\":\"CDSView\"},{\"attributes\":{\"fill_color\":{\"value\":\"#6d904f\"},\"line_color\":{\"value\":\"#6d904f\"},\"size\":{\"units\":\"screen\",\"value\":5.477225575051661},\"x\":{\"field\":\"TotalCoinsMined\"},\"y\":{\"field\":\"TotalCoinSupply\"}},\"id\":\"3808\",\"type\":\"Scatter\"},{\"attributes\":{\"label\":{\"value\":\"1\"},\"renderers\":[{\"id\":\"3771\"}]},\"id\":\"3783\",\"type\":\"LegendItem\"},{\"attributes\":{},\"id\":\"3720\",\"type\":\"LinearScale\"},{\"attributes\":{},\"id\":\"3734\",\"type\":\"ResetTool\"},{\"attributes\":{\"fill_alpha\":{\"value\":0.2},\"fill_color\":{\"value\":\"#fc4f30\"},\"line_alpha\":{\"value\":0.2},\"line_color\":{\"value\":\"#fc4f30\"},\"size\":{\"units\":\"screen\",\"value\":5.477225575051661},\"x\":{\"field\":\"TotalCoinsMined\"},\"y\":{\"field\":\"TotalCoinSupply\"}},\"id\":\"3770\",\"type\":\"Scatter\"},{\"attributes\":{},\"id\":\"3806\",\"type\":\"Selection\"},{\"attributes\":{\"axis_label\":\"TotalCoinsMined\",\"bounds\":\"auto\",\"formatter\":{\"id\":\"3743\"},\"major_label_orientation\":\"horizontal\",\"ticker\":{\"id\":\"3723\"}},\"id\":\"3722\",\"type\":\"LinearAxis\"},{\"attributes\":{\"label\":{\"value\":\"0\"},\"renderers\":[{\"id\":\"3753\"}]},\"id\":\"3764\",\"type\":\"LegendItem\"},{\"attributes\":{\"data_source\":{\"id\":\"3765\"},\"glyph\":{\"id\":\"3768\"},\"hover_glyph\":null,\"muted_glyph\":{\"id\":\"3770\"},\"nonselection_glyph\":{\"id\":\"3769\"},\"selection_glyph\":null,\"view\":{\"id\":\"3772\"}},\"id\":\"3771\",\"type\":\"GlyphRenderer\"},{\"attributes\":{\"children\":[{\"id\":\"3706\"},{\"id\":\"3713\"},{\"id\":\"3954\"}],\"margin\":[0,0,0,0],\"name\":\"Row08155\",\"tags\":[\"embedded\"]},\"id\":\"3705\",\"type\":\"Row\"},{\"attributes\":{\"data_source\":{\"id\":\"3784\"},\"glyph\":{\"id\":\"3787\"},\"hover_glyph\":null,\"muted_glyph\":{\"id\":\"3789\"},\"nonselection_glyph\":{\"id\":\"3788\"},\"selection_glyph\":null,\"view\":{\"id\":\"3791\"}},\"id\":\"3790\",\"type\":\"GlyphRenderer\"},{\"attributes\":{\"data\":{\"Class\":[0,0,0,0,0,0,0,0,0,0,0,0,0,0,0,0,0,0,0,0,0,0,0,0,0,0,0,0,0,0,0,0,0,0,0,0,0,0,0,0,0,0,0,0,0,0,0,0,0,0,0,0,0,0,0,0,0,0,0,0,0,0,0,0,0,0,0,0,0,0,0,0,0,0,0,0,0,0,0,0,0,0,0,0,0,0,0,0,0,0,0,0,0,0,0,0,0,0,0,0,0,0,0,0,0,0,0,0,0,0,0,0,0,0,0,0,0,0,0,0,0,0,0,0,0,0,0,0,0,0,0,0,0,0,0,0,0,0,0,0,0,0,0,0,0,0,0,0,0,0,0,0,0,0,0,0,0,0,0,0,0,0,0,0,0,0,0,0,0,0,0,0,0,0,0,0,0,0,0,0,0,0,0,0,0,0,0,0,0,0,0,0,0,0,0,0,0,0,0,0,0,0,0,0,0,0,0,0,0,0,0,0,0,0,0,0,0,0,0,0,0,0,0,0,0,0,0,0,0,0,0,0,0,0,0,0,0,0,0,0],\"CoinName\":[\"Bitcoin\",\"Ethereum\",\"Litecoin\",\"Monero\",\"Ethereum Classic\",\"ZCash\",\"DigiByte\",\"ProsperCoin\",\"Spreadcoin\",\"Argentum\",\"MyriadCoin\",\"MoonCoin\",\"ZetaCoin\",\"SexCoin\",\"Quatloo\",\"QuarkCoin\",\"Riecoin\",\"Digitalcoin \",\"Catcoin\",\"CannaCoin\",\"CryptCoin\",\"Verge\",\"DevCoin\",\"EarthCoin\",\"E-Gulden\",\"Einsteinium\",\"Emerald\",\"Franko\",\"FeatherCoin\",\"GrandCoin\",\"GlobalCoin\",\"GoldCoin\",\"Infinite Coin\",\"IXcoin\",\"KrugerCoin\",\"LuckyCoin\",\"Litebar \",\"MegaCoin\",\"MediterraneanCoin\",\"MinCoin\",\"NobleCoin\",\"Namecoin\",\"NyanCoin\",\"RonPaulCoin\",\"StableCoin\",\"SmartCoin\",\"SysCoin\",\"TigerCoin\",\"TerraCoin\",\"UnbreakableCoin\",\"Unobtanium\",\"UroCoin\",\"ViaCoin\",\"Vertcoin\",\"WorldCoin\",\"JouleCoin\",\"ByteCoin\",\"DigitalNote \",\"MonaCoin\",\"Gulden\",\"PesetaCoin\",\"Wild Beast Coin\",\"Flo\",\"ArtByte\",\"Folding Coin\",\"Unitus\",\"CypherPunkCoin\",\"OmniCron\",\"GreenCoin\",\"Cryptonite\",\"MasterCoin\",\"SoonCoin\",\"1Credit\",\"MarsCoin \",\"Crypto\",\"Anarchists Prime\",\"BowsCoin\",\"Song Coin\",\"BitZeny\",\"Expanse\",\"Siacoin\",\"MindCoin\",\"I0coin\",\"Revolution VR\",\"HOdlcoin\",\"Gamecredits\",\"CarpeDiemCoin\",\"Adzcoin\",\"SoilCoin\",\"YoCoin\",\"SibCoin\",\"Francs\",\"BolivarCoin\",\"Omni\",\"PizzaCoin\",\"Komodo\",\"Karbo\",\"ZayedCoin\",\"Circuits of Value\",\"DopeCoin\",\"DollarCoin\",\"Shilling\",\"ZCoin\",\"Elementrem\",\"ZClassic\",\"KiloCoin\",\"ArtexCoin\",\"Kurrent\",\"Cannabis Industry Coin\",\"OsmiumCoin\",\"Bikercoins\",\"HexxCoin\",\"PacCoin\",\"Citadel\",\"BeaverCoin\",\"VaultCoin\",\"Zero\",\"Canada eCoin\",\"Zoin\",\"DubaiCoin\",\"EB3coin\",\"Coinonat\",\"BenjiRolls\",\"ILCoin\",\"EquiTrader\",\"Quantum Resistant Ledger\",\"Dynamic\",\"Nano\",\"ChanCoin\",\"Dinastycoin\",\"DigitalPrice\",\"Unify\",\"SocialCoin\",\"ArcticCoin\",\"DAS\",\"LeviarCoin\",\"Bitcore\",\"gCn Coin\",\"SmartCash\",\"Onix\",\"Bitcoin Cash\",\"Sojourn Coin\",\"NewYorkCoin\",\"FrazCoin\",\"Kronecoin\",\"AdCoin\",\"Linx\",\"Sumokoin\",\"BitcoinZ\",\"Elements\",\"VIVO Coin\",\"Bitcoin Gold\",\"Pirl\",\"eBoost\",\"Pura\",\"Innova\",\"Ellaism\",\"GoByte\",\"SHIELD\",\"UltraNote\",\"BitCoal\",\"DaxxCoin\",\"AC3\",\"Lethean\",\"PopularCoin\",\"Photon\",\"Sucre\",\"SparksPay\",\"GunCoin\",\"IrishCoin\",\"Pioneer Coin\",\"UnitedBitcoin\",\"Interzone\",\"1717 Masonic Commemorative Token\",\"TurtleCoin\",\"MUNcoin\",\"Niobio Cash\",\"ShareChain\",\"Travelflex\",\"KREDS\",\"BitFlip\",\"LottoCoin\",\"Crypto Improvement Fund\",\"Callisto Network\",\"BitTube\",\"Poseidon\",\"Aidos Kuneen\",\"Bitrolium\",\"Alpenschillling\",\"FuturoCoin\",\"Monero Classic\",\"Jumpcoin\",\"Infinex\",\"KEYCO\",\"GINcoin\",\"PlatinCoin\",\"Loki\",\"Newton Coin\",\"MassGrid\",\"PluraCoin\",\"Motion\",\"PlusOneCoin\",\"Axe\",\"HexCoin\",\"Webchain\",\"Ryo\",\"Urals Coin\",\"Qwertycoin\",\"Project Pai\",\"Azart\",\"Xchange\",\"CrypticCoin\",\"Actinium\",\"Bitcoin SV\",\"FREDEnergy\",\"Universal Molecule\",\"Lithium\",\"PirateCash\",\"Exosis\",\"Block-Logic\",\"Beam\",\"Bithereum\",\"SLICE\",\"BLAST\",\"Bitcoin Rhodium\",\"GlobalToken\",\"SolarCoin\",\"UFO Coin\",\"BlakeCoin\",\"Crypto Escudo\",\"Crown Coin\",\"SmileyCoin\",\"Groestlcoin\",\"Bata\",\"Pakcoin\",\"JoinCoin\",\"Vollar\",\"Reality Clash\",\"Beldex\",\"Horizen\"],\"TotalCoinSupply\":{\"__ndarray__\":\"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\",\"dtype\":\"float64\",\"order\":\"little\",\"shape\":[240]},\"TotalCoinsMined\":{\"__ndarray__\":\"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\",\"dtype\":\"float64\",\"order\":\"little\",\"shape\":[240]}},\"selected\":{\"id\":\"3748\"},\"selection_policy\":{\"id\":\"3762\"}},\"id\":\"3747\",\"type\":\"ColumnDataSource\"},{\"attributes\":{\"fill_color\":{\"value\":\"#fc4f30\"},\"line_color\":{\"value\":\"#fc4f30\"},\"size\":{\"units\":\"screen\",\"value\":5.477225575051661},\"x\":{\"field\":\"TotalCoinsMined\"},\"y\":{\"field\":\"TotalCoinSupply\"}},\"id\":\"3768\",\"type\":\"Scatter\"},{\"attributes\":{\"fill_color\":{\"value\":\"#e5ae38\"},\"line_color\":{\"value\":\"#e5ae38\"},\"size\":{\"units\":\"screen\",\"value\":5.477225575051661},\"x\":{\"field\":\"TotalCoinsMined\"},\"y\":{\"field\":\"TotalCoinSupply\"}},\"id\":\"3787\",\"type\":\"Scatter\"},{\"attributes\":{\"margin\":[5,5,5,5],\"name\":\"HSpacer08159\",\"sizing_mode\":\"stretch_width\"},\"id\":\"3706\",\"type\":\"Spacer\"},{\"attributes\":{\"text\":\"\",\"text_color\":{\"value\":\"black\"},\"text_font_size\":{\"value\":\"12pt\"}},\"id\":\"3714\",\"type\":\"Title\"},{\"attributes\":{\"end\":1.042857142857143,\"reset_end\":1.042857142857143,\"reset_start\":-0.04285714285714286,\"start\":-0.04285714285714286,\"tags\":[[[\"TotalCoinsMined\",\"TotalCoinsMined\",null]]]},\"id\":\"3707\",\"type\":\"Range1d\"},{\"attributes\":{\"fill_alpha\":{\"value\":0.2},\"fill_color\":{\"value\":\"#e5ae38\"},\"line_alpha\":{\"value\":0.2},\"line_color\":{\"value\":\"#e5ae38\"},\"size\":{\"units\":\"screen\",\"value\":5.477225575051661},\"x\":{\"field\":\"TotalCoinsMined\"},\"y\":{\"field\":\"TotalCoinSupply\"}},\"id\":\"3789\",\"type\":\"Scatter\"},{\"attributes\":{\"data\":{\"Class\":[2],\"CoinName\":[\"BitTorrent\"],\"TotalCoinSupply\":{\"__ndarray__\":\"rkfhehSu7z8=\",\"dtype\":\"float64\",\"order\":\"little\",\"shape\":[1]},\"TotalCoinsMined\":{\"__ndarray__\":\"AAAAAAAA8D8=\",\"dtype\":\"float64\",\"order\":\"little\",\"shape\":[1]}},\"selected\":{\"id\":\"3785\"},\"selection_policy\":{\"id\":\"3803\"}},\"id\":\"3784\",\"type\":\"ColumnDataSource\"},{\"attributes\":{\"axis\":{\"id\":\"3722\"},\"grid_line_color\":null,\"ticker\":null},\"id\":\"3725\",\"type\":\"Grid\"},{\"attributes\":{\"fill_alpha\":{\"value\":0.1},\"fill_color\":{\"value\":\"#e5ae38\"},\"line_alpha\":{\"value\":0.1},\"line_color\":{\"value\":\"#e5ae38\"},\"size\":{\"units\":\"screen\",\"value\":5.477225575051661},\"x\":{\"field\":\"TotalCoinsMined\"},\"y\":{\"field\":\"TotalCoinSupply\"}},\"id\":\"3788\",\"type\":\"Scatter\"},{\"attributes\":{\"label\":{\"value\":\"3\"},\"renderers\":[{\"id\":\"3811\"}]},\"id\":\"3827\",\"type\":\"LegendItem\"},{\"attributes\":{\"source\":{\"id\":\"3784\"}},\"id\":\"3791\",\"type\":\"CDSView\"},{\"attributes\":{\"fill_alpha\":{\"value\":0.1},\"fill_color\":{\"value\":\"#6d904f\"},\"line_alpha\":{\"value\":0.1},\"line_color\":{\"value\":\"#6d904f\"},\"size\":{\"units\":\"screen\",\"value\":5.477225575051661},\"x\":{\"field\":\"TotalCoinsMined\"},\"y\":{\"field\":\"TotalCoinSupply\"}},\"id\":\"3809\",\"type\":\"Scatter\"},{\"attributes\":{},\"id\":\"3727\",\"type\":\"BasicTicker\"},{\"attributes\":{},\"id\":\"3826\",\"type\":\"UnionRenderers\"},{\"attributes\":{\"axis_label\":\"TotalCoinSupply\",\"bounds\":\"auto\",\"formatter\":{\"id\":\"3745\"},\"major_label_orientation\":\"horizontal\",\"ticker\":{\"id\":\"3727\"}},\"id\":\"3726\",\"type\":\"LinearAxis\"},{\"attributes\":{},\"id\":\"3785\",\"type\":\"Selection\"},{\"attributes\":{\"fill_alpha\":{\"value\":0.1},\"fill_color\":{\"value\":\"#fc4f30\"},\"line_alpha\":{\"value\":0.1},\"line_color\":{\"value\":\"#fc4f30\"},\"size\":{\"units\":\"screen\",\"value\":5.477225575051661},\"x\":{\"field\":\"TotalCoinsMined\"},\"y\":{\"field\":\"TotalCoinSupply\"}},\"id\":\"3769\",\"type\":\"Scatter\"},{\"attributes\":{\"end\":1.1,\"reset_end\":1.1,\"reset_start\":-0.1,\"start\":-0.1,\"tags\":[[[\"TotalCoinSupply\",\"TotalCoinSupply\",null]]]},\"id\":\"3708\",\"type\":\"Range1d\"},{\"attributes\":{\"source\":{\"id\":\"3805\"}},\"id\":\"3812\",\"type\":\"CDSView\"},{\"attributes\":{\"bottom_units\":\"screen\",\"fill_alpha\":0.5,\"fill_color\":\"lightgrey\",\"left_units\":\"screen\",\"level\":\"overlay\",\"line_alpha\":1.0,\"line_color\":\"black\",\"line_dash\":[4,4],\"line_width\":2,\"right_units\":\"screen\",\"top_units\":\"screen\"},\"id\":\"3735\",\"type\":\"BoxAnnotation\"},{\"attributes\":{\"data_source\":{\"id\":\"3805\"},\"glyph\":{\"id\":\"3808\"},\"hover_glyph\":null,\"muted_glyph\":{\"id\":\"3810\"},\"nonselection_glyph\":{\"id\":\"3809\"},\"selection_glyph\":null,\"view\":{\"id\":\"3812\"}},\"id\":\"3811\",\"type\":\"GlyphRenderer\"}],\"root_ids\":[\"3705\"]},\"title\":\"Bokeh Application\",\"version\":\"2.2.3\"}};\n",
       "    var render_items = [{\"docid\":\"c7edcc78-a1fe-4da9-abf2-03805188a263\",\"root_ids\":[\"3705\"],\"roots\":{\"3705\":\"f1c8d267-4715-4e63-b24b-610fdfaf7f4e\"}}];\n",
       "    root.Bokeh.embed.embed_items_notebook(docs_json, render_items);\n",
       "  }\n",
       "  if (root.Bokeh !== undefined && root.Bokeh.Panel !== undefined) {\n",
       "    embed_document(root);\n",
       "  } else {\n",
       "    var attempts = 0;\n",
       "    var timer = setInterval(function(root) {\n",
       "      if (root.Bokeh !== undefined && root.Bokeh.Panel !== undefined) {\n",
       "        clearInterval(timer);\n",
       "        embed_document(root);\n",
       "      } else if (document.readyState == \"complete\") {\n",
       "        attempts++;\n",
       "        if (attempts > 100) {\n",
       "          clearInterval(timer);\n",
       "          console.log(\"Bokeh: ERROR: Unable to run BokehJS code because BokehJS library is missing\");\n",
       "        }\n",
       "      }\n",
       "    }, 10, root)\n",
       "  }\n",
       "})(window);</script>"
      ],
      "text/plain": [
       ":NdOverlay   [Class]\n",
       "   :Scatter   [TotalCoinsMined]   (TotalCoinSupply,CoinName)"
      ]
     },
     "execution_count": 245,
     "metadata": {
      "application/vnd.holoviews_exec.v0+json": {
       "id": "3705"
      }
     },
     "output_type": "execute_result"
    }
   ],
   "source": [
    "# Create a hvplot.scatter plot using x=\"TotalCoinsMined\" and y=\"TotalCoinSupply\".\n",
    "Crypto_scaled2_df.hvplot.scatter(\n",
    "    x=\"TotalCoinsMined\",\n",
    "    y=\"TotalCoinSupply\",\n",
    "    hover_cols=[\"CoinName\"],\n",
    "    by=\"Class\",\n",
    ")\n"
   ]
  },
  {
   "cell_type": "code",
   "execution_count": null,
   "metadata": {},
   "outputs": [],
   "source": []
  }
 ],
 "metadata": {
  "file_extension": ".py",
  "kernelspec": {
   "display_name": "mlenv",
   "language": "python",
   "name": "mlenv"
  },
  "language_info": {
   "codemirror_mode": {
    "name": "ipython",
    "version": 3
   },
   "file_extension": ".py",
   "mimetype": "text/x-python",
   "name": "python",
   "nbconvert_exporter": "python",
   "pygments_lexer": "ipython3",
   "version": "3.7.9"
  },
  "latex_envs": {
   "LaTeX_envs_menu_present": true,
   "autoclose": false,
   "autocomplete": true,
   "bibliofile": "biblio.bib",
   "cite_by": "apalike",
   "current_citInitial": 1,
   "eqLabelWithNumbers": true,
   "eqNumInitial": 1,
   "hotkeys": {
    "equation": "Ctrl-E",
    "itemize": "Ctrl-I"
   },
   "labels_anchors": false,
   "latex_user_defs": false,
   "report_style_numbering": false,
   "user_envs_cfg": false
  },
  "mimetype": "text/x-python",
  "name": "python",
  "npconvert_exporter": "python",
  "pygments_lexer": "ipython3",
  "version": 3
 },
 "nbformat": 4,
 "nbformat_minor": 2
}
